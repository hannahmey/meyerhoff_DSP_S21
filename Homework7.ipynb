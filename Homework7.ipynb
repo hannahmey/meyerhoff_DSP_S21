{
 "cells": [
  {
   "cell_type": "markdown",
   "id": "sunset-water",
   "metadata": {},
   "source": [
    "\"3a Explain how k-fold cross-validation is implemented.\"\n",
    "\n",
    "When we use the k-fold cross-validation, the dataset is splited in k-numbered different datasets, of approximately equal size. K-1 datasets are used to fit the method, which is then tested on the one remaining dataset (validation set). This whole procedure is repeated k-times, so that always new datasets will be drawn.\n",
    "\n",
    "The k-fold cross-validation can be implemented with the cv.glm() function.\n",
    "\n",
    "\n",
    "\"3b What are the advantages and disadvantages of k-fold cross-validation relative to:\" \n",
    "\n",
    "validation set approach: The k-fold cross-validation doesn't overestimate the test error rate, because it does not only fit the method on one half of the dataset (as with the validation set approach), but it uses a lot of different datasets on which the method is fitted on.\n",
    "\n",
    "\n",
    "LOOCV: One adavantage is that the k-fold cross-validation is easier to compute since less code needs to be written. Another one is that k-fold Cross-validation often gives more accurate estimates of the test error rate than LOOCV. Furthermore LOOCV has a higher variance than the k-fold cross-validation with k< n."
   ]
  },
  {
   "cell_type": "code",
   "execution_count": 34,
   "id": "flexible-electric",
   "metadata": {},
   "outputs": [
    {
     "data": {
      "text/html": [
       "'7a'"
      ],
      "text/latex": [
       "'7a'"
      ],
      "text/markdown": [
       "'7a'"
      ],
      "text/plain": [
       "[1] \"7a\""
      ]
     },
     "metadata": {},
     "output_type": "display_data"
    },
    {
     "data": {
      "text/plain": [
       "\n",
       "Call:\n",
       "glm(formula = Direction ~ Lag1 + Lag2, family = binomial, data = Weekly)\n",
       "\n",
       "Deviance Residuals: \n",
       "   Min      1Q  Median      3Q     Max  \n",
       "-1.623  -1.261   1.001   1.083   1.506  \n",
       "\n",
       "Coefficients:\n",
       "            Estimate Std. Error z value Pr(>|z|)    \n",
       "(Intercept)  0.22122    0.06147   3.599 0.000319 ***\n",
       "Lag1        -0.03872    0.02622  -1.477 0.139672    \n",
       "Lag2         0.06025    0.02655   2.270 0.023232 *  \n",
       "---\n",
       "Signif. codes:  0 '***' 0.001 '**' 0.01 '*' 0.05 '.' 0.1 ' ' 1\n",
       "\n",
       "(Dispersion parameter for binomial family taken to be 1)\n",
       "\n",
       "    Null deviance: 1496.2  on 1088  degrees of freedom\n",
       "Residual deviance: 1488.2  on 1086  degrees of freedom\n",
       "AIC: 1494.2\n",
       "\n",
       "Number of Fisher Scoring iterations: 4\n"
      ]
     },
     "metadata": {},
     "output_type": "display_data"
    }
   ],
   "source": [
    "\"7a\"\n",
    "library(ISLR)\n",
    "library (boot)\n",
    "\n",
    "glm_a <- glm(Direction~Lag1+Lag2, data=Weekly, family=binomial)\n",
    "summary(glm_a)"
   ]
  },
  {
   "cell_type": "code",
   "execution_count": 35,
   "id": "respiratory-colonial",
   "metadata": {},
   "outputs": [
    {
     "data": {
      "text/html": [
       "'7b'"
      ],
      "text/latex": [
       "'7b'"
      ],
      "text/markdown": [
       "'7b'"
      ],
      "text/plain": [
       "[1] \"7b\""
      ]
     },
     "metadata": {},
     "output_type": "display_data"
    },
    {
     "data": {
      "text/plain": [
       "\n",
       "Call:\n",
       "glm(formula = Direction ~ Lag1 + Lag2, family = binomial, data = Weekly[-1, \n",
       "    ])\n",
       "\n",
       "Deviance Residuals: \n",
       "    Min       1Q   Median       3Q      Max  \n",
       "-1.6258  -1.2617   0.9999   1.0819   1.5071  \n",
       "\n",
       "Coefficients:\n",
       "            Estimate Std. Error z value Pr(>|z|)    \n",
       "(Intercept)  0.22324    0.06150   3.630 0.000283 ***\n",
       "Lag1        -0.03843    0.02622  -1.466 0.142683    \n",
       "Lag2         0.06085    0.02656   2.291 0.021971 *  \n",
       "---\n",
       "Signif. codes:  0 '***' 0.001 '**' 0.01 '*' 0.05 '.' 0.1 ' ' 1\n",
       "\n",
       "(Dispersion parameter for binomial family taken to be 1)\n",
       "\n",
       "    Null deviance: 1494.6  on 1087  degrees of freedom\n",
       "Residual deviance: 1486.5  on 1085  degrees of freedom\n",
       "AIC: 1492.5\n",
       "\n",
       "Number of Fisher Scoring iterations: 4\n"
      ]
     },
     "metadata": {},
     "output_type": "display_data"
    }
   ],
   "source": [
    "\"7b\"\n",
    "\n",
    "glm_b <- glm(Direction~Lag1+Lag2, data=Weekly [-1,], family=binomial)\n",
    "summary(glm_b)"
   ]
  },
  {
   "cell_type": "code",
   "execution_count": 36,
   "id": "eastern-boring",
   "metadata": {},
   "outputs": [
    {
     "data": {
      "text/html": [
       "'7c'"
      ],
      "text/latex": [
       "'7c'"
      ],
      "text/markdown": [
       "'7c'"
      ],
      "text/plain": [
       "[1] \"7c\""
      ]
     },
     "metadata": {},
     "output_type": "display_data"
    },
    {
     "data": {
      "text/html": [
       "<strong>1:</strong> TRUE"
      ],
      "text/latex": [
       "\\textbf{1:} TRUE"
      ],
      "text/markdown": [
       "**1:** TRUE"
      ],
      "text/plain": [
       "   1 \n",
       "TRUE "
      ]
     },
     "metadata": {},
     "output_type": "display_data"
    },
    {
     "data": {
      "text/html": [
       "<table class=\"dataframe\">\n",
       "<caption>A data.frame: 6 × 9</caption>\n",
       "<thead>\n",
       "\t<tr><th></th><th scope=col>Year</th><th scope=col>Lag1</th><th scope=col>Lag2</th><th scope=col>Lag3</th><th scope=col>Lag4</th><th scope=col>Lag5</th><th scope=col>Volume</th><th scope=col>Today</th><th scope=col>Direction</th></tr>\n",
       "\t<tr><th></th><th scope=col>&lt;dbl&gt;</th><th scope=col>&lt;dbl&gt;</th><th scope=col>&lt;dbl&gt;</th><th scope=col>&lt;dbl&gt;</th><th scope=col>&lt;dbl&gt;</th><th scope=col>&lt;dbl&gt;</th><th scope=col>&lt;dbl&gt;</th><th scope=col>&lt;dbl&gt;</th><th scope=col>&lt;fct&gt;</th></tr>\n",
       "</thead>\n",
       "<tbody>\n",
       "\t<tr><th scope=row>1</th><td>1990</td><td> 0.816</td><td> 1.572</td><td>-3.936</td><td>-0.229</td><td>-3.484</td><td>0.1549760</td><td>-0.270</td><td>Down</td></tr>\n",
       "\t<tr><th scope=row>2</th><td>1990</td><td>-0.270</td><td> 0.816</td><td> 1.572</td><td>-3.936</td><td>-0.229</td><td>0.1485740</td><td>-2.576</td><td>Down</td></tr>\n",
       "\t<tr><th scope=row>3</th><td>1990</td><td>-2.576</td><td>-0.270</td><td> 0.816</td><td> 1.572</td><td>-3.936</td><td>0.1598375</td><td> 3.514</td><td>Up  </td></tr>\n",
       "\t<tr><th scope=row>4</th><td>1990</td><td> 3.514</td><td>-2.576</td><td>-0.270</td><td> 0.816</td><td> 1.572</td><td>0.1616300</td><td> 0.712</td><td>Up  </td></tr>\n",
       "\t<tr><th scope=row>5</th><td>1990</td><td> 0.712</td><td> 3.514</td><td>-2.576</td><td>-0.270</td><td> 0.816</td><td>0.1537280</td><td> 1.178</td><td>Up  </td></tr>\n",
       "\t<tr><th scope=row>6</th><td>1990</td><td> 1.178</td><td> 0.712</td><td> 3.514</td><td>-2.576</td><td>-0.270</td><td>0.1544440</td><td>-1.372</td><td>Down</td></tr>\n",
       "</tbody>\n",
       "</table>\n"
      ],
      "text/latex": [
       "A data.frame: 6 × 9\n",
       "\\begin{tabular}{r|lllllllll}\n",
       "  & Year & Lag1 & Lag2 & Lag3 & Lag4 & Lag5 & Volume & Today & Direction\\\\\n",
       "  & <dbl> & <dbl> & <dbl> & <dbl> & <dbl> & <dbl> & <dbl> & <dbl> & <fct>\\\\\n",
       "\\hline\n",
       "\t1 & 1990 &  0.816 &  1.572 & -3.936 & -0.229 & -3.484 & 0.1549760 & -0.270 & Down\\\\\n",
       "\t2 & 1990 & -0.270 &  0.816 &  1.572 & -3.936 & -0.229 & 0.1485740 & -2.576 & Down\\\\\n",
       "\t3 & 1990 & -2.576 & -0.270 &  0.816 &  1.572 & -3.936 & 0.1598375 &  3.514 & Up  \\\\\n",
       "\t4 & 1990 &  3.514 & -2.576 & -0.270 &  0.816 &  1.572 & 0.1616300 &  0.712 & Up  \\\\\n",
       "\t5 & 1990 &  0.712 &  3.514 & -2.576 & -0.270 &  0.816 & 0.1537280 &  1.178 & Up  \\\\\n",
       "\t6 & 1990 &  1.178 &  0.712 &  3.514 & -2.576 & -0.270 & 0.1544440 & -1.372 & Down\\\\\n",
       "\\end{tabular}\n"
      ],
      "text/markdown": [
       "\n",
       "A data.frame: 6 × 9\n",
       "\n",
       "| <!--/--> | Year &lt;dbl&gt; | Lag1 &lt;dbl&gt; | Lag2 &lt;dbl&gt; | Lag3 &lt;dbl&gt; | Lag4 &lt;dbl&gt; | Lag5 &lt;dbl&gt; | Volume &lt;dbl&gt; | Today &lt;dbl&gt; | Direction &lt;fct&gt; |\n",
       "|---|---|---|---|---|---|---|---|---|---|\n",
       "| 1 | 1990 |  0.816 |  1.572 | -3.936 | -0.229 | -3.484 | 0.1549760 | -0.270 | Down |\n",
       "| 2 | 1990 | -0.270 |  0.816 |  1.572 | -3.936 | -0.229 | 0.1485740 | -2.576 | Down |\n",
       "| 3 | 1990 | -2.576 | -0.270 |  0.816 |  1.572 | -3.936 | 0.1598375 |  3.514 | Up   |\n",
       "| 4 | 1990 |  3.514 | -2.576 | -0.270 |  0.816 |  1.572 | 0.1616300 |  0.712 | Up   |\n",
       "| 5 | 1990 |  0.712 |  3.514 | -2.576 | -0.270 |  0.816 | 0.1537280 |  1.178 | Up   |\n",
       "| 6 | 1990 |  1.178 |  0.712 |  3.514 | -2.576 | -0.270 | 0.1544440 | -1.372 | Down |\n",
       "\n"
      ],
      "text/plain": [
       "  Year Lag1   Lag2   Lag3   Lag4   Lag5   Volume    Today  Direction\n",
       "1 1990  0.816  1.572 -3.936 -0.229 -3.484 0.1549760 -0.270 Down     \n",
       "2 1990 -0.270  0.816  1.572 -3.936 -0.229 0.1485740 -2.576 Down     \n",
       "3 1990 -2.576 -0.270  0.816  1.572 -3.936 0.1598375  3.514 Up       \n",
       "4 1990  3.514 -2.576 -0.270  0.816  1.572 0.1616300  0.712 Up       \n",
       "5 1990  0.712  3.514 -2.576 -0.270  0.816 0.1537280  1.178 Up       \n",
       "6 1990  1.178  0.712  3.514 -2.576 -0.270 0.1544440 -1.372 Down     "
      ]
     },
     "metadata": {},
     "output_type": "display_data"
    }
   ],
   "source": [
    "\"7c\"\n",
    "predict.glm(glm_b, Weekly[1, ], type = \"response\") > 0.5\n",
    "head(Weekly)"
   ]
  },
  {
   "cell_type": "markdown",
   "id": "answering-raising",
   "metadata": {},
   "source": [
    "No, it was not correctly classified. The prediction was \"Up\", but the correct \"answer\" would be \"Down\"."
   ]
  },
  {
   "cell_type": "code",
   "execution_count": 37,
   "id": "registered-graduation",
   "metadata": {},
   "outputs": [
    {
     "data": {
      "text/html": [
       "'7d'"
      ],
      "text/latex": [
       "'7d'"
      ],
      "text/markdown": [
       "'7d'"
      ],
      "text/plain": [
       "[1] \"7d\""
      ]
     },
     "metadata": {},
     "output_type": "display_data"
    },
    {
     "data": {
      "text/html": [
       "490"
      ],
      "text/latex": [
       "490"
      ],
      "text/markdown": [
       "490"
      ],
      "text/plain": [
       "[1] 490"
      ]
     },
     "metadata": {},
     "output_type": "display_data"
    }
   ],
   "source": [
    "\"7d\"\n",
    "count = rep(0, dim(Weekly)[1])\n",
    "for (i in 1:(dim(Weekly)[1])) {\n",
    "#i\n",
    "glm_d <- glm(Direction~Lag1+Lag2, data=Weekly [-i,], family=binomial) \n",
    "#ii\n",
    "is_up <- predict.glm(glm_d, Weekly[i, ], type = \"response\") > 0.5\n",
    "#iii\n",
    "is_true_up = Weekly[i, ]$Direction == \"Up\"\n",
    "    if (is_up != is_true_up) \n",
    "        count[i] = 1\n",
    "}\n",
    "#iv\n",
    "sum(count)"
   ]
  },
  {
   "cell_type": "markdown",
   "id": "willing-style",
   "metadata": {},
   "source": [
    "490 mistakes were made."
   ]
  },
  {
   "cell_type": "code",
   "execution_count": 38,
   "id": "false-determination",
   "metadata": {},
   "outputs": [
    {
     "data": {
      "text/html": [
       "'7e'"
      ],
      "text/latex": [
       "'7e'"
      ],
      "text/markdown": [
       "'7e'"
      ],
      "text/plain": [
       "[1] \"7e\""
      ]
     },
     "metadata": {},
     "output_type": "display_data"
    },
    {
     "data": {
      "text/html": [
       "0.449954086317723"
      ],
      "text/latex": [
       "0.449954086317723"
      ],
      "text/markdown": [
       "0.449954086317723"
      ],
      "text/plain": [
       "[1] 0.4499541"
      ]
     },
     "metadata": {},
     "output_type": "display_data"
    }
   ],
   "source": [
    "\"7e\"\n",
    "mean(count)"
   ]
  },
  {
   "cell_type": "markdown",
   "id": "corporate-province",
   "metadata": {},
   "source": [
    "LOOCV estimates a test error rate of approximately 45%. "
   ]
  },
  {
   "cell_type": "code",
   "execution_count": 39,
   "id": "fifteen-beauty",
   "metadata": {},
   "outputs": [
    {
     "data": {
      "text/html": [
       "'9'"
      ],
      "text/latex": [
       "'9'"
      ],
      "text/markdown": [
       "'9'"
      ],
      "text/plain": [
       "[1] \"9\""
      ]
     },
     "metadata": {},
     "output_type": "display_data"
    },
    {
     "data": {
      "text/plain": [
       "      crim                zn             indus            chas        \n",
       " Min.   : 0.00632   Min.   :  0.00   Min.   : 0.46   Min.   :0.00000  \n",
       " 1st Qu.: 0.08205   1st Qu.:  0.00   1st Qu.: 5.19   1st Qu.:0.00000  \n",
       " Median : 0.25651   Median :  0.00   Median : 9.69   Median :0.00000  \n",
       " Mean   : 3.61352   Mean   : 11.36   Mean   :11.14   Mean   :0.06917  \n",
       " 3rd Qu.: 3.67708   3rd Qu.: 12.50   3rd Qu.:18.10   3rd Qu.:0.00000  \n",
       " Max.   :88.97620   Max.   :100.00   Max.   :27.74   Max.   :1.00000  \n",
       "      nox               rm             age              dis        \n",
       " Min.   :0.3850   Min.   :3.561   Min.   :  2.90   Min.   : 1.130  \n",
       " 1st Qu.:0.4490   1st Qu.:5.886   1st Qu.: 45.02   1st Qu.: 2.100  \n",
       " Median :0.5380   Median :6.208   Median : 77.50   Median : 3.207  \n",
       " Mean   :0.5547   Mean   :6.285   Mean   : 68.57   Mean   : 3.795  \n",
       " 3rd Qu.:0.6240   3rd Qu.:6.623   3rd Qu.: 94.08   3rd Qu.: 5.188  \n",
       " Max.   :0.8710   Max.   :8.780   Max.   :100.00   Max.   :12.127  \n",
       "      rad              tax           ptratio          black       \n",
       " Min.   : 1.000   Min.   :187.0   Min.   :12.60   Min.   :  0.32  \n",
       " 1st Qu.: 4.000   1st Qu.:279.0   1st Qu.:17.40   1st Qu.:375.38  \n",
       " Median : 5.000   Median :330.0   Median :19.05   Median :391.44  \n",
       " Mean   : 9.549   Mean   :408.2   Mean   :18.46   Mean   :356.67  \n",
       " 3rd Qu.:24.000   3rd Qu.:666.0   3rd Qu.:20.20   3rd Qu.:396.23  \n",
       " Max.   :24.000   Max.   :711.0   Max.   :22.00   Max.   :396.90  \n",
       "     lstat            medv      \n",
       " Min.   : 1.73   Min.   : 5.00  \n",
       " 1st Qu.: 6.95   1st Qu.:17.02  \n",
       " Median :11.36   Median :21.20  \n",
       " Mean   :12.65   Mean   :22.53  \n",
       " 3rd Qu.:16.95   3rd Qu.:25.00  \n",
       " Max.   :37.97   Max.   :50.00  "
      ]
     },
     "metadata": {},
     "output_type": "display_data"
    }
   ],
   "source": [
    "\"9\"\n",
    "library(MASS)\n",
    "summary(Boston)"
   ]
  },
  {
   "cell_type": "code",
   "execution_count": 40,
   "id": "classical-management",
   "metadata": {},
   "outputs": [
    {
     "data": {
      "text/html": [
       "'9a'"
      ],
      "text/latex": [
       "'9a'"
      ],
      "text/markdown": [
       "'9a'"
      ],
      "text/plain": [
       "[1] \"9a\""
      ]
     },
     "metadata": {},
     "output_type": "display_data"
    },
    {
     "data": {
      "text/html": [
       "22.5328063241107"
      ],
      "text/latex": [
       "22.5328063241107"
      ],
      "text/markdown": [
       "22.5328063241107"
      ],
      "text/plain": [
       "[1] 22.53281"
      ]
     },
     "metadata": {},
     "output_type": "display_data"
    }
   ],
   "source": [
    "\"9a\"\n",
    "μ = mean(Boston$medv)\n",
    "μ"
   ]
  },
  {
   "cell_type": "code",
   "execution_count": 41,
   "id": "figured-skill",
   "metadata": {},
   "outputs": [
    {
     "data": {
      "text/html": [
       "'9b'"
      ],
      "text/latex": [
       "'9b'"
      ],
      "text/markdown": [
       "'9b'"
      ],
      "text/plain": [
       "[1] \"9b\""
      ]
     },
     "metadata": {},
     "output_type": "display_data"
    },
    {
     "data": {
      "text/html": [
       "0.408861147497535"
      ],
      "text/latex": [
       "0.408861147497535"
      ],
      "text/markdown": [
       "0.408861147497535"
      ],
      "text/plain": [
       "[1] 0.4088611"
      ]
     },
     "metadata": {},
     "output_type": "display_data"
    }
   ],
   "source": [
    "\"9b\"\n",
    "μ.err = sd(Boston$medv)/sqrt(length(Boston$medv))\n",
    "μ.err"
   ]
  },
  {
   "cell_type": "code",
   "execution_count": 42,
   "id": "fifth-bobby",
   "metadata": {},
   "outputs": [
    {
     "data": {
      "text/html": [
       "'9c'"
      ],
      "text/latex": [
       "'9c'"
      ],
      "text/markdown": [
       "'9c'"
      ],
      "text/plain": [
       "[1] \"9c\""
      ]
     },
     "metadata": {},
     "output_type": "display_data"
    },
    {
     "name": "stderr",
     "output_type": "stream",
     "text": [
      "Warning message:\n",
      "\"package 'boot' is in use and will not be installed\"\n"
     ]
    },
    {
     "data": {
      "text/plain": [
       "\n",
       "ORDINARY NONPARAMETRIC BOOTSTRAP\n",
       "\n",
       "\n",
       "Call:\n",
       "boot(data = Boston$medv, statistic = boot_c, R = 1000)\n",
       "\n",
       "\n",
       "Bootstrap Statistics :\n",
       "    original      bias    std. error\n",
       "t1* 22.53281 0.005967391   0.4172546"
      ]
     },
     "metadata": {},
     "output_type": "display_data"
    }
   ],
   "source": [
    "\"9c\"\n",
    "install.packages(\"boot\")\n",
    "library(boot)\n",
    "boot_c = function(data, index) return(mean(data[index]))\n",
    "library(boot)\n",
    "bstrap = boot(Boston$medv, boot_c, 1000)\n",
    "bstrap"
   ]
  },
  {
   "cell_type": "markdown",
   "id": "special-aside",
   "metadata": {},
   "source": [
    "The two standard error rates are quiet similar 0.409 vs. 0.399."
   ]
  },
  {
   "cell_type": "code",
   "execution_count": 43,
   "id": "terminal-herald",
   "metadata": {},
   "outputs": [
    {
     "data": {
      "text/html": [
       "'9d'"
      ],
      "text/latex": [
       "'9d'"
      ],
      "text/markdown": [
       "'9d'"
      ],
      "text/plain": [
       "[1] \"9d\""
      ]
     },
     "metadata": {},
     "output_type": "display_data"
    },
    {
     "data": {
      "text/plain": [
       "\n",
       "\tOne Sample t-test\n",
       "\n",
       "data:  Boston$medv\n",
       "t = 55.111, df = 505, p-value < 2.2e-16\n",
       "alternative hypothesis: true mean is not equal to 0\n",
       "95 percent confidence interval:\n",
       " 21.72953 23.33608\n",
       "sample estimates:\n",
       "mean of x \n",
       " 22.53281 \n"
      ]
     },
     "metadata": {},
     "output_type": "display_data"
    }
   ],
   "source": [
    "\"9d\"\n",
    "t.test(Boston$medv)\n"
   ]
  },
  {
   "cell_type": "code",
   "execution_count": 44,
   "id": "together-assembly",
   "metadata": {},
   "outputs": [
    {
     "data": {
      "text/html": [
       "<style>\n",
       ".list-inline {list-style: none; margin:0; padding: 0}\n",
       ".list-inline>li {display: inline-block}\n",
       ".list-inline>li:not(:last-child)::after {content: \"\\00b7\"; padding: 0 .5ex}\n",
       "</style>\n",
       "<ol class=list-inline><li>21.7342063241107</li><li>23.3314063241107</li></ol>\n"
      ],
      "text/latex": [
       "\\begin{enumerate*}\n",
       "\\item 21.7342063241107\n",
       "\\item 23.3314063241107\n",
       "\\end{enumerate*}\n"
      ],
      "text/markdown": [
       "1. 21.7342063241107\n",
       "2. 23.3314063241107\n",
       "\n",
       "\n"
      ],
      "text/plain": [
       "[1] 21.73421 23.33141"
      ]
     },
     "metadata": {},
     "output_type": "display_data"
    }
   ],
   "source": [
    "c(bstrap$t0 - 2 * 0.3993, bstrap$t0 + 2 * 0.3993)"
   ]
  },
  {
   "cell_type": "markdown",
   "id": "annual-satisfaction",
   "metadata": {},
   "source": [
    "The result of the t-test lies within the bootstrap estimated confident interval. The mean of x from the t-test +/-0.798 results in the two borders of the confident intervals"
   ]
  },
  {
   "cell_type": "code",
   "execution_count": 45,
   "id": "differential-harvest",
   "metadata": {},
   "outputs": [
    {
     "data": {
      "text/html": [
       "'9e'"
      ],
      "text/latex": [
       "'9e'"
      ],
      "text/markdown": [
       "'9e'"
      ],
      "text/plain": [
       "[1] \"9e\""
      ]
     },
     "metadata": {},
     "output_type": "display_data"
    },
    {
     "data": {
      "text/html": [
       "21.2"
      ],
      "text/latex": [
       "21.2"
      ],
      "text/markdown": [
       "21.2"
      ],
      "text/plain": [
       "[1] 21.2"
      ]
     },
     "metadata": {},
     "output_type": "display_data"
    }
   ],
   "source": [
    "\"9e\"\n",
    "μ_med = median(Boston$medv)\n",
    "μ_med"
   ]
  },
  {
   "cell_type": "code",
   "execution_count": 46,
   "id": "integrated-bailey",
   "metadata": {},
   "outputs": [
    {
     "data": {
      "text/html": [
       "'9f'"
      ],
      "text/latex": [
       "'9f'"
      ],
      "text/markdown": [
       "'9f'"
      ],
      "text/plain": [
       "[1] \"9f\""
      ]
     },
     "metadata": {},
     "output_type": "display_data"
    },
    {
     "data": {
      "text/plain": [
       "\n",
       "ORDINARY NONPARAMETRIC BOOTSTRAP\n",
       "\n",
       "\n",
       "Call:\n",
       "boot(data = Boston$medv, statistic = boot_f, R = 1000)\n",
       "\n",
       "\n",
       "Bootstrap Statistics :\n",
       "    original   bias    std. error\n",
       "t1*     21.2 -0.02555   0.3729327"
      ]
     },
     "metadata": {},
     "output_type": "display_data"
    }
   ],
   "source": [
    "\"9f\"\n",
    "boot_f <- function(data, index) return(median(data[index]))\n",
    "boot(Boston$medv, boot_f, 1000)"
   ]
  },
  {
   "cell_type": "markdown",
   "id": "false-modification",
   "metadata": {},
   "source": [
    "The median is 21.2 with standard error of 0.38, which is relatively small."
   ]
  },
  {
   "cell_type": "code",
   "execution_count": 47,
   "id": "norman-bronze",
   "metadata": {},
   "outputs": [
    {
     "data": {
      "text/html": [
       "'9g'"
      ],
      "text/latex": [
       "'9g'"
      ],
      "text/markdown": [
       "'9g'"
      ],
      "text/plain": [
       "[1] \"9g\""
      ]
     },
     "metadata": {},
     "output_type": "display_data"
    },
    {
     "data": {
      "text/html": [
       "<strong>10%:</strong> 12.75"
      ],
      "text/latex": [
       "\\textbf{10\\textbackslash{}\\%:} 12.75"
      ],
      "text/markdown": [
       "**10%:** 12.75"
      ],
      "text/plain": [
       "  10% \n",
       "12.75 "
      ]
     },
     "metadata": {},
     "output_type": "display_data"
    }
   ],
   "source": [
    "\"9g\"\n",
    "μ0.1 <- quantile(Boston$medv, 0.1)\n",
    "μ0.1"
   ]
  },
  {
   "cell_type": "code",
   "execution_count": 48,
   "id": "patent-steal",
   "metadata": {},
   "outputs": [
    {
     "data": {
      "text/html": [
       "'9h'"
      ],
      "text/latex": [
       "'9h'"
      ],
      "text/markdown": [
       "'9h'"
      ],
      "text/plain": [
       "[1] \"9h\""
      ]
     },
     "metadata": {},
     "output_type": "display_data"
    },
    {
     "data": {
      "text/plain": [
       "\n",
       "ORDINARY NONPARAMETRIC BOOTSTRAP\n",
       "\n",
       "\n",
       "Call:\n",
       "boot(data = Boston$medv, statistic = boot_h, R = 1000)\n",
       "\n",
       "\n",
       "Bootstrap Statistics :\n",
       "    original  bias    std. error\n",
       "t1*    12.75 0.01365   0.4947787"
      ]
     },
     "metadata": {},
     "output_type": "display_data"
    }
   ],
   "source": [
    "\"9h\"\n",
    "boot_h <- function(data, index) return(quantile(data[index], c(0.1)))\n",
    "boot(Boston$medv, boot_h, 1000)"
   ]
  },
  {
   "cell_type": "markdown",
   "id": "proprietary-apollo",
   "metadata": {},
   "source": [
    "The tenth-percentile value is 12.75 with a standard error of 0.5, which is relatively."
   ]
  }
 ],
 "metadata": {
  "kernelspec": {
   "display_name": "R",
   "language": "R",
   "name": "ir"
  },
  "language_info": {
   "codemirror_mode": "r",
   "file_extension": ".r",
   "mimetype": "text/x-r-source",
   "name": "R",
   "pygments_lexer": "r",
   "version": "4.0.4"
  }
 },
 "nbformat": 4,
 "nbformat_minor": 5
}
