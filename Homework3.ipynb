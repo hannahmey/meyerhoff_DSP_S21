{
 "cells": [
  {
   "cell_type": "markdown",
   "id": "usual-people",
   "metadata": {},
   "source": [
    "## Homework 3: Data exploration and visualization\n",
    "\n",
    "In this homework you will practice manipulating, exploring and visualizing data in order to answer questions about the data.\n",
    "\n",
    "Before you begin, download this notebook, and the files \"data/hw3_health_w.txt\" and \"data/hw3_health_m.txt\" to your computer and copy them to your own repository. As we discussed in the last class, the easiest way to do that is if you clone the class repository in a separate folder on your computer with the command:\n",
    "\n",
    "```git clone https://github.com/venpopov/DataSciencePsychUZH```\n",
    "\n",
    "If you have already cloned previously the class repository, you can update it on your computer with the new files by \"pulling\" information from github via the following command, which you need to run while your terminal is in your \"DataSciencePsychUZH\" folder:\n",
    "\n",
    "```git pull```\n",
    "\n"
   ]
  },
  {
   "cell_type": "markdown",
   "id": "recorded-split",
   "metadata": {},
   "source": [
    "### Loading and manipulating data\n",
    "\n",
    "The datasets `hw3_health_m.txt` and `hw3_health_w.txt` contain data for the average number of steps per day and the BMI index for a number of men and women, respectively.\n",
    "\n",
    "First, load the two datasets via the `read.table()` command. You need to specify that the first row of the files contains the variable names, by setting the `header = TRUE` argument in the `read.table()` command **(1 point)**:"
   ]
  },
  {
   "cell_type": "code",
   "execution_count": 13,
   "id": "reflected-matthew",
   "metadata": {},
   "outputs": [
    {
     "name": "stderr",
     "output_type": "stream",
     "text": [
      "-- \u001b[1mAttaching packages\u001b[22m ------------------------------------------------------------------------------- tidyverse 1.3.0 --\n",
      "\n",
      "\u001b[32mv\u001b[39m \u001b[34mggplot2\u001b[39m 3.3.3     \u001b[32mv\u001b[39m \u001b[34mpurrr  \u001b[39m 0.3.4\n",
      "\u001b[32mv\u001b[39m \u001b[34mtibble \u001b[39m 3.0.6     \u001b[32mv\u001b[39m \u001b[34mdplyr  \u001b[39m 1.0.5\n",
      "\u001b[32mv\u001b[39m \u001b[34mtidyr  \u001b[39m 1.1.3     \u001b[32mv\u001b[39m \u001b[34mstringr\u001b[39m 1.4.0\n",
      "\u001b[32mv\u001b[39m \u001b[34mreadr  \u001b[39m 1.4.0     \u001b[32mv\u001b[39m \u001b[34mforcats\u001b[39m 0.5.1\n",
      "\n",
      "-- \u001b[1mConflicts\u001b[22m ---------------------------------------------------------------------------------- tidyverse_conflicts() --\n",
      "\u001b[31mx\u001b[39m \u001b[34mdplyr\u001b[39m::\u001b[32mfilter()\u001b[39m masks \u001b[34mstats\u001b[39m::filter()\n",
      "\u001b[31mx\u001b[39m \u001b[34mdplyr\u001b[39m::\u001b[32mlag()\u001b[39m    masks \u001b[34mstats\u001b[39m::lag()\n",
      "\n"
     ]
    }
   ],
   "source": [
    "setwd(\"C:/Users/hanna/Desktop/FS21/data_science/HW3/Homeworks/data\")\n",
    "library(tidyverse)\n",
    "data_w <- read.table(\"hw3_health_w.txt\", header = TRUE)\n",
    "data_m <- read.table(\"hw3_health_m.txt\", header = TRUE)"
   ]
  },
  {
   "cell_type": "markdown",
   "id": "perfect-wagon",
   "metadata": {},
   "source": [
    "Use the `str()` and `head()` commands to become familiar with the structure of the datasets **(1 point)**"
   ]
  },
  {
   "cell_type": "code",
   "execution_count": 15,
   "id": "modified-respondent",
   "metadata": {},
   "outputs": [
    {
     "name": "stdout",
     "output_type": "stream",
     "text": [
      "'data.frame':\t921 obs. of  3 variables:\n",
      " $ ID   : int  3 4 5 9 12 14 15 16 21 23 ...\n",
      " $ steps: int  15000 14861 14861 14699 14560 14560 14560 14560 14560 14560 ...\n",
      " $ bmi  : num  17 17.2 17.2 16.8 20.4 20.5 20.5 20.5 19.7 19.6 ...\n",
      "'data.frame':\t865 obs. of  3 variables:\n",
      " $ ID   : int  1 2 6 7 8 10 11 13 17 18 ...\n",
      " $ steps: int  15000 15000 14861 14861 14699 14560 14560 14560 14560 14560 ...\n",
      " $ bmi  : num  16.9 16.9 16.8 16.8 17.3 20.5 20.6 20.5 20.4 20.4 ...\n"
     ]
    }
   ],
   "source": [
    "str(data_w)\n",
    "str(data_m)"
   ]
  },
  {
   "cell_type": "markdown",
   "id": "responsible-religious",
   "metadata": {},
   "source": [
    "Based on the output from the `str()` command, how many men and women is there data for? **(1 point)**\n",
    "- men: 865, women: 921"
   ]
  },
  {
   "cell_type": "markdown",
   "id": "killing-growing",
   "metadata": {},
   "source": [
    "Based on what you learned in the previous homework, are these datasets tidy? Please explain your answer. If necessary, write code in the field below to tidy up the datasets **(2 points)**\n",
    "- No, the dataset is not tidy because a single observation unit is stored in two datasets (women & men)-> they should be merged."
   ]
  },
  {
   "cell_type": "code",
   "execution_count": 38,
   "id": "substantial-bosnia",
   "metadata": {},
   "outputs": [],
   "source": [
    "#First add a column to identify the sex\n",
    "data_w <- add_column(data_w, sex=\"w\", .before = \"steps\")\n",
    "data_m <- add_column(data_m, sex=\"m\", .before = \"steps\")\n",
    "\n",
    "#Then merge the two datasets\n",
    "data <- bind_rows(data_w, data_m)"
   ]
  },
  {
   "cell_type": "markdown",
   "id": "south-bibliography",
   "metadata": {},
   "source": [
    "### Exploring the BMI variable\n",
    "\n",
    "Let's try to understand our data better. Use `ggplot()` to answer the following questions:\n",
    "\n",
    "How is the BMI distributed overall, regardless of gender? (hint: use either `geom_density()`; **2 points**) "
   ]
  },
  {
   "cell_type": "code",
   "execution_count": 40,
   "id": "dominant-bradley",
   "metadata": {},
   "outputs": [
    {
     "data": {
      "image/png": "[encoded data removed]",
      "text/plain": [
       "plot without title"
      ]
     },
     "metadata": {
      "image/png": {
       "height": 420,
       "width": 420
      }
     },
     "output_type": "display_data"
    }
   ],
   "source": [
    "ggplot(data, aes(x=bmi)) + geom_density()"
   ]
  },
  {
   "cell_type": "markdown",
   "id": "spanish-evidence",
   "metadata": {},
   "source": [
    "How would you describe the distribution you found in the previous command?\n",
    "- the distribution is bimodal"
   ]
  },
  {
   "cell_type": "markdown",
   "id": "resistant-electricity",
   "metadata": {},
   "source": [
    "Do men and women differ in their BMI? First, run a T test via the `t.test()` command to answer this question **(2 points)**"
   ]
  },
  {
   "cell_type": "code",
   "execution_count": 39,
   "id": "middle-islam",
   "metadata": {},
   "outputs": [
    {
     "data": {
      "text/plain": [
       "\n",
       "\tWelch Two Sample t-test\n",
       "\n",
       "data:  bmi by sex\n",
       "t = -3.2353, df = 1768.3, p-value = 0.001238\n",
       "alternative hypothesis: true difference in means is not equal to 0\n",
       "95 percent confidence interval:\n",
       " -1.2043522 -0.2952488\n",
       "sample estimates:\n",
       "mean in group m mean in group w \n",
       "       24.90775        25.65755 \n"
      ]
     },
     "metadata": {},
     "output_type": "display_data"
    }
   ],
   "source": [
    "t.test(bmi~sex, data=data)"
   ]
  },
  {
   "cell_type": "markdown",
   "id": "covered-metadata",
   "metadata": {},
   "source": [
    "- Yes, they do differ in their BMI, they have a different mean BMI and the p-value is below 0.05 and therefore significant. "
   ]
  },
  {
   "cell_type": "markdown",
   "id": "premium-lesson",
   "metadata": {},
   "source": [
    "Can the results of your `t.test()` explain the shape of the distribution of BMI you found in the previous step? Add the `color=gender` argument in the `aes()` part of your previous `ggplot()` call to split the distribution by gender and answer this question **(3 points)**"
   ]
  },
  {
   "cell_type": "code",
   "execution_count": 45,
   "id": "sunset-sustainability",
   "metadata": {},
   "outputs": [
    {
     "data": {
      "image/png": "[encoded data removed]",
      "text/plain": [
       "plot without title"
      ]
     },
     "metadata": {
      "image/png": {
       "height": 420,
       "width": 420
      }
     },
     "output_type": "display_data"
    }
   ],
   "source": [
    "ggplot(data, aes(x=bmi, color=sex)) + geom_density()"
   ]
  },
  {
   "cell_type": "markdown",
   "id": "dietary-kidney",
   "metadata": {},
   "source": [
    "- No, it doesn't. Both, the female and the male bmi have a bimodal distribution."
   ]
  },
  {
   "cell_type": "markdown",
   "id": "billion-airplane",
   "metadata": {},
   "source": [
    "### Exploring the STEPS variable"
   ]
  },
  {
   "cell_type": "markdown",
   "id": "focal-assignment",
   "metadata": {},
   "source": [
    "Some errors were made when coding the steps variable. Plot a histogram of the `steps` variable. What is unusual about this data? **(2 points)**"
   ]
  },
  {
   "cell_type": "code",
   "execution_count": 78,
   "id": "amended-korea",
   "metadata": {},
   "outputs": [
    {
     "data": {
      "image/png": "[encoded data removed]",
      "text/plain": [
       "Plot with title \"Histogram of data$steps\""
      ]
     },
     "metadata": {
      "image/png": {
       "height": 420,
       "width": 420
      }
     },
     "output_type": "display_data"
    }
   ],
   "source": [
    "hist(data$steps)"
   ]
  },
  {
   "cell_type": "markdown",
   "id": "overall-standing",
   "metadata": {},
   "source": [
    "- There is one observation with a negative amount of steps, which is not possible. There doesn't seem to be a normal distribution, it's right-steep."
   ]
  },
  {
   "cell_type": "markdown",
   "id": "outdoor-above",
   "metadata": {},
   "source": [
    "One data point needs to be removed from this dataset. Use the `filter()` command on the `steps` variable to remove the incorrect data point, and save the result to a new data frame **(2 points)**"
   ]
  },
  {
   "cell_type": "code",
   "execution_count": 74,
   "id": "beneficial-customs",
   "metadata": {},
   "outputs": [],
   "source": [
    "data_corr <- filter(data, steps>=0)"
   ]
  },
  {
   "cell_type": "markdown",
   "id": "amber-registration",
   "metadata": {},
   "source": [
    "### The relationship between daily steps and BMI"
   ]
  },
  {
   "cell_type": "markdown",
   "id": "other-crest",
   "metadata": {},
   "source": [
    "Now that we understand how the individual variables are distributed, and that we have cleaned up the incorrectly coded data point, it's time to understand whether daily steps are related to BMI. \n",
    "\n",
    "Please use the `cor.test()` function to answer the following questions **(5 points)**\n",
    "- *Is there a statistically significant correlation between daily steps and BMI*\n",
    "- *Does the correlation between daily steps and BMI differ for men and women*"
   ]
  },
  {
   "cell_type": "code",
   "execution_count": 82,
   "id": "passive-luxury",
   "metadata": {},
   "outputs": [
    {
     "data": {
      "text/plain": [
       "\n",
       "\tPearson's product-moment correlation\n",
       "\n",
       "data:  data_corr$bmi and data_corr$steps\n",
       "t = -12.402, df = 1783, p-value < 2.2e-16\n",
       "alternative hypothesis: true correlation is not equal to 0\n",
       "95 percent confidence interval:\n",
       " -0.3239556 -0.2385171\n",
       "sample estimates:\n",
       "       cor \n",
       "-0.2817949 \n"
      ]
     },
     "metadata": {},
     "output_type": "display_data"
    },
    {
     "data": {
      "text/plain": [
       "\n",
       "\tPearson's product-moment correlation\n",
       "\n",
       "data:  bmi and steps\n",
       "t = -9.9747, df = 918, p-value < 2.2e-16\n",
       "alternative hypothesis: true correlation is not equal to 0\n",
       "95 percent confidence interval:\n",
       " -0.3698633 -0.2531890\n",
       "sample estimates:\n",
       "       cor \n",
       "-0.3127052 \n"
      ]
     },
     "metadata": {},
     "output_type": "display_data"
    },
    {
     "data": {
      "text/plain": [
       "\n",
       "\tPearson's product-moment correlation\n",
       "\n",
       "data:  bmi and steps\n",
       "t = -6.9541, df = 863, p-value = 7.006e-12\n",
       "alternative hypothesis: true correlation is not equal to 0\n",
       "95 percent confidence interval:\n",
       " -0.2925195 -0.1662485\n",
       "sample estimates:\n",
       "       cor \n",
       "-0.2303534 \n"
      ]
     },
     "metadata": {},
     "output_type": "display_data"
    }
   ],
   "source": [
    "#question 1\n",
    "cor.test(data_corr$bmi, data_corr$steps, alternative = c(\"two.sided\"))\n",
    "\n",
    "#question2\n",
    "cor.test(~bmi + steps, data = filter(data_corr, sex==\"w\"))\n",
    "cor.test(~bmi + steps, data = filter(data_corr, sex==\"m\"))"
   ]
  },
  {
   "cell_type": "markdown",
   "id": "applied-acoustic",
   "metadata": {},
   "source": [
    "-1) There is a significant correlation between daily steps and BMI, since the p-value of the correlation test of bmi and steps is less than 0.05 and therefore significant.\n",
    "\n",
    "2)The correlation between daily steps and BMI differs between men and women. Since it's not the same for women (-0.31) and men (-0.23).\n"
   ]
  },
  {
   "cell_type": "markdown",
   "id": "attractive-sauce",
   "metadata": {},
   "source": [
    "Finally, in addition to running a statistical correlation test, what else can you do to better understand the relationship between daily steps and BMI? How would you described this relationship? **(3 points)** "
   ]
  },
  {
   "cell_type": "code",
   "execution_count": 76,
   "id": "running-toyota",
   "metadata": {},
   "outputs": [
    {
     "data": {
      "image/png": "[encoded data removed]",
      "text/plain": [
       "plot without title"
      ]
     },
     "metadata": {
      "image/png": {
       "height": 420,
       "width": 420
      }
     },
     "output_type": "display_data"
    }
   ],
   "source": [
    "ggplot(data = data_corr) + \n",
    "  geom_point(mapping = aes(x = steps, y = bmi, color = sex))"
   ]
  },
  {
   "cell_type": "markdown",
   "id": "successful-sweden",
   "metadata": {},
   "source": [
    " very ape-like :D, there doesn't seem to be a clear relationship"
   ]
  }
 ],
 "metadata": {
  "kernelspec": {
   "display_name": "R",
   "language": "R",
   "name": "ir"
  },
  "language_info": {
   "codemirror_mode": "r",
   "file_extension": ".r",
   "mimetype": "text/x-r-source",
   "name": "R",
   "pygments_lexer": "r",
   "version": "4.0.4"
  }
 },
 "nbformat": 4,
 "nbformat_minor": 5
}
