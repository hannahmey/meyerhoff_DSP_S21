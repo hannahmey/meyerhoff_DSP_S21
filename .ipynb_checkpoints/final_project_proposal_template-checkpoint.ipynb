{
 "cells": [
  {
   "cell_type": "markdown",
   "id": "advisory-printing",
   "metadata": {},
   "source": [
    "## Final Project Proposal"
   ]
  },
  {
   "cell_type": "markdown",
   "id": "swedish-initial",
   "metadata": {},
   "source": [
    "#### Name:"
   ]
  },
  {
   "cell_type": "markdown",
   "id": "occupied-marshall",
   "metadata": {},
   "source": [
    "#### Brief description of the dataset:\n",
    "\n",
    "> The participants are pregnant women, who participated in an online questionnaire during the first COVID-19 wave. The aim of the study is to better understand the experience of pregnant women during the Corona pandemic.\n",
    "In the dataset there are mainly pregnancy related variables (e.g. pregnancy week, complications etc.), two sociodemographic variables (age, children ) and the mean or total scores of several questionnaires (e.g. EPDS-tot, NUPDQ_mean). "
   ]
  },
  {
   "cell_type": "markdown",
   "id": "aggregate-parameter",
   "metadata": {},
   "source": [
    "#### Dataset questions:\n",
    "-\tWhere did you obtain the dataset from?\n",
    "\n",
    "> It's from the study, in which I write my masterthesis\n",
    "\n",
    "-\tHow many observations are there?\n",
    "\n",
    "> 258\n",
    "\n",
    "-\tHow many variables are there?\n",
    "\n",
    "> 20\n",
    "\n",
    "-\tAre there multiple observations for the same units (e.g. multiple measurements of RTs per participant? Multiple evaluations per employee? etc)\n",
    "\n",
    "> No"
   ]
  },
  {
   "cell_type": "markdown",
   "id": "entire-shopper",
   "metadata": {},
   "source": [
    "#### Project goals:\n",
    "\n",
    "> I want to find out, if pregnancy related variables can predict depression, anxiety, prenatal distress and obsessive compulsive disorder scores and I want to find out which variables are good predictors. (I also have a lot of demographic variables (e.g. financial status, education, civil status, living situation etc.), but I excluded those for this dataset because I think it's getting to big then. But if you think it makes sense, I can include them as well and maybe make a compare models with preganncy related variables and sociodemographic varaibles and look which models explain more variance etc.) \n",
    "I want to fit models for my different dependent variables, based on the independet variables, to see which predictors have significant influence on the dependent variable. Therefore I use a part of my data as the training dataset and the rest as the test dataset. I also want to see, if my dependet variables correlate with each other. Since I don't know which predictors have an influence on the dependet variables, I have a lot of independet variables (26).\n",
    "I have 5 dependet variables: EPDS_mean, GAD7_tot (anxiety), PHQ2_tot (depression), OCIR_tot (obsessive compulsive disorder) and NuPDQ_mean (prenatal distress).\n",
    "I have 14 independent variables: Alter,  Kinder,   Komplikationen, SSW, Planung_SS, Dauer_bis_SS, Reproduktionsmed, Anzahl_SS, Anzahl_Geb, MehrlingsSS, RisikoSS, Einfluss_COV_Geburtsmet, Gebkurs, chron_Krank"
   ]
  },
  {
   "cell_type": "markdown",
   "id": "unable-relationship",
   "metadata": {},
   "source": [
    "#### Project methods:\n",
    "> Data visualisation, model selection (probably a linear model), cross-validation, correlation-tests, maybe dimensonality reudction\n"
   ]
  },
  {
   "cell_type": "markdown",
   "id": "bound-certificate",
   "metadata": {},
   "source": [
    "#### Evaluation\n",
    "\n",
    "> [VP] sounds good. Yes, you could use all of your independent variables. In that case, you will have to apply cross-validation to ensure that you are not overfitting the data, which is a good technique to learn and showcase here anyway. Approved"
   ]
  }
 ],
 "metadata": {
  "kernelspec": {
   "display_name": "R",
   "language": "R",
   "name": "ir"
  },
  "language_info": {
   "codemirror_mode": "r",
   "file_extension": ".r",
   "mimetype": "text/x-r-source",
   "name": "R",
   "pygments_lexer": "r",
   "version": "4.0.4"
  }
 },
 "nbformat": 4,
 "nbformat_minor": 5
}
