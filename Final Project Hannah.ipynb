{
 "cells": [
  {
   "cell_type": "markdown",
   "id": "promotional-cyprus",
   "metadata": {},
   "source": [
    "# Final Project"
   ]
  },
  {
   "cell_type": "markdown",
   "id": "informed-running",
   "metadata": {},
   "source": [
    "## Background"
   ]
  },
  {
   "cell_type": "markdown",
   "id": "artistic-voltage",
   "metadata": {},
   "source": [
    "Previous research has shown that the experience of a natural disaster or a state of emergency during the time of pregnancy increase emotional distress, which can end in mental health problems (Brooks et al., 2020; Glynn et al., 2001). There is evidence that the Corona pandemic has an influence on mental health (Liu et al., 2020; Rajkumar, 2020). Increases of depression and anxiety during the Corona pandemic were found in different countries (Mertens et al., 2020; Trnka and Lorencova, 2020). Especially pregnant women experienced higher levels of psychological distress (Saccone et al., 2020).\n",
    "\n",
    "Several risk factors for higher maternal stress were already found, including primiparity, younger age, unplanned pregnancy, financial strain, and pregnancy complications (Bayrampour et al., 2018; Ibrahim and Lobel, 2020). The factors that have an influence on women’s distress and mental health during the COVID-19 pandemic are not well-identified yet (Preis et al. 2020).\n",
    "\n",
    "Emotional distress and maternal mental health problems are linked with infant outcomes, such as low birth weight, preterm birth, and infant developmental delays (Field, 2017). Therefore it is important to find predictors for maternal health problems and to be able to give women, which are most at risk for mental health problems, preventive care, so to minimize the adverse infant outcomes.\n"
   ]
  },
  {
   "cell_type": "markdown",
   "id": "public-sleeve",
   "metadata": {},
   "source": [
    "## Variables of Interest"
   ]
  },
  {
   "cell_type": "markdown",
   "id": "acknowledged-coupon",
   "metadata": {},
   "source": [
    "ldfn is the participants ID-number"
   ]
  },
  {
   "cell_type": "markdown",
   "id": "scheduled-sentence",
   "metadata": {},
   "source": [
    "I have <b>2</b> dependent variables:\n",
    "- EPDS (postpartal depression): EPDS_tot (postpartal depression total score): numerical variable\n",
    "    - The EPDS (Edinburgh Postpartal Depression Scale; Cox et al., 1996) measures postanatal depression symptoms. It is, among other things, used for an early screening of the risk of postnatal depression. It measures common depressive symptoms with 10 items. Each item is scored on a 4 point scale from 0 to 3. The total score can range from 0 to 30. \n",
    "- GAD7 (anxiety score): GAD_tot (anxiety total score): numerical variable\n",
    "    - The GAD7 (Generalized Anxiety Disorder Scale; Spitzer et al., 2006) measures anxiety symptoms. It is a often used to measure the frequency of anxiety symptoms over the past two weeks, on a scale of 0 to 3, with 0 being not at all and 3 being nearly every day. There are 7 items. The total scores can range from 0-to-21. \n"
   ]
  },
  {
   "cell_type": "markdown",
   "id": "consecutive-attachment",
   "metadata": {},
   "source": [
    "I have 24 independent variables, which can be divided into two categories: sociodemographic variables & pregnancy related variables:\n",
    "\n",
    "<b>Sociodemographic variables</b> (11)\n",
    "- Alter (age): numerical variable \n",
    "- Kinder (children): numerical variable\n",
    "- Ausbildungsabschluss (highest education): categorial variable (1=Primary school graduation, 2=Realschule, 3=Secondary school graduation, 4=Apprenticeship, 5=Berufsmatura, 6=High school graduation, 7=Fachhochschul degree, 8=University degree)\n",
    "- Ausbildungsjahre (years of education): numerical variable\n",
    "- Beschäftigungsgrad_akt (current employment status): categorial variable (1=Full time; 2=Part time; 3=Homemaker; 4=Unemployed, 5=Student, 6=Disability benefits, 7=Other)\n",
    "- Finanzstatus (financial status): categorial variable (1=Below average, 2=Average, 3=Above average)\n",
    "- Einkommen_verloren_wg_COVID (lost income due to the pandemic): categorial variable (0=No, 1=Yes)\n",
    "- Wohnsitz (residence): categorial varibale (1=House, 2=Apartment, 3=Flat sharing, 4=Homeless, 5=Asylum)\n",
    "- Zugang_Aussenbereich (access to outdoor space): categorial variable (1=Yes, whenever I want; 2=Sometimes; 3=Rarely)\n",
    "- Beziehungsstatus (relationship status): categorial variable (1=Married or cohabiting, 2=Serious partnership, 3=Single, 4=Other)\n",
    "- Beziehungszufr_während (relationship satisfaction): ordinal variable (scale from 1 to 9; 1= Not at all satisfied, 3=Not satisfied, 5=Medium, 7=Satisfied, 9=Very satisfied)\n",
    "- chron_Krank (chronical disease): categorial variable (0=No, 1=Yes)\n",
    "\n",
    "<b>Pregnancy related variables</b> (11)\n",
    "- Komplikationen (complications during pregnancy): categorial variable (0=No, 1=Yes)\n",
    "- SSW (pregnancy weeks): numerical variable\n",
    "- Planung_SS (was the pregnancy planned): categorial variable (0=No, 1=Yes)\n",
    "- Dauer_bis_SS (duration until pregnancy): categorial variable (1=Less than 6 months, 2=6-12 months, 3=12-24 months, 4=More than 24 months)\n",
    "- Reproduktionsmed (use of fertility treatment for pregnancy): categorial variable (0=No, 1=Yes, 2=Unsure)\n",
    "- Anzahl_SS (number of pregnancies): numerical variable \n",
    "- Anzahl_Geb (number of births): numerical variable  \n",
    "- MehrlingsSS (multiple pregancy): categorial variable (0=No, 1=Yes, 2=Unsure)\n",
    "- RisikoSS (high risk pregnancy): categorial variable (0=No, 1=Yes, 2=Unsure) \n",
    "- Einfluss_COV_Geburtsmet (influence of COVID-19 on change of birth method): categorial variable (0=No, 1=Yes, 2=A little) \n",
    "- Gebkurs (birth preparation course): categorial variable (0=No; 1=Yes, but only since the pandemic; 2=Yes, in the past)\n",
    "\n",
    "<b>COVID-19 related variables</b> (2)\n",
    "- Diagnose_während_SS (COVID-19 diagnosis during pregnancy): categorial variable (0=No, 1=Yes)\n",
    "- Verdacht_COVID (suspicion of COVID-19 diagnosis during pregnancy: categorial variable (0=No, 1=Yes, 2=Unsure)"
   ]
  },
  {
   "cell_type": "markdown",
   "id": "driving-bacon",
   "metadata": {},
   "source": [
    "## Research question"
   ]
  },
  {
   "cell_type": "markdown",
   "id": "welsh-pocket",
   "metadata": {},
   "source": [
    "1. Are the pospartal depression and anxiety scores correlated?\n",
    "2. Which are the best predictors for postpartal depression and anxiety? \n",
    "\n"
   ]
  },
  {
   "cell_type": "markdown",
   "id": "exotic-nowhere",
   "metadata": {},
   "source": [
    "## Data plan organization"
   ]
  },
  {
   "cell_type": "markdown",
   "id": "cathedral-general",
   "metadata": {},
   "source": [
    " - Data Cleaning\n",
    " \n",
    " - Descriptive Statistics\n",
    "     - Means, median, etc. of all the variables\n",
    "     - Data visualisation: boxplot & histogramm of numerical variables, plots for categorial variables\n",
    " \n",
    " - Correlation of the dependent variables\n",
    "\n",
    " - Exploratory Data Analysis: Model Selection for EPDS and GAD\n",
    "      - Create new dataframe with only the predictors\n",
    "      - Stepwise Selection\n",
    "      - Cross Validation with the best predictors for EPDS and GAD (k-folds)\n",
    "      - Bootstraping with the best predictors for EPDS and GAD"
   ]
  },
  {
   "cell_type": "markdown",
   "id": "confused-surfing",
   "metadata": {},
   "source": [
    "## Data cleaning"
   ]
  },
  {
   "cell_type": "markdown",
   "id": "effective-outdoors",
   "metadata": {},
   "source": [
    "I already cleaned the dataset for the analysis of my master thesis. Therefore\n",
    "- I removed unnecessary observations. \n",
    "- I removed multiple observations of the same unit. \n",
    "- I removed all observations (participants) with missing values.\n",
    "- I calculated mean and total scores for the dependent variables.\n",
    "\n",
    "Each column is a variable, each row is an observation and only one observation unit is stored in one table."
   ]
  },
  {
   "cell_type": "code",
   "execution_count": 82,
   "id": "caroline-surface",
   "metadata": {},
   "outputs": [
    {
     "data": {
      "text/html": [
       "<table class=\"dataframe\">\n",
       "<caption>A data.frame: 6 × 28</caption>\n",
       "<thead>\n",
       "\t<tr><th></th><th scope=col>ï..lfdn</th><th scope=col>Alter</th><th scope=col>Kinder</th><th scope=col>Ausbildungsabschluss</th><th scope=col>Ausbildungsjahre</th><th scope=col>BeschÃ.ftigungsgrad_akt</th><th scope=col>Finanzstatus</th><th scope=col>Einkommen_verloren_wg_COVID</th><th scope=col>Wohnsitz</th><th scope=col>Zugang_Aussenbereich</th><th scope=col>...</th><th scope=col>Anzahl_Geb</th><th scope=col>MehrlingsSS</th><th scope=col>RisikoSS</th><th scope=col>chron_Krank</th><th scope=col>Einfluss_COV_Geburtsmet</th><th scope=col>Gebkurs</th><th scope=col>Diagnose_wÃ.hrend_SS</th><th scope=col>Verdacht_COVID</th><th scope=col>EPDS_tot</th><th scope=col>GAD7_tot</th></tr>\n",
       "\t<tr><th></th><th scope=col>&lt;int&gt;</th><th scope=col>&lt;int&gt;</th><th scope=col>&lt;int&gt;</th><th scope=col>&lt;int&gt;</th><th scope=col>&lt;int&gt;</th><th scope=col>&lt;int&gt;</th><th scope=col>&lt;int&gt;</th><th scope=col>&lt;int&gt;</th><th scope=col>&lt;int&gt;</th><th scope=col>&lt;int&gt;</th><th scope=col>...</th><th scope=col>&lt;int&gt;</th><th scope=col>&lt;int&gt;</th><th scope=col>&lt;int&gt;</th><th scope=col>&lt;int&gt;</th><th scope=col>&lt;int&gt;</th><th scope=col>&lt;int&gt;</th><th scope=col>&lt;int&gt;</th><th scope=col>&lt;int&gt;</th><th scope=col>&lt;int&gt;</th><th scope=col>&lt;int&gt;</th></tr>\n",
       "</thead>\n",
       "<tbody>\n",
       "\t<tr><th scope=row>1</th><td> 13</td><td>28</td><td>0</td><td>7</td><td>15</td><td>1</td><td>2</td><td>0</td><td>2</td><td>1</td><td>...</td><td>0</td><td>0</td><td>1</td><td>1</td><td>0</td><td>0</td><td>0</td><td>0</td><td> 6</td><td>4</td></tr>\n",
       "\t<tr><th scope=row>2</th><td> 25</td><td>32</td><td>1</td><td>7</td><td>14</td><td>2</td><td>2</td><td>0</td><td>1</td><td>1</td><td>...</td><td>1</td><td>0</td><td>0</td><td>0</td><td>0</td><td>0</td><td>0</td><td>0</td><td> 5</td><td>4</td></tr>\n",
       "\t<tr><th scope=row>3</th><td> 94</td><td>32</td><td>0</td><td>7</td><td>13</td><td>1</td><td>3</td><td>0</td><td>1</td><td>1</td><td>...</td><td>0</td><td>0</td><td>0</td><td>0</td><td>0</td><td>0</td><td>0</td><td>0</td><td> 9</td><td>2</td></tr>\n",
       "\t<tr><th scope=row>4</th><td>100</td><td>28</td><td>0</td><td>5</td><td> 6</td><td>1</td><td>2</td><td>0</td><td>2</td><td>1</td><td>...</td><td>0</td><td>0</td><td>0</td><td>0</td><td>1</td><td>1</td><td>0</td><td>2</td><td> 0</td><td>4</td></tr>\n",
       "\t<tr><th scope=row>5</th><td>114</td><td>37</td><td>0</td><td>6</td><td>16</td><td>4</td><td>2</td><td>0</td><td>2</td><td>1</td><td>...</td><td>0</td><td>0</td><td>0</td><td>0</td><td>2</td><td>0</td><td>0</td><td>0</td><td>13</td><td>9</td></tr>\n",
       "\t<tr><th scope=row>6</th><td>120</td><td>31</td><td>0</td><td>4</td><td> 4</td><td>1</td><td>2</td><td>0</td><td>1</td><td>1</td><td>...</td><td>0</td><td>0</td><td>0</td><td>0</td><td>0</td><td>1</td><td>0</td><td>2</td><td> 4</td><td>5</td></tr>\n",
       "</tbody>\n",
       "</table>\n"
      ],
      "text/latex": [
       "A data.frame: 6 × 28\n",
       "\\begin{tabular}{r|lllllllllllllllllllll}\n",
       "  & ï..lfdn & Alter & Kinder & Ausbildungsabschluss & Ausbildungsjahre & BeschÃ.ftigungsgrad\\_akt & Finanzstatus & Einkommen\\_verloren\\_wg\\_COVID & Wohnsitz & Zugang\\_Aussenbereich & ... & Anzahl\\_Geb & MehrlingsSS & RisikoSS & chron\\_Krank & Einfluss\\_COV\\_Geburtsmet & Gebkurs & Diagnose\\_wÃ.hrend\\_SS & Verdacht\\_COVID & EPDS\\_tot & GAD7\\_tot\\\\\n",
       "  & <int> & <int> & <int> & <int> & <int> & <int> & <int> & <int> & <int> & <int> & ... & <int> & <int> & <int> & <int> & <int> & <int> & <int> & <int> & <int> & <int>\\\\\n",
       "\\hline\n",
       "\t1 &  13 & 28 & 0 & 7 & 15 & 1 & 2 & 0 & 2 & 1 & ... & 0 & 0 & 1 & 1 & 0 & 0 & 0 & 0 &  6 & 4\\\\\n",
       "\t2 &  25 & 32 & 1 & 7 & 14 & 2 & 2 & 0 & 1 & 1 & ... & 1 & 0 & 0 & 0 & 0 & 0 & 0 & 0 &  5 & 4\\\\\n",
       "\t3 &  94 & 32 & 0 & 7 & 13 & 1 & 3 & 0 & 1 & 1 & ... & 0 & 0 & 0 & 0 & 0 & 0 & 0 & 0 &  9 & 2\\\\\n",
       "\t4 & 100 & 28 & 0 & 5 &  6 & 1 & 2 & 0 & 2 & 1 & ... & 0 & 0 & 0 & 0 & 1 & 1 & 0 & 2 &  0 & 4\\\\\n",
       "\t5 & 114 & 37 & 0 & 6 & 16 & 4 & 2 & 0 & 2 & 1 & ... & 0 & 0 & 0 & 0 & 2 & 0 & 0 & 0 & 13 & 9\\\\\n",
       "\t6 & 120 & 31 & 0 & 4 &  4 & 1 & 2 & 0 & 1 & 1 & ... & 0 & 0 & 0 & 0 & 0 & 1 & 0 & 2 &  4 & 5\\\\\n",
       "\\end{tabular}\n"
      ],
      "text/markdown": [
       "\n",
       "A data.frame: 6 × 28\n",
       "\n",
       "| <!--/--> | ï..lfdn &lt;int&gt; | Alter &lt;int&gt; | Kinder &lt;int&gt; | Ausbildungsabschluss &lt;int&gt; | Ausbildungsjahre &lt;int&gt; | BeschÃ.ftigungsgrad_akt &lt;int&gt; | Finanzstatus &lt;int&gt; | Einkommen_verloren_wg_COVID &lt;int&gt; | Wohnsitz &lt;int&gt; | Zugang_Aussenbereich &lt;int&gt; | ... ... | Anzahl_Geb &lt;int&gt; | MehrlingsSS &lt;int&gt; | RisikoSS &lt;int&gt; | chron_Krank &lt;int&gt; | Einfluss_COV_Geburtsmet &lt;int&gt; | Gebkurs &lt;int&gt; | Diagnose_wÃ.hrend_SS &lt;int&gt; | Verdacht_COVID &lt;int&gt; | EPDS_tot &lt;int&gt; | GAD7_tot &lt;int&gt; |\n",
       "|---|---|---|---|---|---|---|---|---|---|---|---|---|---|---|---|---|---|---|---|---|---|\n",
       "| 1 |  13 | 28 | 0 | 7 | 15 | 1 | 2 | 0 | 2 | 1 | ... | 0 | 0 | 1 | 1 | 0 | 0 | 0 | 0 |  6 | 4 |\n",
       "| 2 |  25 | 32 | 1 | 7 | 14 | 2 | 2 | 0 | 1 | 1 | ... | 1 | 0 | 0 | 0 | 0 | 0 | 0 | 0 |  5 | 4 |\n",
       "| 3 |  94 | 32 | 0 | 7 | 13 | 1 | 3 | 0 | 1 | 1 | ... | 0 | 0 | 0 | 0 | 0 | 0 | 0 | 0 |  9 | 2 |\n",
       "| 4 | 100 | 28 | 0 | 5 |  6 | 1 | 2 | 0 | 2 | 1 | ... | 0 | 0 | 0 | 0 | 1 | 1 | 0 | 2 |  0 | 4 |\n",
       "| 5 | 114 | 37 | 0 | 6 | 16 | 4 | 2 | 0 | 2 | 1 | ... | 0 | 0 | 0 | 0 | 2 | 0 | 0 | 0 | 13 | 9 |\n",
       "| 6 | 120 | 31 | 0 | 4 |  4 | 1 | 2 | 0 | 1 | 1 | ... | 0 | 0 | 0 | 0 | 0 | 1 | 0 | 2 |  4 | 5 |\n",
       "\n"
      ],
      "text/plain": [
       "  ï..lfdn Alter Kinder Ausbildungsabschluss Ausbildungsjahre\n",
       "1  13     28    0      7                    15              \n",
       "2  25     32    1      7                    14              \n",
       "3  94     32    0      7                    13              \n",
       "4 100     28    0      5                     6              \n",
       "5 114     37    0      6                    16              \n",
       "6 120     31    0      4                     4              \n",
       "  BeschÃ.ftigungsgrad_akt Finanzstatus Einkommen_verloren_wg_COVID Wohnsitz\n",
       "1 1                       2            0                           2       \n",
       "2 2                       2            0                           1       \n",
       "3 1                       3            0                           1       \n",
       "4 1                       2            0                           2       \n",
       "5 4                       2            0                           2       \n",
       "6 1                       2            0                           1       \n",
       "  Zugang_Aussenbereich ... Anzahl_Geb MehrlingsSS RisikoSS chron_Krank\n",
       "1 1                    ... 0          0           1        1          \n",
       "2 1                    ... 1          0           0        0          \n",
       "3 1                    ... 0          0           0        0          \n",
       "4 1                    ... 0          0           0        0          \n",
       "5 1                    ... 0          0           0        0          \n",
       "6 1                    ... 0          0           0        0          \n",
       "  Einfluss_COV_Geburtsmet Gebkurs Diagnose_wÃ.hrend_SS Verdacht_COVID EPDS_tot\n",
       "1 0                       0       0                    0               6      \n",
       "2 0                       0       0                    0               5      \n",
       "3 0                       0       0                    0               9      \n",
       "4 1                       1       0                    2               0      \n",
       "5 2                       0       0                    0              13      \n",
       "6 0                       1       0                    2               4      \n",
       "  GAD7_tot\n",
       "1 4       \n",
       "2 4       \n",
       "3 2       \n",
       "4 4       \n",
       "5 9       \n",
       "6 5       "
      ]
     },
     "metadata": {},
     "output_type": "display_data"
    }
   ],
   "source": [
    "setwd(\"C:/Users/hanna/Desktop/FS21/data_science/final project\")\n",
    "data <- read.csv(\"I-COPE.csv\", header=TRUE)\n",
    "head(data)"
   ]
  },
  {
   "cell_type": "markdown",
   "id": "human-people",
   "metadata": {},
   "source": [
    "Some of the variables have typos in their name, so I have to correct that:"
   ]
  },
  {
   "cell_type": "code",
   "execution_count": 83,
   "id": "honest-airline",
   "metadata": {},
   "outputs": [
    {
     "data": {
      "text/html": [
       "<table class=\"dataframe\">\n",
       "<caption>A data.frame: 6 × 28</caption>\n",
       "<thead>\n",
       "\t<tr><th></th><th scope=col>Alter</th><th scope=col>Kinder</th><th scope=col>Ausbildungsabschluss</th><th scope=col>Ausbildungsjahre</th><th scope=col>Finanzstatus</th><th scope=col>Einkommen_verloren_wg_COVID</th><th scope=col>Wohnsitz</th><th scope=col>Zugang_Aussenbereich</th><th scope=col>Beziehungsstatus</th><th scope=col>Komplikationen</th><th scope=col>...</th><th scope=col>chron_Krank</th><th scope=col>Einfluss_COV_Geburtsmet</th><th scope=col>Gebkurs</th><th scope=col>Verdacht_COVID</th><th scope=col>EPDS_tot</th><th scope=col>GAD7_tot</th><th scope=col>lfdn</th><th scope=col>Beschäftigungsgrad</th><th scope=col>Beziehungszufr</th><th scope=col>Diagnose</th></tr>\n",
       "\t<tr><th></th><th scope=col>&lt;int&gt;</th><th scope=col>&lt;int&gt;</th><th scope=col>&lt;int&gt;</th><th scope=col>&lt;int&gt;</th><th scope=col>&lt;int&gt;</th><th scope=col>&lt;int&gt;</th><th scope=col>&lt;int&gt;</th><th scope=col>&lt;int&gt;</th><th scope=col>&lt;int&gt;</th><th scope=col>&lt;int&gt;</th><th scope=col>...</th><th scope=col>&lt;int&gt;</th><th scope=col>&lt;int&gt;</th><th scope=col>&lt;int&gt;</th><th scope=col>&lt;int&gt;</th><th scope=col>&lt;int&gt;</th><th scope=col>&lt;int&gt;</th><th scope=col>&lt;int&gt;</th><th scope=col>&lt;int&gt;</th><th scope=col>&lt;int&gt;</th><th scope=col>&lt;int&gt;</th></tr>\n",
       "</thead>\n",
       "<tbody>\n",
       "\t<tr><th scope=row>1</th><td>28</td><td>0</td><td>7</td><td>15</td><td>2</td><td>0</td><td>2</td><td>1</td><td>2</td><td>0</td><td>...</td><td>1</td><td>0</td><td>0</td><td>0</td><td> 6</td><td>4</td><td> 13</td><td>1</td><td>9</td><td>0</td></tr>\n",
       "\t<tr><th scope=row>2</th><td>32</td><td>1</td><td>7</td><td>14</td><td>2</td><td>0</td><td>1</td><td>1</td><td>1</td><td>1</td><td>...</td><td>0</td><td>0</td><td>0</td><td>0</td><td> 5</td><td>4</td><td> 25</td><td>2</td><td>8</td><td>0</td></tr>\n",
       "\t<tr><th scope=row>3</th><td>32</td><td>0</td><td>7</td><td>13</td><td>3</td><td>0</td><td>1</td><td>1</td><td>1</td><td>0</td><td>...</td><td>0</td><td>0</td><td>0</td><td>0</td><td> 9</td><td>2</td><td> 94</td><td>1</td><td>9</td><td>0</td></tr>\n",
       "\t<tr><th scope=row>4</th><td>28</td><td>0</td><td>5</td><td> 6</td><td>2</td><td>0</td><td>2</td><td>1</td><td>1</td><td>0</td><td>...</td><td>0</td><td>1</td><td>1</td><td>2</td><td> 0</td><td>4</td><td>100</td><td>1</td><td>9</td><td>0</td></tr>\n",
       "\t<tr><th scope=row>5</th><td>37</td><td>0</td><td>6</td><td>16</td><td>2</td><td>0</td><td>2</td><td>1</td><td>1</td><td>0</td><td>...</td><td>0</td><td>2</td><td>0</td><td>0</td><td>13</td><td>9</td><td>114</td><td>4</td><td>8</td><td>0</td></tr>\n",
       "\t<tr><th scope=row>6</th><td>31</td><td>0</td><td>4</td><td> 4</td><td>2</td><td>0</td><td>1</td><td>1</td><td>1</td><td>0</td><td>...</td><td>0</td><td>0</td><td>1</td><td>2</td><td> 4</td><td>5</td><td>120</td><td>1</td><td>8</td><td>0</td></tr>\n",
       "</tbody>\n",
       "</table>\n"
      ],
      "text/latex": [
       "A data.frame: 6 × 28\n",
       "\\begin{tabular}{r|lllllllllllllllllllll}\n",
       "  & Alter & Kinder & Ausbildungsabschluss & Ausbildungsjahre & Finanzstatus & Einkommen\\_verloren\\_wg\\_COVID & Wohnsitz & Zugang\\_Aussenbereich & Beziehungsstatus & Komplikationen & ... & chron\\_Krank & Einfluss\\_COV\\_Geburtsmet & Gebkurs & Verdacht\\_COVID & EPDS\\_tot & GAD7\\_tot & lfdn & Beschäftigungsgrad & Beziehungszufr & Diagnose\\\\\n",
       "  & <int> & <int> & <int> & <int> & <int> & <int> & <int> & <int> & <int> & <int> & ... & <int> & <int> & <int> & <int> & <int> & <int> & <int> & <int> & <int> & <int>\\\\\n",
       "\\hline\n",
       "\t1 & 28 & 0 & 7 & 15 & 2 & 0 & 2 & 1 & 2 & 0 & ... & 1 & 0 & 0 & 0 &  6 & 4 &  13 & 1 & 9 & 0\\\\\n",
       "\t2 & 32 & 1 & 7 & 14 & 2 & 0 & 1 & 1 & 1 & 1 & ... & 0 & 0 & 0 & 0 &  5 & 4 &  25 & 2 & 8 & 0\\\\\n",
       "\t3 & 32 & 0 & 7 & 13 & 3 & 0 & 1 & 1 & 1 & 0 & ... & 0 & 0 & 0 & 0 &  9 & 2 &  94 & 1 & 9 & 0\\\\\n",
       "\t4 & 28 & 0 & 5 &  6 & 2 & 0 & 2 & 1 & 1 & 0 & ... & 0 & 1 & 1 & 2 &  0 & 4 & 100 & 1 & 9 & 0\\\\\n",
       "\t5 & 37 & 0 & 6 & 16 & 2 & 0 & 2 & 1 & 1 & 0 & ... & 0 & 2 & 0 & 0 & 13 & 9 & 114 & 4 & 8 & 0\\\\\n",
       "\t6 & 31 & 0 & 4 &  4 & 2 & 0 & 1 & 1 & 1 & 0 & ... & 0 & 0 & 1 & 2 &  4 & 5 & 120 & 1 & 8 & 0\\\\\n",
       "\\end{tabular}\n"
      ],
      "text/markdown": [
       "\n",
       "A data.frame: 6 × 28\n",
       "\n",
       "| <!--/--> | Alter &lt;int&gt; | Kinder &lt;int&gt; | Ausbildungsabschluss &lt;int&gt; | Ausbildungsjahre &lt;int&gt; | Finanzstatus &lt;int&gt; | Einkommen_verloren_wg_COVID &lt;int&gt; | Wohnsitz &lt;int&gt; | Zugang_Aussenbereich &lt;int&gt; | Beziehungsstatus &lt;int&gt; | Komplikationen &lt;int&gt; | ... ... | chron_Krank &lt;int&gt; | Einfluss_COV_Geburtsmet &lt;int&gt; | Gebkurs &lt;int&gt; | Verdacht_COVID &lt;int&gt; | EPDS_tot &lt;int&gt; | GAD7_tot &lt;int&gt; | lfdn &lt;int&gt; | Beschäftigungsgrad &lt;int&gt; | Beziehungszufr &lt;int&gt; | Diagnose &lt;int&gt; |\n",
       "|---|---|---|---|---|---|---|---|---|---|---|---|---|---|---|---|---|---|---|---|---|---|\n",
       "| 1 | 28 | 0 | 7 | 15 | 2 | 0 | 2 | 1 | 2 | 0 | ... | 1 | 0 | 0 | 0 |  6 | 4 |  13 | 1 | 9 | 0 |\n",
       "| 2 | 32 | 1 | 7 | 14 | 2 | 0 | 1 | 1 | 1 | 1 | ... | 0 | 0 | 0 | 0 |  5 | 4 |  25 | 2 | 8 | 0 |\n",
       "| 3 | 32 | 0 | 7 | 13 | 3 | 0 | 1 | 1 | 1 | 0 | ... | 0 | 0 | 0 | 0 |  9 | 2 |  94 | 1 | 9 | 0 |\n",
       "| 4 | 28 | 0 | 5 |  6 | 2 | 0 | 2 | 1 | 1 | 0 | ... | 0 | 1 | 1 | 2 |  0 | 4 | 100 | 1 | 9 | 0 |\n",
       "| 5 | 37 | 0 | 6 | 16 | 2 | 0 | 2 | 1 | 1 | 0 | ... | 0 | 2 | 0 | 0 | 13 | 9 | 114 | 4 | 8 | 0 |\n",
       "| 6 | 31 | 0 | 4 |  4 | 2 | 0 | 1 | 1 | 1 | 0 | ... | 0 | 0 | 1 | 2 |  4 | 5 | 120 | 1 | 8 | 0 |\n",
       "\n"
      ],
      "text/plain": [
       "  Alter Kinder Ausbildungsabschluss Ausbildungsjahre Finanzstatus\n",
       "1 28    0      7                    15               2           \n",
       "2 32    1      7                    14               2           \n",
       "3 32    0      7                    13               3           \n",
       "4 28    0      5                     6               2           \n",
       "5 37    0      6                    16               2           \n",
       "6 31    0      4                     4               2           \n",
       "  Einkommen_verloren_wg_COVID Wohnsitz Zugang_Aussenbereich Beziehungsstatus\n",
       "1 0                           2        1                    2               \n",
       "2 0                           1        1                    1               \n",
       "3 0                           1        1                    1               \n",
       "4 0                           2        1                    1               \n",
       "5 0                           2        1                    1               \n",
       "6 0                           1        1                    1               \n",
       "  Komplikationen ... chron_Krank Einfluss_COV_Geburtsmet Gebkurs Verdacht_COVID\n",
       "1 0              ... 1           0                       0       0             \n",
       "2 1              ... 0           0                       0       0             \n",
       "3 0              ... 0           0                       0       0             \n",
       "4 0              ... 0           1                       1       2             \n",
       "5 0              ... 0           2                       0       0             \n",
       "6 0              ... 0           0                       1       2             \n",
       "  EPDS_tot GAD7_tot lfdn Beschäftigungsgrad Beziehungszufr Diagnose\n",
       "1  6       4         13  1                  9              0       \n",
       "2  5       4         25  2                  8              0       \n",
       "3  9       2         94  1                  9              0       \n",
       "4  0       4        100  1                  9              0       \n",
       "5 13       9        114  4                  8              0       \n",
       "6  4       5        120  1                  8              0       "
      ]
     },
     "metadata": {},
     "output_type": "display_data"
    },
    {
     "data": {
      "text/html": [
       "<style>\n",
       ".list-inline {list-style: none; margin:0; padding: 0}\n",
       ".list-inline>li {display: inline-block}\n",
       ".list-inline>li:not(:last-child)::after {content: \"\\00b7\"; padding: 0 .5ex}\n",
       "</style>\n",
       "<ol class=list-inline><li>'Alter'</li><li>'Kinder'</li><li>'Ausbildungsabschluss'</li><li>'Ausbildungsjahre'</li><li>'Finanzstatus'</li><li>'Einkommen_verloren_wg_COVID'</li><li>'Wohnsitz'</li><li>'Zugang_Aussenbereich'</li><li>'Beziehungsstatus'</li><li>'Komplikationen'</li><li>'SSW'</li><li>'Planung_SS'</li><li>'Dauer_bis_SS'</li><li>'Reproduktionsmed'</li><li>'Anzahl_SS'</li><li>'Anzahl_Geb'</li><li>'MehrlingsSS'</li><li>'RisikoSS'</li><li>'chron_Krank'</li><li>'Einfluss_COV_Geburtsmet'</li><li>'Gebkurs'</li><li>'Verdacht_COVID'</li><li>'EPDS_tot'</li><li>'GAD7_tot'</li><li>'lfdn'</li><li>'Beschäftigungsgrad'</li><li>'Beziehungszufr'</li><li>'Diagnose'</li></ol>\n"
      ],
      "text/latex": [
       "\\begin{enumerate*}\n",
       "\\item 'Alter'\n",
       "\\item 'Kinder'\n",
       "\\item 'Ausbildungsabschluss'\n",
       "\\item 'Ausbildungsjahre'\n",
       "\\item 'Finanzstatus'\n",
       "\\item 'Einkommen\\_verloren\\_wg\\_COVID'\n",
       "\\item 'Wohnsitz'\n",
       "\\item 'Zugang\\_Aussenbereich'\n",
       "\\item 'Beziehungsstatus'\n",
       "\\item 'Komplikationen'\n",
       "\\item 'SSW'\n",
       "\\item 'Planung\\_SS'\n",
       "\\item 'Dauer\\_bis\\_SS'\n",
       "\\item 'Reproduktionsmed'\n",
       "\\item 'Anzahl\\_SS'\n",
       "\\item 'Anzahl\\_Geb'\n",
       "\\item 'MehrlingsSS'\n",
       "\\item 'RisikoSS'\n",
       "\\item 'chron\\_Krank'\n",
       "\\item 'Einfluss\\_COV\\_Geburtsmet'\n",
       "\\item 'Gebkurs'\n",
       "\\item 'Verdacht\\_COVID'\n",
       "\\item 'EPDS\\_tot'\n",
       "\\item 'GAD7\\_tot'\n",
       "\\item 'lfdn'\n",
       "\\item 'Beschäftigungsgrad'\n",
       "\\item 'Beziehungszufr'\n",
       "\\item 'Diagnose'\n",
       "\\end{enumerate*}\n"
      ],
      "text/markdown": [
       "1. 'Alter'\n",
       "2. 'Kinder'\n",
       "3. 'Ausbildungsabschluss'\n",
       "4. 'Ausbildungsjahre'\n",
       "5. 'Finanzstatus'\n",
       "6. 'Einkommen_verloren_wg_COVID'\n",
       "7. 'Wohnsitz'\n",
       "8. 'Zugang_Aussenbereich'\n",
       "9. 'Beziehungsstatus'\n",
       "10. 'Komplikationen'\n",
       "11. 'SSW'\n",
       "12. 'Planung_SS'\n",
       "13. 'Dauer_bis_SS'\n",
       "14. 'Reproduktionsmed'\n",
       "15. 'Anzahl_SS'\n",
       "16. 'Anzahl_Geb'\n",
       "17. 'MehrlingsSS'\n",
       "18. 'RisikoSS'\n",
       "19. 'chron_Krank'\n",
       "20. 'Einfluss_COV_Geburtsmet'\n",
       "21. 'Gebkurs'\n",
       "22. 'Verdacht_COVID'\n",
       "23. 'EPDS_tot'\n",
       "24. 'GAD7_tot'\n",
       "25. 'lfdn'\n",
       "26. 'Beschäftigungsgrad'\n",
       "27. 'Beziehungszufr'\n",
       "28. 'Diagnose'\n",
       "\n",
       "\n"
      ],
      "text/plain": [
       " [1] \"Alter\"                       \"Kinder\"                     \n",
       " [3] \"Ausbildungsabschluss\"        \"Ausbildungsjahre\"           \n",
       " [5] \"Finanzstatus\"                \"Einkommen_verloren_wg_COVID\"\n",
       " [7] \"Wohnsitz\"                    \"Zugang_Aussenbereich\"       \n",
       " [9] \"Beziehungsstatus\"            \"Komplikationen\"             \n",
       "[11] \"SSW\"                         \"Planung_SS\"                 \n",
       "[13] \"Dauer_bis_SS\"                \"Reproduktionsmed\"           \n",
       "[15] \"Anzahl_SS\"                   \"Anzahl_Geb\"                 \n",
       "[17] \"MehrlingsSS\"                 \"RisikoSS\"                   \n",
       "[19] \"chron_Krank\"                 \"Einfluss_COV_Geburtsmet\"    \n",
       "[21] \"Gebkurs\"                     \"Verdacht_COVID\"             \n",
       "[23] \"EPDS_tot\"                    \"GAD7_tot\"                   \n",
       "[25] \"lfdn\"                        \"Beschäftigungsgrad\"         \n",
       "[27] \"Beziehungszufr\"              \"Diagnose\"                   "
      ]
     },
     "metadata": {},
     "output_type": "display_data"
    }
   ],
   "source": [
    "#rename variables\n",
    "data$lfdn <- data$ï..lfdn\n",
    "data$Beschäftigungsgrad <- data$BeschÃ.ftigungsgrad_akt\n",
    "data$Beziehungszufr <- data$Beziehungszufr_wÃ.hrend\n",
    "data$Diagnose <- data$Diagnose_wÃ.hrend_SS\n",
    "\n",
    "\n",
    "#delete \"old\" variables\n",
    "data$ï..lfdn <- NULL\n",
    "data$BeschÃ.ftigungsgrad_akt <- NULL\n",
    "data$Beziehungszufr_wÃ.hrend <- NULL\n",
    "data$Diagnose_wÃ.hrend_SS <- NULL\n",
    "\n",
    "head(data)\n",
    "names(data)"
   ]
  },
  {
   "cell_type": "markdown",
   "id": "skilled-railway",
   "metadata": {},
   "source": [
    "\n",
    "\n",
    "All the variables are numeric, which isn't correct because some are categorial variables. So I have to change that:"
   ]
  },
  {
   "cell_type": "code",
   "execution_count": 84,
   "id": "blessed-manor",
   "metadata": {},
   "outputs": [
    {
     "data": {
      "text/html": [
       "<table class=\"dataframe\">\n",
       "<caption>A data.frame: 6 × 28</caption>\n",
       "<thead>\n",
       "\t<tr><th></th><th scope=col>Alter</th><th scope=col>Kinder</th><th scope=col>Ausbildungsabschluss</th><th scope=col>Ausbildungsjahre</th><th scope=col>Finanzstatus</th><th scope=col>Einkommen_verloren_wg_COVID</th><th scope=col>Wohnsitz</th><th scope=col>Zugang_Aussenbereich</th><th scope=col>Beziehungsstatus</th><th scope=col>Komplikationen</th><th scope=col>...</th><th scope=col>chron_Krank</th><th scope=col>Einfluss_COV_Geburtsmet</th><th scope=col>Gebkurs</th><th scope=col>Verdacht_COVID</th><th scope=col>EPDS_tot</th><th scope=col>GAD7_tot</th><th scope=col>lfdn</th><th scope=col>Beschäftigungsgrad</th><th scope=col>Beziehungszufr</th><th scope=col>Diagnose</th></tr>\n",
       "\t<tr><th></th><th scope=col>&lt;int&gt;</th><th scope=col>&lt;int&gt;</th><th scope=col>&lt;fct&gt;</th><th scope=col>&lt;int&gt;</th><th scope=col>&lt;fct&gt;</th><th scope=col>&lt;fct&gt;</th><th scope=col>&lt;fct&gt;</th><th scope=col>&lt;fct&gt;</th><th scope=col>&lt;fct&gt;</th><th scope=col>&lt;fct&gt;</th><th scope=col>...</th><th scope=col>&lt;fct&gt;</th><th scope=col>&lt;fct&gt;</th><th scope=col>&lt;fct&gt;</th><th scope=col>&lt;fct&gt;</th><th scope=col>&lt;int&gt;</th><th scope=col>&lt;int&gt;</th><th scope=col>&lt;int&gt;</th><th scope=col>&lt;fct&gt;</th><th scope=col>&lt;fct&gt;</th><th scope=col>&lt;fct&gt;</th></tr>\n",
       "</thead>\n",
       "<tbody>\n",
       "\t<tr><th scope=row>1</th><td>28</td><td>0</td><td>7</td><td>15</td><td>2</td><td>0</td><td>2</td><td>1</td><td>2</td><td>0</td><td>...</td><td>1</td><td>0</td><td>0</td><td>0</td><td> 6</td><td>4</td><td> 13</td><td>1</td><td>9</td><td>0</td></tr>\n",
       "\t<tr><th scope=row>2</th><td>32</td><td>1</td><td>7</td><td>14</td><td>2</td><td>0</td><td>1</td><td>1</td><td>1</td><td>1</td><td>...</td><td>0</td><td>0</td><td>0</td><td>0</td><td> 5</td><td>4</td><td> 25</td><td>2</td><td>8</td><td>0</td></tr>\n",
       "\t<tr><th scope=row>3</th><td>32</td><td>0</td><td>7</td><td>13</td><td>3</td><td>0</td><td>1</td><td>1</td><td>1</td><td>0</td><td>...</td><td>0</td><td>0</td><td>0</td><td>0</td><td> 9</td><td>2</td><td> 94</td><td>1</td><td>9</td><td>0</td></tr>\n",
       "\t<tr><th scope=row>4</th><td>28</td><td>0</td><td>5</td><td> 6</td><td>2</td><td>0</td><td>2</td><td>1</td><td>1</td><td>0</td><td>...</td><td>0</td><td>1</td><td>1</td><td>2</td><td> 0</td><td>4</td><td>100</td><td>1</td><td>9</td><td>0</td></tr>\n",
       "\t<tr><th scope=row>5</th><td>37</td><td>0</td><td>6</td><td>16</td><td>2</td><td>0</td><td>2</td><td>1</td><td>1</td><td>0</td><td>...</td><td>0</td><td>2</td><td>0</td><td>0</td><td>13</td><td>9</td><td>114</td><td>4</td><td>8</td><td>0</td></tr>\n",
       "\t<tr><th scope=row>6</th><td>31</td><td>0</td><td>4</td><td> 4</td><td>2</td><td>0</td><td>1</td><td>1</td><td>1</td><td>0</td><td>...</td><td>0</td><td>0</td><td>1</td><td>2</td><td> 4</td><td>5</td><td>120</td><td>1</td><td>8</td><td>0</td></tr>\n",
       "</tbody>\n",
       "</table>\n"
      ],
      "text/latex": [
       "A data.frame: 6 × 28\n",
       "\\begin{tabular}{r|lllllllllllllllllllll}\n",
       "  & Alter & Kinder & Ausbildungsabschluss & Ausbildungsjahre & Finanzstatus & Einkommen\\_verloren\\_wg\\_COVID & Wohnsitz & Zugang\\_Aussenbereich & Beziehungsstatus & Komplikationen & ... & chron\\_Krank & Einfluss\\_COV\\_Geburtsmet & Gebkurs & Verdacht\\_COVID & EPDS\\_tot & GAD7\\_tot & lfdn & Beschäftigungsgrad & Beziehungszufr & Diagnose\\\\\n",
       "  & <int> & <int> & <fct> & <int> & <fct> & <fct> & <fct> & <fct> & <fct> & <fct> & ... & <fct> & <fct> & <fct> & <fct> & <int> & <int> & <int> & <fct> & <fct> & <fct>\\\\\n",
       "\\hline\n",
       "\t1 & 28 & 0 & 7 & 15 & 2 & 0 & 2 & 1 & 2 & 0 & ... & 1 & 0 & 0 & 0 &  6 & 4 &  13 & 1 & 9 & 0\\\\\n",
       "\t2 & 32 & 1 & 7 & 14 & 2 & 0 & 1 & 1 & 1 & 1 & ... & 0 & 0 & 0 & 0 &  5 & 4 &  25 & 2 & 8 & 0\\\\\n",
       "\t3 & 32 & 0 & 7 & 13 & 3 & 0 & 1 & 1 & 1 & 0 & ... & 0 & 0 & 0 & 0 &  9 & 2 &  94 & 1 & 9 & 0\\\\\n",
       "\t4 & 28 & 0 & 5 &  6 & 2 & 0 & 2 & 1 & 1 & 0 & ... & 0 & 1 & 1 & 2 &  0 & 4 & 100 & 1 & 9 & 0\\\\\n",
       "\t5 & 37 & 0 & 6 & 16 & 2 & 0 & 2 & 1 & 1 & 0 & ... & 0 & 2 & 0 & 0 & 13 & 9 & 114 & 4 & 8 & 0\\\\\n",
       "\t6 & 31 & 0 & 4 &  4 & 2 & 0 & 1 & 1 & 1 & 0 & ... & 0 & 0 & 1 & 2 &  4 & 5 & 120 & 1 & 8 & 0\\\\\n",
       "\\end{tabular}\n"
      ],
      "text/markdown": [
       "\n",
       "A data.frame: 6 × 28\n",
       "\n",
       "| <!--/--> | Alter &lt;int&gt; | Kinder &lt;int&gt; | Ausbildungsabschluss &lt;fct&gt; | Ausbildungsjahre &lt;int&gt; | Finanzstatus &lt;fct&gt; | Einkommen_verloren_wg_COVID &lt;fct&gt; | Wohnsitz &lt;fct&gt; | Zugang_Aussenbereich &lt;fct&gt; | Beziehungsstatus &lt;fct&gt; | Komplikationen &lt;fct&gt; | ... ... | chron_Krank &lt;fct&gt; | Einfluss_COV_Geburtsmet &lt;fct&gt; | Gebkurs &lt;fct&gt; | Verdacht_COVID &lt;fct&gt; | EPDS_tot &lt;int&gt; | GAD7_tot &lt;int&gt; | lfdn &lt;int&gt; | Beschäftigungsgrad &lt;fct&gt; | Beziehungszufr &lt;fct&gt; | Diagnose &lt;fct&gt; |\n",
       "|---|---|---|---|---|---|---|---|---|---|---|---|---|---|---|---|---|---|---|---|---|---|\n",
       "| 1 | 28 | 0 | 7 | 15 | 2 | 0 | 2 | 1 | 2 | 0 | ... | 1 | 0 | 0 | 0 |  6 | 4 |  13 | 1 | 9 | 0 |\n",
       "| 2 | 32 | 1 | 7 | 14 | 2 | 0 | 1 | 1 | 1 | 1 | ... | 0 | 0 | 0 | 0 |  5 | 4 |  25 | 2 | 8 | 0 |\n",
       "| 3 | 32 | 0 | 7 | 13 | 3 | 0 | 1 | 1 | 1 | 0 | ... | 0 | 0 | 0 | 0 |  9 | 2 |  94 | 1 | 9 | 0 |\n",
       "| 4 | 28 | 0 | 5 |  6 | 2 | 0 | 2 | 1 | 1 | 0 | ... | 0 | 1 | 1 | 2 |  0 | 4 | 100 | 1 | 9 | 0 |\n",
       "| 5 | 37 | 0 | 6 | 16 | 2 | 0 | 2 | 1 | 1 | 0 | ... | 0 | 2 | 0 | 0 | 13 | 9 | 114 | 4 | 8 | 0 |\n",
       "| 6 | 31 | 0 | 4 |  4 | 2 | 0 | 1 | 1 | 1 | 0 | ... | 0 | 0 | 1 | 2 |  4 | 5 | 120 | 1 | 8 | 0 |\n",
       "\n"
      ],
      "text/plain": [
       "  Alter Kinder Ausbildungsabschluss Ausbildungsjahre Finanzstatus\n",
       "1 28    0      7                    15               2           \n",
       "2 32    1      7                    14               2           \n",
       "3 32    0      7                    13               3           \n",
       "4 28    0      5                     6               2           \n",
       "5 37    0      6                    16               2           \n",
       "6 31    0      4                     4               2           \n",
       "  Einkommen_verloren_wg_COVID Wohnsitz Zugang_Aussenbereich Beziehungsstatus\n",
       "1 0                           2        1                    2               \n",
       "2 0                           1        1                    1               \n",
       "3 0                           1        1                    1               \n",
       "4 0                           2        1                    1               \n",
       "5 0                           2        1                    1               \n",
       "6 0                           1        1                    1               \n",
       "  Komplikationen ... chron_Krank Einfluss_COV_Geburtsmet Gebkurs Verdacht_COVID\n",
       "1 0              ... 1           0                       0       0             \n",
       "2 1              ... 0           0                       0       0             \n",
       "3 0              ... 0           0                       0       0             \n",
       "4 0              ... 0           1                       1       2             \n",
       "5 0              ... 0           2                       0       0             \n",
       "6 0              ... 0           0                       1       2             \n",
       "  EPDS_tot GAD7_tot lfdn Beschäftigungsgrad Beziehungszufr Diagnose\n",
       "1  6       4         13  1                  9              0       \n",
       "2  5       4         25  2                  8              0       \n",
       "3  9       2         94  1                  9              0       \n",
       "4  0       4        100  1                  9              0       \n",
       "5 13       9        114  4                  8              0       \n",
       "6  4       5        120  1                  8              0       "
      ]
     },
     "metadata": {},
     "output_type": "display_data"
    },
    {
     "data": {
      "text/plain": [
       "     Alter          Kinder       Ausbildungsabschluss Ausbildungsjahre\n",
       " Min.   :21.0   Min.   :0.0000   7      :89           Min.   : 2.00   \n",
       " 1st Qu.:29.0   1st Qu.:0.0000   8      :60           1st Qu.: 6.00   \n",
       " Median :31.0   Median :0.0000   4      :56           Median :13.00   \n",
       " Mean   :31.6   Mean   :0.5194   5      :37           Mean   :11.84   \n",
       " 3rd Qu.:34.0   3rd Qu.:1.0000   6      :13           3rd Qu.:17.00   \n",
       " Max.   :46.0   Max.   :3.0000   1      : 1           Max.   :23.00   \n",
       "                                 (Other): 2                           \n",
       " Finanzstatus Einkommen_verloren_wg_COVID Wohnsitz Zugang_Aussenbereich\n",
       " 1: 34        0:229                       1: 62    1:237               \n",
       " 2:197        1: 29                       2:192    2: 18               \n",
       " 3: 27                                    3:  4    3:  3               \n",
       "                                                                       \n",
       "                                                                       \n",
       "                                                                       \n",
       "                                                                       \n",
       " Beziehungsstatus Komplikationen      SSW        Planung_SS Dauer_bis_SS\n",
       " 1:222            0:203          Min.   : 6.00   0: 47      1:189       \n",
       " 2: 35            1: 55          1st Qu.:19.00   1:211      2: 36       \n",
       " 3:  1                           Median :26.00              3: 13       \n",
       "                                 Mean   :26.16              4: 20       \n",
       "                                 3rd Qu.:35.00                          \n",
       "                                 Max.   :41.00                          \n",
       "                                                                        \n",
       " Reproduktionsmed   Anzahl_SS         Anzahl_Geb     MehrlingsSS RisikoSS\n",
       " 0:243            Min.   : 0.0000   Min.   :0.0000   0:243       0:196   \n",
       " 1: 15            1st Qu.: 0.0000   1st Qu.:0.0000   1:  4       1: 51   \n",
       "                  Median : 1.0000   Median :0.0000   2: 11       2: 11   \n",
       "                  Mean   : 0.9806   Mean   :0.5349                       \n",
       "                  3rd Qu.: 1.0000   3rd Qu.:1.0000                       \n",
       "                  Max.   :14.0000   Max.   :3.0000                       \n",
       "                                                                         \n",
       " chron_Krank Einfluss_COV_Geburtsmet Gebkurs Verdacht_COVID    EPDS_tot     \n",
       " 0:229       0:222                   0:189   0:185          Min.   : 0.000  \n",
       " 1: 29       1: 13                   1: 39   1: 19          1st Qu.: 4.000  \n",
       "             2: 23                   2: 30   2: 54          Median : 6.000  \n",
       "                                                            Mean   : 7.705  \n",
       "                                                            3rd Qu.:11.000  \n",
       "                                                            Max.   :28.000  \n",
       "                                                                            \n",
       "    GAD7_tot           lfdn      Beschäftigungsgrad Beziehungszufr Diagnose\n",
       " Min.   : 0.000   Min.   :  13   1: 85              9      :123    0:256   \n",
       " 1st Qu.: 3.000   1st Qu.: 625   2:110              8      : 59    1:  2   \n",
       " Median : 5.000   Median :1262   3: 17              7      : 39            \n",
       " Mean   : 5.973   Mean   :1334   4:  6              5      : 17            \n",
       " 3rd Qu.: 8.000   3rd Qu.:2010   5:  4              6      : 13            \n",
       " Max.   :21.000   Max.   :2744   6:  5              3      :  3            \n",
       "                                 7: 31              (Other):  4            "
      ]
     },
     "metadata": {},
     "output_type": "display_data"
    }
   ],
   "source": [
    "data$Ausbildungsabschluss <- as.factor(data$Ausbildungsabschluss)\n",
    "data$Beschäftigungsgrad <- as.factor(data$Beschäftigungsgrad)\n",
    "data$Finanzstatus <- as.factor(data$Finanzstatus)\n",
    "data$Einkommen_verloren_wg_COVID <- as.factor(data$Einkommen_verloren_wg_COVID)\n",
    "data$Wohnsitz <- as.factor(data$Wohnsitz)\n",
    "data$Zugang_Aussenbereich <- as.factor(data$Zugang_Aussenbereich)\n",
    "data$Beziehungsstatus <- as.factor(data$Beziehungsstatus)\n",
    "data$Beziehungszufr <- as.factor(data$Beziehungszufr)\n",
    "data$chron_Krank <- as.factor(data$chron_Krank)\n",
    "data$Komplikationen <- as.factor(data$Komplikationen)\n",
    "data$Planung_SS <- as.factor(data$Planung_SS)\n",
    "data$Dauer_bis_SS <- as.factor(data$Dauer_bis_SS)\n",
    "data$Reproduktionsmed <- as.factor(data$Reproduktionsmed)\n",
    "data$MehrlingsSS <- as.factor(data$MehrlingsSS)\n",
    "data$RisikoSS <- as.factor(data$RisikoSS)\n",
    "data$Einfluss_COV_Geburtsmet <- as.factor(data$Einfluss_COV_Geburtsmet)\n",
    "data$Gebkurs <- as.factor(data$Gebkurs)\n",
    "data$Diagnose <- as.factor(data$Diagnose)\n",
    "data$Verdacht_COVID <- as.factor(data$Verdacht_COVID)\n",
    "\n",
    "head(data)\n",
    "summary(data)"
   ]
  },
  {
   "cell_type": "markdown",
   "id": "anticipated-effects",
   "metadata": {},
   "source": [
    "Now the dataset is clean."
   ]
  },
  {
   "cell_type": "markdown",
   "id": "aboriginal-horizon",
   "metadata": {},
   "source": [
    "## Statistical Analysis"
   ]
  },
  {
   "cell_type": "markdown",
   "id": "adapted-quest",
   "metadata": {},
   "source": [
    "### 1. Descriptive statistics & Data vizualisation"
   ]
  },
  {
   "cell_type": "code",
   "execution_count": 85,
   "id": "incorporated-prison",
   "metadata": {
    "scrolled": true
   },
   "outputs": [
    {
     "data": {
      "text/html": [
       "<table class=\"dataframe\">\n",
       "<caption>A data.frame: 6 × 28</caption>\n",
       "<thead>\n",
       "\t<tr><th></th><th scope=col>Alter</th><th scope=col>Kinder</th><th scope=col>Ausbildungsabschluss</th><th scope=col>Ausbildungsjahre</th><th scope=col>Finanzstatus</th><th scope=col>Einkommen_verloren_wg_COVID</th><th scope=col>Wohnsitz</th><th scope=col>Zugang_Aussenbereich</th><th scope=col>Beziehungsstatus</th><th scope=col>Komplikationen</th><th scope=col>...</th><th scope=col>chron_Krank</th><th scope=col>Einfluss_COV_Geburtsmet</th><th scope=col>Gebkurs</th><th scope=col>Verdacht_COVID</th><th scope=col>EPDS_tot</th><th scope=col>GAD7_tot</th><th scope=col>lfdn</th><th scope=col>Beschäftigungsgrad</th><th scope=col>Beziehungszufr</th><th scope=col>Diagnose</th></tr>\n",
       "\t<tr><th></th><th scope=col>&lt;int&gt;</th><th scope=col>&lt;int&gt;</th><th scope=col>&lt;fct&gt;</th><th scope=col>&lt;int&gt;</th><th scope=col>&lt;fct&gt;</th><th scope=col>&lt;fct&gt;</th><th scope=col>&lt;fct&gt;</th><th scope=col>&lt;fct&gt;</th><th scope=col>&lt;fct&gt;</th><th scope=col>&lt;fct&gt;</th><th scope=col>...</th><th scope=col>&lt;fct&gt;</th><th scope=col>&lt;fct&gt;</th><th scope=col>&lt;fct&gt;</th><th scope=col>&lt;fct&gt;</th><th scope=col>&lt;int&gt;</th><th scope=col>&lt;int&gt;</th><th scope=col>&lt;int&gt;</th><th scope=col>&lt;fct&gt;</th><th scope=col>&lt;fct&gt;</th><th scope=col>&lt;fct&gt;</th></tr>\n",
       "</thead>\n",
       "<tbody>\n",
       "\t<tr><th scope=row>1</th><td>28</td><td>0</td><td>7</td><td>15</td><td>2</td><td>0</td><td>2</td><td>1</td><td>2</td><td>0</td><td>...</td><td>1</td><td>0</td><td>0</td><td>0</td><td> 6</td><td>4</td><td> 13</td><td>1</td><td>9</td><td>0</td></tr>\n",
       "\t<tr><th scope=row>2</th><td>32</td><td>1</td><td>7</td><td>14</td><td>2</td><td>0</td><td>1</td><td>1</td><td>1</td><td>1</td><td>...</td><td>0</td><td>0</td><td>0</td><td>0</td><td> 5</td><td>4</td><td> 25</td><td>2</td><td>8</td><td>0</td></tr>\n",
       "\t<tr><th scope=row>3</th><td>32</td><td>0</td><td>7</td><td>13</td><td>3</td><td>0</td><td>1</td><td>1</td><td>1</td><td>0</td><td>...</td><td>0</td><td>0</td><td>0</td><td>0</td><td> 9</td><td>2</td><td> 94</td><td>1</td><td>9</td><td>0</td></tr>\n",
       "\t<tr><th scope=row>4</th><td>28</td><td>0</td><td>5</td><td> 6</td><td>2</td><td>0</td><td>2</td><td>1</td><td>1</td><td>0</td><td>...</td><td>0</td><td>1</td><td>1</td><td>2</td><td> 0</td><td>4</td><td>100</td><td>1</td><td>9</td><td>0</td></tr>\n",
       "\t<tr><th scope=row>5</th><td>37</td><td>0</td><td>6</td><td>16</td><td>2</td><td>0</td><td>2</td><td>1</td><td>1</td><td>0</td><td>...</td><td>0</td><td>2</td><td>0</td><td>0</td><td>13</td><td>9</td><td>114</td><td>4</td><td>8</td><td>0</td></tr>\n",
       "\t<tr><th scope=row>6</th><td>31</td><td>0</td><td>4</td><td> 4</td><td>2</td><td>0</td><td>1</td><td>1</td><td>1</td><td>0</td><td>...</td><td>0</td><td>0</td><td>1</td><td>2</td><td> 4</td><td>5</td><td>120</td><td>1</td><td>8</td><td>0</td></tr>\n",
       "</tbody>\n",
       "</table>\n"
      ],
      "text/latex": [
       "A data.frame: 6 × 28\n",
       "\\begin{tabular}{r|lllllllllllllllllllll}\n",
       "  & Alter & Kinder & Ausbildungsabschluss & Ausbildungsjahre & Finanzstatus & Einkommen\\_verloren\\_wg\\_COVID & Wohnsitz & Zugang\\_Aussenbereich & Beziehungsstatus & Komplikationen & ... & chron\\_Krank & Einfluss\\_COV\\_Geburtsmet & Gebkurs & Verdacht\\_COVID & EPDS\\_tot & GAD7\\_tot & lfdn & Beschäftigungsgrad & Beziehungszufr & Diagnose\\\\\n",
       "  & <int> & <int> & <fct> & <int> & <fct> & <fct> & <fct> & <fct> & <fct> & <fct> & ... & <fct> & <fct> & <fct> & <fct> & <int> & <int> & <int> & <fct> & <fct> & <fct>\\\\\n",
       "\\hline\n",
       "\t1 & 28 & 0 & 7 & 15 & 2 & 0 & 2 & 1 & 2 & 0 & ... & 1 & 0 & 0 & 0 &  6 & 4 &  13 & 1 & 9 & 0\\\\\n",
       "\t2 & 32 & 1 & 7 & 14 & 2 & 0 & 1 & 1 & 1 & 1 & ... & 0 & 0 & 0 & 0 &  5 & 4 &  25 & 2 & 8 & 0\\\\\n",
       "\t3 & 32 & 0 & 7 & 13 & 3 & 0 & 1 & 1 & 1 & 0 & ... & 0 & 0 & 0 & 0 &  9 & 2 &  94 & 1 & 9 & 0\\\\\n",
       "\t4 & 28 & 0 & 5 &  6 & 2 & 0 & 2 & 1 & 1 & 0 & ... & 0 & 1 & 1 & 2 &  0 & 4 & 100 & 1 & 9 & 0\\\\\n",
       "\t5 & 37 & 0 & 6 & 16 & 2 & 0 & 2 & 1 & 1 & 0 & ... & 0 & 2 & 0 & 0 & 13 & 9 & 114 & 4 & 8 & 0\\\\\n",
       "\t6 & 31 & 0 & 4 &  4 & 2 & 0 & 1 & 1 & 1 & 0 & ... & 0 & 0 & 1 & 2 &  4 & 5 & 120 & 1 & 8 & 0\\\\\n",
       "\\end{tabular}\n"
      ],
      "text/markdown": [
       "\n",
       "A data.frame: 6 × 28\n",
       "\n",
       "| <!--/--> | Alter &lt;int&gt; | Kinder &lt;int&gt; | Ausbildungsabschluss &lt;fct&gt; | Ausbildungsjahre &lt;int&gt; | Finanzstatus &lt;fct&gt; | Einkommen_verloren_wg_COVID &lt;fct&gt; | Wohnsitz &lt;fct&gt; | Zugang_Aussenbereich &lt;fct&gt; | Beziehungsstatus &lt;fct&gt; | Komplikationen &lt;fct&gt; | ... ... | chron_Krank &lt;fct&gt; | Einfluss_COV_Geburtsmet &lt;fct&gt; | Gebkurs &lt;fct&gt; | Verdacht_COVID &lt;fct&gt; | EPDS_tot &lt;int&gt; | GAD7_tot &lt;int&gt; | lfdn &lt;int&gt; | Beschäftigungsgrad &lt;fct&gt; | Beziehungszufr &lt;fct&gt; | Diagnose &lt;fct&gt; |\n",
       "|---|---|---|---|---|---|---|---|---|---|---|---|---|---|---|---|---|---|---|---|---|---|\n",
       "| 1 | 28 | 0 | 7 | 15 | 2 | 0 | 2 | 1 | 2 | 0 | ... | 1 | 0 | 0 | 0 |  6 | 4 |  13 | 1 | 9 | 0 |\n",
       "| 2 | 32 | 1 | 7 | 14 | 2 | 0 | 1 | 1 | 1 | 1 | ... | 0 | 0 | 0 | 0 |  5 | 4 |  25 | 2 | 8 | 0 |\n",
       "| 3 | 32 | 0 | 7 | 13 | 3 | 0 | 1 | 1 | 1 | 0 | ... | 0 | 0 | 0 | 0 |  9 | 2 |  94 | 1 | 9 | 0 |\n",
       "| 4 | 28 | 0 | 5 |  6 | 2 | 0 | 2 | 1 | 1 | 0 | ... | 0 | 1 | 1 | 2 |  0 | 4 | 100 | 1 | 9 | 0 |\n",
       "| 5 | 37 | 0 | 6 | 16 | 2 | 0 | 2 | 1 | 1 | 0 | ... | 0 | 2 | 0 | 0 | 13 | 9 | 114 | 4 | 8 | 0 |\n",
       "| 6 | 31 | 0 | 4 |  4 | 2 | 0 | 1 | 1 | 1 | 0 | ... | 0 | 0 | 1 | 2 |  4 | 5 | 120 | 1 | 8 | 0 |\n",
       "\n"
      ],
      "text/plain": [
       "  Alter Kinder Ausbildungsabschluss Ausbildungsjahre Finanzstatus\n",
       "1 28    0      7                    15               2           \n",
       "2 32    1      7                    14               2           \n",
       "3 32    0      7                    13               3           \n",
       "4 28    0      5                     6               2           \n",
       "5 37    0      6                    16               2           \n",
       "6 31    0      4                     4               2           \n",
       "  Einkommen_verloren_wg_COVID Wohnsitz Zugang_Aussenbereich Beziehungsstatus\n",
       "1 0                           2        1                    2               \n",
       "2 0                           1        1                    1               \n",
       "3 0                           1        1                    1               \n",
       "4 0                           2        1                    1               \n",
       "5 0                           2        1                    1               \n",
       "6 0                           1        1                    1               \n",
       "  Komplikationen ... chron_Krank Einfluss_COV_Geburtsmet Gebkurs Verdacht_COVID\n",
       "1 0              ... 1           0                       0       0             \n",
       "2 1              ... 0           0                       0       0             \n",
       "3 0              ... 0           0                       0       0             \n",
       "4 0              ... 0           1                       1       2             \n",
       "5 0              ... 0           2                       0       0             \n",
       "6 0              ... 0           0                       1       2             \n",
       "  EPDS_tot GAD7_tot lfdn Beschäftigungsgrad Beziehungszufr Diagnose\n",
       "1  6       4         13  1                  9              0       \n",
       "2  5       4         25  2                  8              0       \n",
       "3  9       2         94  1                  9              0       \n",
       "4  0       4        100  1                  9              0       \n",
       "5 13       9        114  4                  8              0       \n",
       "6  4       5        120  1                  8              0       "
      ]
     },
     "metadata": {},
     "output_type": "display_data"
    },
    {
     "data": {
      "text/plain": [
       "     Alter          Kinder       Ausbildungsabschluss Ausbildungsjahre\n",
       " Min.   :21.0   Min.   :0.0000   7      :89           Min.   : 2.00   \n",
       " 1st Qu.:29.0   1st Qu.:0.0000   8      :60           1st Qu.: 6.00   \n",
       " Median :31.0   Median :0.0000   4      :56           Median :13.00   \n",
       " Mean   :31.6   Mean   :0.5194   5      :37           Mean   :11.84   \n",
       " 3rd Qu.:34.0   3rd Qu.:1.0000   6      :13           3rd Qu.:17.00   \n",
       " Max.   :46.0   Max.   :3.0000   1      : 1           Max.   :23.00   \n",
       "                                 (Other): 2                           \n",
       " Finanzstatus Einkommen_verloren_wg_COVID Wohnsitz Zugang_Aussenbereich\n",
       " 1: 34        0:229                       1: 62    1:237               \n",
       " 2:197        1: 29                       2:192    2: 18               \n",
       " 3: 27                                    3:  4    3:  3               \n",
       "                                                                       \n",
       "                                                                       \n",
       "                                                                       \n",
       "                                                                       \n",
       " Beziehungsstatus Komplikationen      SSW        Planung_SS Dauer_bis_SS\n",
       " 1:222            0:203          Min.   : 6.00   0: 47      1:189       \n",
       " 2: 35            1: 55          1st Qu.:19.00   1:211      2: 36       \n",
       " 3:  1                           Median :26.00              3: 13       \n",
       "                                 Mean   :26.16              4: 20       \n",
       "                                 3rd Qu.:35.00                          \n",
       "                                 Max.   :41.00                          \n",
       "                                                                        \n",
       " Reproduktionsmed   Anzahl_SS         Anzahl_Geb     MehrlingsSS RisikoSS\n",
       " 0:243            Min.   : 0.0000   Min.   :0.0000   0:243       0:196   \n",
       " 1: 15            1st Qu.: 0.0000   1st Qu.:0.0000   1:  4       1: 51   \n",
       "                  Median : 1.0000   Median :0.0000   2: 11       2: 11   \n",
       "                  Mean   : 0.9806   Mean   :0.5349                       \n",
       "                  3rd Qu.: 1.0000   3rd Qu.:1.0000                       \n",
       "                  Max.   :14.0000   Max.   :3.0000                       \n",
       "                                                                         \n",
       " chron_Krank Einfluss_COV_Geburtsmet Gebkurs Verdacht_COVID    EPDS_tot     \n",
       " 0:229       0:222                   0:189   0:185          Min.   : 0.000  \n",
       " 1: 29       1: 13                   1: 39   1: 19          1st Qu.: 4.000  \n",
       "             2: 23                   2: 30   2: 54          Median : 6.000  \n",
       "                                                            Mean   : 7.705  \n",
       "                                                            3rd Qu.:11.000  \n",
       "                                                            Max.   :28.000  \n",
       "                                                                            \n",
       "    GAD7_tot           lfdn      Beschäftigungsgrad Beziehungszufr Diagnose\n",
       " Min.   : 0.000   Min.   :  13   1: 85              9      :123    0:256   \n",
       " 1st Qu.: 3.000   1st Qu.: 625   2:110              8      : 59    1:  2   \n",
       " Median : 5.000   Median :1262   3: 17              7      : 39            \n",
       " Mean   : 5.973   Mean   :1334   4:  6              5      : 17            \n",
       " 3rd Qu.: 8.000   3rd Qu.:2010   5:  4              6      : 13            \n",
       " Max.   :21.000   Max.   :2744   6:  5              3      :  3            \n",
       "                                 7: 31              (Other):  4            "
      ]
     },
     "metadata": {},
     "output_type": "display_data"
    }
   ],
   "source": [
    "head(data)\n",
    "summary(data)"
   ]
  },
  {
   "cell_type": "markdown",
   "id": "thrown-separate",
   "metadata": {},
   "source": [
    "#### 1.1 Dependent variables"
   ]
  },
  {
   "cell_type": "markdown",
   "id": "solid-bracket",
   "metadata": {},
   "source": [
    "##### EPDS"
   ]
  },
  {
   "cell_type": "code",
   "execution_count": 122,
   "id": "operating-moderator",
   "metadata": {},
   "outputs": [
    {
     "data": {
      "image/png": "[encoded data removed]",
      "text/plain": [
       "Plot with title \"Histogram of data$EPDS_tot\""
      ]
     },
     "metadata": {
      "image/png": {
       "height": 420,
       "width": 420
      }
     },
     "output_type": "display_data"
    },
    {
     "data": {
      "image/png": "[encoded data removed]",
      "text/plain": [
       "plot without title"
      ]
     },
     "metadata": {
      "image/png": {
       "height": 420,
       "width": 420
      }
     },
     "output_type": "display_data"
    }
   ],
   "source": [
    "library(clean)\n",
    "hist(data$EPDS_tot)\n",
    "boxplot(data$EPDS_tot)"
   ]
  },
  {
   "cell_type": "markdown",
   "id": "answering-planet",
   "metadata": {},
   "source": [
    "The distribution is not normal. Low EPDS-values are more frequent than high EPDS-values. The mean (7.7) and median (6) are both lower than 13. So the majority of the participants doesn't reach the critical value of 13. There are five outliers."
   ]
  },
  {
   "cell_type": "markdown",
   "id": "acquired-arthritis",
   "metadata": {},
   "source": [
    "##### GAD"
   ]
  },
  {
   "cell_type": "code",
   "execution_count": 87,
   "id": "historic-radio",
   "metadata": {},
   "outputs": [
    {
     "data": {
      "image/png": "[encoded data removed]",
      "text/plain": [
       "Plot with title \"Histogram of data$GAD7_tot\""
      ]
     },
     "metadata": {
      "image/png": {
       "height": 420,
       "width": 420
      }
     },
     "output_type": "display_data"
    },
    {
     "data": {
      "image/png": "[encoded data removed]",
      "text/plain": [
       "plot without title"
      ]
     },
     "metadata": {
      "image/png": {
       "height": 420,
       "width": 420
      }
     },
     "output_type": "display_data"
    }
   ],
   "source": [
    "hist(data$GAD7_tot)\n",
    "boxplot(data$GAD7_tot)"
   ]
  },
  {
   "cell_type": "markdown",
   "id": "dominican-luther",
   "metadata": {},
   "source": [
    "The distribution is not normal. Low GAD-values are more frequent than high GAD-values. The mean (6) and median (5) are both lower than xxx. So the majority of the participants doesn't reach the critical value of xxx. There are five outliers."
   ]
  },
  {
   "cell_type": "markdown",
   "id": "suited-carbon",
   "metadata": {},
   "source": [
    "#### 1.2 Sociodemographic variables"
   ]
  },
  {
   "cell_type": "markdown",
   "id": "bulgarian-egypt",
   "metadata": {},
   "source": [
    "##### Age "
   ]
  },
  {
   "cell_type": "code",
   "execution_count": 91,
   "id": "fossil-river",
   "metadata": {},
   "outputs": [
    {
     "data": {
      "image/png": "[encoded data removed]",
      "text/plain": [
       "Plot with title \"Histogram of data$Alter\""
      ]
     },
     "metadata": {
      "image/png": {
       "height": 420,
       "width": 420
      }
     },
     "output_type": "display_data"
    },
    {
     "data": {
      "image/png": "[encoded data removed]",
      "text/plain": [
       "plot without title"
      ]
     },
     "metadata": {
      "image/png": {
       "height": 420,
       "width": 420
      }
     },
     "output_type": "display_data"
    }
   ],
   "source": [
    "hist(data$Alter)\n",
    "boxplot(data$Alter)"
   ]
  },
  {
   "cell_type": "markdown",
   "id": "sharing-short",
   "metadata": {},
   "source": [
    "The age of the participants seems to be more or less normally distributed. The median of the age is 31 and the mean is 32. There are 4 outliers."
   ]
  },
  {
   "cell_type": "markdown",
   "id": "removable-breath",
   "metadata": {},
   "source": [
    "##### Children"
   ]
  },
  {
   "cell_type": "code",
   "execution_count": 121,
   "id": "turkish-example",
   "metadata": {},
   "outputs": [
    {
     "data": {
      "image/png": "[encoded data removed]",
      "text/plain": [
       "Plot with title \"Histogram of data$Kinder\""
      ]
     },
     "metadata": {
      "image/png": {
       "height": 420,
       "width": 420
      }
     },
     "output_type": "display_data"
    },
    {
     "data": {
      "text/html": [
       "<table class=\"dataframe\">\n",
       "<caption>A freq: 4 × 5</caption>\n",
       "<thead>\n",
       "\t<tr><th></th><th scope=col>item</th><th scope=col>count</th><th scope=col>percent</th><th scope=col>cum_count</th><th scope=col>cum_percent</th></tr>\n",
       "\t<tr><th></th><th scope=col>&lt;int&gt;</th><th scope=col>&lt;int&gt;</th><th scope=col>&lt;dbl&gt;</th><th scope=col>&lt;int&gt;</th><th scope=col>&lt;dbl&gt;</th></tr>\n",
       "</thead>\n",
       "<tbody>\n",
       "\t<tr><th scope=row>1</th><td>0</td><td>149</td><td>0.57751938</td><td>149</td><td>0.5775194</td></tr>\n",
       "\t<tr><th scope=row>2</th><td>1</td><td> 87</td><td>0.33720930</td><td>236</td><td>0.9147287</td></tr>\n",
       "\t<tr><th scope=row>3</th><td>2</td><td> 19</td><td>0.07364341</td><td>255</td><td>0.9883721</td></tr>\n",
       "\t<tr><th scope=row>4</th><td>3</td><td>  3</td><td>0.01162791</td><td>258</td><td>1.0000000</td></tr>\n",
       "</tbody>\n",
       "</table>\n"
      ],
      "text/latex": [
       "A freq: 4 × 5\n",
       "\\begin{tabular}{r|lllll}\n",
       "  & item & count & percent & cum\\_count & cum\\_percent\\\\\n",
       "  & <int> & <int> & <dbl> & <int> & <dbl>\\\\\n",
       "\\hline\n",
       "\t1 & 0 & 149 & 0.57751938 & 149 & 0.5775194\\\\\n",
       "\t2 & 1 &  87 & 0.33720930 & 236 & 0.9147287\\\\\n",
       "\t3 & 2 &  19 & 0.07364341 & 255 & 0.9883721\\\\\n",
       "\t4 & 3 &   3 & 0.01162791 & 258 & 1.0000000\\\\\n",
       "\\end{tabular}\n"
      ],
      "text/markdown": [
       "\n",
       "A freq: 4 × 5\n",
       "\n",
       "| <!--/--> | item &lt;int&gt; | count &lt;int&gt; | percent &lt;dbl&gt; | cum_count &lt;int&gt; | cum_percent &lt;dbl&gt; |\n",
       "|---|---|---|---|---|---|\n",
       "| 1 | 0 | 149 | 0.57751938 | 149 | 0.5775194 |\n",
       "| 2 | 1 |  87 | 0.33720930 | 236 | 0.9147287 |\n",
       "| 3 | 2 |  19 | 0.07364341 | 255 | 0.9883721 |\n",
       "| 4 | 3 |   3 | 0.01162791 | 258 | 1.0000000 |\n",
       "\n"
      ],
      "text/plain": [
       "  item count percent    cum_count cum_percent\n",
       "1 0    149   0.57751938 149       0.5775194  \n",
       "2 1     87   0.33720930 236       0.9147287  \n",
       "3 2     19   0.07364341 255       0.9883721  \n",
       "4 3      3   0.01162791 258       1.0000000  "
      ]
     },
     "metadata": {},
     "output_type": "display_data"
    },
    {
     "data": {
      "image/png": "[encoded data removed]",
      "text/plain": [
       "plot without title"
      ]
     },
     "metadata": {
      "image/png": {
       "height": 420,
       "width": 420
      }
     },
     "output_type": "display_data"
    }
   ],
   "source": [
    "hist(data$Kinder)\n",
    "boxplot(data$Kinder)\n",
    "freq(data$Kinder)"
   ]
  },
  {
   "cell_type": "markdown",
   "id": "controlled-newport",
   "metadata": {},
   "source": [
    "The majority of the participant doesn't have children (58%). 33.7% have 1 child."
   ]
  },
  {
   "cell_type": "markdown",
   "id": "cooked-revolution",
   "metadata": {},
   "source": [
    "##### Highest education"
   ]
  },
  {
   "cell_type": "code",
   "execution_count": 120,
   "id": "deadly-deviation",
   "metadata": {},
   "outputs": [
    {
     "data": {
      "text/html": [
       "<table class=\"dataframe\">\n",
       "<caption>A freq: 8 × 5</caption>\n",
       "<thead>\n",
       "\t<tr><th></th><th scope=col>item</th><th scope=col>count</th><th scope=col>percent</th><th scope=col>cum_count</th><th scope=col>cum_percent</th></tr>\n",
       "\t<tr><th></th><th scope=col>&lt;chr&gt;</th><th scope=col>&lt;int&gt;</th><th scope=col>&lt;dbl&gt;</th><th scope=col>&lt;int&gt;</th><th scope=col>&lt;dbl&gt;</th></tr>\n",
       "</thead>\n",
       "<tbody>\n",
       "\t<tr><th scope=row>1</th><td>\"7\"</td><td>89</td><td>0.344961240</td><td> 89</td><td>0.3449612</td></tr>\n",
       "\t<tr><th scope=row>2</th><td>\"8\"</td><td>60</td><td>0.232558140</td><td>149</td><td>0.5775194</td></tr>\n",
       "\t<tr><th scope=row>3</th><td>\"4\"</td><td>56</td><td>0.217054264</td><td>205</td><td>0.7945736</td></tr>\n",
       "\t<tr><th scope=row>4</th><td>\"5\"</td><td>37</td><td>0.143410853</td><td>242</td><td>0.9379845</td></tr>\n",
       "\t<tr><th scope=row>5</th><td>\"6\"</td><td>13</td><td>0.050387597</td><td>255</td><td>0.9883721</td></tr>\n",
       "\t<tr><th scope=row>6</th><td>\"1\"</td><td> 1</td><td>0.003875969</td><td>256</td><td>0.9922481</td></tr>\n",
       "\t<tr><th scope=row>7</th><td>\"2\"</td><td> 1</td><td>0.003875969</td><td>257</td><td>0.9961240</td></tr>\n",
       "\t<tr><th scope=row>8</th><td>\"3\"</td><td> 1</td><td>0.003875969</td><td>258</td><td>1.0000000</td></tr>\n",
       "</tbody>\n",
       "</table>\n"
      ],
      "text/latex": [
       "A freq: 8 × 5\n",
       "\\begin{tabular}{r|lllll}\n",
       "  & item & count & percent & cum\\_count & cum\\_percent\\\\\n",
       "  & <chr> & <int> & <dbl> & <int> & <dbl>\\\\\n",
       "\\hline\n",
       "\t1 & \"7\" & 89 & 0.344961240 &  89 & 0.3449612\\\\\n",
       "\t2 & \"8\" & 60 & 0.232558140 & 149 & 0.5775194\\\\\n",
       "\t3 & \"4\" & 56 & 0.217054264 & 205 & 0.7945736\\\\\n",
       "\t4 & \"5\" & 37 & 0.143410853 & 242 & 0.9379845\\\\\n",
       "\t5 & \"6\" & 13 & 0.050387597 & 255 & 0.9883721\\\\\n",
       "\t6 & \"1\" &  1 & 0.003875969 & 256 & 0.9922481\\\\\n",
       "\t7 & \"2\" &  1 & 0.003875969 & 257 & 0.9961240\\\\\n",
       "\t8 & \"3\" &  1 & 0.003875969 & 258 & 1.0000000\\\\\n",
       "\\end{tabular}\n"
      ],
      "text/markdown": [
       "\n",
       "A freq: 8 × 5\n",
       "\n",
       "| <!--/--> | item &lt;chr&gt; | count &lt;int&gt; | percent &lt;dbl&gt; | cum_count &lt;int&gt; | cum_percent &lt;dbl&gt; |\n",
       "|---|---|---|---|---|---|\n",
       "| 1 | \"7\" | 89 | 0.344961240 |  89 | 0.3449612 |\n",
       "| 2 | \"8\" | 60 | 0.232558140 | 149 | 0.5775194 |\n",
       "| 3 | \"4\" | 56 | 0.217054264 | 205 | 0.7945736 |\n",
       "| 4 | \"5\" | 37 | 0.143410853 | 242 | 0.9379845 |\n",
       "| 5 | \"6\" | 13 | 0.050387597 | 255 | 0.9883721 |\n",
       "| 6 | \"1\" |  1 | 0.003875969 | 256 | 0.9922481 |\n",
       "| 7 | \"2\" |  1 | 0.003875969 | 257 | 0.9961240 |\n",
       "| 8 | \"3\" |  1 | 0.003875969 | 258 | 1.0000000 |\n",
       "\n"
      ],
      "text/plain": [
       "  item count percent     cum_count cum_percent\n",
       "1 \"7\"  89    0.344961240  89       0.3449612  \n",
       "2 \"8\"  60    0.232558140 149       0.5775194  \n",
       "3 \"4\"  56    0.217054264 205       0.7945736  \n",
       "4 \"5\"  37    0.143410853 242       0.9379845  \n",
       "5 \"6\"  13    0.050387597 255       0.9883721  \n",
       "6 \"1\"   1    0.003875969 256       0.9922481  \n",
       "7 \"2\"   1    0.003875969 257       0.9961240  \n",
       "8 \"3\"   1    0.003875969 258       1.0000000  "
      ]
     },
     "metadata": {},
     "output_type": "display_data"
    },
    {
     "data": {
      "image/png": "[encoded data removed]",
      "text/plain": [
       "plot without title"
      ]
     },
     "metadata": {
      "image/png": {
       "height": 420,
       "width": 420
      }
     },
     "output_type": "display_data"
    }
   ],
   "source": [
    "plot(data$Ausbildungsabschluss)\n",
    "freq(data$Ausbildungsabschluss)"
   ]
  },
  {
   "cell_type": "markdown",
   "id": "following-antenna",
   "metadata": {},
   "source": [
    "The majority (57.8%) of the participants has either a Fachhochschul or university (34.5%) degree (23%), so the majority has high level of education. Only 3 participants have a secondary school graduation or lower."
   ]
  },
  {
   "cell_type": "markdown",
   "id": "delayed-puzzle",
   "metadata": {},
   "source": [
    "##### Years of education"
   ]
  },
  {
   "cell_type": "code",
   "execution_count": 119,
   "id": "auburn-protein",
   "metadata": {},
   "outputs": [
    {
     "data": {
      "image/png": "[encoded data removed]",
      "text/plain": [
       "Plot with title \"Histogram of data$Ausbildungsjahre\""
      ]
     },
     "metadata": {
      "image/png": {
       "height": 420,
       "width": 420
      }
     },
     "output_type": "display_data"
    },
    {
     "data": {
      "text/html": [
       "<table class=\"dataframe\">\n",
       "<caption>A freq: 22 × 5</caption>\n",
       "<thead>\n",
       "\t<tr><th></th><th scope=col>item</th><th scope=col>count</th><th scope=col>percent</th><th scope=col>cum_count</th><th scope=col>cum_percent</th></tr>\n",
       "\t<tr><th></th><th scope=col>&lt;int&gt;</th><th scope=col>&lt;int&gt;</th><th scope=col>&lt;dbl&gt;</th><th scope=col>&lt;int&gt;</th><th scope=col>&lt;dbl&gt;</th></tr>\n",
       "</thead>\n",
       "<tbody>\n",
       "\t<tr><th scope=row>1</th><td>15</td><td>26</td><td>0.100775194</td><td> 26</td><td>0.1007752</td></tr>\n",
       "\t<tr><th scope=row>2</th><td> 3</td><td>25</td><td>0.096899225</td><td> 51</td><td>0.1976744</td></tr>\n",
       "\t<tr><th scope=row>3</th><td>18</td><td>21</td><td>0.081395349</td><td> 72</td><td>0.2790698</td></tr>\n",
       "\t<tr><th scope=row>4</th><td> 4</td><td>19</td><td>0.073643411</td><td> 91</td><td>0.3527132</td></tr>\n",
       "\t<tr><th scope=row>5</th><td>16</td><td>19</td><td>0.073643411</td><td>110</td><td>0.4263566</td></tr>\n",
       "\t<tr><th scope=row>6</th><td> 6</td><td>18</td><td>0.069767442</td><td>128</td><td>0.4961240</td></tr>\n",
       "\t<tr><th scope=row>7</th><td>12</td><td>18</td><td>0.069767442</td><td>146</td><td>0.5658915</td></tr>\n",
       "\t<tr><th scope=row>8</th><td>13</td><td>18</td><td>0.069767442</td><td>164</td><td>0.6356589</td></tr>\n",
       "\t<tr><th scope=row>9</th><td>17</td><td>16</td><td>0.062015504</td><td>180</td><td>0.6976744</td></tr>\n",
       "\t<tr><th scope=row>10</th><td>19</td><td>15</td><td>0.058139535</td><td>195</td><td>0.7558140</td></tr>\n",
       "\t<tr><th scope=row>11</th><td>14</td><td>13</td><td>0.050387597</td><td>208</td><td>0.8062016</td></tr>\n",
       "\t<tr><th scope=row>12</th><td> 5</td><td>12</td><td>0.046511628</td><td>220</td><td>0.8527132</td></tr>\n",
       "\t<tr><th scope=row>13</th><td>20</td><td> 9</td><td>0.034883721</td><td>229</td><td>0.8875969</td></tr>\n",
       "\t<tr><th scope=row>14</th><td>10</td><td> 8</td><td>0.031007752</td><td>237</td><td>0.9186047</td></tr>\n",
       "\t<tr><th scope=row>15</th><td> 7</td><td> 5</td><td>0.019379845</td><td>242</td><td>0.9379845</td></tr>\n",
       "\t<tr><th scope=row>16</th><td> 2</td><td> 4</td><td>0.015503876</td><td>246</td><td>0.9534884</td></tr>\n",
       "\t<tr><th scope=row>17</th><td> 8</td><td> 3</td><td>0.011627907</td><td>249</td><td>0.9651163</td></tr>\n",
       "\t<tr><th scope=row>18</th><td> 9</td><td> 3</td><td>0.011627907</td><td>252</td><td>0.9767442</td></tr>\n",
       "\t<tr><th scope=row>19</th><td>21</td><td> 2</td><td>0.007751938</td><td>254</td><td>0.9844961</td></tr>\n",
       "\t<tr><th scope=row>20</th><td>22</td><td> 2</td><td>0.007751938</td><td>256</td><td>0.9922481</td></tr>\n",
       "\t<tr><th scope=row>21</th><td>11</td><td> 1</td><td>0.003875969</td><td>257</td><td>0.9961240</td></tr>\n",
       "\t<tr><th scope=row>22</th><td>23</td><td> 1</td><td>0.003875969</td><td>258</td><td>1.0000000</td></tr>\n",
       "</tbody>\n",
       "</table>\n"
      ],
      "text/latex": [
       "A freq: 22 × 5\n",
       "\\begin{tabular}{r|lllll}\n",
       "  & item & count & percent & cum\\_count & cum\\_percent\\\\\n",
       "  & <int> & <int> & <dbl> & <int> & <dbl>\\\\\n",
       "\\hline\n",
       "\t1 & 15 & 26 & 0.100775194 &  26 & 0.1007752\\\\\n",
       "\t2 &  3 & 25 & 0.096899225 &  51 & 0.1976744\\\\\n",
       "\t3 & 18 & 21 & 0.081395349 &  72 & 0.2790698\\\\\n",
       "\t4 &  4 & 19 & 0.073643411 &  91 & 0.3527132\\\\\n",
       "\t5 & 16 & 19 & 0.073643411 & 110 & 0.4263566\\\\\n",
       "\t6 &  6 & 18 & 0.069767442 & 128 & 0.4961240\\\\\n",
       "\t7 & 12 & 18 & 0.069767442 & 146 & 0.5658915\\\\\n",
       "\t8 & 13 & 18 & 0.069767442 & 164 & 0.6356589\\\\\n",
       "\t9 & 17 & 16 & 0.062015504 & 180 & 0.6976744\\\\\n",
       "\t10 & 19 & 15 & 0.058139535 & 195 & 0.7558140\\\\\n",
       "\t11 & 14 & 13 & 0.050387597 & 208 & 0.8062016\\\\\n",
       "\t12 &  5 & 12 & 0.046511628 & 220 & 0.8527132\\\\\n",
       "\t13 & 20 &  9 & 0.034883721 & 229 & 0.8875969\\\\\n",
       "\t14 & 10 &  8 & 0.031007752 & 237 & 0.9186047\\\\\n",
       "\t15 &  7 &  5 & 0.019379845 & 242 & 0.9379845\\\\\n",
       "\t16 &  2 &  4 & 0.015503876 & 246 & 0.9534884\\\\\n",
       "\t17 &  8 &  3 & 0.011627907 & 249 & 0.9651163\\\\\n",
       "\t18 &  9 &  3 & 0.011627907 & 252 & 0.9767442\\\\\n",
       "\t19 & 21 &  2 & 0.007751938 & 254 & 0.9844961\\\\\n",
       "\t20 & 22 &  2 & 0.007751938 & 256 & 0.9922481\\\\\n",
       "\t21 & 11 &  1 & 0.003875969 & 257 & 0.9961240\\\\\n",
       "\t22 & 23 &  1 & 0.003875969 & 258 & 1.0000000\\\\\n",
       "\\end{tabular}\n"
      ],
      "text/markdown": [
       "\n",
       "A freq: 22 × 5\n",
       "\n",
       "| <!--/--> | item &lt;int&gt; | count &lt;int&gt; | percent &lt;dbl&gt; | cum_count &lt;int&gt; | cum_percent &lt;dbl&gt; |\n",
       "|---|---|---|---|---|---|\n",
       "| 1 | 15 | 26 | 0.100775194 |  26 | 0.1007752 |\n",
       "| 2 |  3 | 25 | 0.096899225 |  51 | 0.1976744 |\n",
       "| 3 | 18 | 21 | 0.081395349 |  72 | 0.2790698 |\n",
       "| 4 |  4 | 19 | 0.073643411 |  91 | 0.3527132 |\n",
       "| 5 | 16 | 19 | 0.073643411 | 110 | 0.4263566 |\n",
       "| 6 |  6 | 18 | 0.069767442 | 128 | 0.4961240 |\n",
       "| 7 | 12 | 18 | 0.069767442 | 146 | 0.5658915 |\n",
       "| 8 | 13 | 18 | 0.069767442 | 164 | 0.6356589 |\n",
       "| 9 | 17 | 16 | 0.062015504 | 180 | 0.6976744 |\n",
       "| 10 | 19 | 15 | 0.058139535 | 195 | 0.7558140 |\n",
       "| 11 | 14 | 13 | 0.050387597 | 208 | 0.8062016 |\n",
       "| 12 |  5 | 12 | 0.046511628 | 220 | 0.8527132 |\n",
       "| 13 | 20 |  9 | 0.034883721 | 229 | 0.8875969 |\n",
       "| 14 | 10 |  8 | 0.031007752 | 237 | 0.9186047 |\n",
       "| 15 |  7 |  5 | 0.019379845 | 242 | 0.9379845 |\n",
       "| 16 |  2 |  4 | 0.015503876 | 246 | 0.9534884 |\n",
       "| 17 |  8 |  3 | 0.011627907 | 249 | 0.9651163 |\n",
       "| 18 |  9 |  3 | 0.011627907 | 252 | 0.9767442 |\n",
       "| 19 | 21 |  2 | 0.007751938 | 254 | 0.9844961 |\n",
       "| 20 | 22 |  2 | 0.007751938 | 256 | 0.9922481 |\n",
       "| 21 | 11 |  1 | 0.003875969 | 257 | 0.9961240 |\n",
       "| 22 | 23 |  1 | 0.003875969 | 258 | 1.0000000 |\n",
       "\n"
      ],
      "text/plain": [
       "   item count percent     cum_count cum_percent\n",
       "1  15   26    0.100775194  26       0.1007752  \n",
       "2   3   25    0.096899225  51       0.1976744  \n",
       "3  18   21    0.081395349  72       0.2790698  \n",
       "4   4   19    0.073643411  91       0.3527132  \n",
       "5  16   19    0.073643411 110       0.4263566  \n",
       "6   6   18    0.069767442 128       0.4961240  \n",
       "7  12   18    0.069767442 146       0.5658915  \n",
       "8  13   18    0.069767442 164       0.6356589  \n",
       "9  17   16    0.062015504 180       0.6976744  \n",
       "10 19   15    0.058139535 195       0.7558140  \n",
       "11 14   13    0.050387597 208       0.8062016  \n",
       "12  5   12    0.046511628 220       0.8527132  \n",
       "13 20    9    0.034883721 229       0.8875969  \n",
       "14 10    8    0.031007752 237       0.9186047  \n",
       "15  7    5    0.019379845 242       0.9379845  \n",
       "16  2    4    0.015503876 246       0.9534884  \n",
       "17  8    3    0.011627907 249       0.9651163  \n",
       "18  9    3    0.011627907 252       0.9767442  \n",
       "19 21    2    0.007751938 254       0.9844961  \n",
       "20 22    2    0.007751938 256       0.9922481  \n",
       "21 11    1    0.003875969 257       0.9961240  \n",
       "22 23    1    0.003875969 258       1.0000000  "
      ]
     },
     "metadata": {},
     "output_type": "display_data"
    },
    {
     "data": {
      "image/png": "[encoded data removed]",
      "text/plain": [
       "plot without title"
      ]
     },
     "metadata": {
      "image/png": {
       "height": 420,
       "width": 420
      }
     },
     "output_type": "display_data"
    }
   ],
   "source": [
    "hist(data$Ausbildungsjahre)\n",
    "boxplot(data$Ausbildungsjahre)\n",
    "freq(data$Ausbildungsjahre)"
   ]
  },
  {
   "cell_type": "markdown",
   "id": "quantitative-prayer",
   "metadata": {},
   "source": [
    "The mean of of the education years is 12 years. The distribution has two peaks, one at 15 years (10.1%) and one at 3 years (9.7%). There are no outliers."
   ]
  },
  {
   "cell_type": "markdown",
   "id": "expired-bubble",
   "metadata": {},
   "source": [
    "##### Current employment status"
   ]
  },
  {
   "cell_type": "code",
   "execution_count": 118,
   "id": "contained-silly",
   "metadata": {},
   "outputs": [
    {
     "data": {
      "text/html": [
       "<table class=\"dataframe\">\n",
       "<caption>A freq: 7 × 5</caption>\n",
       "<thead>\n",
       "\t<tr><th></th><th scope=col>item</th><th scope=col>count</th><th scope=col>percent</th><th scope=col>cum_count</th><th scope=col>cum_percent</th></tr>\n",
       "\t<tr><th></th><th scope=col>&lt;chr&gt;</th><th scope=col>&lt;int&gt;</th><th scope=col>&lt;dbl&gt;</th><th scope=col>&lt;int&gt;</th><th scope=col>&lt;dbl&gt;</th></tr>\n",
       "</thead>\n",
       "<tbody>\n",
       "\t<tr><th scope=row>1</th><td>\"2\"</td><td>110</td><td>0.42635659</td><td>110</td><td>0.4263566</td></tr>\n",
       "\t<tr><th scope=row>2</th><td>\"1\"</td><td> 85</td><td>0.32945736</td><td>195</td><td>0.7558140</td></tr>\n",
       "\t<tr><th scope=row>3</th><td>\"7\"</td><td> 31</td><td>0.12015504</td><td>226</td><td>0.8759690</td></tr>\n",
       "\t<tr><th scope=row>4</th><td>\"3\"</td><td> 17</td><td>0.06589147</td><td>243</td><td>0.9418605</td></tr>\n",
       "\t<tr><th scope=row>5</th><td>\"4\"</td><td>  6</td><td>0.02325581</td><td>249</td><td>0.9651163</td></tr>\n",
       "\t<tr><th scope=row>6</th><td>\"6\"</td><td>  5</td><td>0.01937984</td><td>254</td><td>0.9844961</td></tr>\n",
       "\t<tr><th scope=row>7</th><td>\"5\"</td><td>  4</td><td>0.01550388</td><td>258</td><td>1.0000000</td></tr>\n",
       "</tbody>\n",
       "</table>\n"
      ],
      "text/latex": [
       "A freq: 7 × 5\n",
       "\\begin{tabular}{r|lllll}\n",
       "  & item & count & percent & cum\\_count & cum\\_percent\\\\\n",
       "  & <chr> & <int> & <dbl> & <int> & <dbl>\\\\\n",
       "\\hline\n",
       "\t1 & \"2\" & 110 & 0.42635659 & 110 & 0.4263566\\\\\n",
       "\t2 & \"1\" &  85 & 0.32945736 & 195 & 0.7558140\\\\\n",
       "\t3 & \"7\" &  31 & 0.12015504 & 226 & 0.8759690\\\\\n",
       "\t4 & \"3\" &  17 & 0.06589147 & 243 & 0.9418605\\\\\n",
       "\t5 & \"4\" &   6 & 0.02325581 & 249 & 0.9651163\\\\\n",
       "\t6 & \"6\" &   5 & 0.01937984 & 254 & 0.9844961\\\\\n",
       "\t7 & \"5\" &   4 & 0.01550388 & 258 & 1.0000000\\\\\n",
       "\\end{tabular}\n"
      ],
      "text/markdown": [
       "\n",
       "A freq: 7 × 5\n",
       "\n",
       "| <!--/--> | item &lt;chr&gt; | count &lt;int&gt; | percent &lt;dbl&gt; | cum_count &lt;int&gt; | cum_percent &lt;dbl&gt; |\n",
       "|---|---|---|---|---|---|\n",
       "| 1 | \"2\" | 110 | 0.42635659 | 110 | 0.4263566 |\n",
       "| 2 | \"1\" |  85 | 0.32945736 | 195 | 0.7558140 |\n",
       "| 3 | \"7\" |  31 | 0.12015504 | 226 | 0.8759690 |\n",
       "| 4 | \"3\" |  17 | 0.06589147 | 243 | 0.9418605 |\n",
       "| 5 | \"4\" |   6 | 0.02325581 | 249 | 0.9651163 |\n",
       "| 6 | \"6\" |   5 | 0.01937984 | 254 | 0.9844961 |\n",
       "| 7 | \"5\" |   4 | 0.01550388 | 258 | 1.0000000 |\n",
       "\n"
      ],
      "text/plain": [
       "  item count percent    cum_count cum_percent\n",
       "1 \"2\"  110   0.42635659 110       0.4263566  \n",
       "2 \"1\"   85   0.32945736 195       0.7558140  \n",
       "3 \"7\"   31   0.12015504 226       0.8759690  \n",
       "4 \"3\"   17   0.06589147 243       0.9418605  \n",
       "5 \"4\"    6   0.02325581 249       0.9651163  \n",
       "6 \"6\"    5   0.01937984 254       0.9844961  \n",
       "7 \"5\"    4   0.01550388 258       1.0000000  "
      ]
     },
     "metadata": {},
     "output_type": "display_data"
    },
    {
     "data": {
      "image/png": "[encoded data removed]",
      "text/plain": [
       "plot without title"
      ]
     },
     "metadata": {
      "image/png": {
       "height": 420,
       "width": 420
      }
     },
     "output_type": "display_data"
    }
   ],
   "source": [
    "plot(data$Beschäftigungsgrad)\n",
    "freq(data$Beschäftigungsgrad)"
   ]
  },
  {
   "cell_type": "markdown",
   "id": "enhanced-klein",
   "metadata": {},
   "source": [
    "The majority of the participants is either working full (32.9%) or part time (42.6%). "
   ]
  },
  {
   "cell_type": "markdown",
   "id": "threatened-machinery",
   "metadata": {},
   "source": [
    "##### Financial status"
   ]
  },
  {
   "cell_type": "code",
   "execution_count": 96,
   "id": "mighty-maple",
   "metadata": {},
   "outputs": [
    {
     "data": {
      "image/png": "[encoded data removed]",
      "text/plain": [
       "plot without title"
      ]
     },
     "metadata": {
      "image/png": {
       "height": 420,
       "width": 420
      }
     },
     "output_type": "display_data"
    }
   ],
   "source": [
    "plot(data$Finanzstatus)"
   ]
  },
  {
   "cell_type": "markdown",
   "id": "incomplete-heritage",
   "metadata": {},
   "source": [
    "Most of the participants have an average income."
   ]
  },
  {
   "cell_type": "markdown",
   "id": "chief-plymouth",
   "metadata": {},
   "source": [
    "##### Lost income due to the pandemic"
   ]
  },
  {
   "cell_type": "code",
   "execution_count": 97,
   "id": "selective-mother",
   "metadata": {},
   "outputs": [
    {
     "data": {
      "image/png": "[encoded data removed]",
      "text/plain": [
       "plot without title"
      ]
     },
     "metadata": {
      "image/png": {
       "height": 420,
       "width": 420
      }
     },
     "output_type": "display_data"
    }
   ],
   "source": [
    "plot(data$Einkommen_verloren_wg_COVID)"
   ]
  },
  {
   "cell_type": "markdown",
   "id": "plastic-implement",
   "metadata": {},
   "source": [
    "Most of the participants didn't loose income due to the pandemic."
   ]
  },
  {
   "cell_type": "markdown",
   "id": "interior-scholarship",
   "metadata": {},
   "source": [
    "##### Access to outdoor space"
   ]
  },
  {
   "cell_type": "code",
   "execution_count": 98,
   "id": "injured-shareware",
   "metadata": {},
   "outputs": [
    {
     "data": {
      "image/png": "[encoded data removed]",
      "text/plain": [
       "plot without title"
      ]
     },
     "metadata": {
      "image/png": {
       "height": 420,
       "width": 420
      }
     },
     "output_type": "display_data"
    }
   ],
   "source": [
    "plot(data$Zugang_Aussenbereich)"
   ]
  },
  {
   "cell_type": "markdown",
   "id": "automated-notice",
   "metadata": {},
   "source": [
    "Most of the participants have access to outdoor space whenever they want."
   ]
  },
  {
   "cell_type": "markdown",
   "id": "functioning-output",
   "metadata": {},
   "source": [
    "##### Relationship status"
   ]
  },
  {
   "cell_type": "code",
   "execution_count": 99,
   "id": "invisible-canada",
   "metadata": {},
   "outputs": [
    {
     "data": {
      "image/png": "[encoded data removed]",
      "text/plain": [
       "plot without title"
      ]
     },
     "metadata": {
      "image/png": {
       "height": 420,
       "width": 420
      }
     },
     "output_type": "display_data"
    }
   ],
   "source": [
    "plot(data$Beziehungsstatus)"
   ]
  },
  {
   "cell_type": "markdown",
   "id": "falling-danger",
   "metadata": {},
   "source": [
    "Most of the participants are married or cohabiting with their partner. Some are in a serious relationship."
   ]
  },
  {
   "cell_type": "markdown",
   "id": "aware-flooring",
   "metadata": {},
   "source": [
    "##### Relationship satisfaction"
   ]
  },
  {
   "cell_type": "code",
   "execution_count": 117,
   "id": "japanese-effort",
   "metadata": {},
   "outputs": [
    {
     "data": {
      "text/html": [
       "<table class=\"dataframe\">\n",
       "<caption>A freq: 8 × 5</caption>\n",
       "<thead>\n",
       "\t<tr><th></th><th scope=col>item</th><th scope=col>count</th><th scope=col>percent</th><th scope=col>cum_count</th><th scope=col>cum_percent</th></tr>\n",
       "\t<tr><th></th><th scope=col>&lt;chr&gt;</th><th scope=col>&lt;int&gt;</th><th scope=col>&lt;dbl&gt;</th><th scope=col>&lt;int&gt;</th><th scope=col>&lt;dbl&gt;</th></tr>\n",
       "</thead>\n",
       "<tbody>\n",
       "\t<tr><th scope=row>1</th><td>\"9\"</td><td>123</td><td>0.476744186</td><td>123</td><td>0.4767442</td></tr>\n",
       "\t<tr><th scope=row>2</th><td>\"8\"</td><td> 59</td><td>0.228682171</td><td>182</td><td>0.7054264</td></tr>\n",
       "\t<tr><th scope=row>3</th><td>\"7\"</td><td> 39</td><td>0.151162791</td><td>221</td><td>0.8565891</td></tr>\n",
       "\t<tr><th scope=row>4</th><td>\"5\"</td><td> 17</td><td>0.065891473</td><td>238</td><td>0.9224806</td></tr>\n",
       "\t<tr><th scope=row>5</th><td>\"6\"</td><td> 13</td><td>0.050387597</td><td>251</td><td>0.9728682</td></tr>\n",
       "\t<tr><th scope=row>6</th><td>\"3\"</td><td>  3</td><td>0.011627907</td><td>254</td><td>0.9844961</td></tr>\n",
       "\t<tr><th scope=row>7</th><td>\"4\"</td><td>  3</td><td>0.011627907</td><td>257</td><td>0.9961240</td></tr>\n",
       "\t<tr><th scope=row>8</th><td>\"1\"</td><td>  1</td><td>0.003875969</td><td>258</td><td>1.0000000</td></tr>\n",
       "</tbody>\n",
       "</table>\n"
      ],
      "text/latex": [
       "A freq: 8 × 5\n",
       "\\begin{tabular}{r|lllll}\n",
       "  & item & count & percent & cum\\_count & cum\\_percent\\\\\n",
       "  & <chr> & <int> & <dbl> & <int> & <dbl>\\\\\n",
       "\\hline\n",
       "\t1 & \"9\" & 123 & 0.476744186 & 123 & 0.4767442\\\\\n",
       "\t2 & \"8\" &  59 & 0.228682171 & 182 & 0.7054264\\\\\n",
       "\t3 & \"7\" &  39 & 0.151162791 & 221 & 0.8565891\\\\\n",
       "\t4 & \"5\" &  17 & 0.065891473 & 238 & 0.9224806\\\\\n",
       "\t5 & \"6\" &  13 & 0.050387597 & 251 & 0.9728682\\\\\n",
       "\t6 & \"3\" &   3 & 0.011627907 & 254 & 0.9844961\\\\\n",
       "\t7 & \"4\" &   3 & 0.011627907 & 257 & 0.9961240\\\\\n",
       "\t8 & \"1\" &   1 & 0.003875969 & 258 & 1.0000000\\\\\n",
       "\\end{tabular}\n"
      ],
      "text/markdown": [
       "\n",
       "A freq: 8 × 5\n",
       "\n",
       "| <!--/--> | item &lt;chr&gt; | count &lt;int&gt; | percent &lt;dbl&gt; | cum_count &lt;int&gt; | cum_percent &lt;dbl&gt; |\n",
       "|---|---|---|---|---|---|\n",
       "| 1 | \"9\" | 123 | 0.476744186 | 123 | 0.4767442 |\n",
       "| 2 | \"8\" |  59 | 0.228682171 | 182 | 0.7054264 |\n",
       "| 3 | \"7\" |  39 | 0.151162791 | 221 | 0.8565891 |\n",
       "| 4 | \"5\" |  17 | 0.065891473 | 238 | 0.9224806 |\n",
       "| 5 | \"6\" |  13 | 0.050387597 | 251 | 0.9728682 |\n",
       "| 6 | \"3\" |   3 | 0.011627907 | 254 | 0.9844961 |\n",
       "| 7 | \"4\" |   3 | 0.011627907 | 257 | 0.9961240 |\n",
       "| 8 | \"1\" |   1 | 0.003875969 | 258 | 1.0000000 |\n",
       "\n"
      ],
      "text/plain": [
       "  item count percent     cum_count cum_percent\n",
       "1 \"9\"  123   0.476744186 123       0.4767442  \n",
       "2 \"8\"   59   0.228682171 182       0.7054264  \n",
       "3 \"7\"   39   0.151162791 221       0.8565891  \n",
       "4 \"5\"   17   0.065891473 238       0.9224806  \n",
       "5 \"6\"   13   0.050387597 251       0.9728682  \n",
       "6 \"3\"    3   0.011627907 254       0.9844961  \n",
       "7 \"4\"    3   0.011627907 257       0.9961240  \n",
       "8 \"1\"    1   0.003875969 258       1.0000000  "
      ]
     },
     "metadata": {},
     "output_type": "display_data"
    },
    {
     "data": {
      "image/png": "[encoded data removed]",
      "text/plain": [
       "plot without title"
      ]
     },
     "metadata": {
      "image/png": {
       "height": 420,
       "width": 420
      }
     },
     "output_type": "display_data"
    }
   ],
   "source": [
    "plot(data$Beziehungszufr)\n",
    "freq(data$Beziehungszufr)"
   ]
  },
  {
   "cell_type": "markdown",
   "id": "authorized-premium",
   "metadata": {},
   "source": [
    "The relationship satisfaction is high in the sample (70.5% have an value of 8 or 9 (scale from 1 to 9))."
   ]
  },
  {
   "cell_type": "markdown",
   "id": "precise-latex",
   "metadata": {},
   "source": [
    "##### Chronic disease"
   ]
  },
  {
   "cell_type": "code",
   "execution_count": 101,
   "id": "heated-conditions",
   "metadata": {},
   "outputs": [
    {
     "data": {
      "image/png": "[encoded data removed]",
      "text/plain": [
       "plot without title"
      ]
     },
     "metadata": {
      "image/png": {
       "height": 420,
       "width": 420
      }
     },
     "output_type": "display_data"
    }
   ],
   "source": [
    "plot(data$chron_Krank)"
   ]
  },
  {
   "cell_type": "markdown",
   "id": "eight-chick",
   "metadata": {},
   "source": [
    "The majority of the participants doesn't have a chronical desease."
   ]
  },
  {
   "cell_type": "markdown",
   "id": "compact-spotlight",
   "metadata": {},
   "source": [
    "#### 1.3 Pregnancy-related variables"
   ]
  },
  {
   "cell_type": "markdown",
   "id": "dedicated-jason",
   "metadata": {},
   "source": [
    "##### Complications during pregnancy"
   ]
  },
  {
   "cell_type": "code",
   "execution_count": 102,
   "id": "favorite-album",
   "metadata": {},
   "outputs": [
    {
     "data": {
      "image/png": "[encoded data removed]",
      "text/plain": [
       "plot without title"
      ]
     },
     "metadata": {
      "image/png": {
       "height": 420,
       "width": 420
      }
     },
     "output_type": "display_data"
    }
   ],
   "source": [
    "plot(data$Komplikationen)"
   ]
  },
  {
   "cell_type": "markdown",
   "id": "numeric-promotion",
   "metadata": {},
   "source": [
    "Most of the participants didn't have complications during the pregnancy."
   ]
  },
  {
   "cell_type": "markdown",
   "id": "decimal-layer",
   "metadata": {},
   "source": [
    "##### Pregnancy weeks"
   ]
  },
  {
   "cell_type": "code",
   "execution_count": 116,
   "id": "regular-jewel",
   "metadata": {},
   "outputs": [
    {
     "data": {
      "image/png": "[encoded data removed]",
      "text/plain": [
       "Plot with title \"Histogram of data$SSW\""
      ]
     },
     "metadata": {
      "image/png": {
       "height": 420,
       "width": 420
      }
     },
     "output_type": "display_data"
    },
    {
     "data": {
      "text/html": [
       "<table class=\"dataframe\">\n",
       "<caption>A freq: 36 × 5</caption>\n",
       "<thead>\n",
       "\t<tr><th></th><th scope=col>item</th><th scope=col>count</th><th scope=col>percent</th><th scope=col>cum_count</th><th scope=col>cum_percent</th></tr>\n",
       "\t<tr><th></th><th scope=col>&lt;int&gt;</th><th scope=col>&lt;int&gt;</th><th scope=col>&lt;dbl&gt;</th><th scope=col>&lt;int&gt;</th><th scope=col>&lt;dbl&gt;</th></tr>\n",
       "</thead>\n",
       "<tbody>\n",
       "\t<tr><th scope=row>1</th><td>25</td><td>18</td><td>0.069767442</td><td> 18</td><td>0.06976744</td></tr>\n",
       "\t<tr><th scope=row>2</th><td>39</td><td>17</td><td>0.065891473</td><td> 35</td><td>0.13565891</td></tr>\n",
       "\t<tr><th scope=row>3</th><td>24</td><td>14</td><td>0.054263566</td><td> 49</td><td>0.18992248</td></tr>\n",
       "\t<tr><th scope=row>4</th><td>33</td><td>14</td><td>0.054263566</td><td> 63</td><td>0.24418605</td></tr>\n",
       "\t<tr><th scope=row>5</th><td>37</td><td>14</td><td>0.054263566</td><td> 77</td><td>0.29844961</td></tr>\n",
       "\t<tr><th scope=row>6</th><td>35</td><td>11</td><td>0.042635659</td><td> 88</td><td>0.34108527</td></tr>\n",
       "\t<tr><th scope=row>7</th><td>30</td><td>10</td><td>0.038759690</td><td> 98</td><td>0.37984496</td></tr>\n",
       "\t<tr><th scope=row>8</th><td>38</td><td> 9</td><td>0.034883721</td><td>107</td><td>0.41472868</td></tr>\n",
       "\t<tr><th scope=row>9</th><td>10</td><td> 8</td><td>0.031007752</td><td>115</td><td>0.44573643</td></tr>\n",
       "\t<tr><th scope=row>10</th><td>18</td><td> 8</td><td>0.031007752</td><td>123</td><td>0.47674419</td></tr>\n",
       "\t<tr><th scope=row>11</th><td>22</td><td> 8</td><td>0.031007752</td><td>131</td><td>0.50775194</td></tr>\n",
       "\t<tr><th scope=row>12</th><td>27</td><td> 8</td><td>0.031007752</td><td>139</td><td>0.53875969</td></tr>\n",
       "\t<tr><th scope=row>13</th><td>28</td><td> 8</td><td>0.031007752</td><td>147</td><td>0.56976744</td></tr>\n",
       "\t<tr><th scope=row>14</th><td>36</td><td> 8</td><td>0.031007752</td><td>155</td><td>0.60077519</td></tr>\n",
       "\t<tr><th scope=row>15</th><td>26</td><td> 7</td><td>0.027131783</td><td>162</td><td>0.62790698</td></tr>\n",
       "\t<tr><th scope=row>16</th><td>12</td><td> 6</td><td>0.023255814</td><td>168</td><td>0.65116279</td></tr>\n",
       "\t<tr><th scope=row>17</th><td>14</td><td> 6</td><td>0.023255814</td><td>174</td><td>0.67441860</td></tr>\n",
       "\t<tr><th scope=row>18</th><td>16</td><td> 6</td><td>0.023255814</td><td>180</td><td>0.69767442</td></tr>\n",
       "\t<tr><th scope=row>19</th><td>17</td><td> 6</td><td>0.023255814</td><td>186</td><td>0.72093023</td></tr>\n",
       "\t<tr><th scope=row>20</th><td>21</td><td> 6</td><td>0.023255814</td><td>192</td><td>0.74418605</td></tr>\n",
       "\t<tr><th scope=row>21</th><td>29</td><td> 6</td><td>0.023255814</td><td>198</td><td>0.76744186</td></tr>\n",
       "\t<tr><th scope=row>22</th><td>34</td><td> 6</td><td>0.023255814</td><td>204</td><td>0.79069767</td></tr>\n",
       "\t<tr><th scope=row>23</th><td>40</td><td> 6</td><td>0.023255814</td><td>210</td><td>0.81395349</td></tr>\n",
       "\t<tr><th scope=row>24</th><td> 6</td><td> 5</td><td>0.019379845</td><td>215</td><td>0.83333333</td></tr>\n",
       "\t<tr><th scope=row>25</th><td>15</td><td> 5</td><td>0.019379845</td><td>220</td><td>0.85271318</td></tr>\n",
       "\t<tr><th scope=row>26</th><td>19</td><td> 5</td><td>0.019379845</td><td>225</td><td>0.87209302</td></tr>\n",
       "\t<tr><th scope=row>27</th><td>20</td><td> 5</td><td>0.019379845</td><td>230</td><td>0.89147287</td></tr>\n",
       "\t<tr><th scope=row>28</th><td>31</td><td> 5</td><td>0.019379845</td><td>235</td><td>0.91085271</td></tr>\n",
       "\t<tr><th scope=row>29</th><td>13</td><td> 4</td><td>0.015503876</td><td>239</td><td>0.92635659</td></tr>\n",
       "\t<tr><th scope=row>30</th><td>23</td><td> 4</td><td>0.015503876</td><td>243</td><td>0.94186047</td></tr>\n",
       "\t<tr><th scope=row>31</th><td>32</td><td> 4</td><td>0.015503876</td><td>247</td><td>0.95736434</td></tr>\n",
       "\t<tr><th scope=row>32</th><td> 7</td><td> 3</td><td>0.011627907</td><td>250</td><td>0.96899225</td></tr>\n",
       "\t<tr><th scope=row>33</th><td> 8</td><td> 2</td><td>0.007751938</td><td>252</td><td>0.97674419</td></tr>\n",
       "\t<tr><th scope=row>34</th><td> 9</td><td> 2</td><td>0.007751938</td><td>254</td><td>0.98449612</td></tr>\n",
       "\t<tr><th scope=row>35</th><td>11</td><td> 2</td><td>0.007751938</td><td>256</td><td>0.99224806</td></tr>\n",
       "\t<tr><th scope=row>36</th><td>41</td><td> 2</td><td>0.007751938</td><td>258</td><td>1.00000000</td></tr>\n",
       "</tbody>\n",
       "</table>\n"
      ],
      "text/latex": [
       "A freq: 36 × 5\n",
       "\\begin{tabular}{r|lllll}\n",
       "  & item & count & percent & cum\\_count & cum\\_percent\\\\\n",
       "  & <int> & <int> & <dbl> & <int> & <dbl>\\\\\n",
       "\\hline\n",
       "\t1 & 25 & 18 & 0.069767442 &  18 & 0.06976744\\\\\n",
       "\t2 & 39 & 17 & 0.065891473 &  35 & 0.13565891\\\\\n",
       "\t3 & 24 & 14 & 0.054263566 &  49 & 0.18992248\\\\\n",
       "\t4 & 33 & 14 & 0.054263566 &  63 & 0.24418605\\\\\n",
       "\t5 & 37 & 14 & 0.054263566 &  77 & 0.29844961\\\\\n",
       "\t6 & 35 & 11 & 0.042635659 &  88 & 0.34108527\\\\\n",
       "\t7 & 30 & 10 & 0.038759690 &  98 & 0.37984496\\\\\n",
       "\t8 & 38 &  9 & 0.034883721 & 107 & 0.41472868\\\\\n",
       "\t9 & 10 &  8 & 0.031007752 & 115 & 0.44573643\\\\\n",
       "\t10 & 18 &  8 & 0.031007752 & 123 & 0.47674419\\\\\n",
       "\t11 & 22 &  8 & 0.031007752 & 131 & 0.50775194\\\\\n",
       "\t12 & 27 &  8 & 0.031007752 & 139 & 0.53875969\\\\\n",
       "\t13 & 28 &  8 & 0.031007752 & 147 & 0.56976744\\\\\n",
       "\t14 & 36 &  8 & 0.031007752 & 155 & 0.60077519\\\\\n",
       "\t15 & 26 &  7 & 0.027131783 & 162 & 0.62790698\\\\\n",
       "\t16 & 12 &  6 & 0.023255814 & 168 & 0.65116279\\\\\n",
       "\t17 & 14 &  6 & 0.023255814 & 174 & 0.67441860\\\\\n",
       "\t18 & 16 &  6 & 0.023255814 & 180 & 0.69767442\\\\\n",
       "\t19 & 17 &  6 & 0.023255814 & 186 & 0.72093023\\\\\n",
       "\t20 & 21 &  6 & 0.023255814 & 192 & 0.74418605\\\\\n",
       "\t21 & 29 &  6 & 0.023255814 & 198 & 0.76744186\\\\\n",
       "\t22 & 34 &  6 & 0.023255814 & 204 & 0.79069767\\\\\n",
       "\t23 & 40 &  6 & 0.023255814 & 210 & 0.81395349\\\\\n",
       "\t24 &  6 &  5 & 0.019379845 & 215 & 0.83333333\\\\\n",
       "\t25 & 15 &  5 & 0.019379845 & 220 & 0.85271318\\\\\n",
       "\t26 & 19 &  5 & 0.019379845 & 225 & 0.87209302\\\\\n",
       "\t27 & 20 &  5 & 0.019379845 & 230 & 0.89147287\\\\\n",
       "\t28 & 31 &  5 & 0.019379845 & 235 & 0.91085271\\\\\n",
       "\t29 & 13 &  4 & 0.015503876 & 239 & 0.92635659\\\\\n",
       "\t30 & 23 &  4 & 0.015503876 & 243 & 0.94186047\\\\\n",
       "\t31 & 32 &  4 & 0.015503876 & 247 & 0.95736434\\\\\n",
       "\t32 &  7 &  3 & 0.011627907 & 250 & 0.96899225\\\\\n",
       "\t33 &  8 &  2 & 0.007751938 & 252 & 0.97674419\\\\\n",
       "\t34 &  9 &  2 & 0.007751938 & 254 & 0.98449612\\\\\n",
       "\t35 & 11 &  2 & 0.007751938 & 256 & 0.99224806\\\\\n",
       "\t36 & 41 &  2 & 0.007751938 & 258 & 1.00000000\\\\\n",
       "\\end{tabular}\n"
      ],
      "text/markdown": [
       "\n",
       "A freq: 36 × 5\n",
       "\n",
       "| <!--/--> | item &lt;int&gt; | count &lt;int&gt; | percent &lt;dbl&gt; | cum_count &lt;int&gt; | cum_percent &lt;dbl&gt; |\n",
       "|---|---|---|---|---|---|\n",
       "| 1 | 25 | 18 | 0.069767442 |  18 | 0.06976744 |\n",
       "| 2 | 39 | 17 | 0.065891473 |  35 | 0.13565891 |\n",
       "| 3 | 24 | 14 | 0.054263566 |  49 | 0.18992248 |\n",
       "| 4 | 33 | 14 | 0.054263566 |  63 | 0.24418605 |\n",
       "| 5 | 37 | 14 | 0.054263566 |  77 | 0.29844961 |\n",
       "| 6 | 35 | 11 | 0.042635659 |  88 | 0.34108527 |\n",
       "| 7 | 30 | 10 | 0.038759690 |  98 | 0.37984496 |\n",
       "| 8 | 38 |  9 | 0.034883721 | 107 | 0.41472868 |\n",
       "| 9 | 10 |  8 | 0.031007752 | 115 | 0.44573643 |\n",
       "| 10 | 18 |  8 | 0.031007752 | 123 | 0.47674419 |\n",
       "| 11 | 22 |  8 | 0.031007752 | 131 | 0.50775194 |\n",
       "| 12 | 27 |  8 | 0.031007752 | 139 | 0.53875969 |\n",
       "| 13 | 28 |  8 | 0.031007752 | 147 | 0.56976744 |\n",
       "| 14 | 36 |  8 | 0.031007752 | 155 | 0.60077519 |\n",
       "| 15 | 26 |  7 | 0.027131783 | 162 | 0.62790698 |\n",
       "| 16 | 12 |  6 | 0.023255814 | 168 | 0.65116279 |\n",
       "| 17 | 14 |  6 | 0.023255814 | 174 | 0.67441860 |\n",
       "| 18 | 16 |  6 | 0.023255814 | 180 | 0.69767442 |\n",
       "| 19 | 17 |  6 | 0.023255814 | 186 | 0.72093023 |\n",
       "| 20 | 21 |  6 | 0.023255814 | 192 | 0.74418605 |\n",
       "| 21 | 29 |  6 | 0.023255814 | 198 | 0.76744186 |\n",
       "| 22 | 34 |  6 | 0.023255814 | 204 | 0.79069767 |\n",
       "| 23 | 40 |  6 | 0.023255814 | 210 | 0.81395349 |\n",
       "| 24 |  6 |  5 | 0.019379845 | 215 | 0.83333333 |\n",
       "| 25 | 15 |  5 | 0.019379845 | 220 | 0.85271318 |\n",
       "| 26 | 19 |  5 | 0.019379845 | 225 | 0.87209302 |\n",
       "| 27 | 20 |  5 | 0.019379845 | 230 | 0.89147287 |\n",
       "| 28 | 31 |  5 | 0.019379845 | 235 | 0.91085271 |\n",
       "| 29 | 13 |  4 | 0.015503876 | 239 | 0.92635659 |\n",
       "| 30 | 23 |  4 | 0.015503876 | 243 | 0.94186047 |\n",
       "| 31 | 32 |  4 | 0.015503876 | 247 | 0.95736434 |\n",
       "| 32 |  7 |  3 | 0.011627907 | 250 | 0.96899225 |\n",
       "| 33 |  8 |  2 | 0.007751938 | 252 | 0.97674419 |\n",
       "| 34 |  9 |  2 | 0.007751938 | 254 | 0.98449612 |\n",
       "| 35 | 11 |  2 | 0.007751938 | 256 | 0.99224806 |\n",
       "| 36 | 41 |  2 | 0.007751938 | 258 | 1.00000000 |\n",
       "\n"
      ],
      "text/plain": [
       "   item count percent     cum_count cum_percent\n",
       "1  25   18    0.069767442  18       0.06976744 \n",
       "2  39   17    0.065891473  35       0.13565891 \n",
       "3  24   14    0.054263566  49       0.18992248 \n",
       "4  33   14    0.054263566  63       0.24418605 \n",
       "5  37   14    0.054263566  77       0.29844961 \n",
       "6  35   11    0.042635659  88       0.34108527 \n",
       "7  30   10    0.038759690  98       0.37984496 \n",
       "8  38    9    0.034883721 107       0.41472868 \n",
       "9  10    8    0.031007752 115       0.44573643 \n",
       "10 18    8    0.031007752 123       0.47674419 \n",
       "11 22    8    0.031007752 131       0.50775194 \n",
       "12 27    8    0.031007752 139       0.53875969 \n",
       "13 28    8    0.031007752 147       0.56976744 \n",
       "14 36    8    0.031007752 155       0.60077519 \n",
       "15 26    7    0.027131783 162       0.62790698 \n",
       "16 12    6    0.023255814 168       0.65116279 \n",
       "17 14    6    0.023255814 174       0.67441860 \n",
       "18 16    6    0.023255814 180       0.69767442 \n",
       "19 17    6    0.023255814 186       0.72093023 \n",
       "20 21    6    0.023255814 192       0.74418605 \n",
       "21 29    6    0.023255814 198       0.76744186 \n",
       "22 34    6    0.023255814 204       0.79069767 \n",
       "23 40    6    0.023255814 210       0.81395349 \n",
       "24  6    5    0.019379845 215       0.83333333 \n",
       "25 15    5    0.019379845 220       0.85271318 \n",
       "26 19    5    0.019379845 225       0.87209302 \n",
       "27 20    5    0.019379845 230       0.89147287 \n",
       "28 31    5    0.019379845 235       0.91085271 \n",
       "29 13    4    0.015503876 239       0.92635659 \n",
       "30 23    4    0.015503876 243       0.94186047 \n",
       "31 32    4    0.015503876 247       0.95736434 \n",
       "32  7    3    0.011627907 250       0.96899225 \n",
       "33  8    2    0.007751938 252       0.97674419 \n",
       "34  9    2    0.007751938 254       0.98449612 \n",
       "35 11    2    0.007751938 256       0.99224806 \n",
       "36 41    2    0.007751938 258       1.00000000 "
      ]
     },
     "metadata": {},
     "output_type": "display_data"
    },
    {
     "data": {
      "image/png": "[encoded data removed]",
      "text/plain": [
       "plot without title"
      ]
     },
     "metadata": {
      "image/png": {
       "height": 420,
       "width": 420
      }
     },
     "output_type": "display_data"
    }
   ],
   "source": [
    "hist(data$SSW)\n",
    "boxplot(data$SSW)\n",
    "freq(data$SSW)"
   ]
  },
  {
   "cell_type": "markdown",
   "id": "democratic-addiction",
   "metadata": {},
   "source": [
    "The mean is 26, so the mean of the women are in the second trimester."
   ]
  },
  {
   "cell_type": "markdown",
   "id": "technical-chick",
   "metadata": {},
   "source": [
    "##### Planned pregnancy"
   ]
  },
  {
   "cell_type": "code",
   "execution_count": 104,
   "id": "chicken-agency",
   "metadata": {},
   "outputs": [
    {
     "data": {
      "image/png": "[encoded data removed]",
      "text/plain": [
       "plot without title"
      ]
     },
     "metadata": {
      "image/png": {
       "height": 420,
       "width": 420
      }
     },
     "output_type": "display_data"
    }
   ],
   "source": [
    "plot(data$Planung_SS)"
   ]
  },
  {
   "cell_type": "markdown",
   "id": "dirty-hundred",
   "metadata": {},
   "source": [
    "Most of the participants planned their pregnancy."
   ]
  },
  {
   "cell_type": "markdown",
   "id": "polish-notebook",
   "metadata": {},
   "source": [
    "##### Duration until pregnancy"
   ]
  },
  {
   "cell_type": "code",
   "execution_count": 105,
   "id": "residential-surname",
   "metadata": {},
   "outputs": [
    {
     "data": {
      "image/png": "[encoded data removed]",
      "text/plain": [
       "plot without title"
      ]
     },
     "metadata": {
      "image/png": {
       "height": 420,
       "width": 420
      }
     },
     "output_type": "display_data"
    }
   ],
   "source": [
    "plot(data$Dauer_bis_SS)"
   ]
  },
  {
   "cell_type": "markdown",
   "id": "demanding-clearing",
   "metadata": {},
   "source": [
    "Most of the participants had a duration of less than 6 months until they got pregnant."
   ]
  },
  {
   "cell_type": "markdown",
   "id": "institutional-yellow",
   "metadata": {},
   "source": [
    "##### Fertility treatment"
   ]
  },
  {
   "cell_type": "code",
   "execution_count": 106,
   "id": "criminal-detail",
   "metadata": {},
   "outputs": [
    {
     "data": {
      "image/png": "[encoded data removed]",
      "text/plain": [
       "plot without title"
      ]
     },
     "metadata": {
      "image/png": {
       "height": 420,
       "width": 420
      }
     },
     "output_type": "display_data"
    }
   ],
   "source": [
    "plot(data$Reproduktionsmed)"
   ]
  },
  {
   "cell_type": "markdown",
   "id": "unexpected-macintosh",
   "metadata": {},
   "source": [
    "Most of the participants didn't use fertility treatment for the pregnancy."
   ]
  },
  {
   "cell_type": "markdown",
   "id": "greek-blond",
   "metadata": {},
   "source": [
    "##### Number of pregnancies"
   ]
  },
  {
   "cell_type": "code",
   "execution_count": 115,
   "id": "relative-bedroom",
   "metadata": {},
   "outputs": [
    {
     "data": {
      "image/png": "[encoded data removed]",
      "text/plain": [
       "Plot with title \"Histogram of data$Anzahl_SS\""
      ]
     },
     "metadata": {
      "image/png": {
       "height": 420,
       "width": 420
      }
     },
     "output_type": "display_data"
    },
    {
     "data": {
      "text/html": [
       "<table class=\"dataframe\">\n",
       "<caption>A freq: 7 × 5</caption>\n",
       "<thead>\n",
       "\t<tr><th></th><th scope=col>item</th><th scope=col>count</th><th scope=col>percent</th><th scope=col>cum_count</th><th scope=col>cum_percent</th></tr>\n",
       "\t<tr><th></th><th scope=col>&lt;int&gt;</th><th scope=col>&lt;int&gt;</th><th scope=col>&lt;dbl&gt;</th><th scope=col>&lt;int&gt;</th><th scope=col>&lt;dbl&gt;</th></tr>\n",
       "</thead>\n",
       "<tbody>\n",
       "\t<tr><th scope=row>1</th><td> 0</td><td>115</td><td>0.445736434</td><td>115</td><td>0.4457364</td></tr>\n",
       "\t<tr><th scope=row>2</th><td> 1</td><td> 84</td><td>0.325581395</td><td>199</td><td>0.7713178</td></tr>\n",
       "\t<tr><th scope=row>3</th><td> 2</td><td> 34</td><td>0.131782946</td><td>233</td><td>0.9031008</td></tr>\n",
       "\t<tr><th scope=row>4</th><td> 3</td><td> 13</td><td>0.050387597</td><td>246</td><td>0.9534884</td></tr>\n",
       "\t<tr><th scope=row>5</th><td> 4</td><td>  7</td><td>0.027131783</td><td>253</td><td>0.9806202</td></tr>\n",
       "\t<tr><th scope=row>6</th><td> 5</td><td>  4</td><td>0.015503876</td><td>257</td><td>0.9961240</td></tr>\n",
       "\t<tr><th scope=row>7</th><td>14</td><td>  1</td><td>0.003875969</td><td>258</td><td>1.0000000</td></tr>\n",
       "</tbody>\n",
       "</table>\n"
      ],
      "text/latex": [
       "A freq: 7 × 5\n",
       "\\begin{tabular}{r|lllll}\n",
       "  & item & count & percent & cum\\_count & cum\\_percent\\\\\n",
       "  & <int> & <int> & <dbl> & <int> & <dbl>\\\\\n",
       "\\hline\n",
       "\t1 &  0 & 115 & 0.445736434 & 115 & 0.4457364\\\\\n",
       "\t2 &  1 &  84 & 0.325581395 & 199 & 0.7713178\\\\\n",
       "\t3 &  2 &  34 & 0.131782946 & 233 & 0.9031008\\\\\n",
       "\t4 &  3 &  13 & 0.050387597 & 246 & 0.9534884\\\\\n",
       "\t5 &  4 &   7 & 0.027131783 & 253 & 0.9806202\\\\\n",
       "\t6 &  5 &   4 & 0.015503876 & 257 & 0.9961240\\\\\n",
       "\t7 & 14 &   1 & 0.003875969 & 258 & 1.0000000\\\\\n",
       "\\end{tabular}\n"
      ],
      "text/markdown": [
       "\n",
       "A freq: 7 × 5\n",
       "\n",
       "| <!--/--> | item &lt;int&gt; | count &lt;int&gt; | percent &lt;dbl&gt; | cum_count &lt;int&gt; | cum_percent &lt;dbl&gt; |\n",
       "|---|---|---|---|---|---|\n",
       "| 1 |  0 | 115 | 0.445736434 | 115 | 0.4457364 |\n",
       "| 2 |  1 |  84 | 0.325581395 | 199 | 0.7713178 |\n",
       "| 3 |  2 |  34 | 0.131782946 | 233 | 0.9031008 |\n",
       "| 4 |  3 |  13 | 0.050387597 | 246 | 0.9534884 |\n",
       "| 5 |  4 |   7 | 0.027131783 | 253 | 0.9806202 |\n",
       "| 6 |  5 |   4 | 0.015503876 | 257 | 0.9961240 |\n",
       "| 7 | 14 |   1 | 0.003875969 | 258 | 1.0000000 |\n",
       "\n"
      ],
      "text/plain": [
       "  item count percent     cum_count cum_percent\n",
       "1  0   115   0.445736434 115       0.4457364  \n",
       "2  1    84   0.325581395 199       0.7713178  \n",
       "3  2    34   0.131782946 233       0.9031008  \n",
       "4  3    13   0.050387597 246       0.9534884  \n",
       "5  4     7   0.027131783 253       0.9806202  \n",
       "6  5     4   0.015503876 257       0.9961240  \n",
       "7 14     1   0.003875969 258       1.0000000  "
      ]
     },
     "metadata": {},
     "output_type": "display_data"
    },
    {
     "data": {
      "image/png": "[encoded data removed]",
      "text/plain": [
       "plot without title"
      ]
     },
     "metadata": {
      "image/png": {
       "height": 420,
       "width": 420
      }
     },
     "output_type": "display_data"
    }
   ],
   "source": [
    "hist(data$Anzahl_SS)\n",
    "boxplot(data$Anzahl_SS)\n",
    "freq(data$Anzahl_SS)"
   ]
  },
  {
   "cell_type": "markdown",
   "id": "decreased-somalia",
   "metadata": {},
   "source": [
    "44.6% of the participants are pregnant for the first time. 32.6% are pregnant for the second time. There are 4 outliers (3, 4, 5, 14 pregnancies). "
   ]
  },
  {
   "cell_type": "markdown",
   "id": "deadly-miller",
   "metadata": {},
   "source": [
    "##### Number of births"
   ]
  },
  {
   "cell_type": "code",
   "execution_count": 114,
   "id": "composite-weapon",
   "metadata": {},
   "outputs": [
    {
     "data": {
      "image/png": "[encoded data removed]",
      "text/plain": [
       "Plot with title \"Histogram of data$Anzahl_Geb\""
      ]
     },
     "metadata": {
      "image/png": {
       "height": 420,
       "width": 420
      }
     },
     "output_type": "display_data"
    },
    {
     "data": {
      "text/html": [
       "<table class=\"dataframe\">\n",
       "<caption>A freq: 4 × 5</caption>\n",
       "<thead>\n",
       "\t<tr><th></th><th scope=col>item</th><th scope=col>count</th><th scope=col>percent</th><th scope=col>cum_count</th><th scope=col>cum_percent</th></tr>\n",
       "\t<tr><th></th><th scope=col>&lt;int&gt;</th><th scope=col>&lt;int&gt;</th><th scope=col>&lt;dbl&gt;</th><th scope=col>&lt;int&gt;</th><th scope=col>&lt;dbl&gt;</th></tr>\n",
       "</thead>\n",
       "<tbody>\n",
       "\t<tr><th scope=row>1</th><td>0</td><td>146</td><td>0.56589147</td><td>146</td><td>0.5658915</td></tr>\n",
       "\t<tr><th scope=row>2</th><td>1</td><td> 90</td><td>0.34883721</td><td>236</td><td>0.9147287</td></tr>\n",
       "\t<tr><th scope=row>3</th><td>2</td><td> 18</td><td>0.06976744</td><td>254</td><td>0.9844961</td></tr>\n",
       "\t<tr><th scope=row>4</th><td>3</td><td>  4</td><td>0.01550388</td><td>258</td><td>1.0000000</td></tr>\n",
       "</tbody>\n",
       "</table>\n"
      ],
      "text/latex": [
       "A freq: 4 × 5\n",
       "\\begin{tabular}{r|lllll}\n",
       "  & item & count & percent & cum\\_count & cum\\_percent\\\\\n",
       "  & <int> & <int> & <dbl> & <int> & <dbl>\\\\\n",
       "\\hline\n",
       "\t1 & 0 & 146 & 0.56589147 & 146 & 0.5658915\\\\\n",
       "\t2 & 1 &  90 & 0.34883721 & 236 & 0.9147287\\\\\n",
       "\t3 & 2 &  18 & 0.06976744 & 254 & 0.9844961\\\\\n",
       "\t4 & 3 &   4 & 0.01550388 & 258 & 1.0000000\\\\\n",
       "\\end{tabular}\n"
      ],
      "text/markdown": [
       "\n",
       "A freq: 4 × 5\n",
       "\n",
       "| <!--/--> | item &lt;int&gt; | count &lt;int&gt; | percent &lt;dbl&gt; | cum_count &lt;int&gt; | cum_percent &lt;dbl&gt; |\n",
       "|---|---|---|---|---|---|\n",
       "| 1 | 0 | 146 | 0.56589147 | 146 | 0.5658915 |\n",
       "| 2 | 1 |  90 | 0.34883721 | 236 | 0.9147287 |\n",
       "| 3 | 2 |  18 | 0.06976744 | 254 | 0.9844961 |\n",
       "| 4 | 3 |   4 | 0.01550388 | 258 | 1.0000000 |\n",
       "\n"
      ],
      "text/plain": [
       "  item count percent    cum_count cum_percent\n",
       "1 0    146   0.56589147 146       0.5658915  \n",
       "2 1     90   0.34883721 236       0.9147287  \n",
       "3 2     18   0.06976744 254       0.9844961  \n",
       "4 3      4   0.01550388 258       1.0000000  "
      ]
     },
     "metadata": {},
     "output_type": "display_data"
    },
    {
     "data": {
      "image/png": "[encoded data removed]",
      "text/plain": [
       "plot without title"
      ]
     },
     "metadata": {
      "image/png": {
       "height": 420,
       "width": 420
      }
     },
     "output_type": "display_data"
    }
   ],
   "source": [
    "hist(data$Anzahl_Geb)\n",
    "boxplot(data$Anzahl_Geb)\n",
    "freq(data$Anzahl_Geb)"
   ]
  },
  {
   "cell_type": "markdown",
   "id": "dominant-interference",
   "metadata": {},
   "source": [
    "The majority of the participants will give birth for the first time (57%). 35% will give birth for the second time. 9% will give birth for the third or forth time. There's one outlier (3)"
   ]
  },
  {
   "cell_type": "markdown",
   "id": "postal-replacement",
   "metadata": {},
   "source": [
    "##### Multiple pregnancy"
   ]
  },
  {
   "cell_type": "code",
   "execution_count": 109,
   "id": "christian-count",
   "metadata": {},
   "outputs": [
    {
     "data": {
      "image/png": "[encoded data removed]",
      "text/plain": [
       "plot without title"
      ]
     },
     "metadata": {
      "image/png": {
       "height": 420,
       "width": 420
      }
     },
     "output_type": "display_data"
    }
   ],
   "source": [
    "plot(data$MehrlingsSS)"
   ]
  },
  {
   "cell_type": "markdown",
   "id": "funded-shanghai",
   "metadata": {},
   "source": [
    "Nearly all of the participants have singleton pregnancy."
   ]
  },
  {
   "cell_type": "markdown",
   "id": "arabic-musician",
   "metadata": {},
   "source": [
    "##### High risk pregnancy"
   ]
  },
  {
   "cell_type": "code",
   "execution_count": 110,
   "id": "computational-breath",
   "metadata": {},
   "outputs": [
    {
     "data": {
      "image/png": "[encoded data removed]",
      "text/plain": [
       "plot without title"
      ]
     },
     "metadata": {
      "image/png": {
       "height": 420,
       "width": 420
      }
     },
     "output_type": "display_data"
    }
   ],
   "source": [
    "plot(data$RisikoSS)"
   ]
  },
  {
   "cell_type": "markdown",
   "id": "suffering-baseball",
   "metadata": {},
   "source": [
    "The majority of the participants doesn't have a high risk pregnancy."
   ]
  },
  {
   "cell_type": "markdown",
   "id": "metric-pennsylvania",
   "metadata": {},
   "source": [
    "##### Change of birth method"
   ]
  },
  {
   "cell_type": "code",
   "execution_count": 111,
   "id": "agricultural-retirement",
   "metadata": {},
   "outputs": [
    {
     "data": {
      "image/png": "[encoded data removed]",
      "text/plain": [
       "plot without title"
      ]
     },
     "metadata": {
      "image/png": {
       "height": 420,
       "width": 420
      }
     },
     "output_type": "display_data"
    }
   ],
   "source": [
    "plot(data$Einfluss_COV_Geburtsmet)"
   ]
  },
  {
   "cell_type": "markdown",
   "id": "connected-radiation",
   "metadata": {},
   "source": [
    "For the majority of the participants the COVID pandemic didn't have an influence on the preferred birth method."
   ]
  },
  {
   "cell_type": "markdown",
   "id": "polished-terrain",
   "metadata": {},
   "source": [
    "##### Birth preparation course"
   ]
  },
  {
   "cell_type": "code",
   "execution_count": 123,
   "id": "engaging-rental",
   "metadata": {},
   "outputs": [
    {
     "data": {
      "text/html": [
       "<table class=\"dataframe\">\n",
       "<caption>A freq: 3 × 5</caption>\n",
       "<thead>\n",
       "\t<tr><th></th><th scope=col>item</th><th scope=col>count</th><th scope=col>percent</th><th scope=col>cum_count</th><th scope=col>cum_percent</th></tr>\n",
       "\t<tr><th></th><th scope=col>&lt;chr&gt;</th><th scope=col>&lt;int&gt;</th><th scope=col>&lt;dbl&gt;</th><th scope=col>&lt;int&gt;</th><th scope=col>&lt;dbl&gt;</th></tr>\n",
       "</thead>\n",
       "<tbody>\n",
       "\t<tr><th scope=row>1</th><td>\"0\"</td><td>189</td><td>0.7325581</td><td>189</td><td>0.7325581</td></tr>\n",
       "\t<tr><th scope=row>2</th><td>\"1\"</td><td> 39</td><td>0.1511628</td><td>228</td><td>0.8837209</td></tr>\n",
       "\t<tr><th scope=row>3</th><td>\"2\"</td><td> 30</td><td>0.1162791</td><td>258</td><td>1.0000000</td></tr>\n",
       "</tbody>\n",
       "</table>\n"
      ],
      "text/latex": [
       "A freq: 3 × 5\n",
       "\\begin{tabular}{r|lllll}\n",
       "  & item & count & percent & cum\\_count & cum\\_percent\\\\\n",
       "  & <chr> & <int> & <dbl> & <int> & <dbl>\\\\\n",
       "\\hline\n",
       "\t1 & \"0\" & 189 & 0.7325581 & 189 & 0.7325581\\\\\n",
       "\t2 & \"1\" &  39 & 0.1511628 & 228 & 0.8837209\\\\\n",
       "\t3 & \"2\" &  30 & 0.1162791 & 258 & 1.0000000\\\\\n",
       "\\end{tabular}\n"
      ],
      "text/markdown": [
       "\n",
       "A freq: 3 × 5\n",
       "\n",
       "| <!--/--> | item &lt;chr&gt; | count &lt;int&gt; | percent &lt;dbl&gt; | cum_count &lt;int&gt; | cum_percent &lt;dbl&gt; |\n",
       "|---|---|---|---|---|---|\n",
       "| 1 | \"0\" | 189 | 0.7325581 | 189 | 0.7325581 |\n",
       "| 2 | \"1\" |  39 | 0.1511628 | 228 | 0.8837209 |\n",
       "| 3 | \"2\" |  30 | 0.1162791 | 258 | 1.0000000 |\n",
       "\n"
      ],
      "text/plain": [
       "  item count percent   cum_count cum_percent\n",
       "1 \"0\"  189   0.7325581 189       0.7325581  \n",
       "2 \"1\"   39   0.1511628 228       0.8837209  \n",
       "3 \"2\"   30   0.1162791 258       1.0000000  "
      ]
     },
     "metadata": {},
     "output_type": "display_data"
    },
    {
     "data": {
      "image/png": "[encoded data removed]",
      "text/plain": [
       "plot without title"
      ]
     },
     "metadata": {
      "image/png": {
       "height": 420,
       "width": 420
      }
     },
     "output_type": "display_data"
    }
   ],
   "source": [
    "plot(data$Gebkurs)\n",
    "freq(data$Gebkurs)"
   ]
  },
  {
   "cell_type": "markdown",
   "id": "improved-nebraska",
   "metadata": {},
   "source": [
    "The majority (73%) of the participants didn't take a birth preparation course. Some took one during the pandemic (15%) and some before the pandemic (12%)."
   ]
  },
  {
   "cell_type": "markdown",
   "id": "transparent-writer",
   "metadata": {},
   "source": [
    "#### 1.4 COVID-related variables"
   ]
  },
  {
   "cell_type": "markdown",
   "id": "executive-spare",
   "metadata": {},
   "source": [
    "##### COVID-19 diagnosis"
   ]
  },
  {
   "cell_type": "code",
   "execution_count": 124,
   "id": "artificial-panama",
   "metadata": {},
   "outputs": [
    {
     "data": {
      "image/png": "[encoded data removed]",
      "text/plain": [
       "plot without title"
      ]
     },
     "metadata": {
      "image/png": {
       "height": 420,
       "width": 420
      }
     },
     "output_type": "display_data"
    }
   ],
   "source": [
    "plot(data$Diagnose)"
   ]
  },
  {
   "cell_type": "markdown",
   "id": "ideal-venture",
   "metadata": {},
   "source": [
    "Nearly all of the participants didn't have a COVID-19 diagnosis."
   ]
  },
  {
   "cell_type": "markdown",
   "id": "common-breed",
   "metadata": {},
   "source": [
    "##### Suspicion of COVID-19 diagnosis"
   ]
  },
  {
   "cell_type": "code",
   "execution_count": 125,
   "id": "rolled-amsterdam",
   "metadata": {},
   "outputs": [
    {
     "data": {
      "image/png": "[encoded data removed]",
      "text/plain": [
       "plot without title"
      ]
     },
     "metadata": {
      "image/png": {
       "height": 420,
       "width": 420
      }
     },
     "output_type": "display_data"
    }
   ],
   "source": [
    "plot(data$Verdacht_COVID)"
   ]
  },
  {
   "cell_type": "markdown",
   "id": "patient-thunder",
   "metadata": {},
   "source": [
    "The majority of the participants didn't have a suspicion of a COVID-19 infection."
   ]
  },
  {
   "cell_type": "markdown",
   "id": "union-filter",
   "metadata": {},
   "source": [
    "### 2. Correlation matrix of the dependent variables"
   ]
  },
  {
   "cell_type": "code",
   "execution_count": 126,
   "id": "continent-person",
   "metadata": {},
   "outputs": [
    {
     "data": {
      "text/plain": [
       "\n",
       "\tPearson's product-moment correlation\n",
       "\n",
       "data:  data$EPDS_tot and data$GAD7_tot\n",
       "t = 22.499, df = 256, p-value < 2.2e-16\n",
       "alternative hypothesis: true correlation is not equal to 0\n",
       "95 percent confidence interval:\n",
       " 0.7693846 0.8522434\n",
       "sample estimates:\n",
       "      cor \n",
       "0.8149373 \n"
      ]
     },
     "metadata": {},
     "output_type": "display_data"
    }
   ],
   "source": [
    "cor.test(data$EPDS_tot, data$GAD7_tot, method=\"pearson\")"
   ]
  },
  {
   "cell_type": "markdown",
   "id": "underlying-relation",
   "metadata": {},
   "source": [
    "The EPDS and GAD have a significant correlation of .81, which is quite high."
   ]
  },
  {
   "cell_type": "code",
   "execution_count": 127,
   "id": "smaller-thriller",
   "metadata": {},
   "outputs": [
    {
     "data": {
      "image/png": "[encoded data removed]",
      "text/plain": [
       "plot without title"
      ]
     },
     "metadata": {
      "image/png": {
       "height": 420,
       "width": 420
      }
     },
     "output_type": "display_data"
    }
   ],
   "source": [
    "plot(data$EPDS_tot, data$GAD7_tot)"
   ]
  },
  {
   "cell_type": "markdown",
   "id": "personal-intelligence",
   "metadata": {},
   "source": [
    "The positive significance is clearly visible in the plot."
   ]
  },
  {
   "cell_type": "markdown",
   "id": "intense-notion",
   "metadata": {},
   "source": [
    "### 3. Model fitting & Model selection"
   ]
  },
  {
   "cell_type": "markdown",
   "id": "opened-flour",
   "metadata": {},
   "source": [
    "#### 3.1 EPDS"
   ]
  },
  {
   "cell_type": "code",
   "execution_count": 5,
   "id": "assisted-tuition",
   "metadata": {
    "scrolled": true
   },
   "outputs": [
    {
     "name": "stderr",
     "output_type": "stream",
     "text": [
      "Warning message:\n",
      "\"package 'ISLR' was built under R version 4.0.5\"\n",
      "Warning message:\n",
      "\"package 'caret' was built under R version 4.0.5\"\n",
      "Loading required package: lattice\n",
      "\n",
      "Loading required package: ggplot2\n",
      "\n",
      "Warning message:\n",
      "\"package 'leaps' was built under R version 4.0.5\"\n"
     ]
    }
   ],
   "source": [
    "#install required packages\n",
    "library (ISLR)\n",
    "library(caret)\n",
    "library(leaps)"
   ]
  },
  {
   "cell_type": "code",
   "execution_count": 128,
   "id": "personalized-induction",
   "metadata": {},
   "outputs": [
    {
     "data": {
      "text/html": [
       "<table class=\"dataframe\">\n",
       "<caption>A data.frame: 6 × 26</caption>\n",
       "<thead>\n",
       "\t<tr><th></th><th scope=col>Alter</th><th scope=col>Kinder</th><th scope=col>Ausbildungsabschluss</th><th scope=col>Ausbildungsjahre</th><th scope=col>Beschäftigungsgrad</th><th scope=col>Finanzstatus</th><th scope=col>Einkommen_verloren_wg_COVID</th><th scope=col>Wohnsitz</th><th scope=col>Zugang_Aussenbereich</th><th scope=col>Beziehungsstatus</th><th scope=col>...</th><th scope=col>Anzahl_SS</th><th scope=col>Anzahl_Geb</th><th scope=col>MehrlingsSS</th><th scope=col>RisikoSS</th><th scope=col>chron_Krank</th><th scope=col>Einfluss_COV_Geburtsmet</th><th scope=col>Gebkurs</th><th scope=col>Diagnose</th><th scope=col>Verdacht_COVID</th><th scope=col>EPDS_tot</th></tr>\n",
       "\t<tr><th></th><th scope=col>&lt;int&gt;</th><th scope=col>&lt;int&gt;</th><th scope=col>&lt;fct&gt;</th><th scope=col>&lt;int&gt;</th><th scope=col>&lt;fct&gt;</th><th scope=col>&lt;fct&gt;</th><th scope=col>&lt;fct&gt;</th><th scope=col>&lt;fct&gt;</th><th scope=col>&lt;fct&gt;</th><th scope=col>&lt;fct&gt;</th><th scope=col>...</th><th scope=col>&lt;int&gt;</th><th scope=col>&lt;int&gt;</th><th scope=col>&lt;fct&gt;</th><th scope=col>&lt;fct&gt;</th><th scope=col>&lt;fct&gt;</th><th scope=col>&lt;fct&gt;</th><th scope=col>&lt;fct&gt;</th><th scope=col>&lt;fct&gt;</th><th scope=col>&lt;fct&gt;</th><th scope=col>&lt;int&gt;</th></tr>\n",
       "</thead>\n",
       "<tbody>\n",
       "\t<tr><th scope=row>1</th><td>28</td><td>0</td><td>7</td><td>15</td><td>1</td><td>2</td><td>0</td><td>2</td><td>1</td><td>2</td><td>...</td><td>0</td><td>0</td><td>0</td><td>1</td><td>1</td><td>0</td><td>0</td><td>0</td><td>0</td><td> 6</td></tr>\n",
       "\t<tr><th scope=row>2</th><td>32</td><td>1</td><td>7</td><td>14</td><td>2</td><td>2</td><td>0</td><td>1</td><td>1</td><td>1</td><td>...</td><td>1</td><td>1</td><td>0</td><td>0</td><td>0</td><td>0</td><td>0</td><td>0</td><td>0</td><td> 5</td></tr>\n",
       "\t<tr><th scope=row>3</th><td>32</td><td>0</td><td>7</td><td>13</td><td>1</td><td>3</td><td>0</td><td>1</td><td>1</td><td>1</td><td>...</td><td>0</td><td>0</td><td>0</td><td>0</td><td>0</td><td>0</td><td>0</td><td>0</td><td>0</td><td> 9</td></tr>\n",
       "\t<tr><th scope=row>4</th><td>28</td><td>0</td><td>5</td><td> 6</td><td>1</td><td>2</td><td>0</td><td>2</td><td>1</td><td>1</td><td>...</td><td>0</td><td>0</td><td>0</td><td>0</td><td>0</td><td>1</td><td>1</td><td>0</td><td>2</td><td> 0</td></tr>\n",
       "\t<tr><th scope=row>5</th><td>37</td><td>0</td><td>6</td><td>16</td><td>4</td><td>2</td><td>0</td><td>2</td><td>1</td><td>1</td><td>...</td><td>0</td><td>0</td><td>0</td><td>0</td><td>0</td><td>2</td><td>0</td><td>0</td><td>0</td><td>13</td></tr>\n",
       "\t<tr><th scope=row>6</th><td>31</td><td>0</td><td>4</td><td> 4</td><td>1</td><td>2</td><td>0</td><td>1</td><td>1</td><td>1</td><td>...</td><td>0</td><td>0</td><td>0</td><td>0</td><td>0</td><td>0</td><td>1</td><td>0</td><td>2</td><td> 4</td></tr>\n",
       "</tbody>\n",
       "</table>\n"
      ],
      "text/latex": [
       "A data.frame: 6 × 26\n",
       "\\begin{tabular}{r|lllllllllllllllllllll}\n",
       "  & Alter & Kinder & Ausbildungsabschluss & Ausbildungsjahre & Beschäftigungsgrad & Finanzstatus & Einkommen\\_verloren\\_wg\\_COVID & Wohnsitz & Zugang\\_Aussenbereich & Beziehungsstatus & ... & Anzahl\\_SS & Anzahl\\_Geb & MehrlingsSS & RisikoSS & chron\\_Krank & Einfluss\\_COV\\_Geburtsmet & Gebkurs & Diagnose & Verdacht\\_COVID & EPDS\\_tot\\\\\n",
       "  & <int> & <int> & <fct> & <int> & <fct> & <fct> & <fct> & <fct> & <fct> & <fct> & ... & <int> & <int> & <fct> & <fct> & <fct> & <fct> & <fct> & <fct> & <fct> & <int>\\\\\n",
       "\\hline\n",
       "\t1 & 28 & 0 & 7 & 15 & 1 & 2 & 0 & 2 & 1 & 2 & ... & 0 & 0 & 0 & 1 & 1 & 0 & 0 & 0 & 0 &  6\\\\\n",
       "\t2 & 32 & 1 & 7 & 14 & 2 & 2 & 0 & 1 & 1 & 1 & ... & 1 & 1 & 0 & 0 & 0 & 0 & 0 & 0 & 0 &  5\\\\\n",
       "\t3 & 32 & 0 & 7 & 13 & 1 & 3 & 0 & 1 & 1 & 1 & ... & 0 & 0 & 0 & 0 & 0 & 0 & 0 & 0 & 0 &  9\\\\\n",
       "\t4 & 28 & 0 & 5 &  6 & 1 & 2 & 0 & 2 & 1 & 1 & ... & 0 & 0 & 0 & 0 & 0 & 1 & 1 & 0 & 2 &  0\\\\\n",
       "\t5 & 37 & 0 & 6 & 16 & 4 & 2 & 0 & 2 & 1 & 1 & ... & 0 & 0 & 0 & 0 & 0 & 2 & 0 & 0 & 0 & 13\\\\\n",
       "\t6 & 31 & 0 & 4 &  4 & 1 & 2 & 0 & 1 & 1 & 1 & ... & 0 & 0 & 0 & 0 & 0 & 0 & 1 & 0 & 2 &  4\\\\\n",
       "\\end{tabular}\n"
      ],
      "text/markdown": [
       "\n",
       "A data.frame: 6 × 26\n",
       "\n",
       "| <!--/--> | Alter &lt;int&gt; | Kinder &lt;int&gt; | Ausbildungsabschluss &lt;fct&gt; | Ausbildungsjahre &lt;int&gt; | Beschäftigungsgrad &lt;fct&gt; | Finanzstatus &lt;fct&gt; | Einkommen_verloren_wg_COVID &lt;fct&gt; | Wohnsitz &lt;fct&gt; | Zugang_Aussenbereich &lt;fct&gt; | Beziehungsstatus &lt;fct&gt; | ... ... | Anzahl_SS &lt;int&gt; | Anzahl_Geb &lt;int&gt; | MehrlingsSS &lt;fct&gt; | RisikoSS &lt;fct&gt; | chron_Krank &lt;fct&gt; | Einfluss_COV_Geburtsmet &lt;fct&gt; | Gebkurs &lt;fct&gt; | Diagnose &lt;fct&gt; | Verdacht_COVID &lt;fct&gt; | EPDS_tot &lt;int&gt; |\n",
       "|---|---|---|---|---|---|---|---|---|---|---|---|---|---|---|---|---|---|---|---|---|---|\n",
       "| 1 | 28 | 0 | 7 | 15 | 1 | 2 | 0 | 2 | 1 | 2 | ... | 0 | 0 | 0 | 1 | 1 | 0 | 0 | 0 | 0 |  6 |\n",
       "| 2 | 32 | 1 | 7 | 14 | 2 | 2 | 0 | 1 | 1 | 1 | ... | 1 | 1 | 0 | 0 | 0 | 0 | 0 | 0 | 0 |  5 |\n",
       "| 3 | 32 | 0 | 7 | 13 | 1 | 3 | 0 | 1 | 1 | 1 | ... | 0 | 0 | 0 | 0 | 0 | 0 | 0 | 0 | 0 |  9 |\n",
       "| 4 | 28 | 0 | 5 |  6 | 1 | 2 | 0 | 2 | 1 | 1 | ... | 0 | 0 | 0 | 0 | 0 | 1 | 1 | 0 | 2 |  0 |\n",
       "| 5 | 37 | 0 | 6 | 16 | 4 | 2 | 0 | 2 | 1 | 1 | ... | 0 | 0 | 0 | 0 | 0 | 2 | 0 | 0 | 0 | 13 |\n",
       "| 6 | 31 | 0 | 4 |  4 | 1 | 2 | 0 | 1 | 1 | 1 | ... | 0 | 0 | 0 | 0 | 0 | 0 | 1 | 0 | 2 |  4 |\n",
       "\n"
      ],
      "text/plain": [
       "  Alter Kinder Ausbildungsabschluss Ausbildungsjahre Beschäftigungsgrad\n",
       "1 28    0      7                    15               1                 \n",
       "2 32    1      7                    14               2                 \n",
       "3 32    0      7                    13               1                 \n",
       "4 28    0      5                     6               1                 \n",
       "5 37    0      6                    16               4                 \n",
       "6 31    0      4                     4               1                 \n",
       "  Finanzstatus Einkommen_verloren_wg_COVID Wohnsitz Zugang_Aussenbereich\n",
       "1 2            0                           2        1                   \n",
       "2 2            0                           1        1                   \n",
       "3 3            0                           1        1                   \n",
       "4 2            0                           2        1                   \n",
       "5 2            0                           2        1                   \n",
       "6 2            0                           1        1                   \n",
       "  Beziehungsstatus ... Anzahl_SS Anzahl_Geb MehrlingsSS RisikoSS chron_Krank\n",
       "1 2                ... 0         0          0           1        1          \n",
       "2 1                ... 1         1          0           0        0          \n",
       "3 1                ... 0         0          0           0        0          \n",
       "4 1                ... 0         0          0           0        0          \n",
       "5 1                ... 0         0          0           0        0          \n",
       "6 1                ... 0         0          0           0        0          \n",
       "  Einfluss_COV_Geburtsmet Gebkurs Diagnose Verdacht_COVID EPDS_tot\n",
       "1 0                       0       0        0               6      \n",
       "2 0                       0       0        0               5      \n",
       "3 0                       0       0        0               9      \n",
       "4 1                       1       0        2               0      \n",
       "5 2                       0       0        0              13      \n",
       "6 0                       1       0        2               4      "
      ]
     },
     "metadata": {},
     "output_type": "display_data"
    }
   ],
   "source": [
    "#first create a new dataframe with only the predictors (exclude ldfn & GAD7_tot)\n",
    "data2 <- data[,c(\"Alter\", \"Kinder\", \"Ausbildungsabschluss\", \"Ausbildungsjahre\", \"Beschäftigungsgrad\", \"Finanzstatus\", \"Einkommen_verloren_wg_COVID\"\n",
    "              , \"Wohnsitz\", \"Zugang_Aussenbereich\", \"Beziehungsstatus\", \"Beziehungszufr\", \"Komplikationen\", \"SSW\", \"Planung_SS\", \"Dauer_bis_SS\",\n",
    "                \"Reproduktionsmed\", \"Anzahl_SS\", \"Anzahl_Geb\", \"MehrlingsSS\", \"RisikoSS\", \"chron_Krank\", \"Einfluss_COV_Geburtsmet\",\n",
    "                \"Gebkurs\", \"Diagnose\", \"Verdacht_COVID\", \"EPDS_tot\")]\n",
    "head(data2)"
   ]
  },
  {
   "cell_type": "code",
   "execution_count": 16,
   "id": "awful-header",
   "metadata": {},
   "outputs": [
    {
     "name": "stderr",
     "output_type": "stream",
     "text": [
      "Warning message in leaps.setup(x, y, wt = weights, nbest = nbest, nvmax = nvmax, :\n",
      "\"1  linear dependencies found\"\n"
     ]
    },
    {
     "name": "stdout",
     "output_type": "stream",
     "text": [
      "Reordering variables and trying again:\n"
     ]
    },
    {
     "name": "stderr",
     "output_type": "stream",
     "text": [
      "Warning message in leaps.setup(x, y, wt = weights, nbest = nbest, nvmax = nvmax, :\n",
      "\"1  linear dependencies found\"\n"
     ]
    },
    {
     "name": "stdout",
     "output_type": "stream",
     "text": [
      "Reordering variables and trying again:\n"
     ]
    },
    {
     "name": "stderr",
     "output_type": "stream",
     "text": [
      "Warning message in leaps.setup(x, y, wt = weights, nbest = nbest, nvmax = nvmax, :\n",
      "\"1  linear dependencies found\"\n"
     ]
    },
    {
     "name": "stdout",
     "output_type": "stream",
     "text": [
      "Reordering variables and trying again:\n"
     ]
    },
    {
     "name": "stderr",
     "output_type": "stream",
     "text": [
      "Warning message in leaps.setup(x, y, wt = weights, nbest = nbest, nvmax = nvmax, :\n",
      "\"1  linear dependencies found\"\n"
     ]
    },
    {
     "name": "stdout",
     "output_type": "stream",
     "text": [
      "Reordering variables and trying again:\n"
     ]
    },
    {
     "name": "stderr",
     "output_type": "stream",
     "text": [
      "Warning message in leaps.setup(x, y, wt = weights, nbest = nbest, nvmax = nvmax, :\n",
      "\"1  linear dependencies found\"\n"
     ]
    },
    {
     "name": "stdout",
     "output_type": "stream",
     "text": [
      "Reordering variables and trying again:\n"
     ]
    },
    {
     "name": "stderr",
     "output_type": "stream",
     "text": [
      "Warning message in leaps.setup(x, y, wt = weights, nbest = nbest, nvmax = nvmax, :\n",
      "\"3  linear dependencies found\"\n"
     ]
    },
    {
     "name": "stdout",
     "output_type": "stream",
     "text": [
      "Reordering variables and trying again:\n"
     ]
    },
    {
     "name": "stderr",
     "output_type": "stream",
     "text": [
      "Warning message in leaps.setup(x, y, wt = weights, nbest = nbest, nvmax = nvmax, :\n",
      "\"2  linear dependencies found\"\n"
     ]
    },
    {
     "name": "stdout",
     "output_type": "stream",
     "text": [
      "Reordering variables and trying again:\n"
     ]
    },
    {
     "name": "stderr",
     "output_type": "stream",
     "text": [
      "Warning message in leaps.setup(x, y, wt = weights, nbest = nbest, nvmax = nvmax, :\n",
      "\"2  linear dependencies found\"\n"
     ]
    },
    {
     "name": "stdout",
     "output_type": "stream",
     "text": [
      "Reordering variables and trying again:\n"
     ]
    },
    {
     "name": "stderr",
     "output_type": "stream",
     "text": [
      "Warning message in leaps.setup(x, y, wt = weights, nbest = nbest, nvmax = nvmax, :\n",
      "\"1  linear dependencies found\"\n"
     ]
    },
    {
     "name": "stdout",
     "output_type": "stream",
     "text": [
      "Reordering variables and trying again:\n"
     ]
    },
    {
     "name": "stderr",
     "output_type": "stream",
     "text": [
      "Warning message in leaps.setup(x, y, wt = weights, nbest = nbest, nvmax = nvmax, :\n",
      "\"1  linear dependencies found\"\n"
     ]
    },
    {
     "name": "stdout",
     "output_type": "stream",
     "text": [
      "Reordering variables and trying again:\n"
     ]
    },
    {
     "name": "stderr",
     "output_type": "stream",
     "text": [
      "Warning message in leaps.setup(x, y, wt = weights, nbest = nbest, nvmax = nvmax, :\n",
      "\"1  linear dependencies found\"\n"
     ]
    },
    {
     "name": "stdout",
     "output_type": "stream",
     "text": [
      "Reordering variables and trying again:\n"
     ]
    },
    {
     "data": {
      "text/plain": [
       "Linear Regression with Stepwise Selection \n",
       "\n",
       "258 samples\n",
       " 25 predictor\n",
       "\n",
       "No pre-processing\n",
       "Resampling: Cross-Validated (10 fold) \n",
       "Summary of sample sizes: 232, 232, 231, 232, 232, 232, ... \n",
       "Resampling results across tuning parameters:\n",
       "\n",
       "  nvmax  RMSE      Rsquared    MAE     \n",
       "   1     5.733111  0.01772522  4.554946\n",
       "   2     5.715972  0.01950681  4.523762\n",
       "   3     5.717113  0.01629155  4.521417\n",
       "   4     5.694233  0.04070558  4.527615\n",
       "   5     5.660560  0.04024134  4.488760\n",
       "   6     5.791586  0.02874542  4.533241\n",
       "   7     5.751956  0.02759077  4.541705\n",
       "   8     5.766041  0.03285199  4.548608\n",
       "   9     5.641483  0.05465999  4.460643\n",
       "  10     5.771910  0.03535800  4.559652\n",
       "  11     5.770523  0.04916073  4.529925\n",
       "  12     5.753695  0.06220542  4.528603\n",
       "  13     5.827869  0.03915691  4.559857\n",
       "  14     5.698270  0.06731252  4.601306\n",
       "  15     5.858278  0.04275056  4.622319\n",
       "  16     5.916986  0.02582321  4.640943\n",
       "  17     5.920975  0.02944412  4.677642\n",
       "  18     5.843892  0.04707520  4.642310\n",
       "  19     5.835045  0.04867695  4.602502\n",
       "  20     5.796886  0.04830607  4.547116\n",
       "  21     5.823731  0.04075502  4.599211\n",
       "  22     5.695869  0.07204509  4.529379\n",
       "  23     5.906451  0.03790163  4.662934\n",
       "  24     5.908790  0.06009662  4.684253\n",
       "  25     5.736875  0.07764887  4.511817\n",
       "\n",
       "RMSE was used to select the optimal model using the smallest value.\n",
       "The final value used for the model was nvmax = 9."
      ]
     },
     "metadata": {},
     "output_type": "display_data"
    }
   ],
   "source": [
    "# Now I want to find out which are the best predictors for EPDS. Therefore I use the stepwise selection (hybrid approach\n",
    "# of backward & forward selection). I used this method because this approach attempts to more closely mimic best subset selection while retaining \n",
    "# the computational advantages of forward and backward stepwise selection).\n",
    "# I already implement the stepwise selection in the k-fold cross validation. \n",
    "# I use the k-fold CV because the k-fold cross-validation doesn't overestimate the test error rate and is easier to\n",
    "# compute since less code needs to be written in comparison to LOOCV.\n",
    "# I use a 10-fold CV and for the backward selection a maximum of 25 variables.\n",
    "\n",
    "\n",
    "# Now I use the stepwise selection. With the same parameters as in the forward and backward selection\n",
    "\n",
    "# Set seed for reproducibility\n",
    "set.seed(1)\n",
    "# Set up repeated k-fold cross-validation\n",
    "train.control.epds.seq <- trainControl(method = \"cv\", number = 10)\n",
    "# Train the model\n",
    "step.model.epds.seq <- train(EPDS_tot ~., data = data2,\n",
    "                    method = \"leapSeq\",\n",
    "                    tuneGrid = data.frame(nvmax = 1:25),\n",
    "                    trControl = train.control.epds.seq\n",
    "                    )\n",
    "step.model.epds.seq"
   ]
  },
  {
   "cell_type": "code",
   "execution_count": 17,
   "id": "noticed-representative",
   "metadata": {},
   "outputs": [
    {
     "data": {
      "text/html": [
       "<table class=\"dataframe\">\n",
       "<caption>A data.frame: 1 × 1</caption>\n",
       "<thead>\n",
       "\t<tr><th></th><th scope=col>nvmax</th></tr>\n",
       "\t<tr><th></th><th scope=col>&lt;int&gt;</th></tr>\n",
       "</thead>\n",
       "<tbody>\n",
       "\t<tr><th scope=row>9</th><td>9</td></tr>\n",
       "</tbody>\n",
       "</table>\n"
      ],
      "text/latex": [
       "A data.frame: 1 × 1\n",
       "\\begin{tabular}{r|l}\n",
       "  & nvmax\\\\\n",
       "  & <int>\\\\\n",
       "\\hline\n",
       "\t9 & 9\\\\\n",
       "\\end{tabular}\n"
      ],
      "text/markdown": [
       "\n",
       "A data.frame: 1 × 1\n",
       "\n",
       "| <!--/--> | nvmax &lt;int&gt; |\n",
       "|---|---|\n",
       "| 9 | 9 |\n",
       "\n"
      ],
      "text/plain": [
       "  nvmax\n",
       "9 9    "
      ]
     },
     "metadata": {},
     "output_type": "display_data"
    },
    {
     "data": {
      "text/html": [
       "<style>\n",
       ".dl-inline {width: auto; margin:0; padding: 0}\n",
       ".dl-inline>dt, .dl-inline>dd {float: none; width: auto; display: inline-block}\n",
       ".dl-inline>dt::after {content: \":\\0020\"; padding-right: .5ex}\n",
       ".dl-inline>dt:not(:first-of-type) {padding-left: .5ex}\n",
       "</style><dl class=dl-inline><dt>(Intercept)</dt><dd>6.60601390315614</dd><dt>Ausbildungsabschluss6</dt><dd>4.12909671352137</dd><dt>Beziehungsstatus2</dt><dd>-0.560707581976019</dd><dt>Beziehungszufr3</dt><dd>10.4924972681067</dd><dt>Beziehungszufr4</dt><dd>9.73528232512789</dd><dt>Beziehungszufr6</dt><dd>3.70342625819316</dd><dt>Komplikationen1</dt><dd>1.84932035222151</dd><dt>Dauer_bis_SS2</dt><dd>-0.463181102876113</dd><dt>Gebkurs2</dt><dd>0.813661940241687</dd><dt>Verdacht_COVID2</dt><dd>0.579983019759068</dd></dl>\n"
      ],
      "text/latex": [
       "\\begin{description*}\n",
       "\\item[(Intercept)] 6.60601390315614\n",
       "\\item[Ausbildungsabschluss6] 4.12909671352137\n",
       "\\item[Beziehungsstatus2] -0.560707581976019\n",
       "\\item[Beziehungszufr3] 10.4924972681067\n",
       "\\item[Beziehungszufr4] 9.73528232512789\n",
       "\\item[Beziehungszufr6] 3.70342625819316\n",
       "\\item[Komplikationen1] 1.84932035222151\n",
       "\\item[Dauer\\textbackslash{}\\_bis\\textbackslash{}\\_SS2] -0.463181102876113\n",
       "\\item[Gebkurs2] 0.813661940241687\n",
       "\\item[Verdacht\\textbackslash{}\\_COVID2] 0.579983019759068\n",
       "\\end{description*}\n"
      ],
      "text/markdown": [
       "(Intercept)\n",
       ":   6.60601390315614Ausbildungsabschluss6\n",
       ":   4.12909671352137Beziehungsstatus2\n",
       ":   -0.560707581976019Beziehungszufr3\n",
       ":   10.4924972681067Beziehungszufr4\n",
       ":   9.73528232512789Beziehungszufr6\n",
       ":   3.70342625819316Komplikationen1\n",
       ":   1.84932035222151Dauer_bis_SS2\n",
       ":   -0.463181102876113Gebkurs2\n",
       ":   0.813661940241687Verdacht_COVID2\n",
       ":   0.579983019759068\n",
       "\n"
      ],
      "text/plain": [
       "          (Intercept) Ausbildungsabschluss6     Beziehungsstatus2 \n",
       "            6.6060139             4.1290967            -0.5607076 \n",
       "      Beziehungszufr3       Beziehungszufr4       Beziehungszufr6 \n",
       "           10.4924973             9.7352823             3.7034263 \n",
       "      Komplikationen1         Dauer_bis_SS2              Gebkurs2 \n",
       "            1.8493204            -0.4631811             0.8136619 \n",
       "      Verdacht_COVID2 \n",
       "            0.5799830 "
      ]
     },
     "metadata": {},
     "output_type": "display_data"
    }
   ],
   "source": [
    "# Now I want to find out which model is the best\n",
    "step.model.epds.seq$bestTune # The model with 9 predictors is the best\n",
    "coef(step.model.epds.seq$finalModel, 9) # Here are the predictors and their coefficients "
   ]
  },
  {
   "cell_type": "code",
   "execution_count": 39,
   "id": "pursuant-weight",
   "metadata": {},
   "outputs": [],
   "source": [
    "# Now I construct the model, which is suggested by the stepwise selection\n",
    "lm_epds_seq <- lm(EPDS_tot ~ Ausbildungsabschluss + Beziehungsstatus + Beziehungszufr + Komplikationen + Dauer_bis_SS + \n",
    "                  Gebkurs + Verdacht_COVID, data)"
   ]
  },
  {
   "cell_type": "code",
   "execution_count": 59,
   "id": "incorporated-screening",
   "metadata": {},
   "outputs": [],
   "source": [
    "# Now I compute the 10-fold Cross-validation \n",
    "#For the CV I need to split my data into a training and a test dataset\n",
    "set.seed(20)\n",
    "parted_epds <- createDataPartition(y = data$EPDS_tot, p = 0.75, list= F)\n",
    "training_epds = data[parted_epds, ]\n",
    "test_epds <- data[-parted_epds, ]"
   ]
  },
  {
   "cell_type": "code",
   "execution_count": 65,
   "id": "metallic-hours",
   "metadata": {},
   "outputs": [
    {
     "name": "stderr",
     "output_type": "stream",
     "text": [
      "Warning message in predict.lm(modelFit, newdata):\n",
      "\"prediction from a rank-deficient fit may be misleading\"\n",
      "Warning message in predict.lm(modelFit, newdata):\n",
      "\"prediction from a rank-deficient fit may be misleading\"\n",
      "Warning message in predict.lm(modelFit, newdata):\n",
      "\"prediction from a rank-deficient fit may be misleading\"\n",
      "Warning message in predict.lm(modelFit, newdata):\n",
      "\"prediction from a rank-deficient fit may be misleading\"\n",
      "Warning message in predict.lm(modelFit, newdata):\n",
      "\"prediction from a rank-deficient fit may be misleading\"\n",
      "Warning message in predict.lm(modelFit, newdata):\n",
      "\"prediction from a rank-deficient fit may be misleading\"\n",
      "Warning message in predict.lm(modelFit, newdata):\n",
      "\"prediction from a rank-deficient fit may be misleading\"\n",
      "Warning message in predict.lm(modelFit, newdata):\n",
      "\"prediction from a rank-deficient fit may be misleading\"\n",
      "Warning message in predict.lm(modelFit, newdata):\n",
      "\"prediction from a rank-deficient fit may be misleading\"\n",
      "Warning message in predict.lm(modelFit, newdata):\n",
      "\"prediction from a rank-deficient fit may be misleading\"\n"
     ]
    },
    {
     "data": {
      "text/plain": [
       "Linear Regression \n",
       "\n",
       "194 samples\n",
       "  7 predictor\n",
       "\n",
       "No pre-processing\n",
       "Resampling: Cross-Validated (10 fold) \n",
       "Summary of sample sizes: 173, 176, 174, 175, 175, 175, ... \n",
       "Resampling results:\n",
       "\n",
       "  RMSE      Rsquared    MAE     \n",
       "  5.719355  0.08852286  4.369024\n",
       "\n",
       "Tuning parameter 'intercept' was held constant at a value of TRUE"
      ]
     },
     "metadata": {},
     "output_type": "display_data"
    },
    {
     "name": "stderr",
     "output_type": "stream",
     "text": [
      "Warning message in predict.lm(modelFit, newdata):\n",
      "\"prediction from a rank-deficient fit may be misleading\"\n",
      "Warning message in predict.lm(modelFit, newdata):\n",
      "\"prediction from a rank-deficient fit may be misleading\"\n",
      "Warning message in predict.lm(modelFit, newdata):\n",
      "\"prediction from a rank-deficient fit may be misleading\"\n",
      "Warning message in predict.lm(modelFit, newdata):\n",
      "\"prediction from a rank-deficient fit may be misleading\"\n",
      "Warning message in predict.lm(modelFit, newdata):\n",
      "\"prediction from a rank-deficient fit may be misleading\"\n",
      "Warning message in predict.lm(modelFit, newdata):\n",
      "\"prediction from a rank-deficient fit may be misleading\"\n",
      "Warning message in predict.lm(modelFit, newdata):\n",
      "\"prediction from a rank-deficient fit may be misleading\"\n",
      "Warning message in predict.lm(modelFit, newdata):\n",
      "\"prediction from a rank-deficient fit may be misleading\"\n",
      "Warning message in predict.lm(modelFit, newdata):\n",
      "\"prediction from a rank-deficient fit may be misleading\"\n",
      "Warning message in predict.lm(modelFit, newdata):\n",
      "\"prediction from a rank-deficient fit may be misleading\"\n"
     ]
    },
    {
     "data": {
      "text/plain": [
       "Linear Regression \n",
       "\n",
       "64 samples\n",
       " 7 predictor\n",
       "\n",
       "No pre-processing\n",
       "Resampling: Cross-Validated (10 fold) \n",
       "Summary of sample sizes: 58, 58, 57, 58, 59, 57, ... \n",
       "Resampling results:\n",
       "\n",
       "  RMSE     Rsquared   MAE     \n",
       "  6.72195  0.2472873  5.356775\n",
       "\n",
       "Tuning parameter 'intercept' was held constant at a value of TRUE"
      ]
     },
     "metadata": {},
     "output_type": "display_data"
    }
   ],
   "source": [
    "# Now I use the 10-fold CV for the stepwise selected model\n",
    "set.seed(20)\n",
    "\n",
    "# defining training control as cross-validation and a 10-fold CV\n",
    "train_control_epds_seq <- trainControl(method = \"cv\",number = 10,savePrediction = \"all\")\n",
    "                              \n",
    " \n",
    "# training the model with EPDS_tot as the dependent variable and the other variables as independenz ones\n",
    "model_epds_seq_train <- train(EPDS_tot ~ Ausbildungsabschluss + Beziehungsstatus + Beziehungszufr + Komplikationen + Dauer_bis_SS + \n",
    "                  Gebkurs + Verdacht_COVID, data=training_epds,\n",
    "               method = \"lm\",\n",
    "               trControl = train_control_epds_seq)\n",
    " \n",
    "model_epds_seq_train\n",
    "\n",
    "# testing the model\n",
    "model_epds_seq_test <- train(EPDS_tot ~ Ausbildungsabschluss + Beziehungsstatus + Beziehungszufr + Komplikationen + Dauer_bis_SS + \n",
    "                  Gebkurs + Verdacht_COVID, data = test_epds,\n",
    "               method = \"lm\",\n",
    "               trControl = train_control_epds_seq)\n",
    "\n",
    "model_epds_seq_test"
   ]
  },
  {
   "cell_type": "markdown",
   "id": "derived-myanmar",
   "metadata": {},
   "source": [
    "The RMSE (Root Mean Squared Error, which gives the average prediction error made by the model) is higher in the test (6.72) than in the trainig set (5.72). This is not a good sign because the an increase of the RMSE implies that the accuracy of the model decreases. So it could be that there is a slight overfitting in the training set.\n",
    "\n",
    "The MAE (Mean Absolute Error, which gives the absolute difference between the actual values and the values predicted by the model for the target variable) Is lower in the training set (4.37) than in the test set (5.36). It's better when the MAE is lower because than the model is better. This implies that the model performs better on the training than on the test dataset.\n",
    "\n",
    "Interestingly the R-squared improved a lot from the train to the test dataset. In the train dataset it only explains 9% of the variance, in the test dataset it explains 25% of the variance. I have no explanation for this huge improvement.\n",
    "\n",
    "In conclusion the model performed worse on the test data in comparison to the training data. So this could be a sign of an overfitting in the training set."
   ]
  },
  {
   "cell_type": "code",
   "execution_count": 78,
   "id": "discrete-wagon",
   "metadata": {},
   "outputs": [
    {
     "data": {
      "text/html": [
       "0.3562594949254"
      ],
      "text/latex": [
       "0.3562594949254"
      ],
      "text/markdown": [
       "0.3562594949254"
      ],
      "text/plain": [
       "[1] 0.3562595"
      ]
     },
     "metadata": {},
     "output_type": "display_data"
    },
    {
     "data": {
      "text/plain": [
       "\n",
       "ORDINARY NONPARAMETRIC BOOTSTRAP\n",
       "\n",
       "\n",
       "Call:\n",
       "boot(data = data$EPDS_tot, statistic = boot_c, R = 1000)\n",
       "\n",
       "\n",
       "Bootstrap Statistics :\n",
       "    original       bias    std. error\n",
       "t1* 7.705426 -0.009965116   0.3646015"
      ]
     },
     "metadata": {},
     "output_type": "display_data"
    }
   ],
   "source": [
    "# Now I compute the bootstrap for the EPDS \n",
    "μ.err_epds = sd(data$EPDS_tot)/sqrt(length(data$EPDS_tot))\n",
    "μ.err_epds\n",
    "\n",
    "library(boot)\n",
    "boot_c = function(data, index) return(mean(data[index]))\n",
    "library(boot)\n",
    "bstrap_epds = boot(data$EPDS_tot, boot_c, 1000)\n",
    "bstrap_epds"
   ]
  },
  {
   "cell_type": "markdown",
   "id": "color-george",
   "metadata": {},
   "source": [
    "The two standard errror rates are very different 0.28 vs. 5.97. So the accuracy is very low."
   ]
  },
  {
   "cell_type": "markdown",
   "id": "noticed-language",
   "metadata": {},
   "source": [
    "#### 3.2 GAD"
   ]
  },
  {
   "cell_type": "code",
   "execution_count": 20,
   "id": "unexpected-birmingham",
   "metadata": {
    "scrolled": true
   },
   "outputs": [
    {
     "data": {
      "text/html": [
       "<table class=\"dataframe\">\n",
       "<caption>A data.frame: 6 × 26</caption>\n",
       "<thead>\n",
       "\t<tr><th></th><th scope=col>Alter</th><th scope=col>Kinder</th><th scope=col>Ausbildungsabschluss</th><th scope=col>Ausbildungsjahre</th><th scope=col>Beschäftigungsgrad</th><th scope=col>Finanzstatus</th><th scope=col>Einkommen_verloren_wg_COVID</th><th scope=col>Wohnsitz</th><th scope=col>Zugang_Aussenbereich</th><th scope=col>Beziehungsstatus</th><th scope=col>...</th><th scope=col>Anzahl_SS</th><th scope=col>Anzahl_Geb</th><th scope=col>MehrlingsSS</th><th scope=col>RisikoSS</th><th scope=col>chron_Krank</th><th scope=col>Einfluss_COV_Geburtsmet</th><th scope=col>Gebkurs</th><th scope=col>Diagnose</th><th scope=col>Verdacht_COVID</th><th scope=col>GAD7_tot</th></tr>\n",
       "\t<tr><th></th><th scope=col>&lt;int&gt;</th><th scope=col>&lt;int&gt;</th><th scope=col>&lt;fct&gt;</th><th scope=col>&lt;int&gt;</th><th scope=col>&lt;fct&gt;</th><th scope=col>&lt;fct&gt;</th><th scope=col>&lt;fct&gt;</th><th scope=col>&lt;fct&gt;</th><th scope=col>&lt;fct&gt;</th><th scope=col>&lt;fct&gt;</th><th scope=col>...</th><th scope=col>&lt;int&gt;</th><th scope=col>&lt;int&gt;</th><th scope=col>&lt;fct&gt;</th><th scope=col>&lt;fct&gt;</th><th scope=col>&lt;fct&gt;</th><th scope=col>&lt;fct&gt;</th><th scope=col>&lt;fct&gt;</th><th scope=col>&lt;fct&gt;</th><th scope=col>&lt;fct&gt;</th><th scope=col>&lt;int&gt;</th></tr>\n",
       "</thead>\n",
       "<tbody>\n",
       "\t<tr><th scope=row>1</th><td>28</td><td>0</td><td>7</td><td>15</td><td>1</td><td>2</td><td>0</td><td>2</td><td>1</td><td>2</td><td>...</td><td>0</td><td>0</td><td>0</td><td>1</td><td>1</td><td>0</td><td>0</td><td>0</td><td>0</td><td>4</td></tr>\n",
       "\t<tr><th scope=row>2</th><td>32</td><td>1</td><td>7</td><td>14</td><td>2</td><td>2</td><td>0</td><td>1</td><td>1</td><td>1</td><td>...</td><td>1</td><td>1</td><td>0</td><td>0</td><td>0</td><td>0</td><td>0</td><td>0</td><td>0</td><td>4</td></tr>\n",
       "\t<tr><th scope=row>3</th><td>32</td><td>0</td><td>7</td><td>13</td><td>1</td><td>3</td><td>0</td><td>1</td><td>1</td><td>1</td><td>...</td><td>0</td><td>0</td><td>0</td><td>0</td><td>0</td><td>0</td><td>0</td><td>0</td><td>0</td><td>2</td></tr>\n",
       "\t<tr><th scope=row>4</th><td>28</td><td>0</td><td>5</td><td> 6</td><td>1</td><td>2</td><td>0</td><td>2</td><td>1</td><td>1</td><td>...</td><td>0</td><td>0</td><td>0</td><td>0</td><td>0</td><td>1</td><td>1</td><td>0</td><td>2</td><td>4</td></tr>\n",
       "\t<tr><th scope=row>5</th><td>37</td><td>0</td><td>6</td><td>16</td><td>4</td><td>2</td><td>0</td><td>2</td><td>1</td><td>1</td><td>...</td><td>0</td><td>0</td><td>0</td><td>0</td><td>0</td><td>2</td><td>0</td><td>0</td><td>0</td><td>9</td></tr>\n",
       "\t<tr><th scope=row>6</th><td>31</td><td>0</td><td>4</td><td> 4</td><td>1</td><td>2</td><td>0</td><td>1</td><td>1</td><td>1</td><td>...</td><td>0</td><td>0</td><td>0</td><td>0</td><td>0</td><td>0</td><td>1</td><td>0</td><td>2</td><td>5</td></tr>\n",
       "</tbody>\n",
       "</table>\n"
      ],
      "text/latex": [
       "A data.frame: 6 × 26\n",
       "\\begin{tabular}{r|lllllllllllllllllllll}\n",
       "  & Alter & Kinder & Ausbildungsabschluss & Ausbildungsjahre & Beschäftigungsgrad & Finanzstatus & Einkommen\\_verloren\\_wg\\_COVID & Wohnsitz & Zugang\\_Aussenbereich & Beziehungsstatus & ... & Anzahl\\_SS & Anzahl\\_Geb & MehrlingsSS & RisikoSS & chron\\_Krank & Einfluss\\_COV\\_Geburtsmet & Gebkurs & Diagnose & Verdacht\\_COVID & GAD7\\_tot\\\\\n",
       "  & <int> & <int> & <fct> & <int> & <fct> & <fct> & <fct> & <fct> & <fct> & <fct> & ... & <int> & <int> & <fct> & <fct> & <fct> & <fct> & <fct> & <fct> & <fct> & <int>\\\\\n",
       "\\hline\n",
       "\t1 & 28 & 0 & 7 & 15 & 1 & 2 & 0 & 2 & 1 & 2 & ... & 0 & 0 & 0 & 1 & 1 & 0 & 0 & 0 & 0 & 4\\\\\n",
       "\t2 & 32 & 1 & 7 & 14 & 2 & 2 & 0 & 1 & 1 & 1 & ... & 1 & 1 & 0 & 0 & 0 & 0 & 0 & 0 & 0 & 4\\\\\n",
       "\t3 & 32 & 0 & 7 & 13 & 1 & 3 & 0 & 1 & 1 & 1 & ... & 0 & 0 & 0 & 0 & 0 & 0 & 0 & 0 & 0 & 2\\\\\n",
       "\t4 & 28 & 0 & 5 &  6 & 1 & 2 & 0 & 2 & 1 & 1 & ... & 0 & 0 & 0 & 0 & 0 & 1 & 1 & 0 & 2 & 4\\\\\n",
       "\t5 & 37 & 0 & 6 & 16 & 4 & 2 & 0 & 2 & 1 & 1 & ... & 0 & 0 & 0 & 0 & 0 & 2 & 0 & 0 & 0 & 9\\\\\n",
       "\t6 & 31 & 0 & 4 &  4 & 1 & 2 & 0 & 1 & 1 & 1 & ... & 0 & 0 & 0 & 0 & 0 & 0 & 1 & 0 & 2 & 5\\\\\n",
       "\\end{tabular}\n"
      ],
      "text/markdown": [
       "\n",
       "A data.frame: 6 × 26\n",
       "\n",
       "| <!--/--> | Alter &lt;int&gt; | Kinder &lt;int&gt; | Ausbildungsabschluss &lt;fct&gt; | Ausbildungsjahre &lt;int&gt; | Beschäftigungsgrad &lt;fct&gt; | Finanzstatus &lt;fct&gt; | Einkommen_verloren_wg_COVID &lt;fct&gt; | Wohnsitz &lt;fct&gt; | Zugang_Aussenbereich &lt;fct&gt; | Beziehungsstatus &lt;fct&gt; | ... ... | Anzahl_SS &lt;int&gt; | Anzahl_Geb &lt;int&gt; | MehrlingsSS &lt;fct&gt; | RisikoSS &lt;fct&gt; | chron_Krank &lt;fct&gt; | Einfluss_COV_Geburtsmet &lt;fct&gt; | Gebkurs &lt;fct&gt; | Diagnose &lt;fct&gt; | Verdacht_COVID &lt;fct&gt; | GAD7_tot &lt;int&gt; |\n",
       "|---|---|---|---|---|---|---|---|---|---|---|---|---|---|---|---|---|---|---|---|---|---|\n",
       "| 1 | 28 | 0 | 7 | 15 | 1 | 2 | 0 | 2 | 1 | 2 | ... | 0 | 0 | 0 | 1 | 1 | 0 | 0 | 0 | 0 | 4 |\n",
       "| 2 | 32 | 1 | 7 | 14 | 2 | 2 | 0 | 1 | 1 | 1 | ... | 1 | 1 | 0 | 0 | 0 | 0 | 0 | 0 | 0 | 4 |\n",
       "| 3 | 32 | 0 | 7 | 13 | 1 | 3 | 0 | 1 | 1 | 1 | ... | 0 | 0 | 0 | 0 | 0 | 0 | 0 | 0 | 0 | 2 |\n",
       "| 4 | 28 | 0 | 5 |  6 | 1 | 2 | 0 | 2 | 1 | 1 | ... | 0 | 0 | 0 | 0 | 0 | 1 | 1 | 0 | 2 | 4 |\n",
       "| 5 | 37 | 0 | 6 | 16 | 4 | 2 | 0 | 2 | 1 | 1 | ... | 0 | 0 | 0 | 0 | 0 | 2 | 0 | 0 | 0 | 9 |\n",
       "| 6 | 31 | 0 | 4 |  4 | 1 | 2 | 0 | 1 | 1 | 1 | ... | 0 | 0 | 0 | 0 | 0 | 0 | 1 | 0 | 2 | 5 |\n",
       "\n"
      ],
      "text/plain": [
       "  Alter Kinder Ausbildungsabschluss Ausbildungsjahre Beschäftigungsgrad\n",
       "1 28    0      7                    15               1                 \n",
       "2 32    1      7                    14               2                 \n",
       "3 32    0      7                    13               1                 \n",
       "4 28    0      5                     6               1                 \n",
       "5 37    0      6                    16               4                 \n",
       "6 31    0      4                     4               1                 \n",
       "  Finanzstatus Einkommen_verloren_wg_COVID Wohnsitz Zugang_Aussenbereich\n",
       "1 2            0                           2        1                   \n",
       "2 2            0                           1        1                   \n",
       "3 3            0                           1        1                   \n",
       "4 2            0                           2        1                   \n",
       "5 2            0                           2        1                   \n",
       "6 2            0                           1        1                   \n",
       "  Beziehungsstatus ... Anzahl_SS Anzahl_Geb MehrlingsSS RisikoSS chron_Krank\n",
       "1 2                ... 0         0          0           1        1          \n",
       "2 1                ... 1         1          0           0        0          \n",
       "3 1                ... 0         0          0           0        0          \n",
       "4 1                ... 0         0          0           0        0          \n",
       "5 1                ... 0         0          0           0        0          \n",
       "6 1                ... 0         0          0           0        0          \n",
       "  Einfluss_COV_Geburtsmet Gebkurs Diagnose Verdacht_COVID GAD7_tot\n",
       "1 0                       0       0        0              4       \n",
       "2 0                       0       0        0              4       \n",
       "3 0                       0       0        0              2       \n",
       "4 1                       1       0        2              4       \n",
       "5 2                       0       0        0              9       \n",
       "6 0                       1       0        2              5       "
      ]
     },
     "metadata": {},
     "output_type": "display_data"
    }
   ],
   "source": [
    "#first create a new dataframe with only the predictors (exclude ldfn & EPDS_tot)\n",
    "data3 <- data[,c(\"Alter\", \"Kinder\", \"Ausbildungsabschluss\", \"Ausbildungsjahre\", \"Beschäftigungsgrad\", \"Finanzstatus\", \"Einkommen_verloren_wg_COVID\"\n",
    "              , \"Wohnsitz\", \"Zugang_Aussenbereich\", \"Beziehungsstatus\", \"Beziehungszufr\", \"Komplikationen\", \"SSW\", \"Planung_SS\", \"Dauer_bis_SS\",\n",
    "                \"Reproduktionsmed\", \"Anzahl_SS\", \"Anzahl_Geb\", \"MehrlingsSS\", \"RisikoSS\", \"chron_Krank\", \"Einfluss_COV_Geburtsmet\",\n",
    "                \"Gebkurs\", \"Diagnose\", \"Verdacht_COVID\", \"GAD7_tot\")]\n",
    "head(data3)"
   ]
  },
  {
   "cell_type": "code",
   "execution_count": 28,
   "id": "designed-finger",
   "metadata": {},
   "outputs": [
    {
     "name": "stderr",
     "output_type": "stream",
     "text": [
      "Warning message in leaps.setup(x, y, wt = weights, nbest = nbest, nvmax = nvmax, :\n",
      "\"1  linear dependencies found\"\n"
     ]
    },
    {
     "name": "stdout",
     "output_type": "stream",
     "text": [
      "Reordering variables and trying again:\n"
     ]
    },
    {
     "name": "stderr",
     "output_type": "stream",
     "text": [
      "Warning message in leaps.setup(x, y, wt = weights, nbest = nbest, nvmax = nvmax, :\n",
      "\"2  linear dependencies found\"\n"
     ]
    },
    {
     "name": "stdout",
     "output_type": "stream",
     "text": [
      "Reordering variables and trying again:\n"
     ]
    },
    {
     "name": "stderr",
     "output_type": "stream",
     "text": [
      "Warning message in leaps.setup(x, y, wt = weights, nbest = nbest, nvmax = nvmax, :\n",
      "\"1  linear dependencies found\"\n"
     ]
    },
    {
     "name": "stdout",
     "output_type": "stream",
     "text": [
      "Reordering variables and trying again:\n"
     ]
    },
    {
     "name": "stderr",
     "output_type": "stream",
     "text": [
      "Warning message in leaps.setup(x, y, wt = weights, nbest = nbest, nvmax = nvmax, :\n",
      "\"1  linear dependencies found\"\n"
     ]
    },
    {
     "name": "stdout",
     "output_type": "stream",
     "text": [
      "Reordering variables and trying again:\n"
     ]
    },
    {
     "name": "stderr",
     "output_type": "stream",
     "text": [
      "Warning message in leaps.setup(x, y, wt = weights, nbest = nbest, nvmax = nvmax, :\n",
      "\"3  linear dependencies found\"\n"
     ]
    },
    {
     "name": "stdout",
     "output_type": "stream",
     "text": [
      "Reordering variables and trying again:\n"
     ]
    },
    {
     "name": "stderr",
     "output_type": "stream",
     "text": [
      "Warning message in leaps.setup(x, y, wt = weights, nbest = nbest, nvmax = nvmax, :\n",
      "\"1  linear dependencies found\"\n"
     ]
    },
    {
     "name": "stdout",
     "output_type": "stream",
     "text": [
      "Reordering variables and trying again:\n"
     ]
    },
    {
     "name": "stderr",
     "output_type": "stream",
     "text": [
      "Warning message in leaps.setup(x, y, wt = weights, nbest = nbest, nvmax = nvmax, :\n",
      "\"1  linear dependencies found\"\n"
     ]
    },
    {
     "name": "stdout",
     "output_type": "stream",
     "text": [
      "Reordering variables and trying again:\n"
     ]
    },
    {
     "name": "stderr",
     "output_type": "stream",
     "text": [
      "Warning message in leaps.setup(x, y, wt = weights, nbest = nbest, nvmax = nvmax, :\n",
      "\"2  linear dependencies found\"\n"
     ]
    },
    {
     "name": "stdout",
     "output_type": "stream",
     "text": [
      "Reordering variables and trying again:\n"
     ]
    },
    {
     "name": "stderr",
     "output_type": "stream",
     "text": [
      "Warning message in leaps.setup(x, y, wt = weights, nbest = nbest, nvmax = nvmax, :\n",
      "\"1  linear dependencies found\"\n"
     ]
    },
    {
     "name": "stdout",
     "output_type": "stream",
     "text": [
      "Reordering variables and trying again:\n"
     ]
    },
    {
     "name": "stderr",
     "output_type": "stream",
     "text": [
      "Warning message in leaps.setup(x, y, wt = weights, nbest = nbest, nvmax = nvmax, :\n",
      "\"2  linear dependencies found\"\n"
     ]
    },
    {
     "name": "stdout",
     "output_type": "stream",
     "text": [
      "Reordering variables and trying again:\n"
     ]
    },
    {
     "name": "stderr",
     "output_type": "stream",
     "text": [
      "Warning message in nominalTrainWorkflow(x = x, y = y, wts = weights, info = trainInfo, :\n",
      "\"There were missing values in resampled performance measures.\"\n",
      "Warning message in leaps.setup(x, y, wt = weights, nbest = nbest, nvmax = nvmax, :\n",
      "\"1  linear dependencies found\"\n"
     ]
    },
    {
     "name": "stdout",
     "output_type": "stream",
     "text": [
      "Reordering variables and trying again:\n"
     ]
    },
    {
     "data": {
      "text/plain": [
       "Linear Regression with Stepwise Selection \n",
       "\n",
       "258 samples\n",
       " 25 predictor\n",
       "\n",
       "No pre-processing\n",
       "Resampling: Cross-Validated (10 fold) \n",
       "Summary of sample sizes: 232, 232, 233, 231, 232, 233, ... \n",
       "Resampling results across tuning parameters:\n",
       "\n",
       "  nvmax  RMSE      Rsquared    MAE     \n",
       "   1     4.368821  0.15833737  3.324091\n",
       "   2     4.372869  0.07377101  3.323935\n",
       "   3     4.366806  0.09321061  3.337226\n",
       "   4     4.375531  0.09148933  3.327108\n",
       "   5     4.350622  0.10142484  3.328228\n",
       "   6     4.332228  0.11602718  3.316906\n",
       "   7     4.510929  0.05228070  3.420647\n",
       "   8     4.421900  0.05766895  3.349014\n",
       "   9     4.396981  0.08277098  3.385396\n",
       "  10     4.336439  0.10465773  3.354724\n",
       "  11     4.270364  0.08980796  3.277388\n",
       "  12     4.323540  0.09758346  3.295421\n",
       "  13     4.401617  0.10031221  3.361664\n",
       "  14     4.403680  0.10079746  3.365474\n",
       "  15     4.402315  0.10664421  3.374180\n",
       "  16     4.407883  0.12916309  3.361144\n",
       "  17     4.491669  0.12893423  3.379282\n",
       "  18     4.608189  0.10117540  3.514069\n",
       "  19     4.456912  0.10842912  3.407303\n",
       "  20     4.526836  0.11753369  3.436925\n",
       "  21     4.567497  0.11809710  3.491566\n",
       "  22     4.574425  0.13113752  3.516203\n",
       "  23     4.575007  0.08016625  3.501013\n",
       "  24     4.580150  0.10736313  3.522592\n",
       "  25     4.513720  0.12100344  3.497402\n",
       "\n",
       "RMSE was used to select the optimal model using the smallest value.\n",
       "The final value used for the model was nvmax = 11."
      ]
     },
     "metadata": {},
     "output_type": "display_data"
    }
   ],
   "source": [
    "# Now I want to find out which are the best predictors for GAD. Therefore I use the stepwise selection (hybrid approach\n",
    "# of backward & forward selection). I used this method because this approach attempts to more closely mimic best subset selection while retaining \n",
    "# the computational advantages of forward and backward stepwise selection).\n",
    "# I already implement the stepwise selection in the k-fold cross validation. \n",
    "# I use the k-fold CV because the k-fold cross-validation doesn't overestimate the test error rate and is easier to\n",
    "# compute since less code needs to be written in comparison to LOOCV.\n",
    "# I use a 10-fold CV and for the backward selection a maximum of 25 variables.\n",
    "\n",
    "\n",
    "# Set seed for reproducibility\n",
    "set.seed(1)\n",
    "# Set up repeated k-fold cross-validation\n",
    "train.control.gad.seq <- trainControl(method = \"cv\", number = 10)\n",
    "# Train the model\n",
    "step.model.gad.seq <- train(GAD7_tot ~., data = data3,\n",
    "                    method = \"leapSeq\",\n",
    "                    tuneGrid = data.frame(nvmax = 1:25),\n",
    "                    trControl = train.control.gad.seq\n",
    "                    )\n",
    "step.model.gad.seq"
   ]
  },
  {
   "cell_type": "code",
   "execution_count": 30,
   "id": "defensive-arrow",
   "metadata": {},
   "outputs": [
    {
     "data": {
      "text/html": [
       "<table class=\"dataframe\">\n",
       "<caption>A data.frame: 1 × 1</caption>\n",
       "<thead>\n",
       "\t<tr><th></th><th scope=col>nvmax</th></tr>\n",
       "\t<tr><th></th><th scope=col>&lt;int&gt;</th></tr>\n",
       "</thead>\n",
       "<tbody>\n",
       "\t<tr><th scope=row>11</th><td>11</td></tr>\n",
       "</tbody>\n",
       "</table>\n"
      ],
      "text/latex": [
       "A data.frame: 1 × 1\n",
       "\\begin{tabular}{r|l}\n",
       "  & nvmax\\\\\n",
       "  & <int>\\\\\n",
       "\\hline\n",
       "\t11 & 11\\\\\n",
       "\\end{tabular}\n"
      ],
      "text/markdown": [
       "\n",
       "A data.frame: 1 × 1\n",
       "\n",
       "| <!--/--> | nvmax &lt;int&gt; |\n",
       "|---|---|\n",
       "| 11 | 11 |\n",
       "\n"
      ],
      "text/plain": [
       "   nvmax\n",
       "11 11   "
      ]
     },
     "metadata": {},
     "output_type": "display_data"
    },
    {
     "data": {
      "text/html": [
       "<style>\n",
       ".dl-inline {width: auto; margin:0; padding: 0}\n",
       ".dl-inline>dt, .dl-inline>dd {float: none; width: auto; display: inline-block}\n",
       ".dl-inline>dt::after {content: \":\\0020\"; padding-right: .5ex}\n",
       ".dl-inline>dt:not(:first-of-type) {padding-left: .5ex}\n",
       "</style><dl class=dl-inline><dt>(Intercept)</dt><dd>8.58874456415383</dd><dt>Alter</dt><dd>-0.11693116886346</dd><dt>Einkommen_verloren_wg_COVID1</dt><dd>2.36239284968868</dd><dt>Zugang_Aussenbereich2</dt><dd>2.53096875137914</dd><dt>Beziehungszufr3</dt><dd>10.7508285307473</dd><dt>Beziehungszufr6</dt><dd>2.78010088748282</dd><dt>Komplikationen1</dt><dd>1.94198011152163</dd><dt>SSW</dt><dd>0.00262713655152723</dd><dt>Dauer_bis_SS2</dt><dd>-0.0313883024878099</dd><dt>Einfluss_COV_Geburtsmet1</dt><dd>1.38926223725234</dd><dt>Gebkurs1</dt><dd>-1.14141013025445</dd><dt>Verdacht_COVID2</dt><dd>-0.0180447791574495</dd></dl>\n"
      ],
      "text/latex": [
       "\\begin{description*}\n",
       "\\item[(Intercept)] 8.58874456415383\n",
       "\\item[Alter] -0.11693116886346\n",
       "\\item[Einkommen\\textbackslash{}\\_verloren\\textbackslash{}\\_wg\\textbackslash{}\\_COVID1] 2.36239284968868\n",
       "\\item[Zugang\\textbackslash{}\\_Aussenbereich2] 2.53096875137914\n",
       "\\item[Beziehungszufr3] 10.7508285307473\n",
       "\\item[Beziehungszufr6] 2.78010088748282\n",
       "\\item[Komplikationen1] 1.94198011152163\n",
       "\\item[SSW] 0.00262713655152723\n",
       "\\item[Dauer\\textbackslash{}\\_bis\\textbackslash{}\\_SS2] -0.0313883024878099\n",
       "\\item[Einfluss\\textbackslash{}\\_COV\\textbackslash{}\\_Geburtsmet1] 1.38926223725234\n",
       "\\item[Gebkurs1] -1.14141013025445\n",
       "\\item[Verdacht\\textbackslash{}\\_COVID2] -0.0180447791574495\n",
       "\\end{description*}\n"
      ],
      "text/markdown": [
       "(Intercept)\n",
       ":   8.58874456415383Alter\n",
       ":   -0.11693116886346Einkommen_verloren_wg_COVID1\n",
       ":   2.36239284968868Zugang_Aussenbereich2\n",
       ":   2.53096875137914Beziehungszufr3\n",
       ":   10.7508285307473Beziehungszufr6\n",
       ":   2.78010088748282Komplikationen1\n",
       ":   1.94198011152163SSW\n",
       ":   0.00262713655152723Dauer_bis_SS2\n",
       ":   -0.0313883024878099Einfluss_COV_Geburtsmet1\n",
       ":   1.38926223725234Gebkurs1\n",
       ":   -1.14141013025445Verdacht_COVID2\n",
       ":   -0.0180447791574495\n",
       "\n"
      ],
      "text/plain": [
       "                 (Intercept)                        Alter \n",
       "                 8.588744564                 -0.116931169 \n",
       "Einkommen_verloren_wg_COVID1        Zugang_Aussenbereich2 \n",
       "                 2.362392850                  2.530968751 \n",
       "             Beziehungszufr3              Beziehungszufr6 \n",
       "                10.750828531                  2.780100887 \n",
       "             Komplikationen1                          SSW \n",
       "                 1.941980112                  0.002627137 \n",
       "               Dauer_bis_SS2     Einfluss_COV_Geburtsmet1 \n",
       "                -0.031388302                  1.389262237 \n",
       "                    Gebkurs1              Verdacht_COVID2 \n",
       "                -1.141410130                 -0.018044779 "
      ]
     },
     "metadata": {},
     "output_type": "display_data"
    }
   ],
   "source": [
    "# Now I want to find out which model is the best\n",
    "step.model.gad.seq$bestTune # The model with 11 predictors is the best\n",
    "coef(step.model.gad.seq$finalModel, 11) # Here are the predictors and their coefficients "
   ]
  },
  {
   "cell_type": "code",
   "execution_count": 68,
   "id": "intermediate-lottery",
   "metadata": {},
   "outputs": [],
   "source": [
    "# Now I construct the model, which is suggested by the stepwise selection\n",
    "lm_gad_seq <- lm(GAD7_tot ~ Alter + Einkommen_verloren_wg_COVID + Zugang_Aussenbereich + Beziehungszufr + Komplikationen + \n",
    "                 SSW + Dauer_bis_SS + Einfluss_COV_Geburtsmet +  Gebkurs + Verdacht_COVID, data)"
   ]
  },
  {
   "cell_type": "code",
   "execution_count": 69,
   "id": "crucial-borough",
   "metadata": {},
   "outputs": [],
   "source": [
    "# Now I compute the 10-fold Cross-validation \n",
    "#For the CV I need to split my data into a training and a test dataset\n",
    "set.seed(20)\n",
    "parted_gad <- createDataPartition(y = data$GAD7_tot, p = 0.75, list= F)\n",
    "training_gad = data[parted_gad, ]\n",
    "test_gad <- data[-parted_gad, ]"
   ]
  },
  {
   "cell_type": "code",
   "execution_count": 74,
   "id": "functioning-relaxation",
   "metadata": {},
   "outputs": [
    {
     "name": "stderr",
     "output_type": "stream",
     "text": [
      "Warning message in predict.lm(modelFit, newdata):\n",
      "\"prediction from a rank-deficient fit may be misleading\"\n"
     ]
    },
    {
     "data": {
      "text/plain": [
       "Linear Regression \n",
       "\n",
       "195 samples\n",
       " 10 predictor\n",
       "\n",
       "No pre-processing\n",
       "Resampling: Cross-Validated (10 fold) \n",
       "Summary of sample sizes: 175, 176, 175, 175, 176, 177, ... \n",
       "Resampling results:\n",
       "\n",
       "  RMSE      Rsquared   MAE     \n",
       "  4.115397  0.2138876  3.098123\n",
       "\n",
       "Tuning parameter 'intercept' was held constant at a value of TRUE"
      ]
     },
     "metadata": {},
     "output_type": "display_data"
    },
    {
     "name": "stderr",
     "output_type": "stream",
     "text": [
      "Warning message in predict.lm(modelFit, newdata):\n",
      "\"prediction from a rank-deficient fit may be misleading\"\n",
      "Warning message in predict.lm(modelFit, newdata):\n",
      "\"prediction from a rank-deficient fit may be misleading\"\n",
      "Warning message in predict.lm(modelFit, newdata):\n",
      "\"prediction from a rank-deficient fit may be misleading\"\n",
      "Warning message in predict.lm(modelFit, newdata):\n",
      "\"prediction from a rank-deficient fit may be misleading\"\n",
      "Warning message in predict.lm(modelFit, newdata):\n",
      "\"prediction from a rank-deficient fit may be misleading\"\n",
      "Warning message in predict.lm(modelFit, newdata):\n",
      "\"prediction from a rank-deficient fit may be misleading\"\n",
      "Warning message in predict.lm(modelFit, newdata):\n",
      "\"prediction from a rank-deficient fit may be misleading\"\n",
      "Warning message in predict.lm(modelFit, newdata):\n",
      "\"prediction from a rank-deficient fit may be misleading\"\n",
      "Warning message in predict.lm(modelFit, newdata):\n",
      "\"prediction from a rank-deficient fit may be misleading\"\n",
      "Warning message in predict.lm(modelFit, newdata):\n",
      "\"prediction from a rank-deficient fit may be misleading\"\n"
     ]
    },
    {
     "data": {
      "text/plain": [
       "Linear Regression \n",
       "\n",
       "63 samples\n",
       "10 predictors\n",
       "\n",
       "No pre-processing\n",
       "Resampling: Cross-Validated (10 fold) \n",
       "Summary of sample sizes: 58, 57, 55, 57, 58, 57, ... \n",
       "Resampling results:\n",
       "\n",
       "  RMSE      Rsquared   MAE     \n",
       "  6.174444  0.1793673  4.618439\n",
       "\n",
       "Tuning parameter 'intercept' was held constant at a value of TRUE"
      ]
     },
     "metadata": {},
     "output_type": "display_data"
    }
   ],
   "source": [
    "# Now I use the 10-fold CV for the stepwise selected model\n",
    "set.seed(20)\n",
    "\n",
    "# defining training control as cross-validation and a 10-fold CV\n",
    "train_control_gad_seq <- trainControl(method = \"cv\",number = 10,savePrediction = \"all\")\n",
    "                              \n",
    " \n",
    "# training the model with GAD7_tot as the dependent variable and the other variables as independenz ones\n",
    "model_gad_seq_train <- train(GAD7_tot ~ Alter + Einkommen_verloren_wg_COVID + Zugang_Aussenbereich + Beziehungszufr + Komplikationen + \n",
    "                 SSW + Dauer_bis_SS + Einfluss_COV_Geburtsmet +  Gebkurs + Verdacht_COVID, data=training_gad,\n",
    "               method = \"lm\",\n",
    "               trControl = train_control_gad_seq)\n",
    " \n",
    "model_gad_seq_train\n",
    "\n",
    "# testing the model\n",
    "model_gad_seq_test <- train(GAD7_tot ~ Alter + Einkommen_verloren_wg_COVID + Zugang_Aussenbereich + Beziehungszufr + Komplikationen + \n",
    "                 SSW + Dauer_bis_SS + Einfluss_COV_Geburtsmet +  Gebkurs + Verdacht_COVID, data = test_gad,\n",
    "               method = \"lm\",\n",
    "               trControl = train_control_gad_seq)\n",
    "\n",
    "model_gad_seq_test"
   ]
  },
  {
   "cell_type": "markdown",
   "id": "unknown-title",
   "metadata": {},
   "source": [
    "The RMSE (Root Mean Squared Error, which gives the average prediction error made by the model) is much higher in the test (6.17) than in the trainig set (4.12). This is not a good sign because the an increase of the RMSE implies that the accuracy of the model decreases. So it could be that there is an overfitting in the training set.\n",
    "\n",
    "The MAE (Mean Absolute Error, which gives the absolute difference between the actual values and the values predicted by the model for the target variable) Is lower in the training set (3.1) than in the test set (4.62). It's better when the MAE is lower because than the model is better. This implies that the model performs better on the training than on the test dataset.\n",
    "\n",
    "The R-squared is higher in the train dataset (0.21) than in the test dataset (0.18), which implies that training dataset explains more of the anxiety-variance than the test dataset.\n",
    "\n",
    "In conclusion the model performed worse on the test data in comparison to the training data. So this could be a sign of an overfitting in the training set."
   ]
  },
  {
   "cell_type": "code",
   "execution_count": 79,
   "id": "eastern-tuning",
   "metadata": {},
   "outputs": [
    {
     "data": {
      "text/html": [
       "0.275832855780098"
      ],
      "text/latex": [
       "0.275832855780098"
      ],
      "text/markdown": [
       "0.275832855780098"
      ],
      "text/plain": [
       "[1] 0.2758329"
      ]
     },
     "metadata": {},
     "output_type": "display_data"
    },
    {
     "data": {
      "text/plain": [
       "\n",
       "ORDINARY NONPARAMETRIC BOOTSTRAP\n",
       "\n",
       "\n",
       "Call:\n",
       "boot(data = data$GAD7_tot, statistic = boot_c, R = 1000)\n",
       "\n",
       "\n",
       "Bootstrap Statistics :\n",
       "    original       bias    std. error\n",
       "t1* 5.972868 -0.001081395   0.2846875"
      ]
     },
     "metadata": {},
     "output_type": "display_data"
    }
   ],
   "source": [
    "# Now I compute the bootstrap for the GAD\n",
    "μ.err_gad = sd(data$GAD7_tot)/sqrt(length(data$GAD7_tot))\n",
    "μ.err_gad\n",
    "\n",
    "library(boot)\n",
    "boot_c = function(data, index) return(mean(data[index]))\n",
    "library(boot)\n",
    "bstrap_gad = boot(data$GAD7_tot, boot_c, 1000)\n",
    "bstrap_gad"
   ]
  },
  {
   "cell_type": "markdown",
   "id": "rational-cleaners",
   "metadata": {},
   "source": [
    "The two standard errror rates are very different 0.28 vs. 5.97. So the accuracy is very low."
   ]
  },
  {
   "cell_type": "markdown",
   "id": "driving-firmware",
   "metadata": {},
   "source": [
    "## Conclusion"
   ]
  },
  {
   "cell_type": "markdown",
   "id": "deluxe-madison",
   "metadata": {},
   "source": [
    "The two dependent variables anxiety (GAD) and postpartal depression (EPDS) have a relatively high correlation (0.81). So when a woman has a high anxiety score it's also likely that she has a high postpartal depression score and the burden is even higher.\n",
    "\n",
    "Postpartal depression is best predicted by 9 variables: highest education (high school graduation), relationship status (serious partnership), relationship satisfaction (values: 3 (not satisfied), 4 & 6 ), complications during pregnancy, duration until pregnancy (6-12 months), birth preparation course (in the past), suspicion of COVID-19 infection (unsure).\n",
    "\n",
    "Anxiety is best predicted by 11 variables: age, income lost due to COVID-19, access to outdoor space (sometimes), relationship satisfaction (values: 3 (not satisfied) & 6), complications during pregnancy, duration until pregnancy (6-12 months), pregnancy weeks, influence of COVID-19 on change of birth method, birth preparation course (during the pandemic), suspicion of COVID-19 infection (unsure). \n",
    "\n",
    "Therefore it would make sense to screen pregnant women for those predictors in order to be able to give those women, who are most at risk for postpartal depression and anxiety, preventive care and to minimize the adverse infant outcomes of maternal mental health problems. \n",
    "\n",
    "But the predictors for postpartal depression and anxiety have to be used carefully since both the 10-fold cross-validation and the bootstrapping indicate that the predictors aren't very good. Maybe another model than a linear would be useful or other predictors.\n",
    "\n",
    "\n"
   ]
  },
  {
   "cell_type": "markdown",
   "id": "consecutive-commonwealth",
   "metadata": {},
   "source": [
    "## Reference List"
   ]
  },
  {
   "cell_type": "markdown",
   "id": "framed-hampshire",
   "metadata": {},
   "source": [
    "Bayrampour, H., Vinturache, A., Hetherington, E., Lorenzetti, D. L., & Tough, S. (2018). Risk factors for antenatal anxiety: a systematic review of the literature. Journal of reproductive and infant psychology, 36(5), 476-503. https://doi.org/10.1080/02646838.2018.1492097.\n",
    "\n",
    "Brooks, S. K., Weston, D., & Greenberg, N. (2020). Psychological impact of infectious disease outbreaks on pregnant women: Rapid evidence review. Public Health, 189, 26-36. https://doi.org/10.1016/j.puhe.2020.09.006.\n",
    "\n",
    "Cox, J. L., Chapman, G., Murray, D., & Jones, P. (1996). Validation of the Edinburgh Postnatal Depression Scale (EPDS) in non-postnatal women. Journal of affective disorders, 39(3), 185-189. https://doi.org/10.1016/0165-0327(96)00008-0. \n",
    "\n",
    "Field, T. (2017). Prenatal anxiety effects: a review. Infant Behavior and Development, 49, 120-128. https://doi.org/10.1016/j.infbeh.2017.08.008.\n",
    "\n",
    "Glynn, L. M., Wadhwa, P. D., Dunkel-Schetter, C., Chicz-DeMet, A., & Sandman, C. A. (2001). When stress happens matters: effects of earthquake timing on stress responsivity in pregnancy. American journal of obstetrics and gynecology, 184(4), 637-642. https://doi.org/10.1067/mob.2001.111066. \n",
    "\n",
    "Ibrahim, S. M., & Lobel, M. (2020). Conceptualization, measurement, and effects of pregnancy-specific stress: review of research using the original and revised Prenatal Distress Questionnaire. Journal of behavioral medicine, 43(1), 16-33. https://doi.org/10.1007/s10865-019-00068-7. \n",
    "\n",
    "Liu, C. H., Zhang, E., Wong, G. T. F., & Hyun, S. (2020). Factors associated with depression, anxiety, and PTSD symptomatology during the COVID-19 pandemic: Clinical implications for US young adult mental health. Psychiatry research, 290, 113172. https://doi.org/10.1016/j.psychres.2020.113172\n",
    "\n",
    "Mertens, G., Gerritsen, L., Duijndam, S., Salemink, E., & Engelhard, I. M. (2020). Fear of the coronavirus (COVID-19): Predictors in an online study conducted in March 2020. Journal of Anxiety Disorders, 74, 102258. https://doi.org/10.1016/j.janxdis.2020.102258.\n",
    "\n",
    "Preis, H., Mahaffey, B., Heiselman, C., & Lobel, M. (2020). Vulnerability and resilience to pandemic-related stress among US women pregnant at the start of the COVID-19 pandemic. Social Science & Medicine, 266, 113348. https://doi.org/10.1016/j.socscimed.2020.113348\n",
    "\n",
    "Rajkumar, R. P. (2020). COVID-19 and mental health: A review of the existing literature. Asian journal of psychiatry, 52, 102066. https://doi.org/10.1016/j.ajp.2020.102066.\n",
    "\n",
    "Saccone, G., Florio, A., Aiello, F., Venturella, R., De Angelis, M. C., Locci, M., ... & Sardo, A. D. S. (2020). Psychological impact of coronavirus disease 2019 in pregnant women. American Journal of Obstetrics & Gynecology, 223(2), 293-295. https://doi.org/10.1016/j.ajog.2020.05.003.\n",
    "\n",
    "Spitzer, R. L., Kroenke, K., Williams, J. B., & Löwe, B. (2006). A brief measure for assessing generalized anxiety disorder: the GAD-7. Archives of internal medicine, 166(10), 1092-1097. https://doir.org/10.1001/archinte.166.10.1092.\n",
    "Trnka, R., & Lorencova, R. (2020). Fear, anger, and media-induced trauma during the outbreak of COVID-19 in the Czech Republic. Psychological trauma: theory, research, practice, and policy, 12(5), 546. https://doi.org/10.1037/tra0000675.\n"
   ]
  },
  {
   "cell_type": "code",
   "execution_count": null,
   "id": "instructional-benchmark",
   "metadata": {},
   "outputs": [],
   "source": []
  }
 ],
 "metadata": {
  "kernelspec": {
   "display_name": "R",
   "language": "R",
   "name": "ir"
  },
  "language_info": {
   "codemirror_mode": "r",
   "file_extension": ".r",
   "mimetype": "text/x-r-source",
   "name": "R",
   "pygments_lexer": "r",
   "version": "4.0.4"
  }
 },
 "nbformat": 4,
 "nbformat_minor": 5
}
