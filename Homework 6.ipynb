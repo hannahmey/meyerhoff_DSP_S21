{
 "cells": [
  {
   "cell_type": "code",
   "execution_count": 196,
   "id": "chief-heading",
   "metadata": {},
   "outputs": [
    {
     "name": "stderr",
     "output_type": "stream",
     "text": [
      "Warning message:\n",
      "\"package 'ISLR' is in use and will not be installed\"\n"
     ]
    },
    {
     "data": {
      "text/plain": [
       "      Year           Lag1               Lag2               Lag3         \n",
       " Min.   :1990   Min.   :-18.1950   Min.   :-18.1950   Min.   :-18.1950  \n",
       " 1st Qu.:1995   1st Qu.: -1.1540   1st Qu.: -1.1540   1st Qu.: -1.1580  \n",
       " Median :2000   Median :  0.2410   Median :  0.2410   Median :  0.2410  \n",
       " Mean   :2000   Mean   :  0.1506   Mean   :  0.1511   Mean   :  0.1472  \n",
       " 3rd Qu.:2005   3rd Qu.:  1.4050   3rd Qu.:  1.4090   3rd Qu.:  1.4090  \n",
       " Max.   :2010   Max.   : 12.0260   Max.   : 12.0260   Max.   : 12.0260  \n",
       "      Lag4               Lag5              Volume            Today         \n",
       " Min.   :-18.1950   Min.   :-18.1950   Min.   :0.08747   Min.   :-18.1950  \n",
       " 1st Qu.: -1.1580   1st Qu.: -1.1660   1st Qu.:0.33202   1st Qu.: -1.1540  \n",
       " Median :  0.2380   Median :  0.2340   Median :1.00268   Median :  0.2410  \n",
       " Mean   :  0.1458   Mean   :  0.1399   Mean   :1.57462   Mean   :  0.1499  \n",
       " 3rd Qu.:  1.4090   3rd Qu.:  1.4050   3rd Qu.:2.05373   3rd Qu.:  1.4050  \n",
       " Max.   : 12.0260   Max.   : 12.0260   Max.   :9.32821   Max.   : 12.0260  \n",
       " Direction\n",
       " 1:484    \n",
       " 2:605    \n",
       "          \n",
       "          \n",
       "          \n",
       "          "
      ]
     },
     "metadata": {},
     "output_type": "display_data"
    },
    {
     "data": {
      "text/html": [
       "<table class=\"dataframe\">\n",
       "<caption>A data.frame: 6 × 9</caption>\n",
       "<thead>\n",
       "\t<tr><th></th><th scope=col>Year</th><th scope=col>Lag1</th><th scope=col>Lag2</th><th scope=col>Lag3</th><th scope=col>Lag4</th><th scope=col>Lag5</th><th scope=col>Volume</th><th scope=col>Today</th><th scope=col>Direction</th></tr>\n",
       "\t<tr><th></th><th scope=col>&lt;dbl&gt;</th><th scope=col>&lt;dbl&gt;</th><th scope=col>&lt;dbl&gt;</th><th scope=col>&lt;dbl&gt;</th><th scope=col>&lt;dbl&gt;</th><th scope=col>&lt;dbl&gt;</th><th scope=col>&lt;dbl&gt;</th><th scope=col>&lt;dbl&gt;</th><th scope=col>&lt;fct&gt;</th></tr>\n",
       "</thead>\n",
       "<tbody>\n",
       "\t<tr><th scope=row>1</th><td>1990</td><td> 0.816</td><td> 1.572</td><td>-3.936</td><td>-0.229</td><td>-3.484</td><td>0.1549760</td><td>-0.270</td><td>1</td></tr>\n",
       "\t<tr><th scope=row>2</th><td>1990</td><td>-0.270</td><td> 0.816</td><td> 1.572</td><td>-3.936</td><td>-0.229</td><td>0.1485740</td><td>-2.576</td><td>1</td></tr>\n",
       "\t<tr><th scope=row>3</th><td>1990</td><td>-2.576</td><td>-0.270</td><td> 0.816</td><td> 1.572</td><td>-3.936</td><td>0.1598375</td><td> 3.514</td><td>2</td></tr>\n",
       "\t<tr><th scope=row>4</th><td>1990</td><td> 3.514</td><td>-2.576</td><td>-0.270</td><td> 0.816</td><td> 1.572</td><td>0.1616300</td><td> 0.712</td><td>2</td></tr>\n",
       "\t<tr><th scope=row>5</th><td>1990</td><td> 0.712</td><td> 3.514</td><td>-2.576</td><td>-0.270</td><td> 0.816</td><td>0.1537280</td><td> 1.178</td><td>2</td></tr>\n",
       "\t<tr><th scope=row>6</th><td>1990</td><td> 1.178</td><td> 0.712</td><td> 3.514</td><td>-2.576</td><td>-0.270</td><td>0.1544440</td><td>-1.372</td><td>1</td></tr>\n",
       "</tbody>\n",
       "</table>\n"
      ],
      "text/latex": [
       "A data.frame: 6 × 9\n",
       "\\begin{tabular}{r|lllllllll}\n",
       "  & Year & Lag1 & Lag2 & Lag3 & Lag4 & Lag5 & Volume & Today & Direction\\\\\n",
       "  & <dbl> & <dbl> & <dbl> & <dbl> & <dbl> & <dbl> & <dbl> & <dbl> & <fct>\\\\\n",
       "\\hline\n",
       "\t1 & 1990 &  0.816 &  1.572 & -3.936 & -0.229 & -3.484 & 0.1549760 & -0.270 & 1\\\\\n",
       "\t2 & 1990 & -0.270 &  0.816 &  1.572 & -3.936 & -0.229 & 0.1485740 & -2.576 & 1\\\\\n",
       "\t3 & 1990 & -2.576 & -0.270 &  0.816 &  1.572 & -3.936 & 0.1598375 &  3.514 & 2\\\\\n",
       "\t4 & 1990 &  3.514 & -2.576 & -0.270 &  0.816 &  1.572 & 0.1616300 &  0.712 & 2\\\\\n",
       "\t5 & 1990 &  0.712 &  3.514 & -2.576 & -0.270 &  0.816 & 0.1537280 &  1.178 & 2\\\\\n",
       "\t6 & 1990 &  1.178 &  0.712 &  3.514 & -2.576 & -0.270 & 0.1544440 & -1.372 & 1\\\\\n",
       "\\end{tabular}\n"
      ],
      "text/markdown": [
       "\n",
       "A data.frame: 6 × 9\n",
       "\n",
       "| <!--/--> | Year &lt;dbl&gt; | Lag1 &lt;dbl&gt; | Lag2 &lt;dbl&gt; | Lag3 &lt;dbl&gt; | Lag4 &lt;dbl&gt; | Lag5 &lt;dbl&gt; | Volume &lt;dbl&gt; | Today &lt;dbl&gt; | Direction &lt;fct&gt; |\n",
       "|---|---|---|---|---|---|---|---|---|---|\n",
       "| 1 | 1990 |  0.816 |  1.572 | -3.936 | -0.229 | -3.484 | 0.1549760 | -0.270 | 1 |\n",
       "| 2 | 1990 | -0.270 |  0.816 |  1.572 | -3.936 | -0.229 | 0.1485740 | -2.576 | 1 |\n",
       "| 3 | 1990 | -2.576 | -0.270 |  0.816 |  1.572 | -3.936 | 0.1598375 |  3.514 | 2 |\n",
       "| 4 | 1990 |  3.514 | -2.576 | -0.270 |  0.816 |  1.572 | 0.1616300 |  0.712 | 2 |\n",
       "| 5 | 1990 |  0.712 |  3.514 | -2.576 | -0.270 |  0.816 | 0.1537280 |  1.178 | 2 |\n",
       "| 6 | 1990 |  1.178 |  0.712 |  3.514 | -2.576 | -0.270 | 0.1544440 | -1.372 | 1 |\n",
       "\n"
      ],
      "text/plain": [
       "  Year Lag1   Lag2   Lag3   Lag4   Lag5   Volume    Today  Direction\n",
       "1 1990  0.816  1.572 -3.936 -0.229 -3.484 0.1549760 -0.270 1        \n",
       "2 1990 -0.270  0.816  1.572 -3.936 -0.229 0.1485740 -2.576 1        \n",
       "3 1990 -2.576 -0.270  0.816  1.572 -3.936 0.1598375  3.514 2        \n",
       "4 1990  3.514 -2.576 -0.270  0.816  1.572 0.1616300  0.712 2        \n",
       "5 1990  0.712  3.514 -2.576 -0.270  0.816 0.1537280  1.178 2        \n",
       "6 1990  1.178  0.712  3.514 -2.576 -0.270 0.1544440 -1.372 1        "
      ]
     },
     "metadata": {},
     "output_type": "display_data"
    },
    {
     "data": {
      "text/html": [
       "<table class=\"dataframe\">\n",
       "<caption>A matrix: 9 × 9 of type dbl</caption>\n",
       "<thead>\n",
       "\t<tr><th></th><th scope=col>Year</th><th scope=col>Lag1</th><th scope=col>Lag2</th><th scope=col>Lag3</th><th scope=col>Lag4</th><th scope=col>Lag5</th><th scope=col>Volume</th><th scope=col>Today</th><th scope=col>Direction</th></tr>\n",
       "</thead>\n",
       "<tbody>\n",
       "\t<tr><th scope=row>Year</th><td> 1.00000000</td><td>-0.032289274</td><td>-0.03339001</td><td>-0.03000649</td><td>-0.031127923</td><td>-0.030519101</td><td> 0.84194162</td><td>-0.032459894</td><td>-0.02220025</td></tr>\n",
       "\t<tr><th scope=row>Lag1</th><td>-0.03228927</td><td> 1.000000000</td><td>-0.07485305</td><td> 0.05863568</td><td>-0.071273876</td><td>-0.008183096</td><td>-0.06495131</td><td>-0.075031842</td><td>-0.05000380</td></tr>\n",
       "\t<tr><th scope=row>Lag2</th><td>-0.03339001</td><td>-0.074853051</td><td> 1.00000000</td><td>-0.07572091</td><td> 0.058381535</td><td>-0.072499482</td><td>-0.08551314</td><td> 0.059166717</td><td> 0.07269634</td></tr>\n",
       "\t<tr><th scope=row>Lag3</th><td>-0.03000649</td><td> 0.058635682</td><td>-0.07572091</td><td> 1.00000000</td><td>-0.075395865</td><td> 0.060657175</td><td>-0.06928771</td><td>-0.071243639</td><td>-0.02291281</td></tr>\n",
       "\t<tr><th scope=row>Lag4</th><td>-0.03112792</td><td>-0.071273876</td><td> 0.05838153</td><td>-0.07539587</td><td> 1.000000000</td><td>-0.075675027</td><td>-0.06107462</td><td>-0.007825873</td><td>-0.02054946</td></tr>\n",
       "\t<tr><th scope=row>Lag5</th><td>-0.03051910</td><td>-0.008183096</td><td>-0.07249948</td><td> 0.06065717</td><td>-0.075675027</td><td> 1.000000000</td><td>-0.05851741</td><td> 0.011012698</td><td>-0.01816827</td></tr>\n",
       "\t<tr><th scope=row>Volume</th><td> 0.84194162</td><td>-0.064951313</td><td>-0.08551314</td><td>-0.06928771</td><td>-0.061074617</td><td>-0.058517414</td><td> 1.00000000</td><td>-0.033077783</td><td>-0.01799521</td></tr>\n",
       "\t<tr><th scope=row>Today</th><td>-0.03245989</td><td>-0.075031842</td><td> 0.05916672</td><td>-0.07124364</td><td>-0.007825873</td><td> 0.011012698</td><td>-0.03307778</td><td> 1.000000000</td><td> 0.72002470</td></tr>\n",
       "\t<tr><th scope=row>Direction</th><td>-0.02220025</td><td>-0.050003804</td><td> 0.07269634</td><td>-0.02291281</td><td>-0.020549456</td><td>-0.018168272</td><td>-0.01799521</td><td> 0.720024704</td><td> 1.00000000</td></tr>\n",
       "</tbody>\n",
       "</table>\n"
      ],
      "text/latex": [
       "A matrix: 9 × 9 of type dbl\n",
       "\\begin{tabular}{r|lllllllll}\n",
       "  & Year & Lag1 & Lag2 & Lag3 & Lag4 & Lag5 & Volume & Today & Direction\\\\\n",
       "\\hline\n",
       "\tYear &  1.00000000 & -0.032289274 & -0.03339001 & -0.03000649 & -0.031127923 & -0.030519101 &  0.84194162 & -0.032459894 & -0.02220025\\\\\n",
       "\tLag1 & -0.03228927 &  1.000000000 & -0.07485305 &  0.05863568 & -0.071273876 & -0.008183096 & -0.06495131 & -0.075031842 & -0.05000380\\\\\n",
       "\tLag2 & -0.03339001 & -0.074853051 &  1.00000000 & -0.07572091 &  0.058381535 & -0.072499482 & -0.08551314 &  0.059166717 &  0.07269634\\\\\n",
       "\tLag3 & -0.03000649 &  0.058635682 & -0.07572091 &  1.00000000 & -0.075395865 &  0.060657175 & -0.06928771 & -0.071243639 & -0.02291281\\\\\n",
       "\tLag4 & -0.03112792 & -0.071273876 &  0.05838153 & -0.07539587 &  1.000000000 & -0.075675027 & -0.06107462 & -0.007825873 & -0.02054946\\\\\n",
       "\tLag5 & -0.03051910 & -0.008183096 & -0.07249948 &  0.06065717 & -0.075675027 &  1.000000000 & -0.05851741 &  0.011012698 & -0.01816827\\\\\n",
       "\tVolume &  0.84194162 & -0.064951313 & -0.08551314 & -0.06928771 & -0.061074617 & -0.058517414 &  1.00000000 & -0.033077783 & -0.01799521\\\\\n",
       "\tToday & -0.03245989 & -0.075031842 &  0.05916672 & -0.07124364 & -0.007825873 &  0.011012698 & -0.03307778 &  1.000000000 &  0.72002470\\\\\n",
       "\tDirection & -0.02220025 & -0.050003804 &  0.07269634 & -0.02291281 & -0.020549456 & -0.018168272 & -0.01799521 &  0.720024704 &  1.00000000\\\\\n",
       "\\end{tabular}\n"
      ],
      "text/markdown": [
       "\n",
       "A matrix: 9 × 9 of type dbl\n",
       "\n",
       "| <!--/--> | Year | Lag1 | Lag2 | Lag3 | Lag4 | Lag5 | Volume | Today | Direction |\n",
       "|---|---|---|---|---|---|---|---|---|---|\n",
       "| Year |  1.00000000 | -0.032289274 | -0.03339001 | -0.03000649 | -0.031127923 | -0.030519101 |  0.84194162 | -0.032459894 | -0.02220025 |\n",
       "| Lag1 | -0.03228927 |  1.000000000 | -0.07485305 |  0.05863568 | -0.071273876 | -0.008183096 | -0.06495131 | -0.075031842 | -0.05000380 |\n",
       "| Lag2 | -0.03339001 | -0.074853051 |  1.00000000 | -0.07572091 |  0.058381535 | -0.072499482 | -0.08551314 |  0.059166717 |  0.07269634 |\n",
       "| Lag3 | -0.03000649 |  0.058635682 | -0.07572091 |  1.00000000 | -0.075395865 |  0.060657175 | -0.06928771 | -0.071243639 | -0.02291281 |\n",
       "| Lag4 | -0.03112792 | -0.071273876 |  0.05838153 | -0.07539587 |  1.000000000 | -0.075675027 | -0.06107462 | -0.007825873 | -0.02054946 |\n",
       "| Lag5 | -0.03051910 | -0.008183096 | -0.07249948 |  0.06065717 | -0.075675027 |  1.000000000 | -0.05851741 |  0.011012698 | -0.01816827 |\n",
       "| Volume |  0.84194162 | -0.064951313 | -0.08551314 | -0.06928771 | -0.061074617 | -0.058517414 |  1.00000000 | -0.033077783 | -0.01799521 |\n",
       "| Today | -0.03245989 | -0.075031842 |  0.05916672 | -0.07124364 | -0.007825873 |  0.011012698 | -0.03307778 |  1.000000000 |  0.72002470 |\n",
       "| Direction | -0.02220025 | -0.050003804 |  0.07269634 | -0.02291281 | -0.020549456 | -0.018168272 | -0.01799521 |  0.720024704 |  1.00000000 |\n",
       "\n"
      ],
      "text/plain": [
       "          Year        Lag1         Lag2        Lag3        Lag4        \n",
       "Year       1.00000000 -0.032289274 -0.03339001 -0.03000649 -0.031127923\n",
       "Lag1      -0.03228927  1.000000000 -0.07485305  0.05863568 -0.071273876\n",
       "Lag2      -0.03339001 -0.074853051  1.00000000 -0.07572091  0.058381535\n",
       "Lag3      -0.03000649  0.058635682 -0.07572091  1.00000000 -0.075395865\n",
       "Lag4      -0.03112792 -0.071273876  0.05838153 -0.07539587  1.000000000\n",
       "Lag5      -0.03051910 -0.008183096 -0.07249948  0.06065717 -0.075675027\n",
       "Volume     0.84194162 -0.064951313 -0.08551314 -0.06928771 -0.061074617\n",
       "Today     -0.03245989 -0.075031842  0.05916672 -0.07124364 -0.007825873\n",
       "Direction -0.02220025 -0.050003804  0.07269634 -0.02291281 -0.020549456\n",
       "          Lag5         Volume      Today        Direction  \n",
       "Year      -0.030519101  0.84194162 -0.032459894 -0.02220025\n",
       "Lag1      -0.008183096 -0.06495131 -0.075031842 -0.05000380\n",
       "Lag2      -0.072499482 -0.08551314  0.059166717  0.07269634\n",
       "Lag3       0.060657175 -0.06928771 -0.071243639 -0.02291281\n",
       "Lag4      -0.075675027 -0.06107462 -0.007825873 -0.02054946\n",
       "Lag5       1.000000000 -0.05851741  0.011012698 -0.01816827\n",
       "Volume    -0.058517414  1.00000000 -0.033077783 -0.01799521\n",
       "Today      0.011012698 -0.03307778  1.000000000  0.72002470\n",
       "Direction -0.018168272 -0.01799521  0.720024704  1.00000000"
      ]
     },
     "metadata": {},
     "output_type": "display_data"
    }
   ],
   "source": [
    "install.packages(\"ISLR\")\n",
    "library(ISLR)\n",
    "library(tidyverse)\n",
    "\n",
    "#10a)\n",
    "summary(Weekly)\n",
    "head(Weekly)\n",
    "Weekly$Direction <- as.numeric(Weekly$Direction)\n",
    "cor(Weekly)"
   ]
  },
  {
   "cell_type": "markdown",
   "id": "brown-uniform",
   "metadata": {},
   "source": [
    "There seems to be a strong correlation between Volume & Year (0.84) and Direction & Today (0.72). The other correlations are small. "
   ]
  },
  {
   "cell_type": "code",
   "execution_count": 197,
   "id": "proper-italy",
   "metadata": {},
   "outputs": [
    {
     "data": {
      "text/html": [
       "'10b'"
      ],
      "text/latex": [
       "'10b'"
      ],
      "text/markdown": [
       "'10b'"
      ],
      "text/plain": [
       "[1] \"10b\""
      ]
     },
     "metadata": {},
     "output_type": "display_data"
    },
    {
     "data": {
      "text/plain": [
       "\n",
       "Call:\n",
       "glm(formula = Direction ~ Lag1 + Lag2 + Lag3 + Lag4 + Lag5 + \n",
       "    Volume, family = binomial, data = Weekly)\n",
       "\n",
       "Deviance Residuals: \n",
       "    Min       1Q   Median       3Q      Max  \n",
       "-1.6949  -1.2565   0.9913   1.0849   1.4579  \n",
       "\n",
       "Coefficients:\n",
       "            Estimate Std. Error z value Pr(>|z|)   \n",
       "(Intercept)  0.26686    0.08593   3.106   0.0019 **\n",
       "Lag1        -0.04127    0.02641  -1.563   0.1181   \n",
       "Lag2         0.05844    0.02686   2.175   0.0296 * \n",
       "Lag3        -0.01606    0.02666  -0.602   0.5469   \n",
       "Lag4        -0.02779    0.02646  -1.050   0.2937   \n",
       "Lag5        -0.01447    0.02638  -0.549   0.5833   \n",
       "Volume      -0.02274    0.03690  -0.616   0.5377   \n",
       "---\n",
       "Signif. codes:  0 '***' 0.001 '**' 0.01 '*' 0.05 '.' 0.1 ' ' 1\n",
       "\n",
       "(Dispersion parameter for binomial family taken to be 1)\n",
       "\n",
       "    Null deviance: 1496.2  on 1088  degrees of freedom\n",
       "Residual deviance: 1486.4  on 1082  degrees of freedom\n",
       "AIC: 1500.4\n",
       "\n",
       "Number of Fisher Scoring iterations: 4\n"
      ]
     },
     "metadata": {},
     "output_type": "display_data"
    }
   ],
   "source": [
    "\"10b\"\n",
    "Weekly$Direction <- as.factor(Weekly$Direction)\n",
    "glm_b <- glm(Direction~Lag1+Lag2+Lag3+Lag4+Lag5+Volume, data=Weekly, family=binomial)\n",
    "summary(glm_b)"
   ]
  },
  {
   "cell_type": "markdown",
   "id": "checked-psychology",
   "metadata": {},
   "source": [
    "Lag2 is the only significant predictor."
   ]
  },
  {
   "cell_type": "code",
   "execution_count": 198,
   "id": "premium-skirt",
   "metadata": {},
   "outputs": [
    {
     "data": {
      "text/html": [
       "'10c'"
      ],
      "text/latex": [
       "'10c'"
      ],
      "text/markdown": [
       "'10c'"
      ],
      "text/plain": [
       "[1] \"10c\""
      ]
     },
     "metadata": {},
     "output_type": "display_data"
    },
    {
     "data": {
      "text/html": [
       "<table class=\"dataframe\">\n",
       "<caption>A matrix: 2 × 1 of type dbl</caption>\n",
       "<thead>\n",
       "\t<tr><th></th><th scope=col>2</th></tr>\n",
       "</thead>\n",
       "<tbody>\n",
       "\t<tr><th scope=row>1</th><td>0</td></tr>\n",
       "\t<tr><th scope=row>2</th><td>1</td></tr>\n",
       "</tbody>\n",
       "</table>\n"
      ],
      "text/latex": [
       "A matrix: 2 × 1 of type dbl\n",
       "\\begin{tabular}{r|l}\n",
       "  & 2\\\\\n",
       "\\hline\n",
       "\t1 & 0\\\\\n",
       "\t2 & 1\\\\\n",
       "\\end{tabular}\n"
      ],
      "text/markdown": [
       "\n",
       "A matrix: 2 × 1 of type dbl\n",
       "\n",
       "| <!--/--> | 2 |\n",
       "|---|---|\n",
       "| 1 | 0 |\n",
       "| 2 | 1 |\n",
       "\n"
      ],
      "text/plain": [
       "  2\n",
       "1 0\n",
       "2 1"
      ]
     },
     "metadata": {},
     "output_type": "display_data"
    },
    {
     "data": {
      "text/plain": [
       "        \n",
       "glm.pred   1   2\n",
       "       1  54  48\n",
       "       2 430 557"
      ]
     },
     "metadata": {},
     "output_type": "display_data"
    },
    {
     "data": {
      "text/html": [
       "0.561065197428834"
      ],
      "text/latex": [
       "0.561065197428834"
      ],
      "text/markdown": [
       "0.561065197428834"
      ],
      "text/plain": [
       "[1] 0.5610652"
      ]
     },
     "metadata": {},
     "output_type": "display_data"
    }
   ],
   "source": [
    "\"10c\"\n",
    "glm.probs = predict(glm_b,type = \"response\")\n",
    "contrasts(Weekly$Direction)\n",
    "glm.pred = rep(\"1\", length(glm.probs))\n",
    "glm.pred[glm.probs > .5] = \"2\"\n",
    "table(glm.pred, Weekly$Direction)\n",
    "mean(glm.pred==Weekly$Direction)"
   ]
  },
  {
   "cell_type": "markdown",
   "id": "dedicated-dealer",
   "metadata": {},
   "source": [
    "The confusion matrix shows us how many observations were classified correctely and falsely. Here 611 observations were classified correctly and 478 observations were classified falsely. 56% of the overall observations are classified correctly. For \"Up\" 92% (48/(48+557)=0.92) of the observations were classified correctly and for \"Down\" 11% of the observations were classified correctly (54/(54+430)=0.112)."
   ]
  },
  {
   "cell_type": "code",
   "execution_count": 199,
   "id": "fundamental-organ",
   "metadata": {},
   "outputs": [
    {
     "data": {
      "text/html": [
       "'10d'"
      ],
      "text/latex": [
       "'10d'"
      ],
      "text/markdown": [
       "'10d'"
      ],
      "text/plain": [
       "[1] \"10d\""
      ]
     },
     "metadata": {},
     "output_type": "display_data"
    },
    {
     "data": {
      "text/html": [
       "<style>\n",
       ".list-inline {list-style: none; margin:0; padding: 0}\n",
       ".list-inline>li {display: inline-block}\n",
       ".list-inline>li:not(:last-child)::after {content: \"\\00b7\"; padding: 0 .5ex}\n",
       "</style>\n",
       "<ol class=list-inline><li>104</li><li>9</li></ol>\n"
      ],
      "text/latex": [
       "\\begin{enumerate*}\n",
       "\\item 104\n",
       "\\item 9\n",
       "\\end{enumerate*}\n"
      ],
      "text/markdown": [
       "1. 104\n",
       "2. 9\n",
       "\n",
       "\n"
      ],
      "text/plain": [
       "[1] 104   9"
      ]
     },
     "metadata": {},
     "output_type": "display_data"
    },
    {
     "data": {
      "text/plain": [
       "        Direction.0910\n",
       "glm.pred  1  2\n",
       "       1  9  5\n",
       "       2 34 56"
      ]
     },
     "metadata": {},
     "output_type": "display_data"
    },
    {
     "data": {
      "text/html": [
       "0.625"
      ],
      "text/latex": [
       "0.625"
      ],
      "text/markdown": [
       "0.625"
      ],
      "text/plain": [
       "[1] 0.625"
      ]
     },
     "metadata": {},
     "output_type": "display_data"
    }
   ],
   "source": [
    "\"10d\"\n",
    "train = (Weekly$Year<2009)\n",
    "Weekly.0910 = Weekly[!train,]\n",
    "dim(Weekly.0910)\n",
    "Direction.0910=Weekly$Direction[!train]\n",
    "glm.fit = glm(Direction~Lag2, data=Weekly, family=binomial,subset=train)\n",
    "glm.probs = predict(glm.fit, Weekly.0910,type=\"response\")\n",
    "glm.pred = rep(\"1\", length(glm.probs))\n",
    "glm.pred[glm.probs>.5] = \"2\"\n",
    "table(glm.pred, Direction.0910)\n",
    "mean(glm.pred == Direction.0910)\n",
    "\n"
   ]
  },
  {
   "cell_type": "code",
   "execution_count": 200,
   "id": "massive-spoke",
   "metadata": {},
   "outputs": [
    {
     "data": {
      "text/html": [
       "'10e'"
      ],
      "text/latex": [
       "'10e'"
      ],
      "text/markdown": [
       "'10e'"
      ],
      "text/plain": [
       "[1] \"10e\""
      ]
     },
     "metadata": {},
     "output_type": "display_data"
    },
    {
     "name": "stderr",
     "output_type": "stream",
     "text": [
      "Warning message:\n",
      "\"package 'MASS' is in use and will not be installed\"\n"
     ]
    },
    {
     "data": {
      "text/plain": [
       "   Direction.0910\n",
       "     1  2\n",
       "  1  9  5\n",
       "  2 34 56"
      ]
     },
     "metadata": {},
     "output_type": "display_data"
    },
    {
     "data": {
      "text/html": [
       "0.625"
      ],
      "text/latex": [
       "0.625"
      ],
      "text/markdown": [
       "0.625"
      ],
      "text/plain": [
       "[1] 0.625"
      ]
     },
     "metadata": {},
     "output_type": "display_data"
    }
   ],
   "source": [
    "\"10e\"\n",
    "install.packages(\"MASS\")\n",
    "library(MASS)\n",
    "lda.fit = lda(Direction~Lag2, data=Weekly,subset=train)\n",
    "lda.pred = predict(lda.fit, Weekly.0910)\n",
    "table(lda.pred$class, Direction.0910)\n",
    "mean(lda.pred$class == Direction.0910)"
   ]
  },
  {
   "cell_type": "code",
   "execution_count": 201,
   "id": "supposed-border",
   "metadata": {},
   "outputs": [
    {
     "data": {
      "text/html": [
       "'10f'"
      ],
      "text/latex": [
       "'10f'"
      ],
      "text/markdown": [
       "'10f'"
      ],
      "text/plain": [
       "[1] \"10f\""
      ]
     },
     "metadata": {},
     "output_type": "display_data"
    },
    {
     "data": {
      "text/plain": [
       "   Direction.0910\n",
       "     1  2\n",
       "  1  0  0\n",
       "  2 43 61"
      ]
     },
     "metadata": {},
     "output_type": "display_data"
    },
    {
     "data": {
      "text/html": [
       "0.586538461538462"
      ],
      "text/latex": [
       "0.586538461538462"
      ],
      "text/markdown": [
       "0.586538461538462"
      ],
      "text/plain": [
       "[1] 0.5865385"
      ]
     },
     "metadata": {},
     "output_type": "display_data"
    }
   ],
   "source": [
    "\"10f\"\n",
    "qda.fit = qda(Direction~Lag2, data=Weekly,subset=train)\n",
    "qda.pred = predict(qda.fit, Weekly.0910)\n",
    "table(qda.pred$class, Direction.0910)\n",
    "mean(qda.pred$class == Direction.0910)"
   ]
  },
  {
   "cell_type": "code",
   "execution_count": 202,
   "id": "noted-rental",
   "metadata": {},
   "outputs": [
    {
     "data": {
      "text/html": [
       "'10g'"
      ],
      "text/latex": [
       "'10g'"
      ],
      "text/markdown": [
       "'10g'"
      ],
      "text/plain": [
       "[1] \"10g\""
      ]
     },
     "metadata": {},
     "output_type": "display_data"
    },
    {
     "name": "stderr",
     "output_type": "stream",
     "text": [
      "Warning message:\n",
      "\"package 'class' is in use and will not be installed\"\n"
     ]
    },
    {
     "data": {
      "text/plain": [
       "        Direction.0910\n",
       "knn.pred  1  2\n",
       "       1 21 30\n",
       "       2 22 31"
      ]
     },
     "metadata": {},
     "output_type": "display_data"
    },
    {
     "data": {
      "text/html": [
       "0.5"
      ],
      "text/latex": [
       "0.5"
      ],
      "text/markdown": [
       "0.5"
      ],
      "text/plain": [
       "[1] 0.5"
      ]
     },
     "metadata": {},
     "output_type": "display_data"
    }
   ],
   "source": [
    "\"10g\"\n",
    "install.packages(\"class\")\n",
    "library(class)\n",
    "train.X = as.matrix(Weekly$Lag2[train])\n",
    "test.X = as.matrix(Weekly$Lag2[!train])\n",
    "train.Direction = Weekly$Direction[train]\n",
    "set.seed(1)\n",
    "knn.pred = knn(train.X, test.X, train.Direction, k=1)\n",
    "table(knn.pred, Direction.0910)\n",
    "mean(knn.pred==Direction.0910)"
   ]
  },
  {
   "cell_type": "markdown",
   "id": "radio-swing",
   "metadata": {},
   "source": [
    "\"10h\"\n",
    "LDA and logistic regression both have the best percentage of overall correct classified observations (62.5%). "
   ]
  },
  {
   "cell_type": "code",
   "execution_count": 203,
   "id": "visible-relations",
   "metadata": {},
   "outputs": [
    {
     "data": {
      "text/html": [
       "'10i'"
      ],
      "text/latex": [
       "'10i'"
      ],
      "text/markdown": [
       "'10i'"
      ],
      "text/plain": [
       "[1] \"10i\""
      ]
     },
     "metadata": {},
     "output_type": "display_data"
    },
    {
     "data": {
      "text/html": [
       "'logistic regression with interaction and main effects Lag1 &amp; Lag2'"
      ],
      "text/latex": [
       "'logistic regression with interaction and main effects Lag1 \\& Lag2'"
      ],
      "text/markdown": [
       "'logistic regression with interaction and main effects Lag1 &amp; Lag2'"
      ],
      "text/plain": [
       "[1] \"logistic regression with interaction and main effects Lag1 & Lag2\""
      ]
     },
     "metadata": {},
     "output_type": "display_data"
    },
    {
     "data": {
      "text/plain": [
       "        Direction.0910\n",
       "glm.pred  1  2\n",
       "       1  7  8\n",
       "       2 36 53"
      ]
     },
     "metadata": {},
     "output_type": "display_data"
    },
    {
     "data": {
      "text/html": [
       "0.576923076923077"
      ],
      "text/latex": [
       "0.576923076923077"
      ],
      "text/markdown": [
       "0.576923076923077"
      ],
      "text/plain": [
       "[1] 0.5769231"
      ]
     },
     "metadata": {},
     "output_type": "display_data"
    },
    {
     "data": {
      "text/html": [
       "'Logistic regression with interaction and main effect Lag1, Lag2 &amp; squared Lag3'"
      ],
      "text/latex": [
       "'Logistic regression with interaction and main effect Lag1, Lag2 \\& squared Lag3'"
      ],
      "text/markdown": [
       "'Logistic regression with interaction and main effect Lag1, Lag2 &amp; squared Lag3'"
      ],
      "text/plain": [
       "[1] \"Logistic regression with interaction and main effect Lag1, Lag2 & squared Lag3\""
      ]
     },
     "metadata": {},
     "output_type": "display_data"
    },
    {
     "data": {
      "text/plain": [
       "        Direction.0910\n",
       "glm.pred  1  2\n",
       "       1  6  7\n",
       "       2 37 54"
      ]
     },
     "metadata": {},
     "output_type": "display_data"
    },
    {
     "data": {
      "text/html": [
       "0.576923076923077"
      ],
      "text/latex": [
       "0.576923076923077"
      ],
      "text/markdown": [
       "0.576923076923077"
      ],
      "text/plain": [
       "[1] 0.5769231"
      ]
     },
     "metadata": {},
     "output_type": "display_data"
    },
    {
     "data": {
      "text/html": [
       "'LDA Lag1 &amp; squared Lag4'"
      ],
      "text/latex": [
       "'LDA Lag1 \\& squared Lag4'"
      ],
      "text/markdown": [
       "'LDA Lag1 &amp; squared Lag4'"
      ],
      "text/plain": [
       "[1] \"LDA Lag1 & squared Lag4\""
      ]
     },
     "metadata": {},
     "output_type": "display_data"
    },
    {
     "data": {
      "text/plain": [
       "   Direction.0910\n",
       "     1  2\n",
       "  1  8  5\n",
       "  2 35 56"
      ]
     },
     "metadata": {},
     "output_type": "display_data"
    },
    {
     "data": {
      "text/html": [
       "0.615384615384615"
      ],
      "text/latex": [
       "0.615384615384615"
      ],
      "text/markdown": [
       "0.615384615384615"
      ],
      "text/plain": [
       "[1] 0.6153846"
      ]
     },
     "metadata": {},
     "output_type": "display_data"
    },
    {
     "data": {
      "text/html": [
       "'LDA Lag1 &amp; Lag2 &amp; Year'"
      ],
      "text/latex": [
       "'LDA Lag1 \\& Lag2 \\& Year'"
      ],
      "text/markdown": [
       "'LDA Lag1 &amp; Lag2 &amp; Year'"
      ],
      "text/plain": [
       "[1] \"LDA Lag1 & Lag2 & Year\""
      ]
     },
     "metadata": {},
     "output_type": "display_data"
    },
    {
     "data": {
      "text/plain": [
       "   Direction.0910\n",
       "     1  2\n",
       "  1 13 16\n",
       "  2 30 45"
      ]
     },
     "metadata": {},
     "output_type": "display_data"
    },
    {
     "data": {
      "text/html": [
       "0.557692307692308"
      ],
      "text/latex": [
       "0.557692307692308"
      ],
      "text/markdown": [
       "0.557692307692308"
      ],
      "text/plain": [
       "[1] 0.5576923"
      ]
     },
     "metadata": {},
     "output_type": "display_data"
    },
    {
     "data": {
      "text/html": [
       "'QDA Lag1 &amp; Lag2'"
      ],
      "text/latex": [
       "'QDA Lag1 \\& Lag2'"
      ],
      "text/markdown": [
       "'QDA Lag1 &amp; Lag2'"
      ],
      "text/plain": [
       "[1] \"QDA Lag1 & Lag2\""
      ]
     },
     "metadata": {},
     "output_type": "display_data"
    },
    {
     "data": {
      "text/plain": [
       "         Direction.0910\n",
       "qda.class  1  2\n",
       "        1 23 36\n",
       "        2 20 25"
      ]
     },
     "metadata": {},
     "output_type": "display_data"
    },
    {
     "data": {
      "text/html": [
       "0.461538461538462"
      ],
      "text/latex": [
       "0.461538461538462"
      ],
      "text/markdown": [
       "0.461538461538462"
      ],
      "text/plain": [
       "[1] 0.4615385"
      ]
     },
     "metadata": {},
     "output_type": "display_data"
    },
    {
     "data": {
      "text/html": [
       "'QDA Lag1 &amp; Lag2 &amp; Volume'"
      ],
      "text/latex": [
       "'QDA Lag1 \\& Lag2 \\& Volume'"
      ],
      "text/markdown": [
       "'QDA Lag1 &amp; Lag2 &amp; Volume'"
      ],
      "text/plain": [
       "[1] \"QDA Lag1 & Lag2 & Volume\""
      ]
     },
     "metadata": {},
     "output_type": "display_data"
    },
    {
     "data": {
      "text/plain": [
       "         Direction.0910\n",
       "qda.class  1  2\n",
       "        1 37 49\n",
       "        2  6 12"
      ]
     },
     "metadata": {},
     "output_type": "display_data"
    },
    {
     "data": {
      "text/html": [
       "0.471153846153846"
      ],
      "text/latex": [
       "0.471153846153846"
      ],
      "text/markdown": [
       "0.471153846153846"
      ],
      "text/plain": [
       "[1] 0.4711538"
      ]
     },
     "metadata": {},
     "output_type": "display_data"
    },
    {
     "data": {
      "text/html": [
       "'QDA absLag2'"
      ],
      "text/latex": [
       "'QDA absLag2'"
      ],
      "text/markdown": [
       "'QDA absLag2'"
      ],
      "text/plain": [
       "[1] \"QDA absLag2\""
      ]
     },
     "metadata": {},
     "output_type": "display_data"
    },
    {
     "data": {
      "text/plain": [
       "         Direction.0910\n",
       "qda.class  1  2\n",
       "        1  0  0\n",
       "        2 43 61"
      ]
     },
     "metadata": {},
     "output_type": "display_data"
    },
    {
     "data": {
      "text/html": [
       "0.586538461538462"
      ],
      "text/latex": [
       "0.586538461538462"
      ],
      "text/markdown": [
       "0.586538461538462"
      ],
      "text/plain": [
       "[1] 0.5865385"
      ]
     },
     "metadata": {},
     "output_type": "display_data"
    },
    {
     "data": {
      "text/html": [
       "'KNN k=10'"
      ],
      "text/latex": [
       "'KNN k=10'"
      ],
      "text/markdown": [
       "'KNN k=10'"
      ],
      "text/plain": [
       "[1] \"KNN k=10\""
      ]
     },
     "metadata": {},
     "output_type": "display_data"
    },
    {
     "data": {
      "text/plain": [
       "        Direction.0910\n",
       "knn.pred  1  2\n",
       "       1 17 18\n",
       "       2 26 43"
      ]
     },
     "metadata": {},
     "output_type": "display_data"
    },
    {
     "data": {
      "text/html": [
       "0.576923076923077"
      ],
      "text/latex": [
       "0.576923076923077"
      ],
      "text/markdown": [
       "0.576923076923077"
      ],
      "text/plain": [
       "[1] 0.5769231"
      ]
     },
     "metadata": {},
     "output_type": "display_data"
    },
    {
     "data": {
      "text/html": [
       "'KNN k=100'"
      ],
      "text/latex": [
       "'KNN k=100'"
      ],
      "text/markdown": [
       "'KNN k=100'"
      ],
      "text/plain": [
       "[1] \"KNN k=100\""
      ]
     },
     "metadata": {},
     "output_type": "display_data"
    },
    {
     "data": {
      "text/plain": [
       "        Direction.0910\n",
       "knn.pred  1  2\n",
       "       1  9 12\n",
       "       2 34 49"
      ]
     },
     "metadata": {},
     "output_type": "display_data"
    },
    {
     "data": {
      "text/html": [
       "0.557692307692308"
      ],
      "text/latex": [
       "0.557692307692308"
      ],
      "text/markdown": [
       "0.557692307692308"
      ],
      "text/plain": [
       "[1] 0.5576923"
      ]
     },
     "metadata": {},
     "output_type": "display_data"
    },
    {
     "data": {
      "text/html": [
       "'KNN k=200'"
      ],
      "text/latex": [
       "'KNN k=200'"
      ],
      "text/markdown": [
       "'KNN k=200'"
      ],
      "text/plain": [
       "[1] \"KNN k=200\""
      ]
     },
     "metadata": {},
     "output_type": "display_data"
    },
    {
     "data": {
      "text/plain": [
       "        Direction.0910\n",
       "knn.pred  1  2\n",
       "       1  3  0\n",
       "       2 40 61"
      ]
     },
     "metadata": {},
     "output_type": "display_data"
    },
    {
     "data": {
      "text/html": [
       "0.615384615384615"
      ],
      "text/latex": [
       "0.615384615384615"
      ],
      "text/markdown": [
       "0.615384615384615"
      ],
      "text/plain": [
       "[1] 0.6153846"
      ]
     },
     "metadata": {},
     "output_type": "display_data"
    }
   ],
   "source": [
    "\"10i\"\n",
    "\"logistic regression with interaction and main effects Lag1 & Lag2\"\n",
    "glm.fit = glm(Direction~Lag2*Lag1, data=Weekly, family=binomial,subset=train)\n",
    "glm.probs = predict(glm.fit, Weekly.0910,type=\"response\")\n",
    "glm.pred = rep(\"1\", length(glm.probs))\n",
    "glm.pred[glm.probs>.5] = \"2\"\n",
    "table(glm.pred, Direction.0910)\n",
    "mean(glm.pred == Direction.0910)\n",
    "\n",
    "\"Logistic regression with interaction and main effect Lag1, Lag2 & squared Lag3\"\n",
    "glm.fit = glm(Direction~Lag1*Lag2*I(Lag3^2), data=Weekly, family=binomial,subset=train)\n",
    "glm.probs = predict(glm.fit, Weekly.0910,type=\"response\")\n",
    "glm.pred = rep(\"1\", length(glm.probs))\n",
    "glm.pred[glm.probs>.5] = \"2\"\n",
    "table(glm.pred, Direction.0910)\n",
    "mean(glm.pred == Direction.0910)\n",
    "\n",
    "\"LDA Lag1 & squared Lag4\"\n",
    "lda.fit = lda(Direction~Lag2*I(Lag4^2), data=Weekly,subset=train)\n",
    "lda.pred = predict(lda.fit, Weekly.0910)\n",
    "table(lda.pred$class, Direction.0910)\n",
    "mean(lda.pred$class == Direction.0910)\n",
    "\n",
    "\"LDA Lag1 & Lag2 & Year\"\n",
    "lda.fit = lda(Direction~Lag2*Lag1*Year, data=Weekly,subset=train)\n",
    "lda.pred = predict(lda.fit, Weekly.0910)\n",
    "table(lda.pred$class, Direction.0910)\n",
    "mean(lda.pred$class == Direction.0910)\n",
    "\n",
    "\"QDA Lag1 & Lag2\"\n",
    "qda.fit = qda(Direction~Lag2*Lag1, data=Weekly, subset=train)\n",
    "qda.class = predict(qda.fit, Weekly.0910)$class\n",
    "table(qda.class, Direction.0910)\n",
    "mean(qda.class == Direction.0910)\n",
    "\n",
    "\"QDA Lag1 & Lag2 & Volume\"\n",
    "qda.fit = qda(Direction~Lag2*Volume, data=Weekly, subset=train)\n",
    "qda.class = predict(qda.fit, Weekly.0910)$class\n",
    "table(qda.class, Direction.0910)\n",
    "mean(qda.class == Direction.0910)\n",
    "\n",
    "\"QDA absLag2\"\n",
    "qda.fit = qda(Direction~sqrt(abs(Lag2)), data=Weekly, subset=train)\n",
    "qda.class = predict(qda.fit, Weekly.0910)$class\n",
    "table(qda.class, Direction.0910)\n",
    "mean(qda.class == Direction.0910)\n",
    "\n",
    "\"KNN k=10\"\n",
    "knn.pred = knn(train.X, test.X, train.Direction, k=10)\n",
    "table(knn.pred, Direction.0910)\n",
    "mean(knn.pred == Direction.0910)\n",
    "\n",
    "\"KNN k=100\"\n",
    "knn.pred = knn(train.X, test.X, train.Direction, k=100)\n",
    "table(knn.pred, Direction.0910)\n",
    "mean(knn.pred == Direction.0910)\n",
    "\n",
    "\"KNN k=200\"\n",
    "knn.pred = knn(train.X, test.X, train.Direction, k=200)\n",
    "table(knn.pred, Direction.0910)\n",
    "mean(knn.pred == Direction.0910)"
   ]
  },
  {
   "cell_type": "markdown",
   "id": "postal-modern",
   "metadata": {},
   "source": [
    "logistic regression: the model with interaction and main effects of Lag1 & Lag2 and the model with interaction and main effects Lag1, Lag2 & squared Lag3 have the same percentage of correctly classified observations (57.7%)\n",
    "LDA: the model with the interactions and main effects of Lag1 and squared Lag4 (61.5%) has a higher percentage of correctly classified observations than the model with the interactions and main effects Lag1 & Lag2 & Year (55.8%)\n",
    "QDA: The model with the rooted Lag2 (58.7%) has a higher percentage of correctly classified observations than the model with the interactions and main effects of Lag1 & Lag2 & Volume (46.2%).\n",
    "KNN: the model with k=200 has the best percentage of correctly classified observations (61.5%), then the model with k=10 (57.7%) and then the model with k=100 (55.8%), All the KNN models use Lag2 as a predictor.\n",
    "\n",
    "Overall the models with the highest percentage of correctly classified observations are the LDA model with the interactions and main effects of Lag1 and squared Lag4 and the KNN model with the main effect of Lag2 and k=200 (both 61.5%)."
   ]
  },
  {
   "cell_type": "code",
   "execution_count": 204,
   "id": "dominican-government",
   "metadata": {},
   "outputs": [
    {
     "data": {
      "text/html": [
       "'11a'"
      ],
      "text/latex": [
       "'11a'"
      ],
      "text/markdown": [
       "'11a'"
      ],
      "text/plain": [
       "[1] \"11a\""
      ]
     },
     "metadata": {},
     "output_type": "display_data"
    },
    {
     "data": {
      "text/plain": [
       "      mpg          cylinders      displacement     horsepower        weight    \n",
       " Min.   : 9.00   Min.   :3.000   Min.   : 68.0   Min.   : 46.0   Min.   :1613  \n",
       " 1st Qu.:17.00   1st Qu.:4.000   1st Qu.:105.0   1st Qu.: 75.0   1st Qu.:2225  \n",
       " Median :22.75   Median :4.000   Median :151.0   Median : 93.5   Median :2804  \n",
       " Mean   :23.45   Mean   :5.472   Mean   :194.4   Mean   :104.5   Mean   :2978  \n",
       " 3rd Qu.:29.00   3rd Qu.:8.000   3rd Qu.:275.8   3rd Qu.:126.0   3rd Qu.:3615  \n",
       " Max.   :46.60   Max.   :8.000   Max.   :455.0   Max.   :230.0   Max.   :5140  \n",
       "                                                                               \n",
       "  acceleration        year           origin                      name    \n",
       " Min.   : 8.00   Min.   :70.00   Min.   :1.000   amc matador       :  5  \n",
       " 1st Qu.:13.78   1st Qu.:73.00   1st Qu.:1.000   ford pinto        :  5  \n",
       " Median :15.50   Median :76.00   Median :1.000   toyota corolla    :  5  \n",
       " Mean   :15.54   Mean   :75.98   Mean   :1.577   amc gremlin       :  4  \n",
       " 3rd Qu.:17.02   3rd Qu.:79.00   3rd Qu.:2.000   amc hornet        :  4  \n",
       " Max.   :24.80   Max.   :82.00   Max.   :3.000   chevrolet chevette:  4  \n",
       "                                                 (Other)           :365  \n",
       "     mpg01        mpg01.1       mpg01.2       mpg01.3       mpg01.4   \n",
       " Min.   :0.0   Min.   :0.0   Min.   :0.0   Min.   :0.0   Min.   :0.0  \n",
       " 1st Qu.:0.0   1st Qu.:0.0   1st Qu.:0.0   1st Qu.:0.0   1st Qu.:0.0  \n",
       " Median :0.5   Median :0.5   Median :0.5   Median :0.5   Median :0.5  \n",
       " Mean   :0.5   Mean   :0.5   Mean   :0.5   Mean   :0.5   Mean   :0.5  \n",
       " 3rd Qu.:1.0   3rd Qu.:1.0   3rd Qu.:1.0   3rd Qu.:1.0   3rd Qu.:1.0  \n",
       " Max.   :1.0   Max.   :1.0   Max.   :1.0   Max.   :1.0   Max.   :1.0  \n",
       "                                                                      \n",
       "    mpg01.5   \n",
       " Min.   :0.0  \n",
       " 1st Qu.:0.0  \n",
       " Median :0.5  \n",
       " Mean   :0.5  \n",
       " 3rd Qu.:1.0  \n",
       " Max.   :1.0  \n",
       "              "
      ]
     },
     "metadata": {},
     "output_type": "display_data"
    },
    {
     "data": {
      "text/html": [
       "<table class=\"dataframe\">\n",
       "<caption>A data.frame: 6 × 15</caption>\n",
       "<thead>\n",
       "\t<tr><th></th><th scope=col>mpg</th><th scope=col>cylinders</th><th scope=col>displacement</th><th scope=col>horsepower</th><th scope=col>weight</th><th scope=col>acceleration</th><th scope=col>year</th><th scope=col>origin</th><th scope=col>name</th><th scope=col>mpg01</th><th scope=col>mpg01.1</th><th scope=col>mpg01.2</th><th scope=col>mpg01.3</th><th scope=col>mpg01.4</th><th scope=col>mpg01.5</th></tr>\n",
       "\t<tr><th></th><th scope=col>&lt;dbl&gt;</th><th scope=col>&lt;dbl&gt;</th><th scope=col>&lt;dbl&gt;</th><th scope=col>&lt;dbl&gt;</th><th scope=col>&lt;dbl&gt;</th><th scope=col>&lt;dbl&gt;</th><th scope=col>&lt;dbl&gt;</th><th scope=col>&lt;dbl&gt;</th><th scope=col>&lt;fct&gt;</th><th scope=col>&lt;dbl&gt;</th><th scope=col>&lt;dbl&gt;</th><th scope=col>&lt;dbl&gt;</th><th scope=col>&lt;dbl&gt;</th><th scope=col>&lt;dbl&gt;</th><th scope=col>&lt;dbl&gt;</th></tr>\n",
       "</thead>\n",
       "<tbody>\n",
       "\t<tr><th scope=row>1</th><td>18</td><td>8</td><td>307</td><td>130</td><td>3504</td><td>12.0</td><td>70</td><td>1</td><td>chevrolet chevelle malibu</td><td>0</td><td>0</td><td>0</td><td>0</td><td>0</td><td>0</td></tr>\n",
       "\t<tr><th scope=row>2</th><td>15</td><td>8</td><td>350</td><td>165</td><td>3693</td><td>11.5</td><td>70</td><td>1</td><td>buick skylark 320        </td><td>0</td><td>0</td><td>0</td><td>0</td><td>0</td><td>0</td></tr>\n",
       "\t<tr><th scope=row>3</th><td>18</td><td>8</td><td>318</td><td>150</td><td>3436</td><td>11.0</td><td>70</td><td>1</td><td>plymouth satellite       </td><td>0</td><td>0</td><td>0</td><td>0</td><td>0</td><td>0</td></tr>\n",
       "\t<tr><th scope=row>4</th><td>16</td><td>8</td><td>304</td><td>150</td><td>3433</td><td>12.0</td><td>70</td><td>1</td><td>amc rebel sst            </td><td>0</td><td>0</td><td>0</td><td>0</td><td>0</td><td>0</td></tr>\n",
       "\t<tr><th scope=row>5</th><td>17</td><td>8</td><td>302</td><td>140</td><td>3449</td><td>10.5</td><td>70</td><td>1</td><td>ford torino              </td><td>0</td><td>0</td><td>0</td><td>0</td><td>0</td><td>0</td></tr>\n",
       "\t<tr><th scope=row>6</th><td>15</td><td>8</td><td>429</td><td>198</td><td>4341</td><td>10.0</td><td>70</td><td>1</td><td>ford galaxie 500         </td><td>0</td><td>0</td><td>0</td><td>0</td><td>0</td><td>0</td></tr>\n",
       "</tbody>\n",
       "</table>\n"
      ],
      "text/latex": [
       "A data.frame: 6 × 15\n",
       "\\begin{tabular}{r|lllllllllllllll}\n",
       "  & mpg & cylinders & displacement & horsepower & weight & acceleration & year & origin & name & mpg01 & mpg01.1 & mpg01.2 & mpg01.3 & mpg01.4 & mpg01.5\\\\\n",
       "  & <dbl> & <dbl> & <dbl> & <dbl> & <dbl> & <dbl> & <dbl> & <dbl> & <fct> & <dbl> & <dbl> & <dbl> & <dbl> & <dbl> & <dbl>\\\\\n",
       "\\hline\n",
       "\t1 & 18 & 8 & 307 & 130 & 3504 & 12.0 & 70 & 1 & chevrolet chevelle malibu & 0 & 0 & 0 & 0 & 0 & 0\\\\\n",
       "\t2 & 15 & 8 & 350 & 165 & 3693 & 11.5 & 70 & 1 & buick skylark 320         & 0 & 0 & 0 & 0 & 0 & 0\\\\\n",
       "\t3 & 18 & 8 & 318 & 150 & 3436 & 11.0 & 70 & 1 & plymouth satellite        & 0 & 0 & 0 & 0 & 0 & 0\\\\\n",
       "\t4 & 16 & 8 & 304 & 150 & 3433 & 12.0 & 70 & 1 & amc rebel sst             & 0 & 0 & 0 & 0 & 0 & 0\\\\\n",
       "\t5 & 17 & 8 & 302 & 140 & 3449 & 10.5 & 70 & 1 & ford torino               & 0 & 0 & 0 & 0 & 0 & 0\\\\\n",
       "\t6 & 15 & 8 & 429 & 198 & 4341 & 10.0 & 70 & 1 & ford galaxie 500          & 0 & 0 & 0 & 0 & 0 & 0\\\\\n",
       "\\end{tabular}\n"
      ],
      "text/markdown": [
       "\n",
       "A data.frame: 6 × 15\n",
       "\n",
       "| <!--/--> | mpg &lt;dbl&gt; | cylinders &lt;dbl&gt; | displacement &lt;dbl&gt; | horsepower &lt;dbl&gt; | weight &lt;dbl&gt; | acceleration &lt;dbl&gt; | year &lt;dbl&gt; | origin &lt;dbl&gt; | name &lt;fct&gt; | mpg01 &lt;dbl&gt; | mpg01.1 &lt;dbl&gt; | mpg01.2 &lt;dbl&gt; | mpg01.3 &lt;dbl&gt; | mpg01.4 &lt;dbl&gt; | mpg01.5 &lt;dbl&gt; |\n",
       "|---|---|---|---|---|---|---|---|---|---|---|---|---|---|---|---|\n",
       "| 1 | 18 | 8 | 307 | 130 | 3504 | 12.0 | 70 | 1 | chevrolet chevelle malibu | 0 | 0 | 0 | 0 | 0 | 0 |\n",
       "| 2 | 15 | 8 | 350 | 165 | 3693 | 11.5 | 70 | 1 | buick skylark 320         | 0 | 0 | 0 | 0 | 0 | 0 |\n",
       "| 3 | 18 | 8 | 318 | 150 | 3436 | 11.0 | 70 | 1 | plymouth satellite        | 0 | 0 | 0 | 0 | 0 | 0 |\n",
       "| 4 | 16 | 8 | 304 | 150 | 3433 | 12.0 | 70 | 1 | amc rebel sst             | 0 | 0 | 0 | 0 | 0 | 0 |\n",
       "| 5 | 17 | 8 | 302 | 140 | 3449 | 10.5 | 70 | 1 | ford torino               | 0 | 0 | 0 | 0 | 0 | 0 |\n",
       "| 6 | 15 | 8 | 429 | 198 | 4341 | 10.0 | 70 | 1 | ford galaxie 500          | 0 | 0 | 0 | 0 | 0 | 0 |\n",
       "\n"
      ],
      "text/plain": [
       "  mpg cylinders displacement horsepower weight acceleration year origin\n",
       "1 18  8         307          130        3504   12.0         70   1     \n",
       "2 15  8         350          165        3693   11.5         70   1     \n",
       "3 18  8         318          150        3436   11.0         70   1     \n",
       "4 16  8         304          150        3433   12.0         70   1     \n",
       "5 17  8         302          140        3449   10.5         70   1     \n",
       "6 15  8         429          198        4341   10.0         70   1     \n",
       "  name                      mpg01 mpg01.1 mpg01.2 mpg01.3 mpg01.4 mpg01.5\n",
       "1 chevrolet chevelle malibu 0     0       0       0       0       0      \n",
       "2 buick skylark 320         0     0       0       0       0       0      \n",
       "3 plymouth satellite        0     0       0       0       0       0      \n",
       "4 amc rebel sst             0     0       0       0       0       0      \n",
       "5 ford torino               0     0       0       0       0       0      \n",
       "6 ford galaxie 500          0     0       0       0       0       0      "
      ]
     },
     "metadata": {},
     "output_type": "display_data"
    },
    {
     "name": "stderr",
     "output_type": "stream",
     "text": [
      "The following object is masked _by_ .GlobalEnv:\n",
      "\n",
      "    mpg01\n",
      "\n",
      "\n",
      "The following objects are masked from Auto (pos = 3):\n",
      "\n",
      "    acceleration, cylinders, displacement, horsepower, mpg, mpg01,\n",
      "    mpg01.1, mpg01.2, mpg01.3, mpg01.4, mpg01.5, name, origin, weight,\n",
      "    year\n",
      "\n",
      "\n",
      "The following objects are masked from Auto (pos = 4):\n",
      "\n",
      "    acceleration, cylinders, displacement, horsepower, mpg, mpg01,\n",
      "    mpg01.1, mpg01.2, mpg01.3, mpg01.4, mpg01.5, name, origin, weight,\n",
      "    year\n",
      "\n",
      "\n",
      "The following objects are masked from Auto (pos = 5):\n",
      "\n",
      "    acceleration, cylinders, displacement, horsepower, mpg, mpg01,\n",
      "    mpg01.1, mpg01.2, mpg01.3, mpg01.4, mpg01.5, name, origin, weight,\n",
      "    year\n",
      "\n",
      "\n",
      "The following objects are masked from Auto (pos = 6):\n",
      "\n",
      "    acceleration, cylinders, displacement, horsepower, mpg, mpg01,\n",
      "    mpg01.1, mpg01.2, mpg01.3, mpg01.4, mpg01.5, name, origin, weight,\n",
      "    year\n",
      "\n",
      "\n",
      "The following objects are masked from Auto (pos = 7):\n",
      "\n",
      "    acceleration, cylinders, displacement, horsepower, mpg, mpg01,\n",
      "    mpg01.1, mpg01.2, mpg01.3, mpg01.4, mpg01.5, name, origin, weight,\n",
      "    year\n",
      "\n",
      "\n",
      "The following objects are masked from Auto (pos = 8):\n",
      "\n",
      "    acceleration, cylinders, displacement, horsepower, mpg, mpg01,\n",
      "    mpg01.1, mpg01.2, mpg01.3, mpg01.4, name, origin, weight, year\n",
      "\n",
      "\n",
      "The following objects are masked from Auto (pos = 9):\n",
      "\n",
      "    acceleration, cylinders, displacement, horsepower, mpg, mpg01,\n",
      "    mpg01.1, mpg01.2, mpg01.3, name, origin, weight, year\n",
      "\n",
      "\n",
      "The following objects are masked from Auto (pos = 10):\n",
      "\n",
      "    acceleration, cylinders, displacement, horsepower, mpg, mpg01,\n",
      "    mpg01.1, mpg01.2, name, origin, weight, year\n",
      "\n",
      "\n",
      "The following objects are masked from Auto (pos = 11):\n",
      "\n",
      "    acceleration, cylinders, displacement, horsepower, mpg, mpg01,\n",
      "    mpg01.1, name, origin, weight, year\n",
      "\n",
      "\n",
      "The following objects are masked from Auto (pos = 12):\n",
      "\n",
      "    acceleration, cylinders, displacement, horsepower, mpg, mpg01,\n",
      "    name, origin, weight, year\n",
      "\n",
      "\n",
      "The following objects are masked from Auto (pos = 14):\n",
      "\n",
      "    acceleration, cylinders, displacement, horsepower, mpg, name,\n",
      "    origin, weight, year\n",
      "\n",
      "\n",
      "The following object is masked from package:ggplot2:\n",
      "\n",
      "    mpg\n",
      "\n",
      "\n"
     ]
    },
    {
     "data": {
      "text/html": [
       "<table class=\"dataframe\">\n",
       "<caption>A data.frame: 392 × 16</caption>\n",
       "<thead>\n",
       "\t<tr><th></th><th scope=col>mpg</th><th scope=col>cylinders</th><th scope=col>displacement</th><th scope=col>horsepower</th><th scope=col>weight</th><th scope=col>acceleration</th><th scope=col>year</th><th scope=col>origin</th><th scope=col>name</th><th scope=col>mpg01</th><th scope=col>mpg01.1</th><th scope=col>mpg01.2</th><th scope=col>mpg01.3</th><th scope=col>mpg01.4</th><th scope=col>mpg01.5</th><th scope=col>mpg01.6</th></tr>\n",
       "\t<tr><th></th><th scope=col>&lt;dbl&gt;</th><th scope=col>&lt;dbl&gt;</th><th scope=col>&lt;dbl&gt;</th><th scope=col>&lt;dbl&gt;</th><th scope=col>&lt;dbl&gt;</th><th scope=col>&lt;dbl&gt;</th><th scope=col>&lt;dbl&gt;</th><th scope=col>&lt;dbl&gt;</th><th scope=col>&lt;fct&gt;</th><th scope=col>&lt;dbl&gt;</th><th scope=col>&lt;dbl&gt;</th><th scope=col>&lt;dbl&gt;</th><th scope=col>&lt;dbl&gt;</th><th scope=col>&lt;dbl&gt;</th><th scope=col>&lt;dbl&gt;</th><th scope=col>&lt;dbl&gt;</th></tr>\n",
       "</thead>\n",
       "<tbody>\n",
       "\t<tr><th scope=row>1</th><td>18</td><td>8</td><td>307</td><td>130</td><td>3504</td><td>12.0</td><td>70</td><td>1</td><td>chevrolet chevelle malibu   </td><td>0</td><td>0</td><td>0</td><td>0</td><td>0</td><td>0</td><td>0</td></tr>\n",
       "\t<tr><th scope=row>2</th><td>15</td><td>8</td><td>350</td><td>165</td><td>3693</td><td>11.5</td><td>70</td><td>1</td><td>buick skylark 320           </td><td>0</td><td>0</td><td>0</td><td>0</td><td>0</td><td>0</td><td>0</td></tr>\n",
       "\t<tr><th scope=row>3</th><td>18</td><td>8</td><td>318</td><td>150</td><td>3436</td><td>11.0</td><td>70</td><td>1</td><td>plymouth satellite          </td><td>0</td><td>0</td><td>0</td><td>0</td><td>0</td><td>0</td><td>0</td></tr>\n",
       "\t<tr><th scope=row>4</th><td>16</td><td>8</td><td>304</td><td>150</td><td>3433</td><td>12.0</td><td>70</td><td>1</td><td>amc rebel sst               </td><td>0</td><td>0</td><td>0</td><td>0</td><td>0</td><td>0</td><td>0</td></tr>\n",
       "\t<tr><th scope=row>5</th><td>17</td><td>8</td><td>302</td><td>140</td><td>3449</td><td>10.5</td><td>70</td><td>1</td><td>ford torino                 </td><td>0</td><td>0</td><td>0</td><td>0</td><td>0</td><td>0</td><td>0</td></tr>\n",
       "\t<tr><th scope=row>6</th><td>15</td><td>8</td><td>429</td><td>198</td><td>4341</td><td>10.0</td><td>70</td><td>1</td><td>ford galaxie 500            </td><td>0</td><td>0</td><td>0</td><td>0</td><td>0</td><td>0</td><td>0</td></tr>\n",
       "\t<tr><th scope=row>7</th><td>14</td><td>8</td><td>454</td><td>220</td><td>4354</td><td> 9.0</td><td>70</td><td>1</td><td>chevrolet impala            </td><td>0</td><td>0</td><td>0</td><td>0</td><td>0</td><td>0</td><td>0</td></tr>\n",
       "\t<tr><th scope=row>8</th><td>14</td><td>8</td><td>440</td><td>215</td><td>4312</td><td> 8.5</td><td>70</td><td>1</td><td>plymouth fury iii           </td><td>0</td><td>0</td><td>0</td><td>0</td><td>0</td><td>0</td><td>0</td></tr>\n",
       "\t<tr><th scope=row>9</th><td>14</td><td>8</td><td>455</td><td>225</td><td>4425</td><td>10.0</td><td>70</td><td>1</td><td>pontiac catalina            </td><td>0</td><td>0</td><td>0</td><td>0</td><td>0</td><td>0</td><td>0</td></tr>\n",
       "\t<tr><th scope=row>10</th><td>15</td><td>8</td><td>390</td><td>190</td><td>3850</td><td> 8.5</td><td>70</td><td>1</td><td>amc ambassador dpl          </td><td>0</td><td>0</td><td>0</td><td>0</td><td>0</td><td>0</td><td>0</td></tr>\n",
       "\t<tr><th scope=row>11</th><td>15</td><td>8</td><td>383</td><td>170</td><td>3563</td><td>10.0</td><td>70</td><td>1</td><td>dodge challenger se         </td><td>0</td><td>0</td><td>0</td><td>0</td><td>0</td><td>0</td><td>0</td></tr>\n",
       "\t<tr><th scope=row>12</th><td>14</td><td>8</td><td>340</td><td>160</td><td>3609</td><td> 8.0</td><td>70</td><td>1</td><td>plymouth 'cuda 340          </td><td>0</td><td>0</td><td>0</td><td>0</td><td>0</td><td>0</td><td>0</td></tr>\n",
       "\t<tr><th scope=row>13</th><td>15</td><td>8</td><td>400</td><td>150</td><td>3761</td><td> 9.5</td><td>70</td><td>1</td><td>chevrolet monte carlo       </td><td>0</td><td>0</td><td>0</td><td>0</td><td>0</td><td>0</td><td>0</td></tr>\n",
       "\t<tr><th scope=row>14</th><td>14</td><td>8</td><td>455</td><td>225</td><td>3086</td><td>10.0</td><td>70</td><td>1</td><td>buick estate wagon (sw)     </td><td>0</td><td>0</td><td>0</td><td>0</td><td>0</td><td>0</td><td>0</td></tr>\n",
       "\t<tr><th scope=row>15</th><td>24</td><td>4</td><td>113</td><td> 95</td><td>2372</td><td>15.0</td><td>70</td><td>3</td><td>toyota corona mark ii       </td><td>1</td><td>1</td><td>1</td><td>1</td><td>1</td><td>1</td><td>1</td></tr>\n",
       "\t<tr><th scope=row>16</th><td>22</td><td>6</td><td>198</td><td> 95</td><td>2833</td><td>15.5</td><td>70</td><td>1</td><td>plymouth duster             </td><td>0</td><td>0</td><td>0</td><td>0</td><td>0</td><td>0</td><td>0</td></tr>\n",
       "\t<tr><th scope=row>17</th><td>18</td><td>6</td><td>199</td><td> 97</td><td>2774</td><td>15.5</td><td>70</td><td>1</td><td>amc hornet                  </td><td>0</td><td>0</td><td>0</td><td>0</td><td>0</td><td>0</td><td>0</td></tr>\n",
       "\t<tr><th scope=row>18</th><td>21</td><td>6</td><td>200</td><td> 85</td><td>2587</td><td>16.0</td><td>70</td><td>1</td><td>ford maverick               </td><td>0</td><td>0</td><td>0</td><td>0</td><td>0</td><td>0</td><td>0</td></tr>\n",
       "\t<tr><th scope=row>19</th><td>27</td><td>4</td><td> 97</td><td> 88</td><td>2130</td><td>14.5</td><td>70</td><td>3</td><td>datsun pl510                </td><td>1</td><td>1</td><td>1</td><td>1</td><td>1</td><td>1</td><td>1</td></tr>\n",
       "\t<tr><th scope=row>20</th><td>26</td><td>4</td><td> 97</td><td> 46</td><td>1835</td><td>20.5</td><td>70</td><td>2</td><td>volkswagen 1131 deluxe sedan</td><td>1</td><td>1</td><td>1</td><td>1</td><td>1</td><td>1</td><td>1</td></tr>\n",
       "\t<tr><th scope=row>21</th><td>25</td><td>4</td><td>110</td><td> 87</td><td>2672</td><td>17.5</td><td>70</td><td>2</td><td>peugeot 504                 </td><td>1</td><td>1</td><td>1</td><td>1</td><td>1</td><td>1</td><td>1</td></tr>\n",
       "\t<tr><th scope=row>22</th><td>24</td><td>4</td><td>107</td><td> 90</td><td>2430</td><td>14.5</td><td>70</td><td>2</td><td>audi 100 ls                 </td><td>1</td><td>1</td><td>1</td><td>1</td><td>1</td><td>1</td><td>1</td></tr>\n",
       "\t<tr><th scope=row>23</th><td>25</td><td>4</td><td>104</td><td> 95</td><td>2375</td><td>17.5</td><td>70</td><td>2</td><td>saab 99e                    </td><td>1</td><td>1</td><td>1</td><td>1</td><td>1</td><td>1</td><td>1</td></tr>\n",
       "\t<tr><th scope=row>24</th><td>26</td><td>4</td><td>121</td><td>113</td><td>2234</td><td>12.5</td><td>70</td><td>2</td><td>bmw 2002                    </td><td>1</td><td>1</td><td>1</td><td>1</td><td>1</td><td>1</td><td>1</td></tr>\n",
       "\t<tr><th scope=row>25</th><td>21</td><td>6</td><td>199</td><td> 90</td><td>2648</td><td>15.0</td><td>70</td><td>1</td><td>amc gremlin                 </td><td>0</td><td>0</td><td>0</td><td>0</td><td>0</td><td>0</td><td>0</td></tr>\n",
       "\t<tr><th scope=row>26</th><td>10</td><td>8</td><td>360</td><td>215</td><td>4615</td><td>14.0</td><td>70</td><td>1</td><td>ford f250                   </td><td>0</td><td>0</td><td>0</td><td>0</td><td>0</td><td>0</td><td>0</td></tr>\n",
       "\t<tr><th scope=row>27</th><td>10</td><td>8</td><td>307</td><td>200</td><td>4376</td><td>15.0</td><td>70</td><td>1</td><td>chevy c20                   </td><td>0</td><td>0</td><td>0</td><td>0</td><td>0</td><td>0</td><td>0</td></tr>\n",
       "\t<tr><th scope=row>28</th><td>11</td><td>8</td><td>318</td><td>210</td><td>4382</td><td>13.5</td><td>70</td><td>1</td><td>dodge d200                  </td><td>0</td><td>0</td><td>0</td><td>0</td><td>0</td><td>0</td><td>0</td></tr>\n",
       "\t<tr><th scope=row>29</th><td> 9</td><td>8</td><td>304</td><td>193</td><td>4732</td><td>18.5</td><td>70</td><td>1</td><td>hi 1200d                    </td><td>0</td><td>0</td><td>0</td><td>0</td><td>0</td><td>0</td><td>0</td></tr>\n",
       "\t<tr><th scope=row>30</th><td>27</td><td>4</td><td> 97</td><td> 88</td><td>2130</td><td>14.5</td><td>71</td><td>3</td><td>datsun pl510                </td><td>1</td><td>1</td><td>1</td><td>1</td><td>1</td><td>1</td><td>1</td></tr>\n",
       "\t<tr><th scope=row>...</th><td>...</td><td>...</td><td>...</td><td>...</td><td>...</td><td>...</td><td>...</td><td>...</td><td>...</td><td>...</td><td>...</td><td>...</td><td>...</td><td>...</td><td>...</td><td>...</td></tr>\n",
       "\t<tr><th scope=row>368</th><td>28</td><td>4</td><td>112</td><td> 88</td><td>2605</td><td>19.6</td><td>82</td><td>1</td><td>chevrolet cavalier               </td><td>1</td><td>1</td><td>1</td><td>1</td><td>1</td><td>1</td><td>1</td></tr>\n",
       "\t<tr><th scope=row>369</th><td>27</td><td>4</td><td>112</td><td> 88</td><td>2640</td><td>18.6</td><td>82</td><td>1</td><td>chevrolet cavalier wagon         </td><td>1</td><td>1</td><td>1</td><td>1</td><td>1</td><td>1</td><td>1</td></tr>\n",
       "\t<tr><th scope=row>370</th><td>34</td><td>4</td><td>112</td><td> 88</td><td>2395</td><td>18.0</td><td>82</td><td>1</td><td>chevrolet cavalier 2-door        </td><td>1</td><td>1</td><td>1</td><td>1</td><td>1</td><td>1</td><td>1</td></tr>\n",
       "\t<tr><th scope=row>371</th><td>31</td><td>4</td><td>112</td><td> 85</td><td>2575</td><td>16.2</td><td>82</td><td>1</td><td>pontiac j2000 se hatchback       </td><td>1</td><td>1</td><td>1</td><td>1</td><td>1</td><td>1</td><td>1</td></tr>\n",
       "\t<tr><th scope=row>372</th><td>29</td><td>4</td><td>135</td><td> 84</td><td>2525</td><td>16.0</td><td>82</td><td>1</td><td>dodge aries se                   </td><td>1</td><td>1</td><td>1</td><td>1</td><td>1</td><td>1</td><td>1</td></tr>\n",
       "\t<tr><th scope=row>373</th><td>27</td><td>4</td><td>151</td><td> 90</td><td>2735</td><td>18.0</td><td>82</td><td>1</td><td>pontiac phoenix                  </td><td>1</td><td>1</td><td>1</td><td>1</td><td>1</td><td>1</td><td>1</td></tr>\n",
       "\t<tr><th scope=row>374</th><td>24</td><td>4</td><td>140</td><td> 92</td><td>2865</td><td>16.4</td><td>82</td><td>1</td><td>ford fairmont futura             </td><td>1</td><td>1</td><td>1</td><td>1</td><td>1</td><td>1</td><td>1</td></tr>\n",
       "\t<tr><th scope=row>375</th><td>36</td><td>4</td><td>105</td><td> 74</td><td>1980</td><td>15.3</td><td>82</td><td>2</td><td>volkswagen rabbit l              </td><td>1</td><td>1</td><td>1</td><td>1</td><td>1</td><td>1</td><td>1</td></tr>\n",
       "\t<tr><th scope=row>376</th><td>37</td><td>4</td><td> 91</td><td> 68</td><td>2025</td><td>18.2</td><td>82</td><td>3</td><td>mazda glc custom l               </td><td>1</td><td>1</td><td>1</td><td>1</td><td>1</td><td>1</td><td>1</td></tr>\n",
       "\t<tr><th scope=row>377</th><td>31</td><td>4</td><td> 91</td><td> 68</td><td>1970</td><td>17.6</td><td>82</td><td>3</td><td>mazda glc custom                 </td><td>1</td><td>1</td><td>1</td><td>1</td><td>1</td><td>1</td><td>1</td></tr>\n",
       "\t<tr><th scope=row>378</th><td>38</td><td>4</td><td>105</td><td> 63</td><td>2125</td><td>14.7</td><td>82</td><td>1</td><td>plymouth horizon miser           </td><td>1</td><td>1</td><td>1</td><td>1</td><td>1</td><td>1</td><td>1</td></tr>\n",
       "\t<tr><th scope=row>379</th><td>36</td><td>4</td><td> 98</td><td> 70</td><td>2125</td><td>17.3</td><td>82</td><td>1</td><td>mercury lynx l                   </td><td>1</td><td>1</td><td>1</td><td>1</td><td>1</td><td>1</td><td>1</td></tr>\n",
       "\t<tr><th scope=row>380</th><td>36</td><td>4</td><td>120</td><td> 88</td><td>2160</td><td>14.5</td><td>82</td><td>3</td><td>nissan stanza xe                 </td><td>1</td><td>1</td><td>1</td><td>1</td><td>1</td><td>1</td><td>1</td></tr>\n",
       "\t<tr><th scope=row>381</th><td>36</td><td>4</td><td>107</td><td> 75</td><td>2205</td><td>14.5</td><td>82</td><td>3</td><td>honda accord                     </td><td>1</td><td>1</td><td>1</td><td>1</td><td>1</td><td>1</td><td>1</td></tr>\n",
       "\t<tr><th scope=row>382</th><td>34</td><td>4</td><td>108</td><td> 70</td><td>2245</td><td>16.9</td><td>82</td><td>3</td><td>toyota corolla                   </td><td>1</td><td>1</td><td>1</td><td>1</td><td>1</td><td>1</td><td>1</td></tr>\n",
       "\t<tr><th scope=row>383</th><td>38</td><td>4</td><td> 91</td><td> 67</td><td>1965</td><td>15.0</td><td>82</td><td>3</td><td>honda civic                      </td><td>1</td><td>1</td><td>1</td><td>1</td><td>1</td><td>1</td><td>1</td></tr>\n",
       "\t<tr><th scope=row>384</th><td>32</td><td>4</td><td> 91</td><td> 67</td><td>1965</td><td>15.7</td><td>82</td><td>3</td><td>honda civic (auto)               </td><td>1</td><td>1</td><td>1</td><td>1</td><td>1</td><td>1</td><td>1</td></tr>\n",
       "\t<tr><th scope=row>385</th><td>38</td><td>4</td><td> 91</td><td> 67</td><td>1995</td><td>16.2</td><td>82</td><td>3</td><td>datsun 310 gx                    </td><td>1</td><td>1</td><td>1</td><td>1</td><td>1</td><td>1</td><td>1</td></tr>\n",
       "\t<tr><th scope=row>386</th><td>25</td><td>6</td><td>181</td><td>110</td><td>2945</td><td>16.4</td><td>82</td><td>1</td><td>buick century limited            </td><td>1</td><td>1</td><td>1</td><td>1</td><td>1</td><td>1</td><td>1</td></tr>\n",
       "\t<tr><th scope=row>387</th><td>38</td><td>6</td><td>262</td><td> 85</td><td>3015</td><td>17.0</td><td>82</td><td>1</td><td>oldsmobile cutlass ciera (diesel)</td><td>1</td><td>1</td><td>1</td><td>1</td><td>1</td><td>1</td><td>1</td></tr>\n",
       "\t<tr><th scope=row>388</th><td>26</td><td>4</td><td>156</td><td> 92</td><td>2585</td><td>14.5</td><td>82</td><td>1</td><td>chrysler lebaron medallion       </td><td>1</td><td>1</td><td>1</td><td>1</td><td>1</td><td>1</td><td>1</td></tr>\n",
       "\t<tr><th scope=row>389</th><td>22</td><td>6</td><td>232</td><td>112</td><td>2835</td><td>14.7</td><td>82</td><td>1</td><td>ford granada l                   </td><td>0</td><td>0</td><td>0</td><td>0</td><td>0</td><td>0</td><td>0</td></tr>\n",
       "\t<tr><th scope=row>390</th><td>32</td><td>4</td><td>144</td><td> 96</td><td>2665</td><td>13.9</td><td>82</td><td>3</td><td>toyota celica gt                 </td><td>1</td><td>1</td><td>1</td><td>1</td><td>1</td><td>1</td><td>1</td></tr>\n",
       "\t<tr><th scope=row>391</th><td>36</td><td>4</td><td>135</td><td> 84</td><td>2370</td><td>13.0</td><td>82</td><td>1</td><td>dodge charger 2.2                </td><td>1</td><td>1</td><td>1</td><td>1</td><td>1</td><td>1</td><td>1</td></tr>\n",
       "\t<tr><th scope=row>392</th><td>27</td><td>4</td><td>151</td><td> 90</td><td>2950</td><td>17.3</td><td>82</td><td>1</td><td>chevrolet camaro                 </td><td>1</td><td>1</td><td>1</td><td>1</td><td>1</td><td>1</td><td>1</td></tr>\n",
       "\t<tr><th scope=row>393</th><td>27</td><td>4</td><td>140</td><td> 86</td><td>2790</td><td>15.6</td><td>82</td><td>1</td><td>ford mustang gl                  </td><td>1</td><td>1</td><td>1</td><td>1</td><td>1</td><td>1</td><td>1</td></tr>\n",
       "\t<tr><th scope=row>394</th><td>44</td><td>4</td><td> 97</td><td> 52</td><td>2130</td><td>24.6</td><td>82</td><td>2</td><td>vw pickup                        </td><td>1</td><td>1</td><td>1</td><td>1</td><td>1</td><td>1</td><td>1</td></tr>\n",
       "\t<tr><th scope=row>395</th><td>32</td><td>4</td><td>135</td><td> 84</td><td>2295</td><td>11.6</td><td>82</td><td>1</td><td>dodge rampage                    </td><td>1</td><td>1</td><td>1</td><td>1</td><td>1</td><td>1</td><td>1</td></tr>\n",
       "\t<tr><th scope=row>396</th><td>28</td><td>4</td><td>120</td><td> 79</td><td>2625</td><td>18.6</td><td>82</td><td>1</td><td>ford ranger                      </td><td>1</td><td>1</td><td>1</td><td>1</td><td>1</td><td>1</td><td>1</td></tr>\n",
       "\t<tr><th scope=row>397</th><td>31</td><td>4</td><td>119</td><td> 82</td><td>2720</td><td>19.4</td><td>82</td><td>1</td><td>chevy s-10                       </td><td>1</td><td>1</td><td>1</td><td>1</td><td>1</td><td>1</td><td>1</td></tr>\n",
       "</tbody>\n",
       "</table>\n"
      ],
      "text/latex": [
       "A data.frame: 392 × 16\n",
       "\\begin{tabular}{r|llllllllllllllll}\n",
       "  & mpg & cylinders & displacement & horsepower & weight & acceleration & year & origin & name & mpg01 & mpg01.1 & mpg01.2 & mpg01.3 & mpg01.4 & mpg01.5 & mpg01.6\\\\\n",
       "  & <dbl> & <dbl> & <dbl> & <dbl> & <dbl> & <dbl> & <dbl> & <dbl> & <fct> & <dbl> & <dbl> & <dbl> & <dbl> & <dbl> & <dbl> & <dbl>\\\\\n",
       "\\hline\n",
       "\t1 & 18 & 8 & 307 & 130 & 3504 & 12.0 & 70 & 1 & chevrolet chevelle malibu    & 0 & 0 & 0 & 0 & 0 & 0 & 0\\\\\n",
       "\t2 & 15 & 8 & 350 & 165 & 3693 & 11.5 & 70 & 1 & buick skylark 320            & 0 & 0 & 0 & 0 & 0 & 0 & 0\\\\\n",
       "\t3 & 18 & 8 & 318 & 150 & 3436 & 11.0 & 70 & 1 & plymouth satellite           & 0 & 0 & 0 & 0 & 0 & 0 & 0\\\\\n",
       "\t4 & 16 & 8 & 304 & 150 & 3433 & 12.0 & 70 & 1 & amc rebel sst                & 0 & 0 & 0 & 0 & 0 & 0 & 0\\\\\n",
       "\t5 & 17 & 8 & 302 & 140 & 3449 & 10.5 & 70 & 1 & ford torino                  & 0 & 0 & 0 & 0 & 0 & 0 & 0\\\\\n",
       "\t6 & 15 & 8 & 429 & 198 & 4341 & 10.0 & 70 & 1 & ford galaxie 500             & 0 & 0 & 0 & 0 & 0 & 0 & 0\\\\\n",
       "\t7 & 14 & 8 & 454 & 220 & 4354 &  9.0 & 70 & 1 & chevrolet impala             & 0 & 0 & 0 & 0 & 0 & 0 & 0\\\\\n",
       "\t8 & 14 & 8 & 440 & 215 & 4312 &  8.5 & 70 & 1 & plymouth fury iii            & 0 & 0 & 0 & 0 & 0 & 0 & 0\\\\\n",
       "\t9 & 14 & 8 & 455 & 225 & 4425 & 10.0 & 70 & 1 & pontiac catalina             & 0 & 0 & 0 & 0 & 0 & 0 & 0\\\\\n",
       "\t10 & 15 & 8 & 390 & 190 & 3850 &  8.5 & 70 & 1 & amc ambassador dpl           & 0 & 0 & 0 & 0 & 0 & 0 & 0\\\\\n",
       "\t11 & 15 & 8 & 383 & 170 & 3563 & 10.0 & 70 & 1 & dodge challenger se          & 0 & 0 & 0 & 0 & 0 & 0 & 0\\\\\n",
       "\t12 & 14 & 8 & 340 & 160 & 3609 &  8.0 & 70 & 1 & plymouth 'cuda 340           & 0 & 0 & 0 & 0 & 0 & 0 & 0\\\\\n",
       "\t13 & 15 & 8 & 400 & 150 & 3761 &  9.5 & 70 & 1 & chevrolet monte carlo        & 0 & 0 & 0 & 0 & 0 & 0 & 0\\\\\n",
       "\t14 & 14 & 8 & 455 & 225 & 3086 & 10.0 & 70 & 1 & buick estate wagon (sw)      & 0 & 0 & 0 & 0 & 0 & 0 & 0\\\\\n",
       "\t15 & 24 & 4 & 113 &  95 & 2372 & 15.0 & 70 & 3 & toyota corona mark ii        & 1 & 1 & 1 & 1 & 1 & 1 & 1\\\\\n",
       "\t16 & 22 & 6 & 198 &  95 & 2833 & 15.5 & 70 & 1 & plymouth duster              & 0 & 0 & 0 & 0 & 0 & 0 & 0\\\\\n",
       "\t17 & 18 & 6 & 199 &  97 & 2774 & 15.5 & 70 & 1 & amc hornet                   & 0 & 0 & 0 & 0 & 0 & 0 & 0\\\\\n",
       "\t18 & 21 & 6 & 200 &  85 & 2587 & 16.0 & 70 & 1 & ford maverick                & 0 & 0 & 0 & 0 & 0 & 0 & 0\\\\\n",
       "\t19 & 27 & 4 &  97 &  88 & 2130 & 14.5 & 70 & 3 & datsun pl510                 & 1 & 1 & 1 & 1 & 1 & 1 & 1\\\\\n",
       "\t20 & 26 & 4 &  97 &  46 & 1835 & 20.5 & 70 & 2 & volkswagen 1131 deluxe sedan & 1 & 1 & 1 & 1 & 1 & 1 & 1\\\\\n",
       "\t21 & 25 & 4 & 110 &  87 & 2672 & 17.5 & 70 & 2 & peugeot 504                  & 1 & 1 & 1 & 1 & 1 & 1 & 1\\\\\n",
       "\t22 & 24 & 4 & 107 &  90 & 2430 & 14.5 & 70 & 2 & audi 100 ls                  & 1 & 1 & 1 & 1 & 1 & 1 & 1\\\\\n",
       "\t23 & 25 & 4 & 104 &  95 & 2375 & 17.5 & 70 & 2 & saab 99e                     & 1 & 1 & 1 & 1 & 1 & 1 & 1\\\\\n",
       "\t24 & 26 & 4 & 121 & 113 & 2234 & 12.5 & 70 & 2 & bmw 2002                     & 1 & 1 & 1 & 1 & 1 & 1 & 1\\\\\n",
       "\t25 & 21 & 6 & 199 &  90 & 2648 & 15.0 & 70 & 1 & amc gremlin                  & 0 & 0 & 0 & 0 & 0 & 0 & 0\\\\\n",
       "\t26 & 10 & 8 & 360 & 215 & 4615 & 14.0 & 70 & 1 & ford f250                    & 0 & 0 & 0 & 0 & 0 & 0 & 0\\\\\n",
       "\t27 & 10 & 8 & 307 & 200 & 4376 & 15.0 & 70 & 1 & chevy c20                    & 0 & 0 & 0 & 0 & 0 & 0 & 0\\\\\n",
       "\t28 & 11 & 8 & 318 & 210 & 4382 & 13.5 & 70 & 1 & dodge d200                   & 0 & 0 & 0 & 0 & 0 & 0 & 0\\\\\n",
       "\t29 &  9 & 8 & 304 & 193 & 4732 & 18.5 & 70 & 1 & hi 1200d                     & 0 & 0 & 0 & 0 & 0 & 0 & 0\\\\\n",
       "\t30 & 27 & 4 &  97 &  88 & 2130 & 14.5 & 71 & 3 & datsun pl510                 & 1 & 1 & 1 & 1 & 1 & 1 & 1\\\\\n",
       "\t... & ... & ... & ... & ... & ... & ... & ... & ... & ... & ... & ... & ... & ... & ... & ... & ...\\\\\n",
       "\t368 & 28 & 4 & 112 &  88 & 2605 & 19.6 & 82 & 1 & chevrolet cavalier                & 1 & 1 & 1 & 1 & 1 & 1 & 1\\\\\n",
       "\t369 & 27 & 4 & 112 &  88 & 2640 & 18.6 & 82 & 1 & chevrolet cavalier wagon          & 1 & 1 & 1 & 1 & 1 & 1 & 1\\\\\n",
       "\t370 & 34 & 4 & 112 &  88 & 2395 & 18.0 & 82 & 1 & chevrolet cavalier 2-door         & 1 & 1 & 1 & 1 & 1 & 1 & 1\\\\\n",
       "\t371 & 31 & 4 & 112 &  85 & 2575 & 16.2 & 82 & 1 & pontiac j2000 se hatchback        & 1 & 1 & 1 & 1 & 1 & 1 & 1\\\\\n",
       "\t372 & 29 & 4 & 135 &  84 & 2525 & 16.0 & 82 & 1 & dodge aries se                    & 1 & 1 & 1 & 1 & 1 & 1 & 1\\\\\n",
       "\t373 & 27 & 4 & 151 &  90 & 2735 & 18.0 & 82 & 1 & pontiac phoenix                   & 1 & 1 & 1 & 1 & 1 & 1 & 1\\\\\n",
       "\t374 & 24 & 4 & 140 &  92 & 2865 & 16.4 & 82 & 1 & ford fairmont futura              & 1 & 1 & 1 & 1 & 1 & 1 & 1\\\\\n",
       "\t375 & 36 & 4 & 105 &  74 & 1980 & 15.3 & 82 & 2 & volkswagen rabbit l               & 1 & 1 & 1 & 1 & 1 & 1 & 1\\\\\n",
       "\t376 & 37 & 4 &  91 &  68 & 2025 & 18.2 & 82 & 3 & mazda glc custom l                & 1 & 1 & 1 & 1 & 1 & 1 & 1\\\\\n",
       "\t377 & 31 & 4 &  91 &  68 & 1970 & 17.6 & 82 & 3 & mazda glc custom                  & 1 & 1 & 1 & 1 & 1 & 1 & 1\\\\\n",
       "\t378 & 38 & 4 & 105 &  63 & 2125 & 14.7 & 82 & 1 & plymouth horizon miser            & 1 & 1 & 1 & 1 & 1 & 1 & 1\\\\\n",
       "\t379 & 36 & 4 &  98 &  70 & 2125 & 17.3 & 82 & 1 & mercury lynx l                    & 1 & 1 & 1 & 1 & 1 & 1 & 1\\\\\n",
       "\t380 & 36 & 4 & 120 &  88 & 2160 & 14.5 & 82 & 3 & nissan stanza xe                  & 1 & 1 & 1 & 1 & 1 & 1 & 1\\\\\n",
       "\t381 & 36 & 4 & 107 &  75 & 2205 & 14.5 & 82 & 3 & honda accord                      & 1 & 1 & 1 & 1 & 1 & 1 & 1\\\\\n",
       "\t382 & 34 & 4 & 108 &  70 & 2245 & 16.9 & 82 & 3 & toyota corolla                    & 1 & 1 & 1 & 1 & 1 & 1 & 1\\\\\n",
       "\t383 & 38 & 4 &  91 &  67 & 1965 & 15.0 & 82 & 3 & honda civic                       & 1 & 1 & 1 & 1 & 1 & 1 & 1\\\\\n",
       "\t384 & 32 & 4 &  91 &  67 & 1965 & 15.7 & 82 & 3 & honda civic (auto)                & 1 & 1 & 1 & 1 & 1 & 1 & 1\\\\\n",
       "\t385 & 38 & 4 &  91 &  67 & 1995 & 16.2 & 82 & 3 & datsun 310 gx                     & 1 & 1 & 1 & 1 & 1 & 1 & 1\\\\\n",
       "\t386 & 25 & 6 & 181 & 110 & 2945 & 16.4 & 82 & 1 & buick century limited             & 1 & 1 & 1 & 1 & 1 & 1 & 1\\\\\n",
       "\t387 & 38 & 6 & 262 &  85 & 3015 & 17.0 & 82 & 1 & oldsmobile cutlass ciera (diesel) & 1 & 1 & 1 & 1 & 1 & 1 & 1\\\\\n",
       "\t388 & 26 & 4 & 156 &  92 & 2585 & 14.5 & 82 & 1 & chrysler lebaron medallion        & 1 & 1 & 1 & 1 & 1 & 1 & 1\\\\\n",
       "\t389 & 22 & 6 & 232 & 112 & 2835 & 14.7 & 82 & 1 & ford granada l                    & 0 & 0 & 0 & 0 & 0 & 0 & 0\\\\\n",
       "\t390 & 32 & 4 & 144 &  96 & 2665 & 13.9 & 82 & 3 & toyota celica gt                  & 1 & 1 & 1 & 1 & 1 & 1 & 1\\\\\n",
       "\t391 & 36 & 4 & 135 &  84 & 2370 & 13.0 & 82 & 1 & dodge charger 2.2                 & 1 & 1 & 1 & 1 & 1 & 1 & 1\\\\\n",
       "\t392 & 27 & 4 & 151 &  90 & 2950 & 17.3 & 82 & 1 & chevrolet camaro                  & 1 & 1 & 1 & 1 & 1 & 1 & 1\\\\\n",
       "\t393 & 27 & 4 & 140 &  86 & 2790 & 15.6 & 82 & 1 & ford mustang gl                   & 1 & 1 & 1 & 1 & 1 & 1 & 1\\\\\n",
       "\t394 & 44 & 4 &  97 &  52 & 2130 & 24.6 & 82 & 2 & vw pickup                         & 1 & 1 & 1 & 1 & 1 & 1 & 1\\\\\n",
       "\t395 & 32 & 4 & 135 &  84 & 2295 & 11.6 & 82 & 1 & dodge rampage                     & 1 & 1 & 1 & 1 & 1 & 1 & 1\\\\\n",
       "\t396 & 28 & 4 & 120 &  79 & 2625 & 18.6 & 82 & 1 & ford ranger                       & 1 & 1 & 1 & 1 & 1 & 1 & 1\\\\\n",
       "\t397 & 31 & 4 & 119 &  82 & 2720 & 19.4 & 82 & 1 & chevy s-10                        & 1 & 1 & 1 & 1 & 1 & 1 & 1\\\\\n",
       "\\end{tabular}\n"
      ],
      "text/markdown": [
       "\n",
       "A data.frame: 392 × 16\n",
       "\n",
       "| <!--/--> | mpg &lt;dbl&gt; | cylinders &lt;dbl&gt; | displacement &lt;dbl&gt; | horsepower &lt;dbl&gt; | weight &lt;dbl&gt; | acceleration &lt;dbl&gt; | year &lt;dbl&gt; | origin &lt;dbl&gt; | name &lt;fct&gt; | mpg01 &lt;dbl&gt; | mpg01.1 &lt;dbl&gt; | mpg01.2 &lt;dbl&gt; | mpg01.3 &lt;dbl&gt; | mpg01.4 &lt;dbl&gt; | mpg01.5 &lt;dbl&gt; | mpg01.6 &lt;dbl&gt; |\n",
       "|---|---|---|---|---|---|---|---|---|---|---|---|---|---|---|---|---|\n",
       "| 1 | 18 | 8 | 307 | 130 | 3504 | 12.0 | 70 | 1 | chevrolet chevelle malibu    | 0 | 0 | 0 | 0 | 0 | 0 | 0 |\n",
       "| 2 | 15 | 8 | 350 | 165 | 3693 | 11.5 | 70 | 1 | buick skylark 320            | 0 | 0 | 0 | 0 | 0 | 0 | 0 |\n",
       "| 3 | 18 | 8 | 318 | 150 | 3436 | 11.0 | 70 | 1 | plymouth satellite           | 0 | 0 | 0 | 0 | 0 | 0 | 0 |\n",
       "| 4 | 16 | 8 | 304 | 150 | 3433 | 12.0 | 70 | 1 | amc rebel sst                | 0 | 0 | 0 | 0 | 0 | 0 | 0 |\n",
       "| 5 | 17 | 8 | 302 | 140 | 3449 | 10.5 | 70 | 1 | ford torino                  | 0 | 0 | 0 | 0 | 0 | 0 | 0 |\n",
       "| 6 | 15 | 8 | 429 | 198 | 4341 | 10.0 | 70 | 1 | ford galaxie 500             | 0 | 0 | 0 | 0 | 0 | 0 | 0 |\n",
       "| 7 | 14 | 8 | 454 | 220 | 4354 |  9.0 | 70 | 1 | chevrolet impala             | 0 | 0 | 0 | 0 | 0 | 0 | 0 |\n",
       "| 8 | 14 | 8 | 440 | 215 | 4312 |  8.5 | 70 | 1 | plymouth fury iii            | 0 | 0 | 0 | 0 | 0 | 0 | 0 |\n",
       "| 9 | 14 | 8 | 455 | 225 | 4425 | 10.0 | 70 | 1 | pontiac catalina             | 0 | 0 | 0 | 0 | 0 | 0 | 0 |\n",
       "| 10 | 15 | 8 | 390 | 190 | 3850 |  8.5 | 70 | 1 | amc ambassador dpl           | 0 | 0 | 0 | 0 | 0 | 0 | 0 |\n",
       "| 11 | 15 | 8 | 383 | 170 | 3563 | 10.0 | 70 | 1 | dodge challenger se          | 0 | 0 | 0 | 0 | 0 | 0 | 0 |\n",
       "| 12 | 14 | 8 | 340 | 160 | 3609 |  8.0 | 70 | 1 | plymouth 'cuda 340           | 0 | 0 | 0 | 0 | 0 | 0 | 0 |\n",
       "| 13 | 15 | 8 | 400 | 150 | 3761 |  9.5 | 70 | 1 | chevrolet monte carlo        | 0 | 0 | 0 | 0 | 0 | 0 | 0 |\n",
       "| 14 | 14 | 8 | 455 | 225 | 3086 | 10.0 | 70 | 1 | buick estate wagon (sw)      | 0 | 0 | 0 | 0 | 0 | 0 | 0 |\n",
       "| 15 | 24 | 4 | 113 |  95 | 2372 | 15.0 | 70 | 3 | toyota corona mark ii        | 1 | 1 | 1 | 1 | 1 | 1 | 1 |\n",
       "| 16 | 22 | 6 | 198 |  95 | 2833 | 15.5 | 70 | 1 | plymouth duster              | 0 | 0 | 0 | 0 | 0 | 0 | 0 |\n",
       "| 17 | 18 | 6 | 199 |  97 | 2774 | 15.5 | 70 | 1 | amc hornet                   | 0 | 0 | 0 | 0 | 0 | 0 | 0 |\n",
       "| 18 | 21 | 6 | 200 |  85 | 2587 | 16.0 | 70 | 1 | ford maverick                | 0 | 0 | 0 | 0 | 0 | 0 | 0 |\n",
       "| 19 | 27 | 4 |  97 |  88 | 2130 | 14.5 | 70 | 3 | datsun pl510                 | 1 | 1 | 1 | 1 | 1 | 1 | 1 |\n",
       "| 20 | 26 | 4 |  97 |  46 | 1835 | 20.5 | 70 | 2 | volkswagen 1131 deluxe sedan | 1 | 1 | 1 | 1 | 1 | 1 | 1 |\n",
       "| 21 | 25 | 4 | 110 |  87 | 2672 | 17.5 | 70 | 2 | peugeot 504                  | 1 | 1 | 1 | 1 | 1 | 1 | 1 |\n",
       "| 22 | 24 | 4 | 107 |  90 | 2430 | 14.5 | 70 | 2 | audi 100 ls                  | 1 | 1 | 1 | 1 | 1 | 1 | 1 |\n",
       "| 23 | 25 | 4 | 104 |  95 | 2375 | 17.5 | 70 | 2 | saab 99e                     | 1 | 1 | 1 | 1 | 1 | 1 | 1 |\n",
       "| 24 | 26 | 4 | 121 | 113 | 2234 | 12.5 | 70 | 2 | bmw 2002                     | 1 | 1 | 1 | 1 | 1 | 1 | 1 |\n",
       "| 25 | 21 | 6 | 199 |  90 | 2648 | 15.0 | 70 | 1 | amc gremlin                  | 0 | 0 | 0 | 0 | 0 | 0 | 0 |\n",
       "| 26 | 10 | 8 | 360 | 215 | 4615 | 14.0 | 70 | 1 | ford f250                    | 0 | 0 | 0 | 0 | 0 | 0 | 0 |\n",
       "| 27 | 10 | 8 | 307 | 200 | 4376 | 15.0 | 70 | 1 | chevy c20                    | 0 | 0 | 0 | 0 | 0 | 0 | 0 |\n",
       "| 28 | 11 | 8 | 318 | 210 | 4382 | 13.5 | 70 | 1 | dodge d200                   | 0 | 0 | 0 | 0 | 0 | 0 | 0 |\n",
       "| 29 |  9 | 8 | 304 | 193 | 4732 | 18.5 | 70 | 1 | hi 1200d                     | 0 | 0 | 0 | 0 | 0 | 0 | 0 |\n",
       "| 30 | 27 | 4 |  97 |  88 | 2130 | 14.5 | 71 | 3 | datsun pl510                 | 1 | 1 | 1 | 1 | 1 | 1 | 1 |\n",
       "| ... | ... | ... | ... | ... | ... | ... | ... | ... | ... | ... | ... | ... | ... | ... | ... | ... |\n",
       "| 368 | 28 | 4 | 112 |  88 | 2605 | 19.6 | 82 | 1 | chevrolet cavalier                | 1 | 1 | 1 | 1 | 1 | 1 | 1 |\n",
       "| 369 | 27 | 4 | 112 |  88 | 2640 | 18.6 | 82 | 1 | chevrolet cavalier wagon          | 1 | 1 | 1 | 1 | 1 | 1 | 1 |\n",
       "| 370 | 34 | 4 | 112 |  88 | 2395 | 18.0 | 82 | 1 | chevrolet cavalier 2-door         | 1 | 1 | 1 | 1 | 1 | 1 | 1 |\n",
       "| 371 | 31 | 4 | 112 |  85 | 2575 | 16.2 | 82 | 1 | pontiac j2000 se hatchback        | 1 | 1 | 1 | 1 | 1 | 1 | 1 |\n",
       "| 372 | 29 | 4 | 135 |  84 | 2525 | 16.0 | 82 | 1 | dodge aries se                    | 1 | 1 | 1 | 1 | 1 | 1 | 1 |\n",
       "| 373 | 27 | 4 | 151 |  90 | 2735 | 18.0 | 82 | 1 | pontiac phoenix                   | 1 | 1 | 1 | 1 | 1 | 1 | 1 |\n",
       "| 374 | 24 | 4 | 140 |  92 | 2865 | 16.4 | 82 | 1 | ford fairmont futura              | 1 | 1 | 1 | 1 | 1 | 1 | 1 |\n",
       "| 375 | 36 | 4 | 105 |  74 | 1980 | 15.3 | 82 | 2 | volkswagen rabbit l               | 1 | 1 | 1 | 1 | 1 | 1 | 1 |\n",
       "| 376 | 37 | 4 |  91 |  68 | 2025 | 18.2 | 82 | 3 | mazda glc custom l                | 1 | 1 | 1 | 1 | 1 | 1 | 1 |\n",
       "| 377 | 31 | 4 |  91 |  68 | 1970 | 17.6 | 82 | 3 | mazda glc custom                  | 1 | 1 | 1 | 1 | 1 | 1 | 1 |\n",
       "| 378 | 38 | 4 | 105 |  63 | 2125 | 14.7 | 82 | 1 | plymouth horizon miser            | 1 | 1 | 1 | 1 | 1 | 1 | 1 |\n",
       "| 379 | 36 | 4 |  98 |  70 | 2125 | 17.3 | 82 | 1 | mercury lynx l                    | 1 | 1 | 1 | 1 | 1 | 1 | 1 |\n",
       "| 380 | 36 | 4 | 120 |  88 | 2160 | 14.5 | 82 | 3 | nissan stanza xe                  | 1 | 1 | 1 | 1 | 1 | 1 | 1 |\n",
       "| 381 | 36 | 4 | 107 |  75 | 2205 | 14.5 | 82 | 3 | honda accord                      | 1 | 1 | 1 | 1 | 1 | 1 | 1 |\n",
       "| 382 | 34 | 4 | 108 |  70 | 2245 | 16.9 | 82 | 3 | toyota corolla                    | 1 | 1 | 1 | 1 | 1 | 1 | 1 |\n",
       "| 383 | 38 | 4 |  91 |  67 | 1965 | 15.0 | 82 | 3 | honda civic                       | 1 | 1 | 1 | 1 | 1 | 1 | 1 |\n",
       "| 384 | 32 | 4 |  91 |  67 | 1965 | 15.7 | 82 | 3 | honda civic (auto)                | 1 | 1 | 1 | 1 | 1 | 1 | 1 |\n",
       "| 385 | 38 | 4 |  91 |  67 | 1995 | 16.2 | 82 | 3 | datsun 310 gx                     | 1 | 1 | 1 | 1 | 1 | 1 | 1 |\n",
       "| 386 | 25 | 6 | 181 | 110 | 2945 | 16.4 | 82 | 1 | buick century limited             | 1 | 1 | 1 | 1 | 1 | 1 | 1 |\n",
       "| 387 | 38 | 6 | 262 |  85 | 3015 | 17.0 | 82 | 1 | oldsmobile cutlass ciera (diesel) | 1 | 1 | 1 | 1 | 1 | 1 | 1 |\n",
       "| 388 | 26 | 4 | 156 |  92 | 2585 | 14.5 | 82 | 1 | chrysler lebaron medallion        | 1 | 1 | 1 | 1 | 1 | 1 | 1 |\n",
       "| 389 | 22 | 6 | 232 | 112 | 2835 | 14.7 | 82 | 1 | ford granada l                    | 0 | 0 | 0 | 0 | 0 | 0 | 0 |\n",
       "| 390 | 32 | 4 | 144 |  96 | 2665 | 13.9 | 82 | 3 | toyota celica gt                  | 1 | 1 | 1 | 1 | 1 | 1 | 1 |\n",
       "| 391 | 36 | 4 | 135 |  84 | 2370 | 13.0 | 82 | 1 | dodge charger 2.2                 | 1 | 1 | 1 | 1 | 1 | 1 | 1 |\n",
       "| 392 | 27 | 4 | 151 |  90 | 2950 | 17.3 | 82 | 1 | chevrolet camaro                  | 1 | 1 | 1 | 1 | 1 | 1 | 1 |\n",
       "| 393 | 27 | 4 | 140 |  86 | 2790 | 15.6 | 82 | 1 | ford mustang gl                   | 1 | 1 | 1 | 1 | 1 | 1 | 1 |\n",
       "| 394 | 44 | 4 |  97 |  52 | 2130 | 24.6 | 82 | 2 | vw pickup                         | 1 | 1 | 1 | 1 | 1 | 1 | 1 |\n",
       "| 395 | 32 | 4 | 135 |  84 | 2295 | 11.6 | 82 | 1 | dodge rampage                     | 1 | 1 | 1 | 1 | 1 | 1 | 1 |\n",
       "| 396 | 28 | 4 | 120 |  79 | 2625 | 18.6 | 82 | 1 | ford ranger                       | 1 | 1 | 1 | 1 | 1 | 1 | 1 |\n",
       "| 397 | 31 | 4 | 119 |  82 | 2720 | 19.4 | 82 | 1 | chevy s-10                        | 1 | 1 | 1 | 1 | 1 | 1 | 1 |\n",
       "\n"
      ],
      "text/plain": [
       "    mpg cylinders displacement horsepower weight acceleration year origin\n",
       "1   18  8         307          130        3504   12.0         70   1     \n",
       "2   15  8         350          165        3693   11.5         70   1     \n",
       "3   18  8         318          150        3436   11.0         70   1     \n",
       "4   16  8         304          150        3433   12.0         70   1     \n",
       "5   17  8         302          140        3449   10.5         70   1     \n",
       "6   15  8         429          198        4341   10.0         70   1     \n",
       "7   14  8         454          220        4354    9.0         70   1     \n",
       "8   14  8         440          215        4312    8.5         70   1     \n",
       "9   14  8         455          225        4425   10.0         70   1     \n",
       "10  15  8         390          190        3850    8.5         70   1     \n",
       "11  15  8         383          170        3563   10.0         70   1     \n",
       "12  14  8         340          160        3609    8.0         70   1     \n",
       "13  15  8         400          150        3761    9.5         70   1     \n",
       "14  14  8         455          225        3086   10.0         70   1     \n",
       "15  24  4         113           95        2372   15.0         70   3     \n",
       "16  22  6         198           95        2833   15.5         70   1     \n",
       "17  18  6         199           97        2774   15.5         70   1     \n",
       "18  21  6         200           85        2587   16.0         70   1     \n",
       "19  27  4          97           88        2130   14.5         70   3     \n",
       "20  26  4          97           46        1835   20.5         70   2     \n",
       "21  25  4         110           87        2672   17.5         70   2     \n",
       "22  24  4         107           90        2430   14.5         70   2     \n",
       "23  25  4         104           95        2375   17.5         70   2     \n",
       "24  26  4         121          113        2234   12.5         70   2     \n",
       "25  21  6         199           90        2648   15.0         70   1     \n",
       "26  10  8         360          215        4615   14.0         70   1     \n",
       "27  10  8         307          200        4376   15.0         70   1     \n",
       "28  11  8         318          210        4382   13.5         70   1     \n",
       "29   9  8         304          193        4732   18.5         70   1     \n",
       "30  27  4          97           88        2130   14.5         71   3     \n",
       "... ... ...       ...          ...        ...    ...          ...  ...   \n",
       "368 28  4         112           88        2605   19.6         82   1     \n",
       "369 27  4         112           88        2640   18.6         82   1     \n",
       "370 34  4         112           88        2395   18.0         82   1     \n",
       "371 31  4         112           85        2575   16.2         82   1     \n",
       "372 29  4         135           84        2525   16.0         82   1     \n",
       "373 27  4         151           90        2735   18.0         82   1     \n",
       "374 24  4         140           92        2865   16.4         82   1     \n",
       "375 36  4         105           74        1980   15.3         82   2     \n",
       "376 37  4          91           68        2025   18.2         82   3     \n",
       "377 31  4          91           68        1970   17.6         82   3     \n",
       "378 38  4         105           63        2125   14.7         82   1     \n",
       "379 36  4          98           70        2125   17.3         82   1     \n",
       "380 36  4         120           88        2160   14.5         82   3     \n",
       "381 36  4         107           75        2205   14.5         82   3     \n",
       "382 34  4         108           70        2245   16.9         82   3     \n",
       "383 38  4          91           67        1965   15.0         82   3     \n",
       "384 32  4          91           67        1965   15.7         82   3     \n",
       "385 38  4          91           67        1995   16.2         82   3     \n",
       "386 25  6         181          110        2945   16.4         82   1     \n",
       "387 38  6         262           85        3015   17.0         82   1     \n",
       "388 26  4         156           92        2585   14.5         82   1     \n",
       "389 22  6         232          112        2835   14.7         82   1     \n",
       "390 32  4         144           96        2665   13.9         82   3     \n",
       "391 36  4         135           84        2370   13.0         82   1     \n",
       "392 27  4         151           90        2950   17.3         82   1     \n",
       "393 27  4         140           86        2790   15.6         82   1     \n",
       "394 44  4          97           52        2130   24.6         82   2     \n",
       "395 32  4         135           84        2295   11.6         82   1     \n",
       "396 28  4         120           79        2625   18.6         82   1     \n",
       "397 31  4         119           82        2720   19.4         82   1     \n",
       "    name                              mpg01 mpg01.1 mpg01.2 mpg01.3 mpg01.4\n",
       "1   chevrolet chevelle malibu         0     0       0       0       0      \n",
       "2   buick skylark 320                 0     0       0       0       0      \n",
       "3   plymouth satellite                0     0       0       0       0      \n",
       "4   amc rebel sst                     0     0       0       0       0      \n",
       "5   ford torino                       0     0       0       0       0      \n",
       "6   ford galaxie 500                  0     0       0       0       0      \n",
       "7   chevrolet impala                  0     0       0       0       0      \n",
       "8   plymouth fury iii                 0     0       0       0       0      \n",
       "9   pontiac catalina                  0     0       0       0       0      \n",
       "10  amc ambassador dpl                0     0       0       0       0      \n",
       "11  dodge challenger se               0     0       0       0       0      \n",
       "12  plymouth 'cuda 340                0     0       0       0       0      \n",
       "13  chevrolet monte carlo             0     0       0       0       0      \n",
       "14  buick estate wagon (sw)           0     0       0       0       0      \n",
       "15  toyota corona mark ii             1     1       1       1       1      \n",
       "16  plymouth duster                   0     0       0       0       0      \n",
       "17  amc hornet                        0     0       0       0       0      \n",
       "18  ford maverick                     0     0       0       0       0      \n",
       "19  datsun pl510                      1     1       1       1       1      \n",
       "20  volkswagen 1131 deluxe sedan      1     1       1       1       1      \n",
       "21  peugeot 504                       1     1       1       1       1      \n",
       "22  audi 100 ls                       1     1       1       1       1      \n",
       "23  saab 99e                          1     1       1       1       1      \n",
       "24  bmw 2002                          1     1       1       1       1      \n",
       "25  amc gremlin                       0     0       0       0       0      \n",
       "26  ford f250                         0     0       0       0       0      \n",
       "27  chevy c20                         0     0       0       0       0      \n",
       "28  dodge d200                        0     0       0       0       0      \n",
       "29  hi 1200d                          0     0       0       0       0      \n",
       "30  datsun pl510                      1     1       1       1       1      \n",
       "... ...                               ...   ...     ...     ...     ...    \n",
       "368 chevrolet cavalier                1     1       1       1       1      \n",
       "369 chevrolet cavalier wagon          1     1       1       1       1      \n",
       "370 chevrolet cavalier 2-door         1     1       1       1       1      \n",
       "371 pontiac j2000 se hatchback        1     1       1       1       1      \n",
       "372 dodge aries se                    1     1       1       1       1      \n",
       "373 pontiac phoenix                   1     1       1       1       1      \n",
       "374 ford fairmont futura              1     1       1       1       1      \n",
       "375 volkswagen rabbit l               1     1       1       1       1      \n",
       "376 mazda glc custom l                1     1       1       1       1      \n",
       "377 mazda glc custom                  1     1       1       1       1      \n",
       "378 plymouth horizon miser            1     1       1       1       1      \n",
       "379 mercury lynx l                    1     1       1       1       1      \n",
       "380 nissan stanza xe                  1     1       1       1       1      \n",
       "381 honda accord                      1     1       1       1       1      \n",
       "382 toyota corolla                    1     1       1       1       1      \n",
       "383 honda civic                       1     1       1       1       1      \n",
       "384 honda civic (auto)                1     1       1       1       1      \n",
       "385 datsun 310 gx                     1     1       1       1       1      \n",
       "386 buick century limited             1     1       1       1       1      \n",
       "387 oldsmobile cutlass ciera (diesel) 1     1       1       1       1      \n",
       "388 chrysler lebaron medallion        1     1       1       1       1      \n",
       "389 ford granada l                    0     0       0       0       0      \n",
       "390 toyota celica gt                  1     1       1       1       1      \n",
       "391 dodge charger 2.2                 1     1       1       1       1      \n",
       "392 chevrolet camaro                  1     1       1       1       1      \n",
       "393 ford mustang gl                   1     1       1       1       1      \n",
       "394 vw pickup                         1     1       1       1       1      \n",
       "395 dodge rampage                     1     1       1       1       1      \n",
       "396 ford ranger                       1     1       1       1       1      \n",
       "397 chevy s-10                        1     1       1       1       1      \n",
       "    mpg01.5 mpg01.6\n",
       "1   0       0      \n",
       "2   0       0      \n",
       "3   0       0      \n",
       "4   0       0      \n",
       "5   0       0      \n",
       "6   0       0      \n",
       "7   0       0      \n",
       "8   0       0      \n",
       "9   0       0      \n",
       "10  0       0      \n",
       "11  0       0      \n",
       "12  0       0      \n",
       "13  0       0      \n",
       "14  0       0      \n",
       "15  1       1      \n",
       "16  0       0      \n",
       "17  0       0      \n",
       "18  0       0      \n",
       "19  1       1      \n",
       "20  1       1      \n",
       "21  1       1      \n",
       "22  1       1      \n",
       "23  1       1      \n",
       "24  1       1      \n",
       "25  0       0      \n",
       "26  0       0      \n",
       "27  0       0      \n",
       "28  0       0      \n",
       "29  0       0      \n",
       "30  1       1      \n",
       "... ...     ...    \n",
       "368 1       1      \n",
       "369 1       1      \n",
       "370 1       1      \n",
       "371 1       1      \n",
       "372 1       1      \n",
       "373 1       1      \n",
       "374 1       1      \n",
       "375 1       1      \n",
       "376 1       1      \n",
       "377 1       1      \n",
       "378 1       1      \n",
       "379 1       1      \n",
       "380 1       1      \n",
       "381 1       1      \n",
       "382 1       1      \n",
       "383 1       1      \n",
       "384 1       1      \n",
       "385 1       1      \n",
       "386 1       1      \n",
       "387 1       1      \n",
       "388 1       1      \n",
       "389 0       0      \n",
       "390 1       1      \n",
       "391 1       1      \n",
       "392 1       1      \n",
       "393 1       1      \n",
       "394 1       1      \n",
       "395 1       1      \n",
       "396 1       1      \n",
       "397 1       1      "
      ]
     },
     "metadata": {},
     "output_type": "display_data"
    }
   ],
   "source": [
    "\"11a\"\n",
    "summary(Auto)\n",
    "head(Auto)\n",
    "attach(Auto)\n",
    "mpg01 = rep(0, length(mpg))\n",
    "mpg01[mpg>median(mpg)] = 1\n",
    "Auto_a = data.frame(Auto, mpg01)\n",
    "Auto_a"
   ]
  },
  {
   "cell_type": "code",
   "execution_count": 205,
   "id": "remarkable-neutral",
   "metadata": {},
   "outputs": [
    {
     "data": {
      "text/html": [
       "'11b'"
      ],
      "text/latex": [
       "'11b'"
      ],
      "text/markdown": [
       "'11b'"
      ],
      "text/plain": [
       "[1] \"11b\""
      ]
     },
     "metadata": {},
     "output_type": "display_data"
    },
    {
     "data": {
      "text/html": [
       "<table class=\"dataframe\">\n",
       "<caption>A matrix: 15 × 15 of type dbl</caption>\n",
       "<thead>\n",
       "\t<tr><th></th><th scope=col>mpg</th><th scope=col>cylinders</th><th scope=col>displacement</th><th scope=col>horsepower</th><th scope=col>weight</th><th scope=col>acceleration</th><th scope=col>year</th><th scope=col>origin</th><th scope=col>mpg01</th><th scope=col>mpg01.1</th><th scope=col>mpg01.2</th><th scope=col>mpg01.3</th><th scope=col>mpg01.4</th><th scope=col>mpg01.5</th><th scope=col>mpg01.6</th></tr>\n",
       "</thead>\n",
       "<tbody>\n",
       "\t<tr><th scope=row>mpg</th><td> 1.0000000</td><td>-0.7776175</td><td>-0.8051269</td><td>-0.7784268</td><td>-0.8322442</td><td> 0.4233285</td><td> 0.5805410</td><td> 0.5652088</td><td> 0.8369392</td><td> 0.8369392</td><td> 0.8369392</td><td> 0.8369392</td><td> 0.8369392</td><td> 0.8369392</td><td> 0.8369392</td></tr>\n",
       "\t<tr><th scope=row>cylinders</th><td>-0.7776175</td><td> 1.0000000</td><td> 0.9508233</td><td> 0.8429834</td><td> 0.8975273</td><td>-0.5046834</td><td>-0.3456474</td><td>-0.5689316</td><td>-0.7591939</td><td>-0.7591939</td><td>-0.7591939</td><td>-0.7591939</td><td>-0.7591939</td><td>-0.7591939</td><td>-0.7591939</td></tr>\n",
       "\t<tr><th scope=row>displacement</th><td>-0.8051269</td><td> 0.9508233</td><td> 1.0000000</td><td> 0.8972570</td><td> 0.9329944</td><td>-0.5438005</td><td>-0.3698552</td><td>-0.6145351</td><td>-0.7534766</td><td>-0.7534766</td><td>-0.7534766</td><td>-0.7534766</td><td>-0.7534766</td><td>-0.7534766</td><td>-0.7534766</td></tr>\n",
       "\t<tr><th scope=row>horsepower</th><td>-0.7784268</td><td> 0.8429834</td><td> 0.8972570</td><td> 1.0000000</td><td> 0.8645377</td><td>-0.6891955</td><td>-0.4163615</td><td>-0.4551715</td><td>-0.6670526</td><td>-0.6670526</td><td>-0.6670526</td><td>-0.6670526</td><td>-0.6670526</td><td>-0.6670526</td><td>-0.6670526</td></tr>\n",
       "\t<tr><th scope=row>weight</th><td>-0.8322442</td><td> 0.8975273</td><td> 0.9329944</td><td> 0.8645377</td><td> 1.0000000</td><td>-0.4168392</td><td>-0.3091199</td><td>-0.5850054</td><td>-0.7577566</td><td>-0.7577566</td><td>-0.7577566</td><td>-0.7577566</td><td>-0.7577566</td><td>-0.7577566</td><td>-0.7577566</td></tr>\n",
       "\t<tr><th scope=row>acceleration</th><td> 0.4233285</td><td>-0.5046834</td><td>-0.5438005</td><td>-0.6891955</td><td>-0.4168392</td><td> 1.0000000</td><td> 0.2903161</td><td> 0.2127458</td><td> 0.3468215</td><td> 0.3468215</td><td> 0.3468215</td><td> 0.3468215</td><td> 0.3468215</td><td> 0.3468215</td><td> 0.3468215</td></tr>\n",
       "\t<tr><th scope=row>year</th><td> 0.5805410</td><td>-0.3456474</td><td>-0.3698552</td><td>-0.4163615</td><td>-0.3091199</td><td> 0.2903161</td><td> 1.0000000</td><td> 0.1815277</td><td> 0.4299042</td><td> 0.4299042</td><td> 0.4299042</td><td> 0.4299042</td><td> 0.4299042</td><td> 0.4299042</td><td> 0.4299042</td></tr>\n",
       "\t<tr><th scope=row>origin</th><td> 0.5652088</td><td>-0.5689316</td><td>-0.6145351</td><td>-0.4551715</td><td>-0.5850054</td><td> 0.2127458</td><td> 0.1815277</td><td> 1.0000000</td><td> 0.5136984</td><td> 0.5136984</td><td> 0.5136984</td><td> 0.5136984</td><td> 0.5136984</td><td> 0.5136984</td><td> 0.5136984</td></tr>\n",
       "\t<tr><th scope=row>mpg01</th><td> 0.8369392</td><td>-0.7591939</td><td>-0.7534766</td><td>-0.6670526</td><td>-0.7577566</td><td> 0.3468215</td><td> 0.4299042</td><td> 0.5136984</td><td> 1.0000000</td><td> 1.0000000</td><td> 1.0000000</td><td> 1.0000000</td><td> 1.0000000</td><td> 1.0000000</td><td> 1.0000000</td></tr>\n",
       "\t<tr><th scope=row>mpg01.1</th><td> 0.8369392</td><td>-0.7591939</td><td>-0.7534766</td><td>-0.6670526</td><td>-0.7577566</td><td> 0.3468215</td><td> 0.4299042</td><td> 0.5136984</td><td> 1.0000000</td><td> 1.0000000</td><td> 1.0000000</td><td> 1.0000000</td><td> 1.0000000</td><td> 1.0000000</td><td> 1.0000000</td></tr>\n",
       "\t<tr><th scope=row>mpg01.2</th><td> 0.8369392</td><td>-0.7591939</td><td>-0.7534766</td><td>-0.6670526</td><td>-0.7577566</td><td> 0.3468215</td><td> 0.4299042</td><td> 0.5136984</td><td> 1.0000000</td><td> 1.0000000</td><td> 1.0000000</td><td> 1.0000000</td><td> 1.0000000</td><td> 1.0000000</td><td> 1.0000000</td></tr>\n",
       "\t<tr><th scope=row>mpg01.3</th><td> 0.8369392</td><td>-0.7591939</td><td>-0.7534766</td><td>-0.6670526</td><td>-0.7577566</td><td> 0.3468215</td><td> 0.4299042</td><td> 0.5136984</td><td> 1.0000000</td><td> 1.0000000</td><td> 1.0000000</td><td> 1.0000000</td><td> 1.0000000</td><td> 1.0000000</td><td> 1.0000000</td></tr>\n",
       "\t<tr><th scope=row>mpg01.4</th><td> 0.8369392</td><td>-0.7591939</td><td>-0.7534766</td><td>-0.6670526</td><td>-0.7577566</td><td> 0.3468215</td><td> 0.4299042</td><td> 0.5136984</td><td> 1.0000000</td><td> 1.0000000</td><td> 1.0000000</td><td> 1.0000000</td><td> 1.0000000</td><td> 1.0000000</td><td> 1.0000000</td></tr>\n",
       "\t<tr><th scope=row>mpg01.5</th><td> 0.8369392</td><td>-0.7591939</td><td>-0.7534766</td><td>-0.6670526</td><td>-0.7577566</td><td> 0.3468215</td><td> 0.4299042</td><td> 0.5136984</td><td> 1.0000000</td><td> 1.0000000</td><td> 1.0000000</td><td> 1.0000000</td><td> 1.0000000</td><td> 1.0000000</td><td> 1.0000000</td></tr>\n",
       "\t<tr><th scope=row>mpg01.6</th><td> 0.8369392</td><td>-0.7591939</td><td>-0.7534766</td><td>-0.6670526</td><td>-0.7577566</td><td> 0.3468215</td><td> 0.4299042</td><td> 0.5136984</td><td> 1.0000000</td><td> 1.0000000</td><td> 1.0000000</td><td> 1.0000000</td><td> 1.0000000</td><td> 1.0000000</td><td> 1.0000000</td></tr>\n",
       "</tbody>\n",
       "</table>\n"
      ],
      "text/latex": [
       "A matrix: 15 × 15 of type dbl\n",
       "\\begin{tabular}{r|lllllllllllllll}\n",
       "  & mpg & cylinders & displacement & horsepower & weight & acceleration & year & origin & mpg01 & mpg01.1 & mpg01.2 & mpg01.3 & mpg01.4 & mpg01.5 & mpg01.6\\\\\n",
       "\\hline\n",
       "\tmpg &  1.0000000 & -0.7776175 & -0.8051269 & -0.7784268 & -0.8322442 &  0.4233285 &  0.5805410 &  0.5652088 &  0.8369392 &  0.8369392 &  0.8369392 &  0.8369392 &  0.8369392 &  0.8369392 &  0.8369392\\\\\n",
       "\tcylinders & -0.7776175 &  1.0000000 &  0.9508233 &  0.8429834 &  0.8975273 & -0.5046834 & -0.3456474 & -0.5689316 & -0.7591939 & -0.7591939 & -0.7591939 & -0.7591939 & -0.7591939 & -0.7591939 & -0.7591939\\\\\n",
       "\tdisplacement & -0.8051269 &  0.9508233 &  1.0000000 &  0.8972570 &  0.9329944 & -0.5438005 & -0.3698552 & -0.6145351 & -0.7534766 & -0.7534766 & -0.7534766 & -0.7534766 & -0.7534766 & -0.7534766 & -0.7534766\\\\\n",
       "\thorsepower & -0.7784268 &  0.8429834 &  0.8972570 &  1.0000000 &  0.8645377 & -0.6891955 & -0.4163615 & -0.4551715 & -0.6670526 & -0.6670526 & -0.6670526 & -0.6670526 & -0.6670526 & -0.6670526 & -0.6670526\\\\\n",
       "\tweight & -0.8322442 &  0.8975273 &  0.9329944 &  0.8645377 &  1.0000000 & -0.4168392 & -0.3091199 & -0.5850054 & -0.7577566 & -0.7577566 & -0.7577566 & -0.7577566 & -0.7577566 & -0.7577566 & -0.7577566\\\\\n",
       "\tacceleration &  0.4233285 & -0.5046834 & -0.5438005 & -0.6891955 & -0.4168392 &  1.0000000 &  0.2903161 &  0.2127458 &  0.3468215 &  0.3468215 &  0.3468215 &  0.3468215 &  0.3468215 &  0.3468215 &  0.3468215\\\\\n",
       "\tyear &  0.5805410 & -0.3456474 & -0.3698552 & -0.4163615 & -0.3091199 &  0.2903161 &  1.0000000 &  0.1815277 &  0.4299042 &  0.4299042 &  0.4299042 &  0.4299042 &  0.4299042 &  0.4299042 &  0.4299042\\\\\n",
       "\torigin &  0.5652088 & -0.5689316 & -0.6145351 & -0.4551715 & -0.5850054 &  0.2127458 &  0.1815277 &  1.0000000 &  0.5136984 &  0.5136984 &  0.5136984 &  0.5136984 &  0.5136984 &  0.5136984 &  0.5136984\\\\\n",
       "\tmpg01 &  0.8369392 & -0.7591939 & -0.7534766 & -0.6670526 & -0.7577566 &  0.3468215 &  0.4299042 &  0.5136984 &  1.0000000 &  1.0000000 &  1.0000000 &  1.0000000 &  1.0000000 &  1.0000000 &  1.0000000\\\\\n",
       "\tmpg01.1 &  0.8369392 & -0.7591939 & -0.7534766 & -0.6670526 & -0.7577566 &  0.3468215 &  0.4299042 &  0.5136984 &  1.0000000 &  1.0000000 &  1.0000000 &  1.0000000 &  1.0000000 &  1.0000000 &  1.0000000\\\\\n",
       "\tmpg01.2 &  0.8369392 & -0.7591939 & -0.7534766 & -0.6670526 & -0.7577566 &  0.3468215 &  0.4299042 &  0.5136984 &  1.0000000 &  1.0000000 &  1.0000000 &  1.0000000 &  1.0000000 &  1.0000000 &  1.0000000\\\\\n",
       "\tmpg01.3 &  0.8369392 & -0.7591939 & -0.7534766 & -0.6670526 & -0.7577566 &  0.3468215 &  0.4299042 &  0.5136984 &  1.0000000 &  1.0000000 &  1.0000000 &  1.0000000 &  1.0000000 &  1.0000000 &  1.0000000\\\\\n",
       "\tmpg01.4 &  0.8369392 & -0.7591939 & -0.7534766 & -0.6670526 & -0.7577566 &  0.3468215 &  0.4299042 &  0.5136984 &  1.0000000 &  1.0000000 &  1.0000000 &  1.0000000 &  1.0000000 &  1.0000000 &  1.0000000\\\\\n",
       "\tmpg01.5 &  0.8369392 & -0.7591939 & -0.7534766 & -0.6670526 & -0.7577566 &  0.3468215 &  0.4299042 &  0.5136984 &  1.0000000 &  1.0000000 &  1.0000000 &  1.0000000 &  1.0000000 &  1.0000000 &  1.0000000\\\\\n",
       "\tmpg01.6 &  0.8369392 & -0.7591939 & -0.7534766 & -0.6670526 & -0.7577566 &  0.3468215 &  0.4299042 &  0.5136984 &  1.0000000 &  1.0000000 &  1.0000000 &  1.0000000 &  1.0000000 &  1.0000000 &  1.0000000\\\\\n",
       "\\end{tabular}\n"
      ],
      "text/markdown": [
       "\n",
       "A matrix: 15 × 15 of type dbl\n",
       "\n",
       "| <!--/--> | mpg | cylinders | displacement | horsepower | weight | acceleration | year | origin | mpg01 | mpg01.1 | mpg01.2 | mpg01.3 | mpg01.4 | mpg01.5 | mpg01.6 |\n",
       "|---|---|---|---|---|---|---|---|---|---|---|---|---|---|---|---|\n",
       "| mpg |  1.0000000 | -0.7776175 | -0.8051269 | -0.7784268 | -0.8322442 |  0.4233285 |  0.5805410 |  0.5652088 |  0.8369392 |  0.8369392 |  0.8369392 |  0.8369392 |  0.8369392 |  0.8369392 |  0.8369392 |\n",
       "| cylinders | -0.7776175 |  1.0000000 |  0.9508233 |  0.8429834 |  0.8975273 | -0.5046834 | -0.3456474 | -0.5689316 | -0.7591939 | -0.7591939 | -0.7591939 | -0.7591939 | -0.7591939 | -0.7591939 | -0.7591939 |\n",
       "| displacement | -0.8051269 |  0.9508233 |  1.0000000 |  0.8972570 |  0.9329944 | -0.5438005 | -0.3698552 | -0.6145351 | -0.7534766 | -0.7534766 | -0.7534766 | -0.7534766 | -0.7534766 | -0.7534766 | -0.7534766 |\n",
       "| horsepower | -0.7784268 |  0.8429834 |  0.8972570 |  1.0000000 |  0.8645377 | -0.6891955 | -0.4163615 | -0.4551715 | -0.6670526 | -0.6670526 | -0.6670526 | -0.6670526 | -0.6670526 | -0.6670526 | -0.6670526 |\n",
       "| weight | -0.8322442 |  0.8975273 |  0.9329944 |  0.8645377 |  1.0000000 | -0.4168392 | -0.3091199 | -0.5850054 | -0.7577566 | -0.7577566 | -0.7577566 | -0.7577566 | -0.7577566 | -0.7577566 | -0.7577566 |\n",
       "| acceleration |  0.4233285 | -0.5046834 | -0.5438005 | -0.6891955 | -0.4168392 |  1.0000000 |  0.2903161 |  0.2127458 |  0.3468215 |  0.3468215 |  0.3468215 |  0.3468215 |  0.3468215 |  0.3468215 |  0.3468215 |\n",
       "| year |  0.5805410 | -0.3456474 | -0.3698552 | -0.4163615 | -0.3091199 |  0.2903161 |  1.0000000 |  0.1815277 |  0.4299042 |  0.4299042 |  0.4299042 |  0.4299042 |  0.4299042 |  0.4299042 |  0.4299042 |\n",
       "| origin |  0.5652088 | -0.5689316 | -0.6145351 | -0.4551715 | -0.5850054 |  0.2127458 |  0.1815277 |  1.0000000 |  0.5136984 |  0.5136984 |  0.5136984 |  0.5136984 |  0.5136984 |  0.5136984 |  0.5136984 |\n",
       "| mpg01 |  0.8369392 | -0.7591939 | -0.7534766 | -0.6670526 | -0.7577566 |  0.3468215 |  0.4299042 |  0.5136984 |  1.0000000 |  1.0000000 |  1.0000000 |  1.0000000 |  1.0000000 |  1.0000000 |  1.0000000 |\n",
       "| mpg01.1 |  0.8369392 | -0.7591939 | -0.7534766 | -0.6670526 | -0.7577566 |  0.3468215 |  0.4299042 |  0.5136984 |  1.0000000 |  1.0000000 |  1.0000000 |  1.0000000 |  1.0000000 |  1.0000000 |  1.0000000 |\n",
       "| mpg01.2 |  0.8369392 | -0.7591939 | -0.7534766 | -0.6670526 | -0.7577566 |  0.3468215 |  0.4299042 |  0.5136984 |  1.0000000 |  1.0000000 |  1.0000000 |  1.0000000 |  1.0000000 |  1.0000000 |  1.0000000 |\n",
       "| mpg01.3 |  0.8369392 | -0.7591939 | -0.7534766 | -0.6670526 | -0.7577566 |  0.3468215 |  0.4299042 |  0.5136984 |  1.0000000 |  1.0000000 |  1.0000000 |  1.0000000 |  1.0000000 |  1.0000000 |  1.0000000 |\n",
       "| mpg01.4 |  0.8369392 | -0.7591939 | -0.7534766 | -0.6670526 | -0.7577566 |  0.3468215 |  0.4299042 |  0.5136984 |  1.0000000 |  1.0000000 |  1.0000000 |  1.0000000 |  1.0000000 |  1.0000000 |  1.0000000 |\n",
       "| mpg01.5 |  0.8369392 | -0.7591939 | -0.7534766 | -0.6670526 | -0.7577566 |  0.3468215 |  0.4299042 |  0.5136984 |  1.0000000 |  1.0000000 |  1.0000000 |  1.0000000 |  1.0000000 |  1.0000000 |  1.0000000 |\n",
       "| mpg01.6 |  0.8369392 | -0.7591939 | -0.7534766 | -0.6670526 | -0.7577566 |  0.3468215 |  0.4299042 |  0.5136984 |  1.0000000 |  1.0000000 |  1.0000000 |  1.0000000 |  1.0000000 |  1.0000000 |  1.0000000 |\n",
       "\n"
      ],
      "text/plain": [
       "             mpg        cylinders  displacement horsepower weight    \n",
       "mpg           1.0000000 -0.7776175 -0.8051269   -0.7784268 -0.8322442\n",
       "cylinders    -0.7776175  1.0000000  0.9508233    0.8429834  0.8975273\n",
       "displacement -0.8051269  0.9508233  1.0000000    0.8972570  0.9329944\n",
       "horsepower   -0.7784268  0.8429834  0.8972570    1.0000000  0.8645377\n",
       "weight       -0.8322442  0.8975273  0.9329944    0.8645377  1.0000000\n",
       "acceleration  0.4233285 -0.5046834 -0.5438005   -0.6891955 -0.4168392\n",
       "year          0.5805410 -0.3456474 -0.3698552   -0.4163615 -0.3091199\n",
       "origin        0.5652088 -0.5689316 -0.6145351   -0.4551715 -0.5850054\n",
       "mpg01         0.8369392 -0.7591939 -0.7534766   -0.6670526 -0.7577566\n",
       "mpg01.1       0.8369392 -0.7591939 -0.7534766   -0.6670526 -0.7577566\n",
       "mpg01.2       0.8369392 -0.7591939 -0.7534766   -0.6670526 -0.7577566\n",
       "mpg01.3       0.8369392 -0.7591939 -0.7534766   -0.6670526 -0.7577566\n",
       "mpg01.4       0.8369392 -0.7591939 -0.7534766   -0.6670526 -0.7577566\n",
       "mpg01.5       0.8369392 -0.7591939 -0.7534766   -0.6670526 -0.7577566\n",
       "mpg01.6       0.8369392 -0.7591939 -0.7534766   -0.6670526 -0.7577566\n",
       "             acceleration year       origin     mpg01      mpg01.1   \n",
       "mpg           0.4233285    0.5805410  0.5652088  0.8369392  0.8369392\n",
       "cylinders    -0.5046834   -0.3456474 -0.5689316 -0.7591939 -0.7591939\n",
       "displacement -0.5438005   -0.3698552 -0.6145351 -0.7534766 -0.7534766\n",
       "horsepower   -0.6891955   -0.4163615 -0.4551715 -0.6670526 -0.6670526\n",
       "weight       -0.4168392   -0.3091199 -0.5850054 -0.7577566 -0.7577566\n",
       "acceleration  1.0000000    0.2903161  0.2127458  0.3468215  0.3468215\n",
       "year          0.2903161    1.0000000  0.1815277  0.4299042  0.4299042\n",
       "origin        0.2127458    0.1815277  1.0000000  0.5136984  0.5136984\n",
       "mpg01         0.3468215    0.4299042  0.5136984  1.0000000  1.0000000\n",
       "mpg01.1       0.3468215    0.4299042  0.5136984  1.0000000  1.0000000\n",
       "mpg01.2       0.3468215    0.4299042  0.5136984  1.0000000  1.0000000\n",
       "mpg01.3       0.3468215    0.4299042  0.5136984  1.0000000  1.0000000\n",
       "mpg01.4       0.3468215    0.4299042  0.5136984  1.0000000  1.0000000\n",
       "mpg01.5       0.3468215    0.4299042  0.5136984  1.0000000  1.0000000\n",
       "mpg01.6       0.3468215    0.4299042  0.5136984  1.0000000  1.0000000\n",
       "             mpg01.2    mpg01.3    mpg01.4    mpg01.5    mpg01.6   \n",
       "mpg           0.8369392  0.8369392  0.8369392  0.8369392  0.8369392\n",
       "cylinders    -0.7591939 -0.7591939 -0.7591939 -0.7591939 -0.7591939\n",
       "displacement -0.7534766 -0.7534766 -0.7534766 -0.7534766 -0.7534766\n",
       "horsepower   -0.6670526 -0.6670526 -0.6670526 -0.6670526 -0.6670526\n",
       "weight       -0.7577566 -0.7577566 -0.7577566 -0.7577566 -0.7577566\n",
       "acceleration  0.3468215  0.3468215  0.3468215  0.3468215  0.3468215\n",
       "year          0.4299042  0.4299042  0.4299042  0.4299042  0.4299042\n",
       "origin        0.5136984  0.5136984  0.5136984  0.5136984  0.5136984\n",
       "mpg01         1.0000000  1.0000000  1.0000000  1.0000000  1.0000000\n",
       "mpg01.1       1.0000000  1.0000000  1.0000000  1.0000000  1.0000000\n",
       "mpg01.2       1.0000000  1.0000000  1.0000000  1.0000000  1.0000000\n",
       "mpg01.3       1.0000000  1.0000000  1.0000000  1.0000000  1.0000000\n",
       "mpg01.4       1.0000000  1.0000000  1.0000000  1.0000000  1.0000000\n",
       "mpg01.5       1.0000000  1.0000000  1.0000000  1.0000000  1.0000000\n",
       "mpg01.6       1.0000000  1.0000000  1.0000000  1.0000000  1.0000000"
      ]
     },
     "metadata": {},
     "output_type": "display_data"
    },
    {
     "data": {
      "image/png": "[encoded data removed]",
      "text/plain": [
       "plot without title"
      ]
     },
     "metadata": {
      "image/png": {
       "height": 420,
       "width": 420
      }
     },
     "output_type": "display_data"
    },
    {
     "data": {
      "image/png": "[encoded data removed]",
      "text/plain": [
       "plot without title"
      ]
     },
     "metadata": {
      "image/png": {
       "height": 420,
       "width": 420
      }
     },
     "output_type": "display_data"
    },
    {
     "data": {
      "image/png": "[encoded data removed]",
      "text/plain": [
       "plot without title"
      ]
     },
     "metadata": {
      "image/png": {
       "height": 420,
       "width": 420
      }
     },
     "output_type": "display_data"
    },
    {
     "data": {
      "image/png": "[encoded data removed]",
      "text/plain": [
       "plot without title"
      ]
     },
     "metadata": {
      "image/png": {
       "height": 420,
       "width": 420
      }
     },
     "output_type": "display_data"
    },
    {
     "data": {
      "image/png": "[encoded data removed]",
      "text/plain": [
       "plot without title"
      ]
     },
     "metadata": {
      "image/png": {
       "height": 420,
       "width": 420
      }
     },
     "output_type": "display_data"
    },
    {
     "data": {
      "image/png": "[encoded data removed]",
      "text/plain": [
       "plot without title"
      ]
     },
     "metadata": {
      "image/png": {
       "height": 420,
       "width": 420
      }
     },
     "output_type": "display_data"
    },
    {
     "data": {
      "image/png": "[encoded data removed]",
      "text/plain": [
       "plot without title"
      ]
     },
     "metadata": {
      "image/png": {
       "height": 420,
       "width": 420
      }
     },
     "output_type": "display_data"
    }
   ],
   "source": [
    "\"11b\"\n",
    "cor(Auto_a[,-9])\n",
    "boxplot(mpg ~ mpg01, data = Auto_a)\n",
    "boxplot(cylinders ~ mpg01, data = Auto_a)\n",
    "boxplot(displacement ~ mpg01, data = Auto_a)\n",
    "boxplot(horsepower ~ mpg01, data = Auto_a)\n",
    "boxplot(acceleration ~ mpg01, data = Auto_a)\n",
    "boxplot(year ~ mpg01, data = Auto_a)\n",
    "boxplot(origin ~ mpg01, data = Auto_a)"
   ]
  },
  {
   "cell_type": "markdown",
   "id": "higher-victorian",
   "metadata": {},
   "source": [
    "mpg01 ist strongly negatively correlated with cylinders (-0.759), displacement (-0.753), horsepower (-0.667) and weight (-0.758). It's strongly positively correlated with mpg (0.837) and the the other mpg01, I'm a bit confused that the correlation with mpg is not 1 since mpg01 comes from mpg. mpg01 is slightly positively correlated with acceleration (0.347) and year (0.43)."
   ]
  },
  {
   "cell_type": "code",
   "execution_count": 208,
   "id": "latter-joint",
   "metadata": {},
   "outputs": [
    {
     "data": {
      "text/html": [
       "'11c'"
      ],
      "text/latex": [
       "'11c'"
      ],
      "text/markdown": [
       "'11c'"
      ],
      "text/plain": [
       "[1] \"11c\""
      ]
     },
     "metadata": {},
     "output_type": "display_data"
    },
    {
     "name": "stdout",
     "output_type": "stream",
     "text": [
      "'data.frame':\t294 obs. of  16 variables:\n",
      " $ mpg         : num  37.3 13 15 27.4 16 13 26.8 18 34 37.7 ...\n",
      " $ cylinders   : num  4 8 8 4 6 8 6 6 4 4 ...\n",
      " $ displacement: num  91 350 400 121 250 400 173 250 112 89 ...\n",
      " $ horsepower  : num  69 165 150 80 100 190 115 88 88 62 ...\n",
      " $ weight      : num  2130 4274 3761 2670 3781 ...\n",
      " $ acceleration: num  14.7 12 9.5 15 17 12.5 12.9 14.5 18 17.3 ...\n",
      " $ year        : num  79 72 70 79 74 72 79 71 82 81 ...\n",
      " $ origin      : num  2 1 1 1 1 1 1 1 1 3 ...\n",
      " $ name        : Factor w/ 304 levels \"amc ambassador brougham\",..: 126 54 57 15 50 75 205 151 46 278 ...\n",
      " $ mpg01       : num  1 0 0 1 0 0 1 0 1 1 ...\n",
      " $ mpg01.1     : num  1 0 0 1 0 0 1 0 1 1 ...\n",
      " $ mpg01.2     : num  1 0 0 1 0 0 1 0 1 1 ...\n",
      " $ mpg01.3     : num  1 0 0 1 0 0 1 0 1 1 ...\n",
      " $ mpg01.4     : num  1 0 0 1 0 0 1 0 1 1 ...\n",
      " $ mpg01.5     : num  1 0 0 1 0 0 1 0 1 1 ...\n",
      " $ mpg01.6     : num  1 0 0 1 0 0 1 0 1 1 ...\n",
      "'data.frame':\t98 obs. of  16 variables:\n",
      " $ mpg         : num  18 24 18 16 17 13 22 23 31 20 ...\n",
      " $ cylinders   : num  8 4 6 6 6 8 4 4 4 4 ...\n",
      " $ displacement: num  307 113 199 225 250 400 140 122 71 140 ...\n",
      " $ horsepower  : num  130 95 97 105 100 170 72 86 65 90 ...\n",
      " $ weight      : num  3504 2372 2774 3439 3329 ...\n",
      " $ acceleration: num  12 15 15.5 15.5 15.5 12 19 14 19 19.5 ...\n",
      " $ year        : num  70 70 70 71 71 71 71 71 71 72 ...\n",
      " $ origin      : num  1 3 1 1 1 1 1 1 3 1 ...\n",
      " $ name        : Factor w/ 304 levels \"amc ambassador brougham\",..: 49 274 8 232 49 129 64 187 267 63 ...\n",
      " $ mpg01       : num  0 1 0 0 0 0 0 1 1 0 ...\n",
      " $ mpg01.1     : num  0 1 0 0 0 0 0 1 1 0 ...\n",
      " $ mpg01.2     : num  0 1 0 0 0 0 0 1 1 0 ...\n",
      " $ mpg01.3     : num  0 1 0 0 0 0 0 1 1 0 ...\n",
      " $ mpg01.4     : num  0 1 0 0 0 0 0 1 1 0 ...\n",
      " $ mpg01.5     : num  0 1 0 0 0 0 0 1 1 0 ...\n",
      " $ mpg01.6     : num  0 1 0 0 0 0 0 1 1 0 ...\n"
     ]
    }
   ],
   "source": [
    "\"11c\"\n",
    "length <- length(Auto_a$mpg01)\n",
    "random_sample1 <- sample(1:length, 3/4*length) \n",
    "random_sample2 <- (1:length)[-random_sample1]\n",
    "Auto.train <- Auto_a[random_sample1,] \n",
    "Auto.test <- Auto_a[random_sample2,] \n",
    "mpg01.test = mpg01[random_sample2]\n",
    "\n",
    "str(Auto.train)\n",
    "str(Auto.test)"
   ]
  },
  {
   "cell_type": "code",
   "execution_count": 209,
   "id": "ahead-kinase",
   "metadata": {},
   "outputs": [
    {
     "data": {
      "text/html": [
       "'11d'"
      ],
      "text/latex": [
       "'11d'"
      ],
      "text/markdown": [
       "'11d'"
      ],
      "text/plain": [
       "[1] \"11d\""
      ]
     },
     "metadata": {},
     "output_type": "display_data"
    },
    {
     "data": {
      "text/html": [
       "0.122448979591837"
      ],
      "text/latex": [
       "0.122448979591837"
      ],
      "text/markdown": [
       "0.122448979591837"
      ],
      "text/plain": [
       "[1] 0.122449"
      ]
     },
     "metadata": {},
     "output_type": "display_data"
    }
   ],
   "source": [
    "\"11d\"\n",
    "lda.fit = lda(mpg01~cylinders+weight+displacement+horsepower, data=Auto.train)\n",
    "lda.pred = predict(lda.fit, Auto.test)\n",
    "mean(lda.pred$class != mpg01.test)"
   ]
  },
  {
   "cell_type": "markdown",
   "id": "emerging-relief",
   "metadata": {},
   "source": [
    "The test error rate is 12%\n"
   ]
  },
  {
   "cell_type": "code",
   "execution_count": 210,
   "id": "devoted-subdivision",
   "metadata": {},
   "outputs": [
    {
     "data": {
      "text/html": [
       "'11e'"
      ],
      "text/latex": [
       "'11e'"
      ],
      "text/markdown": [
       "'11e'"
      ],
      "text/plain": [
       "[1] \"11e\""
      ]
     },
     "metadata": {},
     "output_type": "display_data"
    },
    {
     "data": {
      "text/html": [
       "0.163265306122449"
      ],
      "text/latex": [
       "0.163265306122449"
      ],
      "text/markdown": [
       "0.163265306122449"
      ],
      "text/plain": [
       "[1] 0.1632653"
      ]
     },
     "metadata": {},
     "output_type": "display_data"
    }
   ],
   "source": [
    "\"11e\"\n",
    "qda.fit = qda(mpg01~cylinders+weight+displacement+horsepower,data=Auto.train)\n",
    "qda.pred = predict(qda.fit, Auto.test)\n",
    "mean(qda.pred$class != mpg01.test)"
   ]
  },
  {
   "cell_type": "markdown",
   "id": "muslim-kingdom",
   "metadata": {},
   "source": [
    "The test error rate is 16%"
   ]
  },
  {
   "cell_type": "code",
   "execution_count": 211,
   "id": "several-quilt",
   "metadata": {},
   "outputs": [
    {
     "data": {
      "text/html": [
       "'11f'"
      ],
      "text/latex": [
       "'11f'"
      ],
      "text/markdown": [
       "'11f'"
      ],
      "text/plain": [
       "[1] \"11f\""
      ]
     },
     "metadata": {},
     "output_type": "display_data"
    },
    {
     "data": {
      "text/html": [
       "0.153061224489796"
      ],
      "text/latex": [
       "0.153061224489796"
      ],
      "text/markdown": [
       "0.153061224489796"
      ],
      "text/plain": [
       "[1] 0.1530612"
      ]
     },
     "metadata": {},
     "output_type": "display_data"
    }
   ],
   "source": [
    "\"11f\"\n",
    "glm.fit = glm(mpg01~cylinders+weight+displacement+horsepower,data=Auto.train, family = binomial)\n",
    "glm.probs = predict(glm.fit, Auto.test, type=\"response\")\n",
    "glm.pred = rep(0, length(glm.probs))\n",
    "glm.pred[glm.probs > 0.5] = 1\n",
    "mean(glm.pred != mpg01.test)"
   ]
  },
  {
   "cell_type": "markdown",
   "id": "terminal-destruction",
   "metadata": {},
   "source": [
    "The test error rate is 15%"
   ]
  },
  {
   "cell_type": "code",
   "execution_count": 213,
   "id": "frank-disclosure",
   "metadata": {},
   "outputs": [
    {
     "data": {
      "text/html": [
       "'11g'"
      ],
      "text/latex": [
       "'11g'"
      ],
      "text/markdown": [
       "'11g'"
      ],
      "text/plain": [
       "[1] \"11g\""
      ]
     },
     "metadata": {},
     "output_type": "display_data"
    },
    {
     "data": {
      "text/html": [
       "'k=1'"
      ],
      "text/latex": [
       "'k=1'"
      ],
      "text/markdown": [
       "'k=1'"
      ],
      "text/plain": [
       "[1] \"k=1\""
      ]
     },
     "metadata": {},
     "output_type": "display_data"
    },
    {
     "data": {
      "text/html": [
       "0.13265306122449"
      ],
      "text/latex": [
       "0.13265306122449"
      ],
      "text/markdown": [
       "0.13265306122449"
      ],
      "text/plain": [
       "[1] 0.1326531"
      ]
     },
     "metadata": {},
     "output_type": "display_data"
    },
    {
     "data": {
      "text/html": [
       "'k=10'"
      ],
      "text/latex": [
       "'k=10'"
      ],
      "text/markdown": [
       "'k=10'"
      ],
      "text/plain": [
       "[1] \"k=10\""
      ]
     },
     "metadata": {},
     "output_type": "display_data"
    },
    {
     "data": {
      "text/html": [
       "0.142857142857143"
      ],
      "text/latex": [
       "0.142857142857143"
      ],
      "text/markdown": [
       "0.142857142857143"
      ],
      "text/plain": [
       "[1] 0.1428571"
      ]
     },
     "metadata": {},
     "output_type": "display_data"
    },
    {
     "data": {
      "text/html": [
       "'k=100'"
      ],
      "text/latex": [
       "'k=100'"
      ],
      "text/markdown": [
       "'k=100'"
      ],
      "text/plain": [
       "[1] \"k=100\""
      ]
     },
     "metadata": {},
     "output_type": "display_data"
    },
    {
     "data": {
      "text/html": [
       "0.142857142857143"
      ],
      "text/latex": [
       "0.142857142857143"
      ],
      "text/markdown": [
       "0.142857142857143"
      ],
      "text/plain": [
       "[1] 0.1428571"
      ]
     },
     "metadata": {},
     "output_type": "display_data"
    },
    {
     "data": {
      "text/html": [
       "'k=200'"
      ],
      "text/latex": [
       "'k=200'"
      ],
      "text/markdown": [
       "'k=200'"
      ],
      "text/plain": [
       "[1] \"k=200\""
      ]
     },
     "metadata": {},
     "output_type": "display_data"
    },
    {
     "data": {
      "text/html": [
       "0.142857142857143"
      ],
      "text/latex": [
       "0.142857142857143"
      ],
      "text/markdown": [
       "0.142857142857143"
      ],
      "text/plain": [
       "[1] 0.1428571"
      ]
     },
     "metadata": {},
     "output_type": "display_data"
    }
   ],
   "source": [
    "\"11g\"\n",
    "train.X = as.matrix(Auto_a$cylinders[random_sample1], Auto_a$weight[random_sample1], Auto_a$displacement[random_sample1], Auto_a$horsepower[random_sample1]) \n",
    "test.X =  as.matrix(Auto_a$cylinders[random_sample2], Auto_a$weight[random_sample2], Auto_a$displacement[random_sample2], Auto_a$horsepower[random_sample2]) \n",
    "train.mpg01 = Auto_a$mpg01[random_sample1]\n",
    "set.seed(1)\n",
    "\n",
    "\"k=1\"\n",
    "knn.pred = knn(train.X, test.X, train.mpg01, k=1)\n",
    "mean(knn.pred!=mpg01.test)\n",
    "\n",
    "\"k=10\"\n",
    "knn.pred = knn(train.X, test.X, train.mpg01, k=10)\n",
    "mean(knn.pred!=mpg01.test)\n",
    "\n",
    "\"k=100\"\n",
    "knn.pred = knn(train.X, test.X, train.mpg01, k=100)\n",
    "mean(knn.pred!=mpg01.test)\n",
    "\n",
    "\"k=200\"\n",
    "knn.pred = knn(train.X, test.X, train.mpg01, k=200)\n",
    "mean(knn.pred!=mpg01.test)\n"
   ]
  },
  {
   "cell_type": "markdown",
   "id": "different-crossing",
   "metadata": {},
   "source": [
    "The test error rate of K=1 ist 13%, it's lower than the test error rate of k= 10, 100 & 200, which all have the same test error rate (14%). So k=1 seems to perform best."
   ]
  }
 ],
 "metadata": {
  "kernelspec": {
   "display_name": "R",
   "language": "R",
   "name": "ir"
  },
  "language_info": {
   "codemirror_mode": "r",
   "file_extension": ".r",
   "mimetype": "text/x-r-source",
   "name": "R",
   "pygments_lexer": "r",
   "version": "4.0.4"
  }
 },
 "nbformat": 4,
 "nbformat_minor": 5
}
