{
 "cells": [
  {
   "cell_type": "markdown",
   "id": "controlling-jones",
   "metadata": {},
   "source": [
    "## Homework 4: Linear models"
   ]
  },
  {
   "cell_type": "markdown",
   "id": "bizarre-glasgow",
   "metadata": {},
   "source": [
    "In this homework you will get more practice in combining data from different sources and in fitting a linear regression model in order to understand the relationship betweem various properties of words and the speed with which people can recognize them.\n",
    "\n",
    "We will be using the files `ldt_trials.csv` and `word_properties.csv` in the `data` folder. These files contain lexical decision reaction times for each participant and each word (`ldt_trials.csv`) and information about various word properties such as word length, word frequency, concreteness and emotional valence (`word_properties.csv`). These data were obtained from the English Lexicon Project: https://elexicon.wustl.edu/index.html\n",
    "\n",
    "Your main goal for this homework is to understand how reaction times to recognize a word vary as a function of each of these word properties."
   ]
  },
  {
   "cell_type": "markdown",
   "id": "former-entity",
   "metadata": {},
   "source": [
    "#### Part 1: Loading and organizing the data\n",
    "\n",
    "Since the reaction times and the word properties are stored in different files, you will have to load them separately, then combine them before analyzing the data. The `ldt_trials.csv` file is in tidy format and each row contains RTs in response to a particular word for a particular participants. The `word_properties.csv` file contains one row per word listing its various properties in columns.\n",
    "\n",
    "First, load the two datasets. Use the `str`, `heads` and `summary` commands for each dataset in order to understand how they are structured:"
   ]
  },
  {
   "cell_type": "code",
   "execution_count": 61,
   "id": "prompt-package",
   "metadata": {},
   "outputs": [
    {
     "name": "stdout",
     "output_type": "stream",
     "text": [
      "'data.frame':\t333970 obs. of  8 variables:\n",
      " $ Sub_ID    : int  85 85 85 85 85 85 85 85 85 85 ...\n",
      " $ Trial     : int  83 84 85 86 87 88 89 90 91 92 ...\n",
      " $ Type      : int  0 1 1 1 1 1 1 0 0 0 ...\n",
      " $ D_Accuracy: int  1 1 1 1 1 0 1 1 1 0 ...\n",
      " $ D_RT      : int  796 1056 541 1215 587 1072 677 1109 2014 1361 ...\n",
      " $ D_word    : chr  \"pisect\" \"hindquarters\" \"healthy\" \"loony\" ...\n",
      " $ Outlier   : int  0 0 0 0 0 0 0 0 1 0 ...\n",
      " $ D_Zscore  : num  0.0531 0.9732 -0.8494 1.5359 -0.6866 ...\n"
     ]
    },
    {
     "data": {
      "text/html": [
       "<table class=\"dataframe\">\n",
       "<caption>A data.frame: 6 × 8</caption>\n",
       "<thead>\n",
       "\t<tr><th></th><th scope=col>Sub_ID</th><th scope=col>Trial</th><th scope=col>Type</th><th scope=col>D_Accuracy</th><th scope=col>D_RT</th><th scope=col>D_word</th><th scope=col>Outlier</th><th scope=col>D_Zscore</th></tr>\n",
       "\t<tr><th></th><th scope=col>&lt;int&gt;</th><th scope=col>&lt;int&gt;</th><th scope=col>&lt;int&gt;</th><th scope=col>&lt;int&gt;</th><th scope=col>&lt;int&gt;</th><th scope=col>&lt;chr&gt;</th><th scope=col>&lt;int&gt;</th><th scope=col>&lt;dbl&gt;</th></tr>\n",
       "</thead>\n",
       "<tbody>\n",
       "\t<tr><th scope=row>1</th><td>85</td><td>83</td><td>0</td><td>1</td><td> 796</td><td>pisect      </td><td>0</td><td> 0.053086</td></tr>\n",
       "\t<tr><th scope=row>2</th><td>85</td><td>84</td><td>1</td><td>1</td><td>1056</td><td>hindquarters</td><td>0</td><td> 0.973239</td></tr>\n",
       "\t<tr><th scope=row>3</th><td>85</td><td>85</td><td>1</td><td>1</td><td> 541</td><td>healthy     </td><td>0</td><td>-0.849372</td></tr>\n",
       "\t<tr><th scope=row>4</th><td>85</td><td>86</td><td>1</td><td>1</td><td>1215</td><td>loony       </td><td>0</td><td> 1.535949</td></tr>\n",
       "\t<tr><th scope=row>5</th><td>85</td><td>87</td><td>1</td><td>1</td><td> 587</td><td>seahorse    </td><td>0</td><td>-0.686576</td></tr>\n",
       "\t<tr><th scope=row>6</th><td>85</td><td>88</td><td>1</td><td>0</td><td>1072</td><td>abysmal     </td><td>0</td><td> 1.029864</td></tr>\n",
       "</tbody>\n",
       "</table>\n"
      ],
      "text/latex": [
       "A data.frame: 6 × 8\n",
       "\\begin{tabular}{r|llllllll}\n",
       "  & Sub\\_ID & Trial & Type & D\\_Accuracy & D\\_RT & D\\_word & Outlier & D\\_Zscore\\\\\n",
       "  & <int> & <int> & <int> & <int> & <int> & <chr> & <int> & <dbl>\\\\\n",
       "\\hline\n",
       "\t1 & 85 & 83 & 0 & 1 &  796 & pisect       & 0 &  0.053086\\\\\n",
       "\t2 & 85 & 84 & 1 & 1 & 1056 & hindquarters & 0 &  0.973239\\\\\n",
       "\t3 & 85 & 85 & 1 & 1 &  541 & healthy      & 0 & -0.849372\\\\\n",
       "\t4 & 85 & 86 & 1 & 1 & 1215 & loony        & 0 &  1.535949\\\\\n",
       "\t5 & 85 & 87 & 1 & 1 &  587 & seahorse     & 0 & -0.686576\\\\\n",
       "\t6 & 85 & 88 & 1 & 0 & 1072 & abysmal      & 0 &  1.029864\\\\\n",
       "\\end{tabular}\n"
      ],
      "text/markdown": [
       "\n",
       "A data.frame: 6 × 8\n",
       "\n",
       "| <!--/--> | Sub_ID &lt;int&gt; | Trial &lt;int&gt; | Type &lt;int&gt; | D_Accuracy &lt;int&gt; | D_RT &lt;int&gt; | D_word &lt;chr&gt; | Outlier &lt;int&gt; | D_Zscore &lt;dbl&gt; |\n",
       "|---|---|---|---|---|---|---|---|---|\n",
       "| 1 | 85 | 83 | 0 | 1 |  796 | pisect       | 0 |  0.053086 |\n",
       "| 2 | 85 | 84 | 1 | 1 | 1056 | hindquarters | 0 |  0.973239 |\n",
       "| 3 | 85 | 85 | 1 | 1 |  541 | healthy      | 0 | -0.849372 |\n",
       "| 4 | 85 | 86 | 1 | 1 | 1215 | loony        | 0 |  1.535949 |\n",
       "| 5 | 85 | 87 | 1 | 1 |  587 | seahorse     | 0 | -0.686576 |\n",
       "| 6 | 85 | 88 | 1 | 0 | 1072 | abysmal      | 0 |  1.029864 |\n",
       "\n"
      ],
      "text/plain": [
       "  Sub_ID Trial Type D_Accuracy D_RT D_word       Outlier D_Zscore \n",
       "1 85     83    0    1           796 pisect       0        0.053086\n",
       "2 85     84    1    1          1056 hindquarters 0        0.973239\n",
       "3 85     85    1    1           541 healthy      0       -0.849372\n",
       "4 85     86    1    1          1215 loony        0        1.535949\n",
       "5 85     87    1    1           587 seahorse     0       -0.686576\n",
       "6 85     88    1    0          1072 abysmal      0        1.029864"
      ]
     },
     "metadata": {},
     "output_type": "display_data"
    },
    {
     "data": {
      "text/plain": [
       "     Sub_ID           Trial           Type       D_Accuracy      \n",
       " Min.   :  1.00   Min.   :   1   Min.   :0.0   Min.   :  0.0000  \n",
       " 1st Qu.: 26.00   1st Qu.: 844   1st Qu.:0.0   1st Qu.:  1.0000  \n",
       " Median : 51.00   Median :1687   Median :0.5   Median :  1.0000  \n",
       " Mean   : 50.91   Mean   :1687   Mean   :0.5   Mean   :  0.8688  \n",
       " 3rd Qu.: 76.00   3rd Qu.:2531   3rd Qu.:1.0   3rd Qu.:  1.0000  \n",
       " Max.   :100.00   Max.   :3374   Max.   :1.0   Max.   :120.0000  \n",
       "      D_RT           D_word             Outlier           D_Zscore      \n",
       " Min.   :   1.0   Length:333970      Min.   :0.00000   Min.   :-4.0400  \n",
       " 1st Qu.: 619.0   Class :character   1st Qu.:0.00000   1st Qu.:-0.5500  \n",
       " Median : 771.0   Mode  :character   Median :0.00000   Median :-0.0793  \n",
       " Mean   : 907.5                      Mean   :0.03758   Mean   : 0.2139  \n",
       " 3rd Qu.:1045.0                      3rd Qu.:0.00000   3rd Qu.: 0.6632  \n",
       " Max.   :4000.0                      Max.   :1.00000   Max.   :19.1251  "
      ]
     },
     "metadata": {},
     "output_type": "display_data"
    },
    {
     "name": "stdout",
     "output_type": "stream",
     "text": [
      "'data.frame':\t8710 obs. of  5 variables:\n",
      " $ Word               : chr  \"abandon\" \"abdomen\" \"abdominal\" \"abduction\" ...\n",
      " $ Length             : int  7 7 9 9 5 7 4 8 5 8 ...\n",
      " $ SUBTLWF            : num  8.1 3.35 3.41 3.63 2.71 ...\n",
      " $ Concreteness_Rating: num  2.54 4.7 4.28 3.07 1.68 1.81 2.38 2.14 2.83 3.41 ...\n",
      " $ Emotional_Valence  : num  2.84 5.43 4.48 2.05 5.52 7 6.64 3.53 3.1 2.58 ...\n"
     ]
    },
    {
     "data": {
      "text/html": [
       "<table class=\"dataframe\">\n",
       "<caption>A data.frame: 6 × 5</caption>\n",
       "<thead>\n",
       "\t<tr><th></th><th scope=col>Word</th><th scope=col>Length</th><th scope=col>SUBTLWF</th><th scope=col>Concreteness_Rating</th><th scope=col>Emotional_Valence</th></tr>\n",
       "\t<tr><th></th><th scope=col>&lt;chr&gt;</th><th scope=col>&lt;int&gt;</th><th scope=col>&lt;dbl&gt;</th><th scope=col>&lt;dbl&gt;</th><th scope=col>&lt;dbl&gt;</th></tr>\n",
       "</thead>\n",
       "<tbody>\n",
       "\t<tr><th scope=row>1</th><td>abandon  </td><td>7</td><td> 8.10</td><td>2.54</td><td>2.84</td></tr>\n",
       "\t<tr><th scope=row>2</th><td>abdomen  </td><td>7</td><td> 3.35</td><td>4.70</td><td>5.43</td></tr>\n",
       "\t<tr><th scope=row>3</th><td>abdominal</td><td>9</td><td> 3.41</td><td>4.28</td><td>4.48</td></tr>\n",
       "\t<tr><th scope=row>4</th><td>abduction</td><td>9</td><td> 3.63</td><td>3.07</td><td>2.05</td></tr>\n",
       "\t<tr><th scope=row>5</th><td>abide    </td><td>5</td><td> 2.71</td><td>1.68</td><td>5.52</td></tr>\n",
       "\t<tr><th scope=row>6</th><td>ability  </td><td>7</td><td>19.22</td><td>1.81</td><td>7.00</td></tr>\n",
       "</tbody>\n",
       "</table>\n"
      ],
      "text/latex": [
       "A data.frame: 6 × 5\n",
       "\\begin{tabular}{r|lllll}\n",
       "  & Word & Length & SUBTLWF & Concreteness\\_Rating & Emotional\\_Valence\\\\\n",
       "  & <chr> & <int> & <dbl> & <dbl> & <dbl>\\\\\n",
       "\\hline\n",
       "\t1 & abandon   & 7 &  8.10 & 2.54 & 2.84\\\\\n",
       "\t2 & abdomen   & 7 &  3.35 & 4.70 & 5.43\\\\\n",
       "\t3 & abdominal & 9 &  3.41 & 4.28 & 4.48\\\\\n",
       "\t4 & abduction & 9 &  3.63 & 3.07 & 2.05\\\\\n",
       "\t5 & abide     & 5 &  2.71 & 1.68 & 5.52\\\\\n",
       "\t6 & ability   & 7 & 19.22 & 1.81 & 7.00\\\\\n",
       "\\end{tabular}\n"
      ],
      "text/markdown": [
       "\n",
       "A data.frame: 6 × 5\n",
       "\n",
       "| <!--/--> | Word &lt;chr&gt; | Length &lt;int&gt; | SUBTLWF &lt;dbl&gt; | Concreteness_Rating &lt;dbl&gt; | Emotional_Valence &lt;dbl&gt; |\n",
       "|---|---|---|---|---|---|\n",
       "| 1 | abandon   | 7 |  8.10 | 2.54 | 2.84 |\n",
       "| 2 | abdomen   | 7 |  3.35 | 4.70 | 5.43 |\n",
       "| 3 | abdominal | 9 |  3.41 | 4.28 | 4.48 |\n",
       "| 4 | abduction | 9 |  3.63 | 3.07 | 2.05 |\n",
       "| 5 | abide     | 5 |  2.71 | 1.68 | 5.52 |\n",
       "| 6 | ability   | 7 | 19.22 | 1.81 | 7.00 |\n",
       "\n"
      ],
      "text/plain": [
       "  Word      Length SUBTLWF Concreteness_Rating Emotional_Valence\n",
       "1 abandon   7       8.10   2.54                2.84             \n",
       "2 abdomen   7       3.35   4.70                5.43             \n",
       "3 abdominal 9       3.41   4.28                4.48             \n",
       "4 abduction 9       3.63   3.07                2.05             \n",
       "5 abide     5       2.71   1.68                5.52             \n",
       "6 ability   7      19.22   1.81                7.00             "
      ]
     },
     "metadata": {},
     "output_type": "display_data"
    },
    {
     "data": {
      "text/plain": [
       "     Word               Length          SUBTLWF        Concreteness_Rating\n",
       " Length:8710        Min.   : 2.000   Min.   :   1.00   Min.   :1.120      \n",
       " Class :character   1st Qu.: 5.000   1st Qu.:   1.76   1st Qu.:2.410      \n",
       " Mode  :character   Median : 7.000   Median :   3.86   Median :3.400      \n",
       "                    Mean   : 6.854   Mean   :  32.05   Mean   :3.384      \n",
       "                    3rd Qu.: 8.000   3rd Qu.:  12.10   3rd Qu.:4.380      \n",
       "                    Max.   :14.000   Max.   :6161.41   Max.   :5.000      \n",
       " Emotional_Valence\n",
       " Min.   :1.300    \n",
       " 1st Qu.:4.370    \n",
       " Median :5.320    \n",
       " Mean   :5.165    \n",
       " 3rd Qu.:6.100    \n",
       " Max.   :8.530    "
      ]
     },
     "metadata": {},
     "output_type": "display_data"
    }
   ],
   "source": [
    "library(tidyverse)\n",
    "setwd(\"C:/Users/hanna/Desktop/FS21/data_science/HW4/DataSciencePsychUZH/Homeworks/data\")\n",
    "data_trials <- read.csv(\"ldt_trials.csv\", header = TRUE)\n",
    "data_word <- read.csv(\"word_properties.csv\", header = TRUE)\n",
    "\n",
    "str(data_trials)\n",
    "head(data_trials)\n",
    "summary(data_trials)\n",
    "\n",
    "str(data_word)\n",
    "head(data_word)\n",
    "summary(data_word)"
   ]
  },
  {
   "cell_type": "markdown",
   "id": "alpha-transcript",
   "metadata": {},
   "source": [
    "We now want to merge the two datasets such that we have the properties of each word listed in every row of the `ldt_trial.csv`. Use the `left_join()` command from the `tidyverse` package to join the two datasets. You have to specify which column you are mergin by. In this case, the columns `Word` in the `word_properties` dataset and the column `D_word` in the `ldt_trials` dataset should be used for the merging (hint: read the documentation of the `left_join()` function to understand how the `by=c()` argument works). Join the two datasets by the respective columns and save the output in a new variable:"
   ]
  },
  {
   "cell_type": "code",
   "execution_count": 67,
   "id": "incredible-testimony",
   "metadata": {},
   "outputs": [],
   "source": [
    "?left_join\n",
    "data_joined <- left_join(data_trials, data_word, by=c(\"D_word\" = \"Word\"))\n",
    "\n"
   ]
  },
  {
   "cell_type": "markdown",
   "id": "approximate-meeting",
   "metadata": {},
   "source": [
    "You will notice that we do not have word characteristics for every word that the participants were tested (e.g., there are many NA values in the Length, Concreteness, etc, columns of the new merged dataset. Filter the new dataset and save it to a new variable so that the new dataset only has rows for which word characteristics are present (hint: you can use the `!is.na(column_name)` argument in the filter command to remove all rows in which `column_name` has NA values:"
   ]
  },
  {
   "cell_type": "code",
   "execution_count": 68,
   "id": "incredible-appearance",
   "metadata": {},
   "outputs": [],
   "source": [
    "data_filter <- filter(data_joined, !is.na(Length), !is.na(SUBTLWF), !is.na(Concreteness_Rating), !is.na(Emotional_Valence))\n"
   ]
  },
  {
   "cell_type": "markdown",
   "id": "collective-campus",
   "metadata": {},
   "source": [
    "After these operations the final dataset should have 35978 rows. Use the `nrow()` command to confirm this. Use the `heads()` command to take a look at the dataset:"
   ]
  },
  {
   "cell_type": "code",
   "execution_count": 69,
   "id": "adaptive-uzbekistan",
   "metadata": {},
   "outputs": [
    {
     "data": {
      "text/html": [
       "35978"
      ],
      "text/latex": [
       "35978"
      ],
      "text/markdown": [
       "35978"
      ],
      "text/plain": [
       "[1] 35978"
      ]
     },
     "metadata": {},
     "output_type": "display_data"
    },
    {
     "data": {
      "text/html": [
       "<table class=\"dataframe\">\n",
       "<caption>A data.frame: 6 × 12</caption>\n",
       "<thead>\n",
       "\t<tr><th></th><th scope=col>Sub_ID</th><th scope=col>Trial</th><th scope=col>Type</th><th scope=col>D_Accuracy</th><th scope=col>D_RT</th><th scope=col>D_word</th><th scope=col>Outlier</th><th scope=col>D_Zscore</th><th scope=col>Length</th><th scope=col>SUBTLWF</th><th scope=col>Concreteness_Rating</th><th scope=col>Emotional_Valence</th></tr>\n",
       "\t<tr><th></th><th scope=col>&lt;int&gt;</th><th scope=col>&lt;int&gt;</th><th scope=col>&lt;int&gt;</th><th scope=col>&lt;int&gt;</th><th scope=col>&lt;int&gt;</th><th scope=col>&lt;chr&gt;</th><th scope=col>&lt;int&gt;</th><th scope=col>&lt;dbl&gt;</th><th scope=col>&lt;int&gt;</th><th scope=col>&lt;dbl&gt;</th><th scope=col>&lt;dbl&gt;</th><th scope=col>&lt;dbl&gt;</th></tr>\n",
       "</thead>\n",
       "<tbody>\n",
       "\t<tr><th scope=row>1</th><td>85</td><td> 85</td><td>1</td><td>1</td><td> 541</td><td>healthy </td><td>0</td><td>-0.849372</td><td>7</td><td>24.75</td><td>3.31</td><td>7.76</td></tr>\n",
       "\t<tr><th scope=row>2</th><td>85</td><td> 86</td><td>1</td><td>1</td><td>1215</td><td>loony   </td><td>0</td><td> 1.535949</td><td>5</td><td> 2.41</td><td>2.15</td><td>4.48</td></tr>\n",
       "\t<tr><th scope=row>3</th><td>85</td><td> 89</td><td>1</td><td>1</td><td> 677</td><td>cart    </td><td>0</td><td>-0.368061</td><td>4</td><td> 9.04</td><td>4.89</td><td>5.37</td></tr>\n",
       "\t<tr><th scope=row>4</th><td>85</td><td>100</td><td>1</td><td>1</td><td> 659</td><td>blunt   </td><td>0</td><td>-0.431764</td><td>5</td><td> 4.90</td><td>3.07</td><td>4.65</td></tr>\n",
       "\t<tr><th scope=row>5</th><td>85</td><td>101</td><td>1</td><td>1</td><td> 532</td><td>thousand</td><td>0</td><td>-0.881224</td><td>8</td><td>69.29</td><td>3.08</td><td>6.44</td></tr>\n",
       "\t<tr><th scope=row>6</th><td>85</td><td>111</td><td>1</td><td>1</td><td> 597</td><td>lyrics  </td><td>0</td><td>-0.651186</td><td>6</td><td> 5.08</td><td>3.86</td><td>6.42</td></tr>\n",
       "</tbody>\n",
       "</table>\n"
      ],
      "text/latex": [
       "A data.frame: 6 × 12\n",
       "\\begin{tabular}{r|llllllllllll}\n",
       "  & Sub\\_ID & Trial & Type & D\\_Accuracy & D\\_RT & D\\_word & Outlier & D\\_Zscore & Length & SUBTLWF & Concreteness\\_Rating & Emotional\\_Valence\\\\\n",
       "  & <int> & <int> & <int> & <int> & <int> & <chr> & <int> & <dbl> & <int> & <dbl> & <dbl> & <dbl>\\\\\n",
       "\\hline\n",
       "\t1 & 85 &  85 & 1 & 1 &  541 & healthy  & 0 & -0.849372 & 7 & 24.75 & 3.31 & 7.76\\\\\n",
       "\t2 & 85 &  86 & 1 & 1 & 1215 & loony    & 0 &  1.535949 & 5 &  2.41 & 2.15 & 4.48\\\\\n",
       "\t3 & 85 &  89 & 1 & 1 &  677 & cart     & 0 & -0.368061 & 4 &  9.04 & 4.89 & 5.37\\\\\n",
       "\t4 & 85 & 100 & 1 & 1 &  659 & blunt    & 0 & -0.431764 & 5 &  4.90 & 3.07 & 4.65\\\\\n",
       "\t5 & 85 & 101 & 1 & 1 &  532 & thousand & 0 & -0.881224 & 8 & 69.29 & 3.08 & 6.44\\\\\n",
       "\t6 & 85 & 111 & 1 & 1 &  597 & lyrics   & 0 & -0.651186 & 6 &  5.08 & 3.86 & 6.42\\\\\n",
       "\\end{tabular}\n"
      ],
      "text/markdown": [
       "\n",
       "A data.frame: 6 × 12\n",
       "\n",
       "| <!--/--> | Sub_ID &lt;int&gt; | Trial &lt;int&gt; | Type &lt;int&gt; | D_Accuracy &lt;int&gt; | D_RT &lt;int&gt; | D_word &lt;chr&gt; | Outlier &lt;int&gt; | D_Zscore &lt;dbl&gt; | Length &lt;int&gt; | SUBTLWF &lt;dbl&gt; | Concreteness_Rating &lt;dbl&gt; | Emotional_Valence &lt;dbl&gt; |\n",
       "|---|---|---|---|---|---|---|---|---|---|---|---|---|\n",
       "| 1 | 85 |  85 | 1 | 1 |  541 | healthy  | 0 | -0.849372 | 7 | 24.75 | 3.31 | 7.76 |\n",
       "| 2 | 85 |  86 | 1 | 1 | 1215 | loony    | 0 |  1.535949 | 5 |  2.41 | 2.15 | 4.48 |\n",
       "| 3 | 85 |  89 | 1 | 1 |  677 | cart     | 0 | -0.368061 | 4 |  9.04 | 4.89 | 5.37 |\n",
       "| 4 | 85 | 100 | 1 | 1 |  659 | blunt    | 0 | -0.431764 | 5 |  4.90 | 3.07 | 4.65 |\n",
       "| 5 | 85 | 101 | 1 | 1 |  532 | thousand | 0 | -0.881224 | 8 | 69.29 | 3.08 | 6.44 |\n",
       "| 6 | 85 | 111 | 1 | 1 |  597 | lyrics   | 0 | -0.651186 | 6 |  5.08 | 3.86 | 6.42 |\n",
       "\n"
      ],
      "text/plain": [
       "  Sub_ID Trial Type D_Accuracy D_RT D_word   Outlier D_Zscore  Length SUBTLWF\n",
       "1 85      85   1    1           541 healthy  0       -0.849372 7      24.75  \n",
       "2 85      86   1    1          1215 loony    0        1.535949 5       2.41  \n",
       "3 85      89   1    1           677 cart     0       -0.368061 4       9.04  \n",
       "4 85     100   1    1           659 blunt    0       -0.431764 5       4.90  \n",
       "5 85     101   1    1           532 thousand 0       -0.881224 8      69.29  \n",
       "6 85     111   1    1           597 lyrics   0       -0.651186 6       5.08  \n",
       "  Concreteness_Rating Emotional_Valence\n",
       "1 3.31                7.76             \n",
       "2 2.15                4.48             \n",
       "3 4.89                5.37             \n",
       "4 3.07                4.65             \n",
       "5 3.08                6.44             \n",
       "6 3.86                6.42             "
      ]
     },
     "metadata": {},
     "output_type": "display_data"
    }
   ],
   "source": [
    "nrow(data_filter)\n",
    "head(data_filter)"
   ]
  },
  {
   "cell_type": "markdown",
   "id": "contrary-pearl",
   "metadata": {},
   "source": [
    "The column `Sub_ID` contains the ID number for the different participants. How many participants are there in this experiment? (hint: you can combine the `unique()` and `length()` commands to answer this question):"
   ]
  },
  {
   "cell_type": "code",
   "execution_count": 70,
   "id": "pointed-syndicate",
   "metadata": {},
   "outputs": [
    {
     "data": {
      "text/html": [
       "99"
      ],
      "text/latex": [
       "99"
      ],
      "text/markdown": [
       "99"
      ],
      "text/plain": [
       "[1] 99"
      ]
     },
     "metadata": {},
     "output_type": "display_data"
    }
   ],
   "source": [
    "data_unique <- unique(data_filter$Sub_ID)\n",
    "length(data_unique)"
   ]
  },
  {
   "cell_type": "markdown",
   "id": "hungry-sperm",
   "metadata": {},
   "source": [
    "On average, how many observations are there for each participant? Calculate the mean and standard deviation of the number of observations per participant using the `group_by()` and `summarize()` commands:"
   ]
  },
  {
   "cell_type": "code",
   "execution_count": 92,
   "id": "connected-sarah",
   "metadata": {},
   "outputs": [
    {
     "data": {
      "text/html": [
       "<table class=\"dataframe\">\n",
       "<caption>A tibble: 1 × 2</caption>\n",
       "<thead>\n",
       "\t<tr><th scope=col>mean</th><th scope=col>sd</th></tr>\n",
       "\t<tr><th scope=col>&lt;dbl&gt;</th><th scope=col>&lt;dbl&gt;</th></tr>\n",
       "</thead>\n",
       "<tbody>\n",
       "\t<tr><td>363.4141</td><td>16.90611</td></tr>\n",
       "</tbody>\n",
       "</table>\n"
      ],
      "text/latex": [
       "A tibble: 1 × 2\n",
       "\\begin{tabular}{ll}\n",
       " mean & sd\\\\\n",
       " <dbl> & <dbl>\\\\\n",
       "\\hline\n",
       "\t 363.4141 & 16.90611\\\\\n",
       "\\end{tabular}\n"
      ],
      "text/markdown": [
       "\n",
       "A tibble: 1 × 2\n",
       "\n",
       "| mean &lt;dbl&gt; | sd &lt;dbl&gt; |\n",
       "|---|---|\n",
       "| 363.4141 | 16.90611 |\n",
       "\n"
      ],
      "text/plain": [
       "  mean     sd      \n",
       "1 363.4141 16.90611"
      ]
     },
     "metadata": {},
     "output_type": "display_data"
    }
   ],
   "source": [
    "data_group <- data_filter %>% group_by(Sub_ID) %>% summarize(n_observations=n())\n",
    "data_group %>% summarize(mean=mean(n_observations), sd=sd(n_observations))"
   ]
  },
  {
   "cell_type": "markdown",
   "id": "human-glass",
   "metadata": {},
   "source": [
    "#### Part 2: Visualize and understand the data"
   ]
  },
  {
   "cell_type": "markdown",
   "id": "satellite-communist",
   "metadata": {},
   "source": [
    "For each of the word properties (Length, SUBTLWF, Concreteness_Rating, Emotional_Valence), plot a scatterplot how the lexical decision reaction times (`D_RT`) changes. Fit a smooth line through the plot with the `geom_smooth()` command in the `ggplot` (hint: use the `stat_summary()` command of the ggplot call to summarise the y axis for each x axis point. hint2: for SUBTLWF, which is word frequency, first round the variable to remove the decimal point values -  e.g., `ggplot(newdf, aes(round(SUBTLWF), D_RT))`); for concretness and emotional valence, try plotting before and after rounding the x axis. For SUBTWLF, plot the data after transforming it to a logarithm."
   ]
  },
  {
   "cell_type": "code",
   "execution_count": 26,
   "id": "expected-uncertainty",
   "metadata": {},
   "outputs": [
    {
     "name": "stderr",
     "output_type": "stream",
     "text": [
      "`geom_smooth()` using method = 'gam' and formula 'y ~ s(x, bs = \"cs\")'\n",
      "\n",
      "No summary function supplied, defaulting to `mean_se()`\n",
      "\n",
      "`geom_smooth()` using method = 'gam' and formula 'y ~ s(x, bs = \"cs\")'\n",
      "\n",
      "No summary function supplied, defaulting to `mean_se()`\n",
      "\n"
     ]
    },
    {
     "data": {
      "image/png": "[encoded data removed]",
      "text/plain": [
       "plot without title"
      ]
     },
     "metadata": {
      "image/png": {
       "height": 420,
       "width": 420
      }
     },
     "output_type": "display_data"
    },
    {
     "name": "stderr",
     "output_type": "stream",
     "text": [
      "`geom_smooth()` using method = 'gam' and formula 'y ~ s(x, bs = \"cs\")'\n",
      "\n",
      "No summary function supplied, defaulting to `mean_se()`\n",
      "\n"
     ]
    },
    {
     "data": {
      "image/png": "[encoded data removed]",
      "text/plain": [
       "plot without title"
      ]
     },
     "metadata": {
      "image/png": {
       "height": 420,
       "width": 420
      }
     },
     "output_type": "display_data"
    },
    {
     "name": "stderr",
     "output_type": "stream",
     "text": [
      "`geom_smooth()` using method = 'gam' and formula 'y ~ s(x, bs = \"cs\")'\n",
      "\n",
      "Warning message:\n",
      "\"Computation failed in `stat_smooth()`:\n",
      "x has insufficient unique values to support 10 knots: reduce k.\"\n",
      "No summary function supplied, defaulting to `mean_se()`\n",
      "\n"
     ]
    },
    {
     "data": {
      "image/png": "[encoded data removed]",
      "text/plain": [
       "plot without title"
      ]
     },
     "metadata": {
      "image/png": {
       "height": 420,
       "width": 420
      }
     },
     "output_type": "display_data"
    },
    {
     "name": "stderr",
     "output_type": "stream",
     "text": [
      "`geom_smooth()` using method = 'gam' and formula 'y ~ s(x, bs = \"cs\")'\n",
      "\n",
      "No summary function supplied, defaulting to `mean_se()`\n",
      "\n"
     ]
    },
    {
     "data": {
      "image/png": "[encoded data removed]",
      "text/plain": [
       "plot without title"
      ]
     },
     "metadata": {
      "image/png": {
       "height": 420,
       "width": 420
      }
     },
     "output_type": "display_data"
    },
    {
     "name": "stderr",
     "output_type": "stream",
     "text": [
      "`geom_smooth()` using method = 'gam' and formula 'y ~ s(x, bs = \"cs\")'\n",
      "\n",
      "Warning message:\n",
      "\"Computation failed in `stat_smooth()`:\n",
      "x has insufficient unique values to support 10 knots: reduce k.\"\n",
      "No summary function supplied, defaulting to `mean_se()`\n",
      "\n"
     ]
    },
    {
     "data": {
      "image/png": "[encoded data removed]",
      "text/plain": [
       "plot without title"
      ]
     },
     "metadata": {
      "image/png": {
       "height": 420,
       "width": 420
      }
     },
     "output_type": "display_data"
    },
    {
     "data": {
      "image/png": "[encoded data removed]",
      "text/plain": [
       "plot without title"
      ]
     },
     "metadata": {
      "image/png": {
       "height": 420,
       "width": 420
      }
     },
     "output_type": "display_data"
    }
   ],
   "source": [
    "library(ggplot2)\n",
    "ggplot(data_filter, aes(Length, D_RT)) + geom_point() + geom_smooth() + stat_summary()\n",
    "ggplot(data_filter, aes(round (log (SUBTLWF)), D_RT)) + geom_point() + geom_smooth() + stat_summary()\n",
    "ggplot(data_filter, aes(Concreteness_Rating, D_RT)) + geom_point() + geom_smooth() + stat_summary()\n",
    "ggplot(data_filter, aes(round (Concreteness_Rating), D_RT)) + geom_point() + geom_smooth() + stat_summary()\n",
    "ggplot(data_filter, aes(Emotional_Valence, D_RT)) + geom_point() + geom_smooth() + stat_summary()\n",
    "ggplot(data_filter, aes(round (Emotional_Valence), D_RT)) + geom_point() + geom_smooth() + stat_summary()"
   ]
  },
  {
   "cell_type": "markdown",
   "id": "circular-wholesale",
   "metadata": {},
   "source": [
    "Based on the previous plots, for which of these predictions would a linear regression be a good model of reaction times? Why/why not?\n",
    "\n",
    "> A linear regression seems to be a good model for the variables Length, Concreteness_Rating and Emotional_Valence because the blue lines, which indicate the relationship between the predictors (Length, Concreteness_Rating, Emotional_Valence) and D_RT, are nearly straight lines, therefore the relationships seem to be linear. Since the linear regression fits a straight line through the model, it seems to fit well.\n",
    "SUBTWLF: It is important to transform the data into a logarithm because otherwise the blue line has the shape of a logarithmic function, which indicates that a logarithmic function underlies the data. However, when you applied a logarithm the blue line is still not straight, but slighlty curved at the beginning. It's not as straight as the blue lines of the other predictors. But since the curve is only slightly visible, I would still use a linear regression because the linear regression is easier to interpret than other models, even though the linear regression is not the perfect model for this relationship. \n",
    "\n",
    "\n"
   ]
  },
  {
   "cell_type": "markdown",
   "id": "interim-basement",
   "metadata": {},
   "source": [
    "To what degree are the 4 predictors correlated with each other?"
   ]
  },
  {
   "cell_type": "code",
   "execution_count": 72,
   "id": "centered-flash",
   "metadata": {},
   "outputs": [
    {
     "data": {
      "text/html": [
       "<table class=\"dataframe\">\n",
       "<caption>A matrix: 4 × 4 of type dbl</caption>\n",
       "<tbody>\n",
       "\t<tr><td> 1.00000000</td><td>-0.14505419</td><td>-0.31793980</td><td>-0.01753049</td></tr>\n",
       "\t<tr><td>-0.14505419</td><td> 1.00000000</td><td>-0.03162817</td><td> 0.07856745</td></tr>\n",
       "\t<tr><td>-0.31793980</td><td>-0.03162817</td><td> 1.00000000</td><td> 0.07556639</td></tr>\n",
       "\t<tr><td>-0.01753049</td><td> 0.07856745</td><td> 0.07556639</td><td> 1.00000000</td></tr>\n",
       "</tbody>\n",
       "</table>\n"
      ],
      "text/latex": [
       "A matrix: 4 × 4 of type dbl\n",
       "\\begin{tabular}{llll}\n",
       "\t  1.00000000 & -0.14505419 & -0.31793980 & -0.01753049\\\\\n",
       "\t -0.14505419 &  1.00000000 & -0.03162817 &  0.07856745\\\\\n",
       "\t -0.31793980 & -0.03162817 &  1.00000000 &  0.07556639\\\\\n",
       "\t -0.01753049 &  0.07856745 &  0.07556639 &  1.00000000\\\\\n",
       "\\end{tabular}\n"
      ],
      "text/markdown": [
       "\n",
       "A matrix: 4 × 4 of type dbl\n",
       "\n",
       "|  1.00000000 | -0.14505419 | -0.31793980 | -0.01753049 |\n",
       "| -0.14505419 |  1.00000000 | -0.03162817 |  0.07856745 |\n",
       "| -0.31793980 | -0.03162817 |  1.00000000 |  0.07556639 |\n",
       "| -0.01753049 |  0.07856745 |  0.07556639 |  1.00000000 |\n",
       "\n"
      ],
      "text/plain": [
       "     [,1]        [,2]        [,3]        [,4]       \n",
       "[1,]  1.00000000 -0.14505419 -0.31793980 -0.01753049\n",
       "[2,] -0.14505419  1.00000000 -0.03162817  0.07856745\n",
       "[3,] -0.31793980 -0.03162817  1.00000000  0.07556639\n",
       "[4,] -0.01753049  0.07856745  0.07556639  1.00000000"
      ]
     },
     "metadata": {},
     "output_type": "display_data"
    }
   ],
   "source": [
    "data_cor <- cbind(data_filter$Length, data_filter$SUBTLWF, data_filter$Concreteness_Rating, data_filter$Emotional_Valence)\n",
    "cor(data_cor)"
   ]
  },
  {
   "cell_type": "markdown",
   "id": "solved-external",
   "metadata": {},
   "source": [
    "#### Part 3: Fit a linear model\n",
    "\n",
    "Use the `lm` command to fit a linear regression to the `D_RT` variable using the four predictors. Assign the output to a new variable called `ml1`. Use the `summary(ml1)` command to display the output of the model:\n"
   ]
  },
  {
   "cell_type": "code",
   "execution_count": 8,
   "id": "modified-affair",
   "metadata": {},
   "outputs": [
    {
     "data": {
      "text/plain": [
       "\n",
       "Call:\n",
       "lm(formula = D_RT ~ Length + SUBTLWF + Concreteness_Rating + \n",
       "    Emotional_Valence, data = data_filter)\n",
       "\n",
       "Residuals:\n",
       "   Min     1Q Median     3Q    Max \n",
       "-853.4 -195.5  -93.9   74.2 3330.1 \n",
       "\n",
       "Coefficients:\n",
       "                      Estimate Std. Error t value Pr(>|t|)    \n",
       "(Intercept)         667.074558  12.426760  53.680  < 2e-16 ***\n",
       "Length               26.415737   0.892603  29.594  < 2e-16 ***\n",
       "SUBTLWF              -0.040145   0.009348  -4.295 1.75e-05 ***\n",
       "Concreteness_Rating  -6.209688   1.902962  -3.263   0.0011 ** \n",
       "Emotional_Valence   -15.062538   1.436979 -10.482  < 2e-16 ***\n",
       "---\n",
       "Signif. codes:  0 '***' 0.001 '**' 0.01 '*' 0.05 '.' 0.1 ' ' 1\n",
       "\n",
       "Residual standard error: 359.7 on 35973 degrees of freedom\n",
       "Multiple R-squared:  0.03429,\tAdjusted R-squared:  0.03418 \n",
       "F-statistic: 319.3 on 4 and 35973 DF,  p-value: < 2.2e-16\n"
      ]
     },
     "metadata": {},
     "output_type": "display_data"
    }
   ],
   "source": [
    "ml1 <- lm(D_RT ~ Length + SUBTLWF + Concreteness_Rating + Emotional_Valence, data=data_filter)\n",
    "summary(ml1)"
   ]
  },
  {
   "cell_type": "markdown",
   "id": "driving-incidence",
   "metadata": {},
   "source": [
    "What is the intercept value and the slope for the word length predictor? Explain what these values means:\n",
    "> The intercept for the word length predictor is 667.07 and the slope is 26.42. The intercept value means is the reaction time, when lenth is zero. The slope means how much the reaction time changes, when the length gains one unit. "
   ]
  },
  {
   "cell_type": "markdown",
   "id": "super-differential",
   "metadata": {},
   "source": [
    "What is the R-squared value? What does this mean?\n",
    "> The multiple R-squared value is 0.03429 (R-squared adjusted: 0.03418). The R-squared shows how much variance of the D_RT variable the model can explain."
   ]
  },
  {
   "cell_type": "markdown",
   "id": "entertaining-roman",
   "metadata": {},
   "source": [
    "As you noticed, the R-squared value is really low. This is because there is a lot of individual differences in how fast people react. These differences cannot be explained by word characteristics. One way to account for individual differences is to summarize the data over participants, and obtain the average RTs for each word. Let's do this and refit the model.\n",
    "\n",
    "First, use the `group_by` and `summarise` commands to calculate the average RT for each word. In order to keep the word characteristics, include those columns in the `group_by` call. E.g.: `group_by(D_word, Length, SUBTLWF, Concreteness_Rating, Emotional_Valence)`. Save the result to a new variable. Use the `heads` command to look at the data:"
   ]
  },
  {
   "cell_type": "code",
   "execution_count": 85,
   "id": "objective-champion",
   "metadata": {},
   "outputs": [
    {
     "name": "stderr",
     "output_type": "stream",
     "text": [
      "`summarise()` has grouped output by 'D_word', 'Length', 'SUBTLWF', 'Concreteness_Rating'. You can override using the `.groups` argument.\n",
      "\n"
     ]
    },
    {
     "data": {
      "text/html": [
       "<table class=\"dataframe\">\n",
       "<caption>A grouped_df: 8710 × 6</caption>\n",
       "<thead>\n",
       "\t<tr><th scope=col>D_word</th><th scope=col>Length</th><th scope=col>SUBTLWF</th><th scope=col>Concreteness_Rating</th><th scope=col>Emotional_Valence</th><th scope=col>RT_mean</th></tr>\n",
       "\t<tr><th scope=col>&lt;chr&gt;</th><th scope=col>&lt;int&gt;</th><th scope=col>&lt;dbl&gt;</th><th scope=col>&lt;dbl&gt;</th><th scope=col>&lt;dbl&gt;</th><th scope=col>&lt;dbl&gt;</th></tr>\n",
       "</thead>\n",
       "<tbody>\n",
       "\t<tr><td>abandon    </td><td> 7</td><td>  8.10</td><td>2.54</td><td>2.84</td><td>1175.5000</td></tr>\n",
       "\t<tr><td>abdomen    </td><td> 7</td><td>  3.35</td><td>4.70</td><td>5.43</td><td> 778.6667</td></tr>\n",
       "\t<tr><td>abdominal  </td><td> 9</td><td>  3.41</td><td>4.28</td><td>4.48</td><td> 833.4000</td></tr>\n",
       "\t<tr><td>abduction  </td><td> 9</td><td>  3.63</td><td>3.07</td><td>2.05</td><td> 708.0000</td></tr>\n",
       "\t<tr><td>abide      </td><td> 5</td><td>  2.71</td><td>1.68</td><td>5.52</td><td> 602.2500</td></tr>\n",
       "\t<tr><td>ability    </td><td> 7</td><td> 19.22</td><td>1.81</td><td>7.00</td><td> 654.2500</td></tr>\n",
       "\t<tr><td>able       </td><td> 4</td><td>159.90</td><td>2.38</td><td>6.64</td><td> 583.2000</td></tr>\n",
       "\t<tr><td>abnormal   </td><td> 8</td><td>  2.90</td><td>2.14</td><td>3.53</td><td> 669.4000</td></tr>\n",
       "\t<tr><td>abort      </td><td> 5</td><td>  4.61</td><td>2.83</td><td>3.10</td><td> 828.7500</td></tr>\n",
       "\t<tr><td>abortion   </td><td> 8</td><td>  7.24</td><td>3.41</td><td>2.58</td><td> 848.0000</td></tr>\n",
       "\t<tr><td>abracadabra</td><td>11</td><td>  1.04</td><td>2.04</td><td>5.11</td><td> 857.0000</td></tr>\n",
       "\t<tr><td>abrupt     </td><td> 6</td><td>  1.14</td><td>2.27</td><td>3.28</td><td> 795.0000</td></tr>\n",
       "\t<tr><td>absence    </td><td> 7</td><td>  6.31</td><td>2.31</td><td>3.86</td><td> 667.7500</td></tr>\n",
       "\t<tr><td>absent     </td><td> 6</td><td>  2.57</td><td>2.70</td><td>4.10</td><td> 688.0000</td></tr>\n",
       "\t<tr><td>absolute   </td><td> 8</td><td> 11.31</td><td>1.81</td><td>5.43</td><td> 656.7500</td></tr>\n",
       "\t<tr><td>absorb     </td><td> 6</td><td>  1.98</td><td>3.11</td><td>5.50</td><td> 544.6667</td></tr>\n",
       "\t<tr><td>abstract   </td><td> 8</td><td>  2.18</td><td>1.45</td><td>5.25</td><td> 573.0000</td></tr>\n",
       "\t<tr><td>absurd     </td><td> 6</td><td>  9.71</td><td>1.64</td><td>4.45</td><td> 579.7500</td></tr>\n",
       "\t<tr><td>abuse      </td><td> 5</td><td> 10.25</td><td>2.71</td><td>1.53</td><td> 610.0000</td></tr>\n",
       "\t<tr><td>abusive    </td><td> 7</td><td>  1.63</td><td>2.55</td><td>2.05</td><td> 751.0000</td></tr>\n",
       "\t<tr><td>abyss      </td><td> 5</td><td>  1.76</td><td>3.07</td><td>3.90</td><td> 511.0000</td></tr>\n",
       "\t<tr><td>academic   </td><td> 8</td><td>  4.67</td><td>2.11</td><td>6.61</td><td> 818.7500</td></tr>\n",
       "\t<tr><td>academy    </td><td> 7</td><td> 12.41</td><td>4.29</td><td>5.32</td><td> 639.5000</td></tr>\n",
       "\t<tr><td>accelerate </td><td>10</td><td>  1.27</td><td>3.48</td><td>6.10</td><td> 631.0000</td></tr>\n",
       "\t<tr><td>accelerator</td><td>11</td><td>  1.35</td><td>4.32</td><td>5.63</td><td> 879.5000</td></tr>\n",
       "\t<tr><td>accent     </td><td> 6</td><td> 12.18</td><td>3.26</td><td>6.48</td><td>1256.7500</td></tr>\n",
       "\t<tr><td>accept     </td><td> 6</td><td> 52.78</td><td>3.03</td><td>6.39</td><td> 566.0000</td></tr>\n",
       "\t<tr><td>acceptable </td><td>10</td><td>  5.27</td><td>1.93</td><td>6.59</td><td> 610.2500</td></tr>\n",
       "\t<tr><td>acceptance </td><td>10</td><td>  3.16</td><td>2.21</td><td>6.84</td><td> 665.5000</td></tr>\n",
       "\t<tr><td>access     </td><td> 6</td><td> 31.67</td><td>2.71</td><td>6.68</td><td> 648.4000</td></tr>\n",
       "\t<tr><td>...</td><td>...</td><td>...</td><td>...</td><td>...</td><td>...</td></tr>\n",
       "\t<tr><td>yacht    </td><td>5</td><td>  8.22</td><td>4.97</td><td>5.88</td><td> 843.2500</td></tr>\n",
       "\t<tr><td>yahoo    </td><td>5</td><td>  2.92</td><td>2.58</td><td>4.95</td><td> 701.0000</td></tr>\n",
       "\t<tr><td>yak      </td><td>3</td><td>  1.39</td><td>4.65</td><td>4.32</td><td> 631.5000</td></tr>\n",
       "\t<tr><td>yank     </td><td>4</td><td>  4.71</td><td>4.10</td><td>4.47</td><td> 626.2500</td></tr>\n",
       "\t<tr><td>yap      </td><td>3</td><td>  1.43</td><td>2.96</td><td>3.90</td><td> 951.2500</td></tr>\n",
       "\t<tr><td>yard     </td><td>4</td><td> 25.06</td><td>4.82</td><td>5.70</td><td> 753.7500</td></tr>\n",
       "\t<tr><td>yarn     </td><td>4</td><td>  1.59</td><td>4.93</td><td>5.47</td><td> 668.2000</td></tr>\n",
       "\t<tr><td>yawn     </td><td>4</td><td>  1.00</td><td>4.46</td><td>5.62</td><td> 701.7500</td></tr>\n",
       "\t<tr><td>year     </td><td>4</td><td>277.92</td><td>3.25</td><td>5.75</td><td>1232.0000</td></tr>\n",
       "\t<tr><td>yearbook </td><td>8</td><td>  4.73</td><td>4.58</td><td>6.05</td><td> 677.3333</td></tr>\n",
       "\t<tr><td>yell     </td><td>4</td><td> 18.41</td><td>3.86</td><td>3.58</td><td> 602.5000</td></tr>\n",
       "\t<tr><td>yellow   </td><td>6</td><td> 33.80</td><td>4.30</td><td>6.09</td><td> 668.5000</td></tr>\n",
       "\t<tr><td>yen      </td><td>3</td><td>  6.12</td><td>4.04</td><td>5.00</td><td>1038.0000</td></tr>\n",
       "\t<tr><td>yield    </td><td>5</td><td>  4.04</td><td>2.93</td><td>5.19</td><td> 622.0000</td></tr>\n",
       "\t<tr><td>yoga     </td><td>4</td><td>  4.45</td><td>4.53</td><td>6.05</td><td> 670.0000</td></tr>\n",
       "\t<tr><td>yogurt   </td><td>6</td><td>  2.27</td><td>4.90</td><td>7.00</td><td> 620.7500</td></tr>\n",
       "\t<tr><td>young    </td><td>5</td><td>243.18</td><td>3.16</td><td>6.31</td><td> 701.7500</td></tr>\n",
       "\t<tr><td>youngster</td><td>9</td><td>  1.45</td><td>3.76</td><td>6.05</td><td> 644.7500</td></tr>\n",
       "\t<tr><td>youth    </td><td>5</td><td> 16.82</td><td>3.28</td><td>6.53</td><td> 848.2500</td></tr>\n",
       "\t<tr><td>youthful </td><td>8</td><td>  1.55</td><td>2.90</td><td>6.89</td><td> 788.2500</td></tr>\n",
       "\t<tr><td>zap      </td><td>3</td><td>  2.45</td><td>2.85</td><td>5.39</td><td> 573.7500</td></tr>\n",
       "\t<tr><td>zebra    </td><td>5</td><td>  2.51</td><td>4.86</td><td>6.47</td><td> 639.4000</td></tr>\n",
       "\t<tr><td>zing     </td><td>4</td><td>  1.18</td><td>1.23</td><td>6.95</td><td> 873.2500</td></tr>\n",
       "\t<tr><td>zip      </td><td>3</td><td>  7.63</td><td>3.50</td><td>5.06</td><td> 584.0000</td></tr>\n",
       "\t<tr><td>zipper   </td><td>6</td><td>  2.82</td><td>4.83</td><td>5.11</td><td> 547.2500</td></tr>\n",
       "\t<tr><td>zombie   </td><td>6</td><td>  3.61</td><td>4.16</td><td>3.57</td><td> 659.2500</td></tr>\n",
       "\t<tr><td>zone     </td><td>4</td><td> 20.12</td><td>3.07</td><td>4.75</td><td> 617.2500</td></tr>\n",
       "\t<tr><td>zoning   </td><td>6</td><td>  1.20</td><td>2.45</td><td>4.65</td><td> 723.5000</td></tr>\n",
       "\t<tr><td>zoo      </td><td>3</td><td> 13.65</td><td>4.81</td><td>7.00</td><td> 584.0000</td></tr>\n",
       "\t<tr><td>zoom     </td><td>4</td><td>  3.55</td><td>3.10</td><td>5.86</td><td> 527.4000</td></tr>\n",
       "</tbody>\n",
       "</table>\n"
      ],
      "text/latex": [
       "A grouped\\_df: 8710 × 6\n",
       "\\begin{tabular}{llllll}\n",
       " D\\_word & Length & SUBTLWF & Concreteness\\_Rating & Emotional\\_Valence & RT\\_mean\\\\\n",
       " <chr> & <int> & <dbl> & <dbl> & <dbl> & <dbl>\\\\\n",
       "\\hline\n",
       "\t abandon     &  7 &   8.10 & 2.54 & 2.84 & 1175.5000\\\\\n",
       "\t abdomen     &  7 &   3.35 & 4.70 & 5.43 &  778.6667\\\\\n",
       "\t abdominal   &  9 &   3.41 & 4.28 & 4.48 &  833.4000\\\\\n",
       "\t abduction   &  9 &   3.63 & 3.07 & 2.05 &  708.0000\\\\\n",
       "\t abide       &  5 &   2.71 & 1.68 & 5.52 &  602.2500\\\\\n",
       "\t ability     &  7 &  19.22 & 1.81 & 7.00 &  654.2500\\\\\n",
       "\t able        &  4 & 159.90 & 2.38 & 6.64 &  583.2000\\\\\n",
       "\t abnormal    &  8 &   2.90 & 2.14 & 3.53 &  669.4000\\\\\n",
       "\t abort       &  5 &   4.61 & 2.83 & 3.10 &  828.7500\\\\\n",
       "\t abortion    &  8 &   7.24 & 3.41 & 2.58 &  848.0000\\\\\n",
       "\t abracadabra & 11 &   1.04 & 2.04 & 5.11 &  857.0000\\\\\n",
       "\t abrupt      &  6 &   1.14 & 2.27 & 3.28 &  795.0000\\\\\n",
       "\t absence     &  7 &   6.31 & 2.31 & 3.86 &  667.7500\\\\\n",
       "\t absent      &  6 &   2.57 & 2.70 & 4.10 &  688.0000\\\\\n",
       "\t absolute    &  8 &  11.31 & 1.81 & 5.43 &  656.7500\\\\\n",
       "\t absorb      &  6 &   1.98 & 3.11 & 5.50 &  544.6667\\\\\n",
       "\t abstract    &  8 &   2.18 & 1.45 & 5.25 &  573.0000\\\\\n",
       "\t absurd      &  6 &   9.71 & 1.64 & 4.45 &  579.7500\\\\\n",
       "\t abuse       &  5 &  10.25 & 2.71 & 1.53 &  610.0000\\\\\n",
       "\t abusive     &  7 &   1.63 & 2.55 & 2.05 &  751.0000\\\\\n",
       "\t abyss       &  5 &   1.76 & 3.07 & 3.90 &  511.0000\\\\\n",
       "\t academic    &  8 &   4.67 & 2.11 & 6.61 &  818.7500\\\\\n",
       "\t academy     &  7 &  12.41 & 4.29 & 5.32 &  639.5000\\\\\n",
       "\t accelerate  & 10 &   1.27 & 3.48 & 6.10 &  631.0000\\\\\n",
       "\t accelerator & 11 &   1.35 & 4.32 & 5.63 &  879.5000\\\\\n",
       "\t accent      &  6 &  12.18 & 3.26 & 6.48 & 1256.7500\\\\\n",
       "\t accept      &  6 &  52.78 & 3.03 & 6.39 &  566.0000\\\\\n",
       "\t acceptable  & 10 &   5.27 & 1.93 & 6.59 &  610.2500\\\\\n",
       "\t acceptance  & 10 &   3.16 & 2.21 & 6.84 &  665.5000\\\\\n",
       "\t access      &  6 &  31.67 & 2.71 & 6.68 &  648.4000\\\\\n",
       "\t ... & ... & ... & ... & ... & ...\\\\\n",
       "\t yacht     & 5 &   8.22 & 4.97 & 5.88 &  843.2500\\\\\n",
       "\t yahoo     & 5 &   2.92 & 2.58 & 4.95 &  701.0000\\\\\n",
       "\t yak       & 3 &   1.39 & 4.65 & 4.32 &  631.5000\\\\\n",
       "\t yank      & 4 &   4.71 & 4.10 & 4.47 &  626.2500\\\\\n",
       "\t yap       & 3 &   1.43 & 2.96 & 3.90 &  951.2500\\\\\n",
       "\t yard      & 4 &  25.06 & 4.82 & 5.70 &  753.7500\\\\\n",
       "\t yarn      & 4 &   1.59 & 4.93 & 5.47 &  668.2000\\\\\n",
       "\t yawn      & 4 &   1.00 & 4.46 & 5.62 &  701.7500\\\\\n",
       "\t year      & 4 & 277.92 & 3.25 & 5.75 & 1232.0000\\\\\n",
       "\t yearbook  & 8 &   4.73 & 4.58 & 6.05 &  677.3333\\\\\n",
       "\t yell      & 4 &  18.41 & 3.86 & 3.58 &  602.5000\\\\\n",
       "\t yellow    & 6 &  33.80 & 4.30 & 6.09 &  668.5000\\\\\n",
       "\t yen       & 3 &   6.12 & 4.04 & 5.00 & 1038.0000\\\\\n",
       "\t yield     & 5 &   4.04 & 2.93 & 5.19 &  622.0000\\\\\n",
       "\t yoga      & 4 &   4.45 & 4.53 & 6.05 &  670.0000\\\\\n",
       "\t yogurt    & 6 &   2.27 & 4.90 & 7.00 &  620.7500\\\\\n",
       "\t young     & 5 & 243.18 & 3.16 & 6.31 &  701.7500\\\\\n",
       "\t youngster & 9 &   1.45 & 3.76 & 6.05 &  644.7500\\\\\n",
       "\t youth     & 5 &  16.82 & 3.28 & 6.53 &  848.2500\\\\\n",
       "\t youthful  & 8 &   1.55 & 2.90 & 6.89 &  788.2500\\\\\n",
       "\t zap       & 3 &   2.45 & 2.85 & 5.39 &  573.7500\\\\\n",
       "\t zebra     & 5 &   2.51 & 4.86 & 6.47 &  639.4000\\\\\n",
       "\t zing      & 4 &   1.18 & 1.23 & 6.95 &  873.2500\\\\\n",
       "\t zip       & 3 &   7.63 & 3.50 & 5.06 &  584.0000\\\\\n",
       "\t zipper    & 6 &   2.82 & 4.83 & 5.11 &  547.2500\\\\\n",
       "\t zombie    & 6 &   3.61 & 4.16 & 3.57 &  659.2500\\\\\n",
       "\t zone      & 4 &  20.12 & 3.07 & 4.75 &  617.2500\\\\\n",
       "\t zoning    & 6 &   1.20 & 2.45 & 4.65 &  723.5000\\\\\n",
       "\t zoo       & 3 &  13.65 & 4.81 & 7.00 &  584.0000\\\\\n",
       "\t zoom      & 4 &   3.55 & 3.10 & 5.86 &  527.4000\\\\\n",
       "\\end{tabular}\n"
      ],
      "text/markdown": [
       "\n",
       "A grouped_df: 8710 × 6\n",
       "\n",
       "| D_word &lt;chr&gt; | Length &lt;int&gt; | SUBTLWF &lt;dbl&gt; | Concreteness_Rating &lt;dbl&gt; | Emotional_Valence &lt;dbl&gt; | RT_mean &lt;dbl&gt; |\n",
       "|---|---|---|---|---|---|\n",
       "| abandon     |  7 |   8.10 | 2.54 | 2.84 | 1175.5000 |\n",
       "| abdomen     |  7 |   3.35 | 4.70 | 5.43 |  778.6667 |\n",
       "| abdominal   |  9 |   3.41 | 4.28 | 4.48 |  833.4000 |\n",
       "| abduction   |  9 |   3.63 | 3.07 | 2.05 |  708.0000 |\n",
       "| abide       |  5 |   2.71 | 1.68 | 5.52 |  602.2500 |\n",
       "| ability     |  7 |  19.22 | 1.81 | 7.00 |  654.2500 |\n",
       "| able        |  4 | 159.90 | 2.38 | 6.64 |  583.2000 |\n",
       "| abnormal    |  8 |   2.90 | 2.14 | 3.53 |  669.4000 |\n",
       "| abort       |  5 |   4.61 | 2.83 | 3.10 |  828.7500 |\n",
       "| abortion    |  8 |   7.24 | 3.41 | 2.58 |  848.0000 |\n",
       "| abracadabra | 11 |   1.04 | 2.04 | 5.11 |  857.0000 |\n",
       "| abrupt      |  6 |   1.14 | 2.27 | 3.28 |  795.0000 |\n",
       "| absence     |  7 |   6.31 | 2.31 | 3.86 |  667.7500 |\n",
       "| absent      |  6 |   2.57 | 2.70 | 4.10 |  688.0000 |\n",
       "| absolute    |  8 |  11.31 | 1.81 | 5.43 |  656.7500 |\n",
       "| absorb      |  6 |   1.98 | 3.11 | 5.50 |  544.6667 |\n",
       "| abstract    |  8 |   2.18 | 1.45 | 5.25 |  573.0000 |\n",
       "| absurd      |  6 |   9.71 | 1.64 | 4.45 |  579.7500 |\n",
       "| abuse       |  5 |  10.25 | 2.71 | 1.53 |  610.0000 |\n",
       "| abusive     |  7 |   1.63 | 2.55 | 2.05 |  751.0000 |\n",
       "| abyss       |  5 |   1.76 | 3.07 | 3.90 |  511.0000 |\n",
       "| academic    |  8 |   4.67 | 2.11 | 6.61 |  818.7500 |\n",
       "| academy     |  7 |  12.41 | 4.29 | 5.32 |  639.5000 |\n",
       "| accelerate  | 10 |   1.27 | 3.48 | 6.10 |  631.0000 |\n",
       "| accelerator | 11 |   1.35 | 4.32 | 5.63 |  879.5000 |\n",
       "| accent      |  6 |  12.18 | 3.26 | 6.48 | 1256.7500 |\n",
       "| accept      |  6 |  52.78 | 3.03 | 6.39 |  566.0000 |\n",
       "| acceptable  | 10 |   5.27 | 1.93 | 6.59 |  610.2500 |\n",
       "| acceptance  | 10 |   3.16 | 2.21 | 6.84 |  665.5000 |\n",
       "| access      |  6 |  31.67 | 2.71 | 6.68 |  648.4000 |\n",
       "| ... | ... | ... | ... | ... | ... |\n",
       "| yacht     | 5 |   8.22 | 4.97 | 5.88 |  843.2500 |\n",
       "| yahoo     | 5 |   2.92 | 2.58 | 4.95 |  701.0000 |\n",
       "| yak       | 3 |   1.39 | 4.65 | 4.32 |  631.5000 |\n",
       "| yank      | 4 |   4.71 | 4.10 | 4.47 |  626.2500 |\n",
       "| yap       | 3 |   1.43 | 2.96 | 3.90 |  951.2500 |\n",
       "| yard      | 4 |  25.06 | 4.82 | 5.70 |  753.7500 |\n",
       "| yarn      | 4 |   1.59 | 4.93 | 5.47 |  668.2000 |\n",
       "| yawn      | 4 |   1.00 | 4.46 | 5.62 |  701.7500 |\n",
       "| year      | 4 | 277.92 | 3.25 | 5.75 | 1232.0000 |\n",
       "| yearbook  | 8 |   4.73 | 4.58 | 6.05 |  677.3333 |\n",
       "| yell      | 4 |  18.41 | 3.86 | 3.58 |  602.5000 |\n",
       "| yellow    | 6 |  33.80 | 4.30 | 6.09 |  668.5000 |\n",
       "| yen       | 3 |   6.12 | 4.04 | 5.00 | 1038.0000 |\n",
       "| yield     | 5 |   4.04 | 2.93 | 5.19 |  622.0000 |\n",
       "| yoga      | 4 |   4.45 | 4.53 | 6.05 |  670.0000 |\n",
       "| yogurt    | 6 |   2.27 | 4.90 | 7.00 |  620.7500 |\n",
       "| young     | 5 | 243.18 | 3.16 | 6.31 |  701.7500 |\n",
       "| youngster | 9 |   1.45 | 3.76 | 6.05 |  644.7500 |\n",
       "| youth     | 5 |  16.82 | 3.28 | 6.53 |  848.2500 |\n",
       "| youthful  | 8 |   1.55 | 2.90 | 6.89 |  788.2500 |\n",
       "| zap       | 3 |   2.45 | 2.85 | 5.39 |  573.7500 |\n",
       "| zebra     | 5 |   2.51 | 4.86 | 6.47 |  639.4000 |\n",
       "| zing      | 4 |   1.18 | 1.23 | 6.95 |  873.2500 |\n",
       "| zip       | 3 |   7.63 | 3.50 | 5.06 |  584.0000 |\n",
       "| zipper    | 6 |   2.82 | 4.83 | 5.11 |  547.2500 |\n",
       "| zombie    | 6 |   3.61 | 4.16 | 3.57 |  659.2500 |\n",
       "| zone      | 4 |  20.12 | 3.07 | 4.75 |  617.2500 |\n",
       "| zoning    | 6 |   1.20 | 2.45 | 4.65 |  723.5000 |\n",
       "| zoo       | 3 |  13.65 | 4.81 | 7.00 |  584.0000 |\n",
       "| zoom      | 4 |   3.55 | 3.10 | 5.86 |  527.4000 |\n",
       "\n"
      ],
      "text/plain": [
       "     D_word      Length SUBTLWF Concreteness_Rating Emotional_Valence RT_mean  \n",
       "1    abandon      7       8.10  2.54                2.84              1175.5000\n",
       "2    abdomen      7       3.35  4.70                5.43               778.6667\n",
       "3    abdominal    9       3.41  4.28                4.48               833.4000\n",
       "4    abduction    9       3.63  3.07                2.05               708.0000\n",
       "5    abide        5       2.71  1.68                5.52               602.2500\n",
       "6    ability      7      19.22  1.81                7.00               654.2500\n",
       "7    able         4     159.90  2.38                6.64               583.2000\n",
       "8    abnormal     8       2.90  2.14                3.53               669.4000\n",
       "9    abort        5       4.61  2.83                3.10               828.7500\n",
       "10   abortion     8       7.24  3.41                2.58               848.0000\n",
       "11   abracadabra 11       1.04  2.04                5.11               857.0000\n",
       "12   abrupt       6       1.14  2.27                3.28               795.0000\n",
       "13   absence      7       6.31  2.31                3.86               667.7500\n",
       "14   absent       6       2.57  2.70                4.10               688.0000\n",
       "15   absolute     8      11.31  1.81                5.43               656.7500\n",
       "16   absorb       6       1.98  3.11                5.50               544.6667\n",
       "17   abstract     8       2.18  1.45                5.25               573.0000\n",
       "18   absurd       6       9.71  1.64                4.45               579.7500\n",
       "19   abuse        5      10.25  2.71                1.53               610.0000\n",
       "20   abusive      7       1.63  2.55                2.05               751.0000\n",
       "21   abyss        5       1.76  3.07                3.90               511.0000\n",
       "22   academic     8       4.67  2.11                6.61               818.7500\n",
       "23   academy      7      12.41  4.29                5.32               639.5000\n",
       "24   accelerate  10       1.27  3.48                6.10               631.0000\n",
       "25   accelerator 11       1.35  4.32                5.63               879.5000\n",
       "26   accent       6      12.18  3.26                6.48              1256.7500\n",
       "27   accept       6      52.78  3.03                6.39               566.0000\n",
       "28   acceptable  10       5.27  1.93                6.59               610.2500\n",
       "29   acceptance  10       3.16  2.21                6.84               665.5000\n",
       "30   access       6      31.67  2.71                6.68               648.4000\n",
       "...  ...         ...    ...     ...                 ...               ...      \n",
       "8681 yacht       5        8.22  4.97                5.88               843.2500\n",
       "8682 yahoo       5        2.92  2.58                4.95               701.0000\n",
       "8683 yak         3        1.39  4.65                4.32               631.5000\n",
       "8684 yank        4        4.71  4.10                4.47               626.2500\n",
       "8685 yap         3        1.43  2.96                3.90               951.2500\n",
       "8686 yard        4       25.06  4.82                5.70               753.7500\n",
       "8687 yarn        4        1.59  4.93                5.47               668.2000\n",
       "8688 yawn        4        1.00  4.46                5.62               701.7500\n",
       "8689 year        4      277.92  3.25                5.75              1232.0000\n",
       "8690 yearbook    8        4.73  4.58                6.05               677.3333\n",
       "8691 yell        4       18.41  3.86                3.58               602.5000\n",
       "8692 yellow      6       33.80  4.30                6.09               668.5000\n",
       "8693 yen         3        6.12  4.04                5.00              1038.0000\n",
       "8694 yield       5        4.04  2.93                5.19               622.0000\n",
       "8695 yoga        4        4.45  4.53                6.05               670.0000\n",
       "8696 yogurt      6        2.27  4.90                7.00               620.7500\n",
       "8697 young       5      243.18  3.16                6.31               701.7500\n",
       "8698 youngster   9        1.45  3.76                6.05               644.7500\n",
       "8699 youth       5       16.82  3.28                6.53               848.2500\n",
       "8700 youthful    8        1.55  2.90                6.89               788.2500\n",
       "8701 zap         3        2.45  2.85                5.39               573.7500\n",
       "8702 zebra       5        2.51  4.86                6.47               639.4000\n",
       "8703 zing        4        1.18  1.23                6.95               873.2500\n",
       "8704 zip         3        7.63  3.50                5.06               584.0000\n",
       "8705 zipper      6        2.82  4.83                5.11               547.2500\n",
       "8706 zombie      6        3.61  4.16                3.57               659.2500\n",
       "8707 zone        4       20.12  3.07                4.75               617.2500\n",
       "8708 zoning      6        1.20  2.45                4.65               723.5000\n",
       "8709 zoo         3       13.65  4.81                7.00               584.0000\n",
       "8710 zoom        4        3.55  3.10                5.86               527.4000"
      ]
     },
     "metadata": {},
     "output_type": "display_data"
    }
   ],
   "source": [
    "data_new <- data_filter %>% group_by (D_word, Length, SUBTLWF, Concreteness_Rating, Emotional_Valence) %>% summarise (RT_mean = mean(D_RT))\n",
    "data_new\n"
   ]
  },
  {
   "cell_type": "markdown",
   "id": "organic-retro",
   "metadata": {},
   "source": [
    "Now, fit the linear model again using the summarised data. Do the estimates of intercept and slope differ much from the previous model? How about the R-squared value? If so, why do you think that is the case?"
   ]
  },
  {
   "cell_type": "code",
   "execution_count": 86,
   "id": "seasonal-richardson",
   "metadata": {},
   "outputs": [
    {
     "data": {
      "text/plain": [
       "\n",
       "Call:\n",
       "lm(formula = RT_mean ~ Length + SUBTLWF + Concreteness_Rating + \n",
       "    Emotional_Valence, data = data_new)\n",
       "\n",
       "Residuals:\n",
       "    Min      1Q  Median      3Q     Max \n",
       "-459.92 -128.20  -42.25   78.34 1653.93 \n",
       "\n",
       "Coefficients:\n",
       "                     Estimate Std. Error t value Pr(>|t|)    \n",
       "(Intercept)         667.42698   13.40956  49.772  < 2e-16 ***\n",
       "Length               26.51743    0.96339  27.525  < 2e-16 ***\n",
       "SUBTLWF              -0.03931    0.01004  -3.915  9.1e-05 ***\n",
       "Concreteness_Rating  -6.32646    2.05367  -3.081  0.00207 ** \n",
       "Emotional_Valence   -15.06291    1.55261  -9.702  < 2e-16 ***\n",
       "---\n",
       "Signif. codes:  0 '***' 0.001 '**' 0.01 '*' 0.05 '.' 0.1 ' ' 1\n",
       "\n",
       "Residual standard error: 191.1 on 8705 degrees of freedom\n",
       "Multiple R-squared:  0.1124,\tAdjusted R-squared:  0.112 \n",
       "F-statistic: 275.5 on 4 and 8705 DF,  p-value: < 2.2e-16\n"
      ]
     },
     "metadata": {},
     "output_type": "display_data"
    }
   ],
   "source": [
    "ml2 <- lm(RT_mean~Length+SUBTLWF+Concreteness_Rating+Emotional_Valence, data=data_new)\n",
    "summary(ml2)\n"
   ]
  },
  {
   "cell_type": "markdown",
   "id": "removed-comfort",
   "metadata": {},
   "source": [
    "> Intercept and slope don't differ much from the previous model. That totally makes sense because the variables Length, SUBTLWF, Concreteness_Rating and Emotional_Valence, which we use as predictors for the model, are the same for different observations of the same word and do not differ between the two different models. Between ml1 and ml2 we don't change the values of the predictors.\n",
    "The R-squared improved a bit from 0.03 to 0.11, which implies that this model explains more variance that the previous one. My explanation is that the training data consists of the mean reaction time per word instead of all the reaction times per word in different trials,so the training data has a smaller variance because there are less values.\n"
   ]
  },
  {
   "cell_type": "markdown",
   "id": "surface-cathedral",
   "metadata": {},
   "source": [
    "Finally, change the predictor for the SUBTLWF to be the log(SUBTLWF) value. Does the R-squared increase? Why/why not?"
   ]
  },
  {
   "cell_type": "code",
   "execution_count": 87,
   "id": "departmental-college",
   "metadata": {},
   "outputs": [
    {
     "data": {
      "text/plain": [
       "\n",
       "Call:\n",
       "lm(formula = RT_mean ~ Length + log(SUBTLWF) + Concreteness_Rating + \n",
       "    Emotional_Valence, data = data_new)\n",
       "\n",
       "Residuals:\n",
       "    Min      1Q  Median      3Q     Max \n",
       "-424.41 -124.05  -38.05   75.66 1713.44 \n",
       "\n",
       "Coefficients:\n",
       "                    Estimate Std. Error t value Pr(>|t|)    \n",
       "(Intercept)         742.0081    13.5267  54.855  < 2e-16 ***\n",
       "Length               19.9617     0.9846  20.274  < 2e-16 ***\n",
       "log(SUBTLWF)        -32.5164     1.5086 -21.554  < 2e-16 ***\n",
       "Concreteness_Rating  -8.0244     1.9977  -4.017 5.95e-05 ***\n",
       "Emotional_Valence    -9.1901     1.5376  -5.977 2.36e-09 ***\n",
       "---\n",
       "Signif. codes:  0 '***' 0.001 '**' 0.01 '*' 0.05 '.' 0.1 ' ' 1\n",
       "\n",
       "Residual standard error: 186.4 on 8705 degrees of freedom\n",
       "Multiple R-squared:  0.1559,\tAdjusted R-squared:  0.1555 \n",
       "F-statistic: 401.8 on 4 and 8705 DF,  p-value: < 2.2e-16\n"
      ]
     },
     "metadata": {},
     "output_type": "display_data"
    }
   ],
   "source": [
    "ml3 <- lm(RT_mean~Length+log(SUBTLWF)+Concreteness_Rating+Emotional_Valence, data=data_new)\n",
    "summary(ml3)\n"
   ]
  },
  {
   "cell_type": "markdown",
   "id": "neither-burton",
   "metadata": {},
   "source": [
    "> The R-squared improved from 0.11 to 0.16, so this model explains more variance than the previous. This makes totally sense since we saw before that the underlying function of SUBTLWF is logarithmic and not linear. When we include the logarithmic function the model gets better and therefore explains more variance."
   ]
  }
 ],
 "metadata": {
  "kernelspec": {
   "display_name": "R",
   "language": "R",
   "name": "ir"
  },
  "language_info": {
   "codemirror_mode": "r",
   "file_extension": ".r",
   "mimetype": "text/x-r-source",
   "name": "R",
   "pygments_lexer": "r",
   "version": "4.0.4"
  }
 },
 "nbformat": 4,
 "nbformat_minor": 5
}
